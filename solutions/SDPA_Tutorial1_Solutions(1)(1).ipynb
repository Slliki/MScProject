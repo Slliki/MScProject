{
 "cells": [
  {
   "cell_type": "markdown",
   "metadata": {
    "colab_type": "text",
    "id": "4nrn-YvcUlL6"
   },
   "source": [
    "# EMATM0048: Software Development Programming and Algorithms (SDPA)\n",
    "# `Tutorial 1 Solutions`\n"
   ]
  },
  {
   "cell_type": "markdown",
   "metadata": {},
   "source": [
    "\n"
   ]
  },
  {
   "cell_type": "markdown",
   "metadata": {},
   "source": [
    "# Exercises: \n",
    "## - Start the Python interpreter and use it as a calculator.\n",
    "1. Write a program to take a number and return the squared and cubic of it \n",
    "2. Write a Python program to calculate body mass index\n",
    "3. Write a Python program to solve (x + y) * (x + y).\n",
    "    - example : x = 4, y = 3 Expected Output : (4 + 3) ^ 2) = 49\n",
    "4. What time it would be nine hours after 8:00 a.m. On a twelve-hour clock? Write a python code to answer that\n"
   ]
  },
  {
   "cell_type": "code",
   "execution_count": 25,
   "metadata": {},
   "outputs": [
    {
     "name": "stdout",
     "output_type": "stream",
     "text": [
      "Input your number: 4\n",
      "Squared: 16\n",
      "Cubed:  64\n"
     ]
    }
   ],
   "source": [
    "#1 \n",
    "number = int(input(\"Input your number: \"))\n",
    "squared = number ** 2\n",
    "cubed = number ** 3\n",
    "print(\"Squared:\", squared)\n",
    "print(\"Cubed: \", cubed)"
   ]
  },
  {
   "cell_type": "code",
   "execution_count": 26,
   "metadata": {},
   "outputs": [
    {
     "name": "stdout",
     "output_type": "stream",
     "text": [
      "Input your height in Feet: 5\n",
      "Input your weight in Kilogram: 50\n",
      "Your body mass index is:  2.0\n"
     ]
    }
   ],
   "source": [
    "#2\n",
    "height = float(input(\"Input your height in Feet: \"))\n",
    "weight = float(input(\"Input your weight in Kilogram: \"))\n",
    "print(\"Your body mass index is: \", round(weight / (height * height), 2))"
   ]
  },
  {
   "cell_type": "code",
   "execution_count": 27,
   "metadata": {},
   "outputs": [
    {
     "name": "stdout",
     "output_type": "stream",
     "text": [
      "Input number 1: 4\n",
      "Input number 2: 5\n",
      "(4 + 5) ^ 2) = 81\n"
     ]
    }
   ],
   "source": [
    "#3\n",
    "x= int(input(\"Input number 1: \"))\n",
    "y= int(input(\"Input number 2: \"))\n",
    "\n",
    "result = x * x + 2 * x * y + y * y\n",
    "print(\"({} + {}) ^ 2) = {}\".format(x, y, result))"
   ]
  },
  {
   "cell_type": "code",
   "execution_count": 28,
   "metadata": {},
   "outputs": [
    {
     "name": "stdout",
     "output_type": "stream",
     "text": [
      "5\n"
     ]
    }
   ],
   "source": [
    "#4\n",
    "#you can’t simply add 9 to 8 because you would get 17. You need to take the result, 17, and use mod to get its equivalent value in a twelve-hour context:\n",
    "\n",
    "x= 8+9\n",
    "hour= x%12\n",
    "print (hour)"
   ]
  },
  {
   "cell_type": "markdown",
   "metadata": {},
   "source": [
    "## - Input and output exercise: \n",
    "1. Store a person’s name in a variable, and print a message to that person. Your message should be simple, such as, “Hello Eric, would you like to learn some Python today?”\n",
    "2. Write a Python program which accepts the user's first and last name and print them in reverse order with a space between them"
   ]
  },
  {
   "cell_type": "code",
   "execution_count": 3,
   "metadata": {},
   "outputs": [
    {
     "name": "stdout",
     "output_type": "stream",
     "text": [
      "Input your name: Edgardo\n",
      "Hello Edgardo, would you like to learn some Python today?\n"
     ]
    }
   ],
   "source": [
    "#1\n",
    "name=input('Input your name: ')\n",
    "print('Hello ' + str(name) + ', would you like to learn some Python today?')"
   ]
  },
  {
   "cell_type": "code",
   "execution_count": 1,
   "metadata": {},
   "outputs": [
    {
     "name": "stdout",
     "output_type": "stream",
     "text": [
      "Input your First Name : ryan\n",
      "Input your Last Name : Yin\n",
      "Hello  Yin ryan\n"
     ]
    }
   ],
   "source": [
    "#2\n",
    "fname = input(\"Input your First Name : \")\n",
    "lname = input(\"Input your Last Name : \")\n",
    "print (\"Hello  \" + lname + \" \" + fname)"
   ]
  },
  {
   "cell_type": "markdown",
   "metadata": {},
   "source": [
    "## - Challenge yourself: \n",
    "1. Write a Python program that accepts an integer (n) and computes the value of n+nn+nnn. Sample value of n is 5 Expected Result : 615"
   ]
  },
  {
   "cell_type": "code",
   "execution_count": 29,
   "metadata": {},
   "outputs": [
    {
     "name": "stdout",
     "output_type": "stream",
     "text": [
      "Input an integer : 56\n",
      "571368\n"
     ]
    }
   ],
   "source": [
    "a = int(input(\"Input an integer : \"))\n",
    "n1 = int( \"%s\" % a )\n",
    "n2 = int( \"%s%s\" % (a,a) )\n",
    "n3 = int( \"%s%s%s\" % (a,a,a) )\n",
    "print (n1+n2+n3)"
   ]
  },
  {
   "cell_type": "markdown",
   "metadata": {},
   "source": [
    "2. Write a Python program to find whether a given number (accept from the user) is even or odd, print out an appropriate message to the user."
   ]
  },
  {
   "cell_type": "code",
   "execution_count": 32,
   "metadata": {},
   "outputs": [
    {
     "name": "stdout",
     "output_type": "stream",
     "text": [
      "Enter a number: 5\n",
      "if 1 it is even, if 0 it is odd\n",
      "The answer is  1\n"
     ]
    }
   ],
   "source": [
    "num = int(input(\"Enter a number: \"))\n",
    "mod = num % 2\n",
    "print (\"if 1 it is even, if 0 it is odd\")\n",
    "print (\"The answer is \", mod)"
   ]
  },
  {
   "cell_type": "markdown",
   "metadata": {},
   "source": [
    "3. Write a Python program to calculate the sum of the digits in an integer (of 4 digits)."
   ]
  },
  {
   "cell_type": "code",
   "execution_count": 34,
   "metadata": {},
   "outputs": [
    {
     "name": "stdout",
     "output_type": "stream",
     "text": [
      "Input a four digit numbers: 4567\n",
      "The sum of digits in the number is 22\n"
     ]
    }
   ],
   "source": [
    "num = int(input(\"Input a four digit numbers: \"))\n",
    "x  = num //1000\n",
    "x1 = (num - x*1000)//100\n",
    "x2 = (num - x*1000 - x1*100)//10\n",
    "x3 = num - x*1000 - x1*100 - x2*10\n",
    "print(\"The sum of digits in the number is\", x+x1+x2+x3)"
   ]
  },
  {
   "cell_type": "markdown",
   "metadata": {},
   "source": [
    "4. If I leave my house at 6:52 am and run 1 mile at an easy pace (8:15 per mile), then 3 miles at tempo (7:12 per mile) and 1 mile at easy pace again, what time do I get home for breakfast?"
   ]
  },
  {
   "cell_type": "code",
   "execution_count": 30,
   "metadata": {},
   "outputs": [
    {
     "name": "stdout",
     "output_type": "stream",
     "text": [
      "7:30:6\n"
     ]
    }
   ],
   "source": [
    "hour,minute,second=6,52,0\n",
    "minute+=2*8\n",
    "second+=2*15\n",
    "minute+=3*7\n",
    "second+=3*12\n",
    "\n",
    "minute+=second//60\n",
    "second=second%60\n",
    "hour+=minute//60\n",
    "minute=minute%60\n",
    "print(str(hour) + ':' + str(minute) + ':' + str(second))"
   ]
  },
  {
   "cell_type": "code",
   "execution_count": 41,
   "metadata": {},
   "outputs": [
    {
     "name": "stdout",
     "output_type": "stream",
     "text": [
      "7:30:6\n"
     ]
    }
   ],
   "source": [
    "# Another solution\n",
    "added_minutes= 2*8 + 3*7\n",
    "added_seconds= 2*15+3*12\n",
    "added_all_sec= added_seconds+60*added_minutes\n",
    "\n",
    "mins= 52+ added_all_sec//60\n",
    "final_hours= 6+mins//60\n",
    "final_minutes= mins%60\n",
    "final_second= added_all_sec%60\n",
    "\n",
    "print(str(final_hours) + ':' + str(final_minutes) + ':' + str(final_second))"
   ]
  }
 ],
 "metadata": {
  "colab": {
   "collapsed_sections": [],
   "name": "Twitter Analysis.ipynb",
   "provenance": []
  },
  "kernelspec": {
   "display_name": "Python 3 (ipykernel)",
   "language": "python",
   "name": "python3"
  },
  "language_info": {
   "codemirror_mode": {
    "name": "ipython",
    "version": 3
   },
   "file_extension": ".py",
   "mimetype": "text/x-python",
   "name": "python",
   "nbconvert_exporter": "python",
   "pygments_lexer": "ipython3",
   "version": "3.9.12"
  }
 },
 "nbformat": 4,
 "nbformat_minor": 1
}
