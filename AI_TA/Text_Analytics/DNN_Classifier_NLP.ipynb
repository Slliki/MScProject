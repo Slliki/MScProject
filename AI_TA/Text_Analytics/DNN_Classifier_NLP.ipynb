{
 "cells": [
  {
   "cell_type": "markdown",
   "source": [
    "# Deep Learning for NLP \n",
    "\n",
    "INCLUDE:\n",
    "- Text Preprocessing\n",
    "  - Tokenization: 分词\n",
    "  - Encoding Text: 将文本转换为整数序列\n",
    "  - Padding & Truncating: 填充和截断\n",
    "  - Converting to DataLoader: 将数据集转换为DataLoader对象\n",
    "  - Word Embeddings: 词嵌入\n",
    "    - Pre-trained Word Embeddings\n",
    "- Neural Network Models\n",
    "\n"
   ],
   "metadata": {
    "collapsed": false
   },
   "id": "d30f5c340e313310"
  },
  {
   "cell_type": "markdown",
   "source": [
    "与逻辑回归一样，神经网络也是辨别模型：它们直接学习分类任务，而无需学习生成文本。但与逻辑回归不同的是，它们可以对输入的非线性函数进行建模。这是通过具有非线性激活函数的隐藏层来实现的。\n",
    "\n",
    "神经网络的一些主要优势可归纳如下：\n",
    "   * 它可以模拟非线性函数，因此可以处理特征和类标签之间更为复杂的关系。\n",
    "   * 它可以进行表征学习：隐藏层可以学习如何从低层数据中提取特征。\n",
    "   * 它可以处理标记序列--我们不必像逻辑回归那样，用单一的特征向量来表示文档。\n",
    "\n",
    "另一方面，它的缺点是\n",
    "   * 训练和测试的成本要高得多。\n",
    "   * 对小数据集可能会产生严重的过拟合。\n",
    "   * 隐藏层学习到的特征可能难以解释，这就很难预测模型的行为，例如它可能在哪种情况下失败。\n",
    "   * 泛化是不可预测的：当应用于训练集分布之外的测试数据时，它们有时会有意想不到的表现。"
   ],
   "metadata": {
    "collapsed": false
   },
   "id": "87c0dfdda52972dd"
  },
  {
   "cell_type": "markdown",
   "source": [
    "### 0.1 一般NLP任务数据预处理的最佳实践：\n",
    "\n",
    "1. **建立字典（Vocabulary）**：从文档集合中识别所有唯一的词汇，并为每个词汇分配一个唯一的整数索引。这个字典使得模型能够处理文本数据。\n",
    "\n",
    "2. **文本到整数序列的映射**：使用字典将每个文档中的单词转换为对应的整数索引。这一步将文本数据转换为神经网络能够处理的数值形式。\n",
    "\n",
    "3. **截断和填充**：由于神经网络需要输入固定长度的向量，因此需要将所有文档长度统一。这通常通过截断较长的文档和/或为较短的文档添加填充值（如0）来实现。\n",
    "\n",
    "4. **转换为Tensor**：将处理过的整数序列转换为PyTorch的Tensor格式，这是PyTorch模型的输入格式。\n",
    "\n",
    "5. **DataLoader使用**：为了有效地训练模型，使用PyTorch的`DataLoader`类将数据批量化，并可选地在训练过程中对数据进行打乱和并行处理。\n",
    "\n",
    "一些额外的最佳实践包括：\n",
    "\n",
    "- **预训练词嵌入**：在某些情况下，使用预训练的词嵌入（如GloVe或Word2Vec）作为模型的初始权重可以提高性能，特别是当可用的训练数据量不大时。\n",
    "\n",
    "- **高级文本编码方法**：对于复杂的NLP任务，考虑使用如BERT、GPT或其他Transformer架构的预训练模型，这些模型能够捕获文本中的深层次语义关系，并且可以微调以适应特定的任务。\n",
    "\n",
    "- **注意力机制和序列模型**：对于需要捕捉长距离依赖的任务（如机器翻译或文本生成），使用LSTM、GRU或Transformer模型可以获得更好的结果。"
   ],
   "metadata": {
    "collapsed": false
   },
   "id": "61feea7fcb27099c"
  },
  {
   "cell_type": "markdown",
   "source": [
    "### 0.2 Embedding Layer\n",
    "在pytorch中，一般直接使用在定义神经网络类的层时，使用`nn.Embedding`来实现词嵌入。嵌入层的权重是随机初始化的，随后在训练过程中学习。这样，模型就可以学习到一个针对特定任务优化的词嵌入。\n",
    "\n",
    "\n"
   ],
   "metadata": {
    "collapsed": false
   },
   "id": "5958959abff054b2"
  },
  {
   "cell_type": "markdown",
   "source": [
    "### 0.3 Pre-trained Word Embeddings\n",
    "除了直接使用nn.Embedding层进行嵌入，还可以使用预训练的词嵌入（如GloVe、Word2Vec等）来初始化模型的词嵌入层。这种方法通常可以提高模型的性能，特别是在训练数据有限的情况下。\n",
    "\n",
    "在PyTorch框架下使用预训练的词嵌入（如GloVe、Word2Vec等）涉及到几个步骤，从加载预训练词向量，创建嵌入层，到将这些预训练向量加载到模型中。以下是一个概括的最佳实践步骤和相应的代码实现：\n",
    "\n",
    "#### 步骤\n",
    "\n",
    "1. **加载预训练词向量**：首先，需要从预训练模型中加载词向量。这通常意味着加载一个大型的文件，其中包含了大量单词及其对应的向量表示。\n",
    "\n",
    "2. **创建词汇表**：基于你的训练数据，创建一个词汇表，确保每个单词都有一个唯一的整数索引。\n",
    "\n",
    "3. **初始化嵌入矩阵**：首先，创建一个零矩阵或随机初始化的矩阵，其形状为`(len(dictionary), embedding_dim)`，其中`embedding_dim`是GloVe向量的维度（对于`glove-twitter-25`，维度是25）。\n",
    "\n",
    "4. **填充嵌入矩阵**：遍历`dictionary`中的每个词汇，如果该词汇在`glove_wv`中有对应的向量，就将这个向量复制到嵌入矩阵中对应的行；如果没有找到，就保留零向量或随机向量。\n",
    "\n",
    "5. **创建嵌入层**：在PyTorch模型中创建一个`nn.Embedding`层，其大小和预训练词向量相匹配。\n",
    "\n",
    "6. **加载嵌入矩阵到嵌入层**：将准备好的嵌入矩阵加载到`nn.Embedding`层中，这通常通过替换嵌入层的权重实现。\n",
    "\n",
    "\n",
    "\n",
    "\n",
    "\n"
   ],
   "metadata": {
    "collapsed": false
   },
   "id": "af3ce5974cb56c28"
  },
  {
   "cell_type": "code",
   "outputs": [],
   "source": [
    "import numpy as np\n",
    "import torch\n",
    "from datasets import load_dataset\n",
    "from tqdm import tqdm\n",
    "from sklearn.feature_extraction.text import CountVectorizer\n",
    "from gensim.models import word2vec\n",
    "from gensim.utils import tokenize\n",
    "import gensim.downloader\n",
    "import matplotlib.pyplot as plt\n",
    "\n",
    "# - `%load_ext autoreload` 是一个魔术命令，用于加载或重新加载扩展。在这个例子中，它加载了`autoreload`扩展。这个扩展允许Jupyter自动检测模块代码的更改，并在不需要重启笔记本的情况下，自动重新加载这些模块。\n",
    "# \n",
    "# - `%autoreload 2` 是设置`autoreload`模式的命令，其中`2`表示一种特定的自动重新加载策略。具体来说，`2`表示在执行任何代码之前，自动重新加载所有标记的模块。这意味着只要你在笔记本中运行任何代码片段，它就会自动检查并重新加载自上次导入以来已经更改的所有模块。\n",
    "%load_ext autoreload \n",
    "%autoreload 2 "
   ],
   "metadata": {
    "collapsed": false,
    "ExecuteTime": {
     "end_time": "2024-04-03T19:12:31.234749Z",
     "start_time": "2024-04-03T19:12:27.565176Z"
    }
   },
   "id": "511176a5269ca08e",
   "execution_count": 1
  },
  {
   "cell_type": "markdown",
   "source": [
    "# 1. Load a Dataset\n",
    "\n",
    "\n",
    "首先，我们将加载 `tweets hate speech` 数据集。当使用`name=sentiment`时，我们将加载一个包含三个类别的数据集，其中 0表示负面言论，1表示中性言论，2表示正面言论。该数据集常用于情感分析任务。"
   ],
   "metadata": {
    "collapsed": false
   },
   "id": "b623ef44bdc2e1be"
  },
  {
   "cell_type": "code",
   "outputs": [
    {
     "name": "stdout",
     "output_type": "stream",
     "text": [
      "Training dataset with 45615 instances loaded\n",
      "Development/validation dataset with 2000 instances loaded\n",
      "Test dataset with 12284 instances loaded\n"
     ]
    }
   ],
   "source": [
    "cache_dir = \"./data_cache\"\n",
    "\n",
    "dataset = load_dataset(\n",
    "    \"tweet_eval\",\n",
    "    name=\"sentiment\",\n",
    "    cache_dir=cache_dir,\n",
    ")\n",
    "\n",
    "train_dataset = dataset[\"train\"]\n",
    "val_dataset = dataset[\"validation\"]\n",
    "test_dataset = dataset[\"test\"]\n",
    "\n",
    "print(f\"Training dataset with {len(train_dataset)} instances loaded\")\n",
    "print(f\"Development/validation dataset with {len(val_dataset)} instances loaded\")\n",
    "print(f\"Test dataset with {len(test_dataset)} instances loaded\")"
   ],
   "metadata": {
    "collapsed": false,
    "ExecuteTime": {
     "end_time": "2024-04-03T19:13:11.606089Z",
     "start_time": "2024-04-03T19:12:32.276349Z"
    }
   },
   "id": "f741a2615d49f7b2",
   "execution_count": 2
  },
  {
   "cell_type": "code",
   "outputs": [
    {
     "data": {
      "text/plain": "Dataset({\n    features: ['text', 'label'],\n    num_rows: 45615\n})"
     },
     "execution_count": 9,
     "metadata": {},
     "output_type": "execute_result"
    }
   ],
   "source": [
    "train_dataset"
   ],
   "metadata": {
    "collapsed": false,
    "ExecuteTime": {
     "end_time": "2024-04-03T13:57:27.285693Z",
     "start_time": "2024-04-03T13:57:27.229685Z"
    }
   },
   "id": "308a1451e18aee66",
   "execution_count": 9
  },
  {
   "cell_type": "markdown",
   "source": [
    "# 2. Preprocess the Data\n",
    "\n",
    "\n",
    "\n",
    "对于我们的数据集，我们将执行以下预处理步骤：\n",
    "\n",
    "- tok_text: 将文本分词为单词，会去掉标点符号和空格\n",
    "- encode_text: 将文本转换为token对应的ID（索引+1）。因为要将0用于填充，所以索引从1开始.需要先建立一个Dictionary，将单词映射到索引\n",
    "- pad_text: 当文档长度小于最大长度时，用0填充文档；当文档长度大于最大长度时，截断文档\n",
    "- convert_to_data_loader: 将数据集转换为DataLoader对象，以便使用小批量随机梯度下降进行学习\n",
    "\n",
    "在pytorch中，一般直接使用在定义神经网络类的层时，使用`nn.Embedding`来实现词向量转换。"
   ],
   "metadata": {
    "collapsed": false
   },
   "id": "aa2fac350bffd995"
  },
  {
   "cell_type": "markdown",
   "source": [
    "## 2.1 Tokenize the Text\n",
    "对于dataset对象，添加一个新的键值对，即tokens，其中包含文本的分词结果。"
   ],
   "metadata": {
    "collapsed": false
   },
   "id": "51e1ae6e5c80c08e"
  },
  {
   "cell_type": "code",
   "outputs": [
    {
     "data": {
      "text/plain": "Dataset({\n    features: ['text', 'label', 'tokens'],\n    num_rows: 45615\n})"
     },
     "execution_count": 3,
     "metadata": {},
     "output_type": "execute_result"
    }
   ],
   "source": [
    "from gensim.utils import tokenize\n",
    "\n",
    "# tokenize函数：将文本分词为单词，会去掉标点符号和空格\n",
    "def tok_text(sample):\n",
    "    sample[\"tokens\"] = list(tokenize(sample['text']))\n",
    "    return sample\n",
    "\n",
    "tok_train_dataset = train_dataset.map(tok_text)\n",
    "tok_val_dataset = val_dataset.map(tok_text)\n",
    "tok_test_dataset = test_dataset.map(tok_text)\n",
    "\n",
    "tok_train_dataset"
   ],
   "metadata": {
    "collapsed": false,
    "ExecuteTime": {
     "end_time": "2024-04-03T19:13:11.683242Z",
     "start_time": "2024-04-03T19:13:11.608089Z"
    }
   },
   "id": "c1f660df5398bb8b",
   "execution_count": 3
  },
  {
   "cell_type": "markdown",
   "source": [
    "## 2.2 Encode the Text\n",
    "对于dataset对象，添加一个新的键值对，即encoded，将分词的每个词使用建立好的Dictionary映射到整数索引。由于需要使用0来填充，所以索引从1开始。\n",
    "\n",
    "建立Dictionary一般只使用训练集，因为测试集和验证集可能包含未知的单词。通过这种方式，我们可以确保模型不会在训练集之外的单词上进行训练。当在测试集上进行预测时，我们可以使用`<UNK>`标记来表示未知的单词，提升模型的泛化能力。\n",
    "\n",
    "对于未知词（Out-Of-Vocabulary, OOV）以及相关错误处理是NLP项目中的重要部分。在这里，我们将使用`<UNK>`标记来表示未知词。确保\"<UNK>\"键有一个默认值，比如0或任意整数。这确保了如果<UNK>不在字典中，则会添加它，并赋予一个明确的整数值。这个值应该是独一无二的，不与字典中其他词汇的值冲突。常见的做法是将其设置为当前字典大小的下一个整数，即`len(dictionary.token2id)`。\n"
   ],
   "metadata": {
    "collapsed": false
   },
   "id": "e0baf4bb5a59ce9f"
  },
  {
   "cell_type": "code",
   "outputs": [
    {
     "name": "stdout",
     "output_type": "stream",
     "text": [
      "53730\n"
     ]
    }
   ],
   "source": [
    "from gensim.corpora import Dictionary\n",
    "\n",
    "# 构建Dictionary\n",
    "dictionary = Dictionary(tok_train_dataset[\"tokens\"]) # construct word<->id mappings - it does it in alphabetical order\n",
    "print(len(dictionary)) # 53730 个单词"
   ],
   "metadata": {
    "collapsed": false,
    "ExecuteTime": {
     "end_time": "2024-04-03T19:13:43.199128Z",
     "start_time": "2024-04-03T19:13:41.634390Z"
    }
   },
   "id": "99b8e7bc18330da",
   "execution_count": 4
  },
  {
   "cell_type": "code",
   "outputs": [
    {
     "data": {
      "text/plain": "Map:   0%|          | 0/45615 [00:00<?, ? examples/s]",
      "application/vnd.jupyter.widget-view+json": {
       "version_major": 2,
       "version_minor": 0,
       "model_id": "17ebfe891cf949ce89a014eaf2dee163"
      }
     },
     "metadata": {},
     "output_type": "display_data"
    },
    {
     "data": {
      "text/plain": "Map:   0%|          | 0/12284 [00:00<?, ? examples/s]",
      "application/vnd.jupyter.widget-view+json": {
       "version_major": 2,
       "version_minor": 0,
       "model_id": "595f37b4ab7e4d57bdca2cb9b853f622"
      }
     },
     "metadata": {},
     "output_type": "display_data"
    },
    {
     "data": {
      "text/plain": "Map:   0%|          | 0/2000 [00:00<?, ? examples/s]",
      "application/vnd.jupyter.widget-view+json": {
       "version_major": 2,
       "version_minor": 0,
       "model_id": "a0574687fea84441b85d07d268470109"
      }
     },
     "metadata": {},
     "output_type": "display_data"
    },
    {
     "data": {
      "text/plain": "Dataset({\n    features: ['text', 'label', 'tokens', 'input_ids'],\n    num_rows: 45615\n})"
     },
     "execution_count": 5,
     "metadata": {},
     "output_type": "execute_result"
    }
   ],
   "source": [
    "# 如果\"<UNK>\"不在dictionary.token2id中，则添加它，并赋予一个独立的整数值\n",
    "if \"<UNK>\" not in dictionary.token2id:\n",
    "    dictionary.token2id[\"<UNK>\"] = len(dictionary.token2id) # some_integer_value可以是任意整数，比如最大的id+1\n",
    "\n",
    "def encode_text(sample):\n",
    "    sample['input_ids'] = [dictionary.token2id.get(token, dictionary.token2id.get(\"<UNK>\")) + 1 for token in sample['tokens']]\n",
    "    return sample\n",
    "# 在这个解决方案中，.get()方法尝试从dictionary.token2id获取token对应的id，如果失败，则返回<UNK>对应的id。\n",
    "\n",
    "pre_train_dataset = tok_train_dataset.map(encode_text)\n",
    "pre_test_dataset = tok_test_dataset.map(encode_text)\n",
    "pre_val_dataset = tok_val_dataset.map(encode_text)\n",
    "\n",
    "pre_train_dataset"
   ],
   "metadata": {
    "collapsed": false,
    "ExecuteTime": {
     "end_time": "2024-04-03T19:13:50.290098Z",
     "start_time": "2024-04-03T19:13:45.161419Z"
    }
   },
   "id": "5bdcf1e70f611622",
   "execution_count": 5
  },
  {
   "cell_type": "markdown",
   "source": [
    "## 2.3 Pad & Truncate \n",
    "由于神经网络要求输入的文档长度是固定的，我们需要对文档进行填充或截断。我们将选择合适的最大长度，并对小于该长度的文档进行0填充，对大于该长度的文档进行截断。\n",
    "\n",
    "填充（Padding）可以发生在文档的开头（称为前置填充或pre-padding）或结尾（称为后置填充或post-padding），这取决于特定的应用场景和模型架构的要求。下面是两种情况的考虑因素：\n",
    "\n",
    "#### 前置填充（Pre-padding）\n",
    "- **序列处理的方向**：如果模型（如某些类型的循环神经网络RNN）从序列的末尾开始处理信息，则在序列开头进行填充可能更有意义。这样，模型首先遇到的是有效数据而不是填充数据，可能有助于效果的提升。\n",
    "- **注意力机制**：在使用注意力机制的模型中，如果注意力可以更集中于序列的实际内容而非填充部分，则前置填充可能更优。\n",
    "  \n",
    "#### 后置填充（Post-padding）\n",
    "- **序列处理的方向**：对于从序列开始处处理信息的模型（如标准的RNN），在序列的结尾添加填充可能更自然，因为这样可以确保模型在处理每个序列时首先遇到的是真实的数据点。\n",
    "- **兼容性**：某些框架和库可能默认使用或优先支持后置填充，因此在没有特定需求的情况下遵循这些默认设置可以简化实现过程。\n",
    "\n",
    "\n",
    "首先查看每个文档的长度分布，以便选择合适的最大长度。可以通过直方图来查看文档长度的分布。\n",
    "下图可以看到，选择30作为最大长度是合适的。\n",
    "\n",
    "本次实验会使用前置填充。在对`pre_train_dataset`等使用map方法添加`pad_text`函数后，可以得到`pad_train_dataset`等数据集。这些数据集保证了每个文档的`input_ids`长度都是30。"
   ],
   "metadata": {
    "collapsed": false
   },
   "id": "5c4b5503b9dd950c"
  },
  {
   "cell_type": "code",
   "outputs": [
    {
     "data": {
      "text/plain": "<Figure size 640x480 with 1 Axes>",
      "image/png": "[encoded data removed]"
     },
     "metadata": {},
     "output_type": "display_data"
    }
   ],
   "source": [
    "len_list = [len(sample['input_ids']) for sample in pre_train_dataset]\n",
    "plt.hist(len_list, bins=30)\n",
    "plt.show()"
   ],
   "metadata": {
    "collapsed": false,
    "ExecuteTime": {
     "end_time": "2024-04-03T19:13:52.413132Z",
     "start_time": "2024-04-03T19:13:50.292098Z"
    }
   },
   "id": "16ab0a450d9059f6",
   "execution_count": 6
  },
  {
   "cell_type": "markdown",
   "source": [],
   "metadata": {
    "collapsed": false
   },
   "id": "29de23f664a6aa6f"
  },
  {
   "cell_type": "code",
   "outputs": [
    {
     "data": {
      "text/plain": "Map:   0%|          | 0/45615 [00:00<?, ? examples/s]",
      "application/vnd.jupyter.widget-view+json": {
       "version_major": 2,
       "version_minor": 0,
       "model_id": "7f3d759c03844568865419ce46591f7d"
      }
     },
     "metadata": {},
     "output_type": "display_data"
    },
    {
     "data": {
      "text/plain": "Map:   0%|          | 0/12284 [00:00<?, ? examples/s]",
      "application/vnd.jupyter.widget-view+json": {
       "version_major": 2,
       "version_minor": 0,
       "model_id": "0a3520e26f6340028d2c4f4da3499e85"
      }
     },
     "metadata": {},
     "output_type": "display_data"
    },
    {
     "data": {
      "text/plain": "Map:   0%|          | 0/2000 [00:00<?, ? examples/s]",
      "application/vnd.jupyter.widget-view+json": {
       "version_major": 2,
       "version_minor": 0,
       "model_id": "990e87370fd647e0b8c7edad9772d5e6"
      }
     },
     "metadata": {},
     "output_type": "display_data"
    }
   ],
   "source": [
    "sequence_length = 30   # 选择30作为最大长度\n",
    "\n",
    "def pad_text(sample):\n",
    "\n",
    "    if len(sample['input_ids']) < sequence_length: # pre-pad\n",
    "        sample['input_ids'] = [0] * (sequence_length - len(sample['input_ids'])) + sample['input_ids']\n",
    "    elif len(sample['input_ids']) > sequence_length: # truncate\n",
    "        sample['input_ids'] = sample['input_ids'][:sequence_length]\n",
    "        \n",
    "    return sample\n",
    "\n",
    "pad_train_dataset = pre_train_dataset.map(pad_text)\n",
    "pad_test_dataset = pre_test_dataset.map(pad_text)\n",
    "pad_val_dataset = pre_val_dataset.map(pad_text)"
   ],
   "metadata": {
    "collapsed": false,
    "ExecuteTime": {
     "end_time": "2024-04-03T19:13:56.648992Z",
     "start_time": "2024-04-03T19:13:53.621393Z"
    }
   },
   "id": "19be03951943d43f",
   "execution_count": 7
  },
  {
   "cell_type": "markdown",
   "source": [
    "## 2.4 Convert to DataLoader\n",
    "将数据集转换为DataLoader对象，以便使用小批量随机梯度下降进行学习。在这里，我们将使用PyTorch的DataLoader类，它允许我们迭代数据集并返回小批量数据。我们将使用DataLoader对象来训练和评估我们的模型。"
   ],
   "metadata": {
    "collapsed": false
   },
   "id": "69b6324078d135a"
  },
  {
   "cell_type": "code",
   "outputs": [],
   "source": [
    "from torch.utils.data import DataLoader, TensorDataset\n",
    "\n",
    "batch_size = 64\n",
    "\n",
    "# convert from the Huggingface format to a TensorDataset so we can use the mini-batch sampling functionality\n",
    "def convert_to_data_loader(dataset, num_classes):\n",
    "    # convert from list to tensor\n",
    "    input_tensor = torch.from_numpy(np.array(dataset['input_ids'])) # 将input_ids转换为numpy数组，然后转换为tensor\n",
    "    label_tensor = torch.from_numpy(np.array(dataset['label'])).long() # 将label转换为numpy数组，然后转换为tensor\n",
    "    tensor_dataset = TensorDataset(input_tensor, label_tensor)\n",
    "    loader = DataLoader(tensor_dataset, batch_size=batch_size, shuffle=True)\n",
    "\n",
    "    return loader\n",
    "\n",
    "num_classes = len(np.unique(pad_train_dataset[\"label\"]))   # number of possible labels \n",
    "\n",
    "train_loader = convert_to_data_loader(pad_train_dataset, num_classes)\n",
    "val_loader = convert_to_data_loader(pad_val_dataset, num_classes)\n",
    "test_loader = convert_to_data_loader(pad_test_dataset, num_classes)"
   ],
   "metadata": {
    "collapsed": false,
    "ExecuteTime": {
     "end_time": "2024-04-03T19:13:59.347143Z",
     "start_time": "2024-04-03T19:13:58.474643Z"
    }
   },
   "id": "67872e8536198345",
   "execution_count": 8
  },
  {
   "cell_type": "markdown",
   "source": [
    "## 2.5 Pre-trained Word Embeddings\n",
    "可以直接将映射到整数的tokens输入到神经网络中，并使用embedding层将其转换为词嵌入。在这种情况下，模型将学习如何将整数索引映射到词嵌入，这些词嵌入将在训练过程中进行学习。但为了提高性能，我们可以使用预训练的词嵌入，如GloVe或Word2Vec。这些预训练的词嵌入通常是在大型语料库上训练的，可以提供更好的词嵌入表示。\n",
    "\n",
    "在构建嵌入矩阵时，有两个特殊的标识符 —— 一个是<unk>，用于表示词汇表中不存在的单词；另一个是<pad>，用于在必要时填充序列以使它们长度相等。这意味着你的嵌入矩阵需要考虑这两个特殊标识符，因此它的大小应该是 (vocab_size + 2, embedding_dim)。"
   ],
   "metadata": {
    "collapsed": false
   },
   "id": "8dab29e38436e053"
  },
  {
   "cell_type": "code",
   "outputs": [
    {
     "name": "stdout",
     "output_type": "stream",
     "text": [
      "[==================================================] 100.0% 199.5/199.5MB downloaded\n"
     ]
    },
    {
     "data": {
      "text/plain": "(53733, 50)"
     },
     "execution_count": 26,
     "metadata": {},
     "output_type": "execute_result"
    }
   ],
   "source": [
    "import gensim.downloader\n",
    "\n",
    "# 加载预训练词向量\n",
    "glove_vectors = gensim.downloader.load('glove-twitter-50')\n",
    "\n",
    "# 初始化嵌入矩阵\n",
    "vocab_size = len(dictionary)  # 原始词汇表大小，不包含特殊标识符 [53731]\n",
    "embedding_matrix = np.zeros((vocab_size + 2, glove_vectors.vector_size)) # +2 for the <UNK> token and the <PAD> token\n",
    "\n",
    "# 填充嵌入矩阵\n",
    "for token, idx in dictionary.token2id.items():\n",
    "    if token in glove_vectors: # 如果单词在预训练词向量中，则使用预训练词向量\n",
    "        embedding_matrix[idx] = glove_vectors[token]\n",
    "    else: # 如果单词不在预训练词向量中，则使用随机初始化的向量\n",
    "        embedding_matrix[idx] = np.random.normal(size=(glove_vectors.vector_size)) \n",
    "\n",
    "embedding_matrix.shape # [53733, 25]"
   ],
   "metadata": {
    "collapsed": false,
    "ExecuteTime": {
     "end_time": "2024-04-03T21:33:28.904226Z",
     "start_time": "2024-04-03T21:30:56.172273Z"
    }
   },
   "id": "fa31641cbf9931ed",
   "execution_count": 26
  },
  {
   "cell_type": "markdown",
   "source": [
    "# 3. Define a Neural Network Model\n",
    "在这里，我们将定义一个简单的神经网络模型，用于对文本进行情感分类。由于这是一个序列分类任务，我们将使用一个LSTM模型，它可以处理序列数据并捕获序列中的长距离依赖关系。我们还将使用一个嵌入层，将整数索引转换为词嵌入。最后，我们将使用一个全连接层将LSTM的输出转换为类别概率。"
   ],
   "metadata": {
    "collapsed": false
   },
   "id": "26029efe9ee7979b"
  },
  {
   "cell_type": "markdown",
   "source": [
    "```python\n",
    "# 假设我们有一个大小为 10000 的词汇表，希望将每个单词映射到一个 300 维的向量空间。\n",
    "nn.Embedding(num_embeddings=10000, embedding_dim=300)\n",
    "\n",
    "# 假设我们已经初始化并填充了一个嵌入矩阵: embedding_matrix\n",
    "nn.Embedding.from_pretrained(torch.FloatTensor(embedding_matrix), freeze=False)\n",
    "```\n",
    "\n",
    "### 参数解释\n",
    "\n",
    "- `vocab_size + 2` 表明你的词汇表大小外加两个特殊标记（如`<unk>`和`<pad>`）。\n",
    "- `embedding_dim=25` 指的是每个词向量的维度。\n",
    "- `padding_idx=0` 意味着索引为0的向量（通常对应于`<pad>`标记）将被用作填充，且其向量在嵌入矩阵中被初始化为0向量。在模型训练过程中，这个向量不会被更新。\n",
    "\n",
    "使用`padding_idx`是处理变长输入序列时的一种常见和有效的方法。通过这种方式，模型能够忽略填充的部分，只关注输入序列中的有效内容。"
   ],
   "metadata": {
    "collapsed": false
   },
   "id": "22168cc8b65d3eae"
  },
  {
   "cell_type": "code",
   "outputs": [],
   "source": [
    "from torch import nn\n",
    "\n",
    "class LSTMModel(nn.Module):\n",
    "    def __init__(self, embedding_matrix, hidden_size, num_layers, num_classes):\n",
    "        super(LSTMModel, self).__init__()\n",
    "        self.hidden_size = hidden_size\n",
    "        self.num_layers = num_layers\n",
    "        self.lstm = nn.LSTM(embedding_matrix.shape[1], hidden_size, num_layers, \n",
    "                            batch_first=True, bidirectional=True) # 双向LSTM,这会使输出维度翻倍\n",
    "        self.fc = nn.Linear(hidden_size * 2, num_classes)  # 维度是两倍的hidden_size\n",
    "        self.embedding = nn.Embedding.from_pretrained(torch.FloatTensor(embedding_matrix), freeze=False)\n",
    "        self.activation = nn.ReLU()\n",
    "\n",
    "    def forward(self, x):\n",
    "        # (batch_size, seq_length) -> (batch_size, seq_length, embedding_dim)\n",
    "        embedded = self.embedding(x)\n",
    "        # (batch_size, seq_length, embedding_dim) -> output: (batch_size, seq_length, hidden_size*2)\n",
    "        output, _ = self.lstm(embedded)\n",
    "        \n",
    "        # 合并正向和反向LSTM的最后时间步输出，此步骤不改变数据形状，但需要从LSTM输出中提取正向和反向的最后时间步输出。\n",
    "        # 正向最后时间步的输出\n",
    "        forward_output = output[:, -1, :self.hidden_size]\n",
    "        # 反向最后时间步的输出\n",
    "        backward_output = output[:, 0, self.hidden_size:]\n",
    "        # 将两个方向的输出拼接起来 output： (batch_size, 2 * hidden_size)\n",
    "        output = torch.cat((forward_output, backward_output), dim=1)\n",
    "        \n",
    "        # 通过激活层 不改变数据形状\n",
    "        output = self.activation(output)\n",
    "        # 通过全连接层\n",
    "        # (batch_size, 2 * hidden_size) -> (batch_size, num_classes)\n",
    "        output = self.fc(output)\n",
    "        return output"
   ],
   "metadata": {
    "collapsed": false,
    "ExecuteTime": {
     "end_time": "2024-04-03T21:34:55.222603Z",
     "start_time": "2024-04-03T21:34:55.156049Z"
    }
   },
   "id": "fcbd84a55de36efc",
   "execution_count": 27
  },
  {
   "cell_type": "code",
   "outputs": [
    {
     "name": "stdout",
     "output_type": "stream",
     "text": [
      "LSTMModel(\n",
      "  (lstm): LSTM(50, 256, num_layers=2, batch_first=True, bidirectional=True)\n",
      "  (fc): Linear(in_features=512, out_features=3, bias=True)\n",
      "  (embedding): Embedding(53733, 50)\n",
      "  (activation): ReLU()\n",
      ")\n"
     ]
    }
   ],
   "source": [
    "# 定义模型参数\n",
    "hidden_size = 256\n",
    "num_layers = 2\n",
    "num_classes = len(np.unique(pad_train_dataset[\"label\"]))  # 3\n",
    "\n",
    "# 初始化模型\n",
    "device = torch.device('cuda')\n",
    "model = LSTMModel(embedding_matrix, hidden_size, num_layers, num_classes).to(device)\n",
    "\n",
    "# 定义损失函数和优化器\n",
    "criterion = nn.CrossEntropyLoss()\n",
    "optimizer = torch.optim.Adam(model.parameters(), lr=0.001)\n",
    "\n",
    "print(model)"
   ],
   "metadata": {
    "collapsed": false,
    "ExecuteTime": {
     "end_time": "2024-04-03T21:34:58.522211Z",
     "start_time": "2024-04-03T21:34:58.415533Z"
    }
   },
   "id": "eb049ff007ab6f73",
   "execution_count": 28
  },
  {
   "cell_type": "markdown",
   "source": [
    "#### 关于损失的记录\n",
    "使用样本数计算平均损失：`average_loss = epoch_loss / len(train_loader.dataset)`。这是因为在训练过程中，我们通常使用小批量随机梯度下降，而不是整个数据集。因此，我们需要将损失值除以数据集中的样本数，以获得平均损失。同时，对于验证集和\n",
    "当你选择以每个样本为基础来计算平均损失时，你是在计算整个数据集中每个样本的平均损失值。这是通过将总损失（分子）除以数据集中的样本总数（分母）来实现的。这种方法能够提供每个样本平均上的损失，对于评估模型在处理单个数据点方面的效能非常有用。\n",
    "\n",
    "分子：整个epoch中所有批次损失的累加和。\n",
    "分母：len(loader.dataset)，即数据集中的总样本数。"
   ],
   "metadata": {
    "collapsed": false
   },
   "id": "a913eea63708e25d"
  },
  {
   "cell_type": "code",
   "outputs": [
    {
     "data": {
      "text/plain": "(2000, 32)"
     },
     "execution_count": 31,
     "metadata": {},
     "output_type": "execute_result"
    }
   ],
   "source": [
    "len(val_loader.dataset),len(val_loader)"
   ],
   "metadata": {
    "collapsed": false,
    "ExecuteTime": {
     "end_time": "2024-04-03T21:40:34.392921Z",
     "start_time": "2024-04-03T21:40:34.318262Z"
    }
   },
   "id": "3b0e4fe8945737e1",
   "execution_count": 31
  },
  {
   "cell_type": "code",
   "outputs": [],
   "source": [
    "# 定义训练函数\n",
    "def train(model, train_loader, val_loader, train_losses, val_losses, epoch):\n",
    "    model.train()\n",
    "    epoch_loss = 0\n",
    "\n",
    "    for batch_idx, (data, target) in enumerate(train_loader):\n",
    "        data, target = data.to(device), target.to(device)\n",
    "        optimizer.zero_grad()\n",
    "        output = model(data)\n",
    "        loss = criterion(output, target)\n",
    "        loss.backward()\n",
    "        optimizer.step()\n",
    "\n",
    "        epoch_loss += loss.item()\n",
    "\n",
    "        if batch_idx % 100 == 0:\n",
    "            print(\n",
    "                f\"Train Epoch: {epoch} [{batch_idx * len(data)}/{len(train_loader.dataset)} ({100. * batch_idx / len(train_loader):.0f}%)]\\tLoss: {loss.item():.6f}\")\n",
    "            \n",
    "    average_loss = epoch_loss / len(train_loader.dataset)\n",
    "    train_losses.append(average_loss)\n",
    "    \n",
    "    # 在验证集上评估模型\n",
    "    model.eval()\n",
    "    val_loss = 0\n",
    "    correct = 0\n",
    "    with torch.no_grad():\n",
    "        for data, target in val_loader:\n",
    "            data, target = data.to(device), target.to(device)\n",
    "            output = model(data)\n",
    "            val_loss += criterion(output, target).item()\n",
    "            pred = output.argmax(dim=1, keepdim=True)\n",
    "            correct += pred.eq(target.view_as(pred)).sum().item()\n",
    "            \n",
    "    val_loss /= len(val_loader.dataset)\n",
    "    val_losses.append(val_loss)\n",
    "    val_accuracy = 100. * correct / len(val_loader.dataset)\n",
    "    print(f\"\\nValidation set: Average loss: {val_loss:.4f}, Accuracy: {correct}/{len(val_loader.dataset)} ({val_accuracy:.0f}%)\\n\")\n",
    "    \n",
    "    return train_losses, val_losses\n",
    "\n",
    "# 定义评估函数\n",
    "def evaluate(model, test_loader):\n",
    "    model.eval()\n",
    "    test_loss = 0\n",
    "    correct = 0\n",
    "    with torch.no_grad():\n",
    "        for data, target in test_loader:\n",
    "            data, target = data.to(device), target.to(device)\n",
    "            output = model(data)\n",
    "            test_loss += criterion(output, target).item()\n",
    "            pred = output.argmax(dim=1, keepdim=True)\n",
    "            correct += pred.eq(target.view_as(pred)).sum().item()\n",
    "\n",
    "    test_loss /= len(test_loader.dataset)\n",
    "    test_accuracy = 100. * correct / len(test_loader.dataset)\n",
    "    print(f\"\\nTest set: Average loss: {test_loss:.4f}, Accuracy: {correct}/{len(test_loader.dataset)} ({test_accuracy:.0f}%)\\n\")\n",
    "    \n",
    "    return test_loss, test_accuracy"
   ],
   "metadata": {
    "collapsed": false,
    "ExecuteTime": {
     "end_time": "2024-04-03T21:35:01.925721Z",
     "start_time": "2024-04-03T21:35:01.866721Z"
    }
   },
   "id": "291b9e5c3de495c2",
   "execution_count": 29
  },
  {
   "cell_type": "code",
   "outputs": [
    {
     "name": "stdout",
     "output_type": "stream",
     "text": [
      "Train Epoch: 1 [0/45615 (0%)]\tLoss: 1.093238\n",
      "Train Epoch: 1 [6400/45615 (14%)]\tLoss: 1.041891\n",
      "Train Epoch: 1 [12800/45615 (28%)]\tLoss: 0.893257\n",
      "Train Epoch: 1 [19200/45615 (42%)]\tLoss: 0.948027\n",
      "Train Epoch: 1 [25600/45615 (56%)]\tLoss: 0.942727\n",
      "Train Epoch: 1 [32000/45615 (70%)]\tLoss: 0.945355\n",
      "Train Epoch: 1 [38400/45615 (84%)]\tLoss: 0.946716\n",
      "Train Epoch: 1 [44800/45615 (98%)]\tLoss: 0.915011\n",
      "\n",
      "Validation set: Average loss: 0.0144, Accuracy: 1103/2000 (55%)\n",
      "\n",
      "Train Epoch: 2 [0/45615 (0%)]\tLoss: 0.864628\n",
      "Train Epoch: 2 [6400/45615 (14%)]\tLoss: 0.801862\n",
      "Train Epoch: 2 [12800/45615 (28%)]\tLoss: 0.898590\n",
      "Train Epoch: 2 [19200/45615 (42%)]\tLoss: 0.916302\n",
      "Train Epoch: 2 [25600/45615 (56%)]\tLoss: 0.692006\n",
      "Train Epoch: 2 [32000/45615 (70%)]\tLoss: 0.805897\n",
      "Train Epoch: 2 [38400/45615 (84%)]\tLoss: 0.728785\n",
      "Train Epoch: 2 [44800/45615 (98%)]\tLoss: 0.795527\n",
      "\n",
      "Validation set: Average loss: 0.0129, Accuracy: 1266/2000 (63%)\n",
      "\n",
      "Train Epoch: 3 [0/45615 (0%)]\tLoss: 0.663563\n",
      "Train Epoch: 3 [6400/45615 (14%)]\tLoss: 0.701890\n",
      "Train Epoch: 3 [12800/45615 (28%)]\tLoss: 0.615097\n",
      "Train Epoch: 3 [19200/45615 (42%)]\tLoss: 0.741083\n",
      "Train Epoch: 3 [25600/45615 (56%)]\tLoss: 0.769602\n",
      "Train Epoch: 3 [32000/45615 (70%)]\tLoss: 0.735601\n",
      "Train Epoch: 3 [38400/45615 (84%)]\tLoss: 0.647679\n",
      "Train Epoch: 3 [44800/45615 (98%)]\tLoss: 0.804348\n",
      "\n",
      "Validation set: Average loss: 0.0129, Accuracy: 1259/2000 (63%)\n",
      "\n",
      "Train Epoch: 4 [0/45615 (0%)]\tLoss: 0.595590\n",
      "Train Epoch: 4 [6400/45615 (14%)]\tLoss: 0.677717\n",
      "Train Epoch: 4 [12800/45615 (28%)]\tLoss: 0.592563\n",
      "Train Epoch: 4 [19200/45615 (42%)]\tLoss: 0.683112\n",
      "Train Epoch: 4 [25600/45615 (56%)]\tLoss: 0.718399\n",
      "Train Epoch: 4 [32000/45615 (70%)]\tLoss: 0.733487\n",
      "Train Epoch: 4 [38400/45615 (84%)]\tLoss: 0.700443\n",
      "Train Epoch: 4 [44800/45615 (98%)]\tLoss: 0.401965\n",
      "\n",
      "Validation set: Average loss: 0.0128, Accuracy: 1305/2000 (65%)\n",
      "\n",
      "Train Epoch: 5 [0/45615 (0%)]\tLoss: 0.505586\n",
      "Train Epoch: 5 [6400/45615 (14%)]\tLoss: 0.418925\n",
      "Train Epoch: 5 [12800/45615 (28%)]\tLoss: 0.410917\n",
      "Train Epoch: 5 [19200/45615 (42%)]\tLoss: 0.494641\n",
      "Train Epoch: 5 [25600/45615 (56%)]\tLoss: 0.392882\n",
      "Train Epoch: 5 [32000/45615 (70%)]\tLoss: 0.347829\n",
      "Train Epoch: 5 [38400/45615 (84%)]\tLoss: 0.518024\n",
      "Train Epoch: 5 [44800/45615 (98%)]\tLoss: 0.374119\n",
      "\n",
      "Validation set: Average loss: 0.0142, Accuracy: 1273/2000 (64%)\n",
      "\n",
      "Train Epoch: 6 [0/45615 (0%)]\tLoss: 0.316115\n",
      "Train Epoch: 6 [6400/45615 (14%)]\tLoss: 0.394058\n",
      "Train Epoch: 6 [12800/45615 (28%)]\tLoss: 0.479256\n",
      "Train Epoch: 6 [19200/45615 (42%)]\tLoss: 0.463341\n",
      "Train Epoch: 6 [25600/45615 (56%)]\tLoss: 0.300823\n",
      "Train Epoch: 6 [32000/45615 (70%)]\tLoss: 0.339804\n",
      "Train Epoch: 6 [38400/45615 (84%)]\tLoss: 0.419466\n",
      "Train Epoch: 6 [44800/45615 (98%)]\tLoss: 0.307806\n",
      "\n",
      "Validation set: Average loss: 0.0164, Accuracy: 1271/2000 (64%)\n",
      "\n",
      "Train Epoch: 7 [0/45615 (0%)]\tLoss: 0.247917\n",
      "Train Epoch: 7 [6400/45615 (14%)]\tLoss: 0.209695\n",
      "Train Epoch: 7 [12800/45615 (28%)]\tLoss: 0.277560\n",
      "Train Epoch: 7 [19200/45615 (42%)]\tLoss: 0.119237\n",
      "Train Epoch: 7 [25600/45615 (56%)]\tLoss: 0.400198\n",
      "Train Epoch: 7 [32000/45615 (70%)]\tLoss: 0.466250\n",
      "Train Epoch: 7 [38400/45615 (84%)]\tLoss: 0.125867\n",
      "Train Epoch: 7 [44800/45615 (98%)]\tLoss: 0.168301\n",
      "\n",
      "Validation set: Average loss: 0.0195, Accuracy: 1250/2000 (62%)\n",
      "\n",
      "Train Epoch: 8 [0/45615 (0%)]\tLoss: 0.136609\n",
      "Train Epoch: 8 [6400/45615 (14%)]\tLoss: 0.123976\n",
      "Train Epoch: 8 [12800/45615 (28%)]\tLoss: 0.068215\n",
      "Train Epoch: 8 [19200/45615 (42%)]\tLoss: 0.073320\n",
      "Train Epoch: 8 [25600/45615 (56%)]\tLoss: 0.113034\n",
      "Train Epoch: 8 [32000/45615 (70%)]\tLoss: 0.190285\n",
      "Train Epoch: 8 [38400/45615 (84%)]\tLoss: 0.280217\n",
      "Train Epoch: 8 [44800/45615 (98%)]\tLoss: 0.233311\n",
      "\n",
      "Validation set: Average loss: 0.0245, Accuracy: 1242/2000 (62%)\n",
      "\n",
      "Train Epoch: 9 [0/45615 (0%)]\tLoss: 0.095122\n",
      "Train Epoch: 9 [6400/45615 (14%)]\tLoss: 0.109953\n",
      "Train Epoch: 9 [12800/45615 (28%)]\tLoss: 0.126853\n",
      "Train Epoch: 9 [19200/45615 (42%)]\tLoss: 0.064033\n",
      "Train Epoch: 9 [25600/45615 (56%)]\tLoss: 0.102980\n",
      "Train Epoch: 9 [32000/45615 (70%)]\tLoss: 0.094848\n",
      "Train Epoch: 9 [38400/45615 (84%)]\tLoss: 0.141980\n",
      "Train Epoch: 9 [44800/45615 (98%)]\tLoss: 0.053409\n",
      "\n",
      "Validation set: Average loss: 0.0301, Accuracy: 1230/2000 (62%)\n",
      "\n",
      "Train Epoch: 10 [0/45615 (0%)]\tLoss: 0.091563\n",
      "Train Epoch: 10 [6400/45615 (14%)]\tLoss: 0.071415\n",
      "Train Epoch: 10 [12800/45615 (28%)]\tLoss: 0.058105\n",
      "Train Epoch: 10 [19200/45615 (42%)]\tLoss: 0.097760\n",
      "Train Epoch: 10 [25600/45615 (56%)]\tLoss: 0.010516\n",
      "Train Epoch: 10 [32000/45615 (70%)]\tLoss: 0.052656\n",
      "Train Epoch: 10 [38400/45615 (84%)]\tLoss: 0.061469\n",
      "Train Epoch: 10 [44800/45615 (98%)]\tLoss: 0.110179\n",
      "\n",
      "Validation set: Average loss: 0.0337, Accuracy: 1256/2000 (63%)\n",
      "\n",
      "Train Epoch: 11 [0/45615 (0%)]\tLoss: 0.014669\n",
      "Train Epoch: 11 [6400/45615 (14%)]\tLoss: 0.066753\n",
      "Train Epoch: 11 [12800/45615 (28%)]\tLoss: 0.010073\n",
      "Train Epoch: 11 [19200/45615 (42%)]\tLoss: 0.022377\n",
      "Train Epoch: 11 [25600/45615 (56%)]\tLoss: 0.008586\n",
      "Train Epoch: 11 [32000/45615 (70%)]\tLoss: 0.034998\n",
      "Train Epoch: 11 [38400/45615 (84%)]\tLoss: 0.015406\n",
      "Train Epoch: 11 [44800/45615 (98%)]\tLoss: 0.047876\n",
      "\n",
      "Validation set: Average loss: 0.0381, Accuracy: 1234/2000 (62%)\n",
      "\n",
      "Train Epoch: 12 [0/45615 (0%)]\tLoss: 0.024530\n",
      "Train Epoch: 12 [6400/45615 (14%)]\tLoss: 0.005732\n",
      "Train Epoch: 12 [12800/45615 (28%)]\tLoss: 0.017662\n",
      "Train Epoch: 12 [19200/45615 (42%)]\tLoss: 0.007755\n",
      "Train Epoch: 12 [25600/45615 (56%)]\tLoss: 0.006350\n",
      "Train Epoch: 12 [32000/45615 (70%)]\tLoss: 0.009878\n",
      "Train Epoch: 12 [38400/45615 (84%)]\tLoss: 0.023672\n",
      "Train Epoch: 12 [44800/45615 (98%)]\tLoss: 0.050714\n",
      "\n",
      "Validation set: Average loss: 0.0390, Accuracy: 1252/2000 (63%)\n",
      "\n",
      "Train Epoch: 13 [0/45615 (0%)]\tLoss: 0.014503\n",
      "Train Epoch: 13 [6400/45615 (14%)]\tLoss: 0.182680\n",
      "Train Epoch: 13 [12800/45615 (28%)]\tLoss: 0.004981\n",
      "Train Epoch: 13 [19200/45615 (42%)]\tLoss: 0.025122\n",
      "Train Epoch: 13 [25600/45615 (56%)]\tLoss: 0.002839\n",
      "Train Epoch: 13 [32000/45615 (70%)]\tLoss: 0.022351\n",
      "Train Epoch: 13 [38400/45615 (84%)]\tLoss: 0.025466\n",
      "Train Epoch: 13 [44800/45615 (98%)]\tLoss: 0.055662\n",
      "\n",
      "Validation set: Average loss: 0.0422, Accuracy: 1246/2000 (62%)\n",
      "\n",
      "Train Epoch: 14 [0/45615 (0%)]\tLoss: 0.016159\n",
      "Train Epoch: 14 [6400/45615 (14%)]\tLoss: 0.002175\n",
      "Train Epoch: 14 [12800/45615 (28%)]\tLoss: 0.027170\n",
      "Train Epoch: 14 [19200/45615 (42%)]\tLoss: 0.001355\n",
      "Train Epoch: 14 [25600/45615 (56%)]\tLoss: 0.008580\n",
      "Train Epoch: 14 [32000/45615 (70%)]\tLoss: 0.142258\n",
      "Train Epoch: 14 [38400/45615 (84%)]\tLoss: 0.013951\n",
      "Train Epoch: 14 [44800/45615 (98%)]\tLoss: 0.098027\n",
      "\n",
      "Validation set: Average loss: 0.0421, Accuracy: 1249/2000 (62%)\n",
      "\n",
      "Train Epoch: 15 [0/45615 (0%)]\tLoss: 0.005728\n",
      "Train Epoch: 15 [6400/45615 (14%)]\tLoss: 0.013505\n",
      "Train Epoch: 15 [12800/45615 (28%)]\tLoss: 0.026598\n",
      "Train Epoch: 15 [19200/45615 (42%)]\tLoss: 0.006168\n",
      "Train Epoch: 15 [25600/45615 (56%)]\tLoss: 0.002032\n",
      "Train Epoch: 15 [32000/45615 (70%)]\tLoss: 0.009434\n",
      "Train Epoch: 15 [38400/45615 (84%)]\tLoss: 0.012501\n",
      "Train Epoch: 15 [44800/45615 (98%)]\tLoss: 0.004350\n",
      "\n",
      "Validation set: Average loss: 0.0448, Accuracy: 1252/2000 (63%)\n",
      "\n",
      "Train Epoch: 16 [0/45615 (0%)]\tLoss: 0.010597\n",
      "Train Epoch: 16 [6400/45615 (14%)]\tLoss: 0.006076\n",
      "Train Epoch: 16 [12800/45615 (28%)]\tLoss: 0.006402\n",
      "Train Epoch: 16 [19200/45615 (42%)]\tLoss: 0.001833\n",
      "Train Epoch: 16 [25600/45615 (56%)]\tLoss: 0.002655\n",
      "Train Epoch: 16 [32000/45615 (70%)]\tLoss: 0.000830\n",
      "Train Epoch: 16 [38400/45615 (84%)]\tLoss: 0.025881\n",
      "Train Epoch: 16 [44800/45615 (98%)]\tLoss: 0.007577\n",
      "\n",
      "Validation set: Average loss: 0.0453, Accuracy: 1263/2000 (63%)\n",
      "\n",
      "Train Epoch: 17 [0/45615 (0%)]\tLoss: 0.004094\n",
      "Train Epoch: 17 [6400/45615 (14%)]\tLoss: 0.025137\n",
      "Train Epoch: 17 [12800/45615 (28%)]\tLoss: 0.011017\n",
      "Train Epoch: 17 [19200/45615 (42%)]\tLoss: 0.003029\n",
      "Train Epoch: 17 [25600/45615 (56%)]\tLoss: 0.005680\n",
      "Train Epoch: 17 [32000/45615 (70%)]\tLoss: 0.034944\n",
      "Train Epoch: 17 [38400/45615 (84%)]\tLoss: 0.015145\n",
      "Train Epoch: 17 [44800/45615 (98%)]\tLoss: 0.055062\n",
      "\n",
      "Validation set: Average loss: 0.0453, Accuracy: 1223/2000 (61%)\n",
      "\n",
      "Train Epoch: 18 [0/45615 (0%)]\tLoss: 0.011986\n",
      "Train Epoch: 18 [6400/45615 (14%)]\tLoss: 0.000499\n",
      "Train Epoch: 18 [12800/45615 (28%)]\tLoss: 0.000176\n",
      "Train Epoch: 18 [19200/45615 (42%)]\tLoss: 0.006292\n",
      "Train Epoch: 18 [25600/45615 (56%)]\tLoss: 0.001350\n",
      "Train Epoch: 18 [32000/45615 (70%)]\tLoss: 0.001046\n",
      "Train Epoch: 18 [38400/45615 (84%)]\tLoss: 0.007208\n",
      "Train Epoch: 18 [44800/45615 (98%)]\tLoss: 0.012496\n",
      "\n",
      "Validation set: Average loss: 0.0471, Accuracy: 1258/2000 (63%)\n",
      "\n",
      "Train Epoch: 19 [0/45615 (0%)]\tLoss: 0.002543\n",
      "Train Epoch: 19 [6400/45615 (14%)]\tLoss: 0.003647\n",
      "Train Epoch: 19 [12800/45615 (28%)]\tLoss: 0.007635\n",
      "Train Epoch: 19 [19200/45615 (42%)]\tLoss: 0.005455\n",
      "Train Epoch: 19 [25600/45615 (56%)]\tLoss: 0.000674\n",
      "Train Epoch: 19 [32000/45615 (70%)]\tLoss: 0.003630\n",
      "Train Epoch: 19 [38400/45615 (84%)]\tLoss: 0.002019\n",
      "Train Epoch: 19 [44800/45615 (98%)]\tLoss: 0.106870\n",
      "\n",
      "Validation set: Average loss: 0.0487, Accuracy: 1203/2000 (60%)\n",
      "\n",
      "Train Epoch: 20 [0/45615 (0%)]\tLoss: 0.011324\n",
      "Train Epoch: 20 [6400/45615 (14%)]\tLoss: 0.000612\n",
      "Train Epoch: 20 [12800/45615 (28%)]\tLoss: 0.005716\n",
      "Train Epoch: 20 [19200/45615 (42%)]\tLoss: 0.001037\n",
      "Train Epoch: 20 [25600/45615 (56%)]\tLoss: 0.001021\n",
      "Train Epoch: 20 [32000/45615 (70%)]\tLoss: 0.005294\n",
      "Train Epoch: 20 [38400/45615 (84%)]\tLoss: 0.010123\n",
      "Train Epoch: 20 [44800/45615 (98%)]\tLoss: 0.002080\n",
      "\n",
      "Validation set: Average loss: 0.0500, Accuracy: 1237/2000 (62%)\n",
      "\n",
      "Train Epoch: 21 [0/45615 (0%)]\tLoss: 0.001752\n",
      "Train Epoch: 21 [6400/45615 (14%)]\tLoss: 0.000539\n",
      "Train Epoch: 21 [12800/45615 (28%)]\tLoss: 0.004023\n",
      "Train Epoch: 21 [19200/45615 (42%)]\tLoss: 0.003029\n",
      "Train Epoch: 21 [25600/45615 (56%)]\tLoss: 0.004296\n",
      "Train Epoch: 21 [32000/45615 (70%)]\tLoss: 0.011771\n",
      "Train Epoch: 21 [38400/45615 (84%)]\tLoss: 0.057423\n",
      "Train Epoch: 21 [44800/45615 (98%)]\tLoss: 0.059243\n",
      "\n",
      "Validation set: Average loss: 0.0506, Accuracy: 1249/2000 (62%)\n",
      "\n",
      "Train Epoch: 22 [0/45615 (0%)]\tLoss: 0.021560\n",
      "Train Epoch: 22 [6400/45615 (14%)]\tLoss: 0.004100\n",
      "Train Epoch: 22 [12800/45615 (28%)]\tLoss: 0.004361\n",
      "Train Epoch: 22 [19200/45615 (42%)]\tLoss: 0.030060\n",
      "Train Epoch: 22 [25600/45615 (56%)]\tLoss: 0.001174\n",
      "Train Epoch: 22 [32000/45615 (70%)]\tLoss: 0.000550\n",
      "Train Epoch: 22 [38400/45615 (84%)]\tLoss: 0.012879\n",
      "Train Epoch: 22 [44800/45615 (98%)]\tLoss: 0.004455\n",
      "\n",
      "Validation set: Average loss: 0.0506, Accuracy: 1241/2000 (62%)\n",
      "\n",
      "Train Epoch: 23 [0/45615 (0%)]\tLoss: 0.000644\n",
      "Train Epoch: 23 [6400/45615 (14%)]\tLoss: 0.000663\n",
      "Train Epoch: 23 [12800/45615 (28%)]\tLoss: 0.009621\n",
      "Train Epoch: 23 [19200/45615 (42%)]\tLoss: 0.009067\n",
      "Train Epoch: 23 [25600/45615 (56%)]\tLoss: 0.000863\n",
      "Train Epoch: 23 [32000/45615 (70%)]\tLoss: 0.001478\n",
      "Train Epoch: 23 [38400/45615 (84%)]\tLoss: 0.000298\n",
      "Train Epoch: 23 [44800/45615 (98%)]\tLoss: 0.022739\n",
      "\n",
      "Validation set: Average loss: 0.0540, Accuracy: 1230/2000 (62%)\n",
      "\n",
      "Train Epoch: 24 [0/45615 (0%)]\tLoss: 0.001583\n",
      "Train Epoch: 24 [6400/45615 (14%)]\tLoss: 0.000606\n",
      "Train Epoch: 24 [12800/45615 (28%)]\tLoss: 0.008867\n",
      "Train Epoch: 24 [19200/45615 (42%)]\tLoss: 0.006273\n",
      "Train Epoch: 24 [25600/45615 (56%)]\tLoss: 0.040050\n",
      "Train Epoch: 24 [32000/45615 (70%)]\tLoss: 0.001479\n",
      "Train Epoch: 24 [38400/45615 (84%)]\tLoss: 0.004752\n",
      "Train Epoch: 24 [44800/45615 (98%)]\tLoss: 0.000778\n",
      "\n",
      "Validation set: Average loss: 0.0523, Accuracy: 1247/2000 (62%)\n",
      "\n",
      "Train Epoch: 25 [0/45615 (0%)]\tLoss: 0.001698\n",
      "Train Epoch: 25 [6400/45615 (14%)]\tLoss: 0.002825\n",
      "Train Epoch: 25 [12800/45615 (28%)]\tLoss: 0.021245\n",
      "Train Epoch: 25 [19200/45615 (42%)]\tLoss: 0.001377\n",
      "Train Epoch: 25 [25600/45615 (56%)]\tLoss: 0.119638\n",
      "Train Epoch: 25 [32000/45615 (70%)]\tLoss: 0.000629\n",
      "Train Epoch: 25 [38400/45615 (84%)]\tLoss: 0.049507\n",
      "Train Epoch: 25 [44800/45615 (98%)]\tLoss: 0.006667\n",
      "\n",
      "Validation set: Average loss: 0.0495, Accuracy: 1236/2000 (62%)\n",
      "\n",
      "Train Epoch: 26 [0/45615 (0%)]\tLoss: 0.005410\n",
      "Train Epoch: 26 [6400/45615 (14%)]\tLoss: 0.001609\n",
      "Train Epoch: 26 [12800/45615 (28%)]\tLoss: 0.001002\n",
      "Train Epoch: 26 [19200/45615 (42%)]\tLoss: 0.012173\n",
      "Train Epoch: 26 [25600/45615 (56%)]\tLoss: 0.034570\n",
      "Train Epoch: 26 [32000/45615 (70%)]\tLoss: 0.002283\n",
      "Train Epoch: 26 [38400/45615 (84%)]\tLoss: 0.001337\n",
      "Train Epoch: 26 [44800/45615 (98%)]\tLoss: 0.010849\n",
      "\n",
      "Validation set: Average loss: 0.0497, Accuracy: 1247/2000 (62%)\n",
      "\n",
      "Train Epoch: 27 [0/45615 (0%)]\tLoss: 0.000520\n",
      "Train Epoch: 27 [6400/45615 (14%)]\tLoss: 0.000900\n",
      "Train Epoch: 27 [12800/45615 (28%)]\tLoss: 0.002761\n",
      "Train Epoch: 27 [19200/45615 (42%)]\tLoss: 0.000838\n",
      "Train Epoch: 27 [25600/45615 (56%)]\tLoss: 0.000955\n",
      "Train Epoch: 27 [32000/45615 (70%)]\tLoss: 0.000052\n",
      "Train Epoch: 27 [38400/45615 (84%)]\tLoss: 0.004241\n",
      "Train Epoch: 27 [44800/45615 (98%)]\tLoss: 0.002050\n",
      "\n",
      "Validation set: Average loss: 0.0510, Accuracy: 1244/2000 (62%)\n",
      "\n",
      "Train Epoch: 28 [0/45615 (0%)]\tLoss: 0.006037\n",
      "Train Epoch: 28 [6400/45615 (14%)]\tLoss: 0.001792\n",
      "Train Epoch: 28 [12800/45615 (28%)]\tLoss: 0.002564\n",
      "Train Epoch: 28 [19200/45615 (42%)]\tLoss: 0.006056\n",
      "Train Epoch: 28 [25600/45615 (56%)]\tLoss: 0.050570\n",
      "Train Epoch: 28 [32000/45615 (70%)]\tLoss: 0.000792\n",
      "Train Epoch: 28 [38400/45615 (84%)]\tLoss: 0.000641\n",
      "Train Epoch: 28 [44800/45615 (98%)]\tLoss: 0.000188\n",
      "\n",
      "Validation set: Average loss: 0.0523, Accuracy: 1265/2000 (63%)\n",
      "\n",
      "Train Epoch: 29 [0/45615 (0%)]\tLoss: 0.016826\n",
      "Train Epoch: 29 [6400/45615 (14%)]\tLoss: 0.000478\n",
      "Train Epoch: 29 [12800/45615 (28%)]\tLoss: 0.000522\n",
      "Train Epoch: 29 [19200/45615 (42%)]\tLoss: 0.006496\n",
      "Train Epoch: 29 [25600/45615 (56%)]\tLoss: 0.003757\n",
      "Train Epoch: 29 [32000/45615 (70%)]\tLoss: 0.003727\n",
      "Train Epoch: 29 [38400/45615 (84%)]\tLoss: 0.023477\n",
      "Train Epoch: 29 [44800/45615 (98%)]\tLoss: 0.009131\n",
      "\n",
      "Validation set: Average loss: 0.0511, Accuracy: 1256/2000 (63%)\n",
      "\n",
      "Train Epoch: 30 [0/45615 (0%)]\tLoss: 0.002645\n",
      "Train Epoch: 30 [6400/45615 (14%)]\tLoss: 0.002152\n",
      "Train Epoch: 30 [12800/45615 (28%)]\tLoss: 0.000168\n",
      "Train Epoch: 30 [19200/45615 (42%)]\tLoss: 0.007646\n",
      "Train Epoch: 30 [25600/45615 (56%)]\tLoss: 0.005103\n",
      "Train Epoch: 30 [32000/45615 (70%)]\tLoss: 0.007276\n",
      "Train Epoch: 30 [38400/45615 (84%)]\tLoss: 0.000085\n",
      "Train Epoch: 30 [44800/45615 (98%)]\tLoss: 0.000896\n",
      "\n",
      "Validation set: Average loss: 0.0496, Accuracy: 1246/2000 (62%)\n",
      "\n",
      "Test set: Average loss: 0.0707, Accuracy: 6642/12284 (54%)\n"
     ]
    }
   ],
   "source": [
    "# 训练模型\n",
    "num_epochs = 30\n",
    "\n",
    "train_losses = []\n",
    "val_losses = []\n",
    "for epoch in range(1, num_epochs + 1):\n",
    "    train_losses, val_losses = train(model, train_loader, val_loader, train_losses, val_losses, epoch)\n",
    "    \n",
    "# 评估模型\n",
    "test_loss, test_accuracy = evaluate(model, test_loader)"
   ],
   "metadata": {
    "collapsed": false,
    "ExecuteTime": {
     "end_time": "2024-04-03T21:40:34.315282Z",
     "start_time": "2024-04-03T21:35:06.234782Z"
    }
   },
   "id": "bf929fa016d5010a",
   "execution_count": 30
  },
  {
   "cell_type": "code",
   "outputs": [
    {
     "data": {
      "text/plain": "<Figure size 640x480 with 1 Axes>",
      "image/png": "[encoded data removed]"
     },
     "metadata": {},
     "output_type": "display_data"
    }
   ],
   "source": [
    "# 绘制训练和验证损失曲线\n",
    "plt.plot(train_losses, label='Training loss')\n",
    "plt.plot(val_losses, label='Validation loss')\n",
    "plt.xlabel('Epoch')\n",
    "plt.ylabel('Loss')\n",
    "plt.legend()\n",
    "plt.show()"
   ],
   "metadata": {
    "collapsed": false,
    "ExecuteTime": {
     "end_time": "2024-04-03T21:41:48.977794Z",
     "start_time": "2024-04-03T21:41:48.853501Z"
    }
   },
   "id": "5bd4106655df5e47",
   "execution_count": 32
  },
  {
   "cell_type": "markdown",
   "source": [
    "len(train_loader.dataset)：这表示数据集中的总样本数。使用这个作为分母，意味着你在计算整个数据集上的平均损失，每个样本的损失都计入平均值。这通常用于计算每个样本的平均损失，特别是在评估和测试模型性能时更为常见。\n",
    "\n",
    "len(train_loader)：这表示批次的总数。由于每个批次包含多个样本（取决于你设置的batch_size），这个分母通常用于计算每个批次的平均损失。如果你的目的是观察批次间损失的变化，这种方法可能更合适。"
   ],
   "metadata": {
    "collapsed": false
   },
   "id": "534ebdb9f66b8e2c"
  },
  {
   "cell_type": "code",
   "outputs": [
    {
     "data": {
      "text/plain": "(45615, 713)"
     },
     "execution_count": 22,
     "metadata": {},
     "output_type": "execute_result"
    }
   ],
   "source": [
    "len(train_loader.dataset),len(train_loader)"
   ],
   "metadata": {
    "collapsed": false,
    "ExecuteTime": {
     "end_time": "2024-04-03T21:22:53.247771Z",
     "start_time": "2024-04-03T21:22:53.169769Z"
    }
   },
   "id": "641bf70404b4b256",
   "execution_count": 22
  }
 ],
 "metadata": {
  "kernelspec": {
   "display_name": "Python 3",
   "language": "python",
   "name": "python3"
  },
  "language_info": {
   "codemirror_mode": {
    "name": "ipython",
    "version": 2
   },
   "file_extension": ".py",
   "mimetype": "text/x-python",
   "name": "python",
   "nbconvert_exporter": "python",
   "pygments_lexer": "ipython2",
   "version": "2.7.6"
  }
 },
 "nbformat": 4,
 "nbformat_minor": 5
}
