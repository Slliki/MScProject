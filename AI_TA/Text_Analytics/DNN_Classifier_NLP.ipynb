{
 "cells": [
  {
   "cell_type": "markdown",
   "source": [
    "# Deep Learning for NLP \n",
    "\n",
    "INCLUDE:\n",
    "- Text Preprocessing\n",
    "  - Tokenization: 分词\n",
    "  - Encoding Text: 将文本转换为整数序列\n",
    "  - Padding & Truncating: 填充和截断\n",
    "  - Converting to DataLoader: 将数据集转换为DataLoader对象\n",
    "  - Word Embeddings: 词嵌入\n",
    "    - Pre-trained Word Embeddings\n",
    "- Neural Network Models\n",
    "\n"
   ],
   "metadata": {
    "collapsed": false
   },
   "id": "d30f5c340e313310"
  },
  {
   "cell_type": "markdown",
   "source": [
    "与逻辑回归一样，神经网络也是辨别模型：它们直接学习分类任务，而无需学习生成文本。但与逻辑回归不同的是，它们可以对输入的非线性函数进行建模。这是通过具有非线性激活函数的隐藏层来实现的。\n",
    "\n",
    "神经网络的一些主要优势可归纳如下：\n",
    "   * 它可以模拟非线性函数，因此可以处理特征和类标签之间更为复杂的关系。\n",
    "   * 它可以进行表征学习：隐藏层可以学习如何从低层数据中提取特征。\n",
    "   * 它可以处理标记序列--我们不必像逻辑回归那样，用单一的特征向量来表示文档。\n",
    "\n",
    "另一方面，它的缺点是\n",
    "   * 训练和测试的成本要高得多。\n",
    "   * 对小数据集可能会产生严重的过拟合。\n",
    "   * 隐藏层学习到的特征可能难以解释，这就很难预测模型的行为，例如它可能在哪种情况下失败。\n",
    "   * 泛化是不可预测的：当应用于训练集分布之外的测试数据时，它们有时会有意想不到的表现。"
   ],
   "metadata": {
    "collapsed": false
   },
   "id": "87c0dfdda52972dd"
  },
  {
   "cell_type": "markdown",
   "source": [
    "### 0.1 一般NLP任务数据预处理的最佳实践：\n",
    "\n",
    "1. **建立字典（Vocabulary）**：从文档集合中识别所有唯一的词汇，并为每个词汇分配一个唯一的整数索引。这个字典使得模型能够处理文本数据。\n",
    "\n",
    "2. **文本到整数序列的映射**：使用字典将每个文档中的单词转换为对应的整数索引。这一步将文本数据转换为神经网络能够处理的数值形式。\n",
    "\n",
    "3. **截断和填充**：由于神经网络需要输入固定长度的向量，因此需要将所有文档长度统一。这通常通过截断较长的文档和/或为较短的文档添加填充值（如0）来实现。\n",
    "\n",
    "4. **转换为Tensor**：将处理过的整数序列转换为PyTorch的Tensor格式，这是PyTorch模型的输入格式。\n",
    "\n",
    "5. **DataLoader使用**：为了有效地训练模型，使用PyTorch的`DataLoader`类将数据批量化，并可选地在训练过程中对数据进行打乱和并行处理。\n",
    "\n",
    "一些额外的最佳实践包括：\n",
    "\n",
    "- **预训练词嵌入**：在某些情况下，使用预训练的词嵌入（如GloVe或Word2Vec）作为模型的初始权重可以提高性能，特别是当可用的训练数据量不大时。\n",
    "\n",
    "- **高级文本编码方法**：对于复杂的NLP任务，考虑使用如BERT、GPT或其他Transformer架构的预训练模型，这些模型能够捕获文本中的深层次语义关系，并且可以微调以适应特定的任务。\n",
    "\n",
    "- **注意力机制和序列模型**：对于需要捕捉长距离依赖的任务（如机器翻译或文本生成），使用LSTM、GRU或Transformer模型可以获得更好的结果。"
   ],
   "metadata": {
    "collapsed": false
   },
   "id": "61feea7fcb27099c"
  },
  {
   "cell_type": "markdown",
   "source": [
    "### 0.2 Embedding Layer\n",
    "在pytorch中，一般直接使用在定义神经网络类的层时，使用`nn.Embedding`来实现词嵌入。嵌入层的权重是随机初始化的，随后在训练过程中学习。这样，模型就可以学习到一个针对特定任务优化的词嵌入。\n",
    "\n",
    "\n"
   ],
   "metadata": {
    "collapsed": false
   },
   "id": "5958959abff054b2"
  },
  {
   "cell_type": "markdown",
   "source": [
    "### 0.3 Pre-trained Word Embeddings\n",
    "除了直接使用nn.Embedding层进行嵌入，还可以使用预训练的词嵌入（如GloVe、Word2Vec等）来初始化模型的词嵌入层。这种方法通常可以提高模型的性能，特别是在训练数据有限的情况下。\n",
    "\n",
    "在PyTorch框架下使用预训练的词嵌入（如GloVe、Word2Vec等）涉及到几个步骤，从加载预训练词向量，创建嵌入层，到将这些预训练向量加载到模型中。以下是一个概括的最佳实践步骤和相应的代码实现：\n",
    "\n",
    "#### 步骤\n",
    "\n",
    "1. **加载预训练词向量**：首先，需要从预训练模型中加载词向量。这通常意味着加载一个大型的文件，其中包含了大量单词及其对应的向量表示。\n",
    "\n",
    "2. **创建词汇表**：基于你的训练数据，创建一个词汇表，确保每个单词都有一个唯一的整数索引。\n",
    "\n",
    "3. **初始化嵌入矩阵**：首先，创建一个零矩阵或随机初始化的矩阵，其形状为`(len(dictionary), embedding_dim)`，其中`embedding_dim`是GloVe向量的维度（对于`glove-twitter-25`，维度是25）。\n",
    "\n",
    "4. **填充嵌入矩阵**：遍历`dictionary`中的每个词汇，如果该词汇在`glove_wv`中有对应的向量，就将这个向量复制到嵌入矩阵中对应的行；如果没有找到，就保留零向量或随机向量。\n",
    "\n",
    "5. **创建嵌入层**：在PyTorch模型中创建一个`nn.Embedding`层，其大小和预训练词向量相匹配。\n",
    "\n",
    "6. **加载嵌入矩阵到嵌入层**：将准备好的嵌入矩阵加载到`nn.Embedding`层中，这通常通过替换嵌入层的权重实现。\n",
    "\n",
    "\n",
    "\n",
    "\n",
    "\n"
   ],
   "metadata": {
    "collapsed": false
   },
   "id": "af3ce5974cb56c28"
  },
  {
   "cell_type": "code",
   "outputs": [],
   "source": [
    "import numpy as np\n",
    "import torch\n",
    "from datasets import load_dataset\n",
    "from tqdm import tqdm\n",
    "from sklearn.feature_extraction.text import CountVectorizer\n",
    "from gensim.models import word2vec\n",
    "from gensim.utils import tokenize\n",
    "import gensim.downloader\n",
    "import matplotlib.pyplot as plt\n",
    "\n",
    "# - `%load_ext autoreload` 是一个魔术命令，用于加载或重新加载扩展。在这个例子中，它加载了`autoreload`扩展。这个扩展允许Jupyter自动检测模块代码的更改，并在不需要重启笔记本的情况下，自动重新加载这些模块。\n",
    "# \n",
    "# - `%autoreload 2` 是设置`autoreload`模式的命令，其中`2`表示一种特定的自动重新加载策略。具体来说，`2`表示在执行任何代码之前，自动重新加载所有标记的模块。这意味着只要你在笔记本中运行任何代码片段，它就会自动检查并重新加载自上次导入以来已经更改的所有模块。\n",
    "%load_ext autoreload \n",
    "%autoreload 2 "
   ],
   "metadata": {
    "collapsed": false,
    "ExecuteTime": {
     "end_time": "2024-04-04T10:04:54.845769Z",
     "start_time": "2024-04-04T10:04:49.732024Z"
    }
   },
   "id": "511176a5269ca08e",
   "execution_count": 2
  },
  {
   "cell_type": "markdown",
   "source": [
    "# 1. Load a Dataset\n",
    "\n",
    "\n",
    "首先，我们将加载 `tweets hate speech` 数据集。当使用`name=sentiment`时，我们将加载一个包含三个类别的数据集，其中 0表示负面言论，1表示中性言论，2表示正面言论。该数据集常用于情感分析任务。"
   ],
   "metadata": {
    "collapsed": false
   },
   "id": "b623ef44bdc2e1be"
  },
  {
   "cell_type": "code",
   "outputs": [
    {
     "name": "stdout",
     "output_type": "stream",
     "text": [
      "Training dataset with 45615 instances loaded\n",
      "Development/validation dataset with 2000 instances loaded\n",
      "Test dataset with 12284 instances loaded\n"
     ]
    }
   ],
   "source": [
    "cache_dir = \"./data_cache\"\n",
    "\n",
    "dataset = load_dataset(\n",
    "    \"tweet_eval\",\n",
    "    name=\"sentiment\",\n",
    "    cache_dir=cache_dir,\n",
    ")\n",
    "\n",
    "train_dataset = dataset[\"train\"]\n",
    "val_dataset = dataset[\"validation\"]\n",
    "test_dataset = dataset[\"test\"]\n",
    "\n",
    "print(f\"Training dataset with {len(train_dataset)} instances loaded\")\n",
    "print(f\"Development/validation dataset with {len(val_dataset)} instances loaded\")\n",
    "print(f\"Test dataset with {len(test_dataset)} instances loaded\")"
   ],
   "metadata": {
    "collapsed": false,
    "ExecuteTime": {
     "end_time": "2024-04-04T10:05:04.994045Z",
     "start_time": "2024-04-04T10:04:56.778208Z"
    }
   },
   "id": "f741a2615d49f7b2",
   "execution_count": 3
  },
  {
   "cell_type": "code",
   "outputs": [
    {
     "data": {
      "text/plain": "Dataset({\n    features: ['text', 'label'],\n    num_rows: 45615\n})"
     },
     "execution_count": 9,
     "metadata": {},
     "output_type": "execute_result"
    }
   ],
   "source": [
    "train_dataset"
   ],
   "metadata": {
    "collapsed": false,
    "ExecuteTime": {
     "end_time": "2024-04-03T13:57:27.285693Z",
     "start_time": "2024-04-03T13:57:27.229685Z"
    }
   },
   "id": "308a1451e18aee66",
   "execution_count": 9
  },
  {
   "cell_type": "markdown",
   "source": [
    "# 2. Preprocess the Data\n",
    "\n",
    "\n",
    "\n",
    "对于我们的数据集，我们将执行以下预处理步骤：\n",
    "\n",
    "- tok_text: 将文本分词为单词，会去掉标点符号和空格\n",
    "- encode_text: 将文本转换为token对应的ID（索引+1）。因为要将0用于填充，所以索引从1开始.需要先建立一个Dictionary，将单词映射到索引\n",
    "- pad_text: 当文档长度小于最大长度时，用0填充文档；当文档长度大于最大长度时，截断文档\n",
    "- convert_to_data_loader: 将数据集转换为DataLoader对象，以便使用小批量随机梯度下降进行学习\n",
    "\n",
    "在pytorch中，一般直接使用在定义神经网络类的层时，使用`nn.Embedding`来实现词向量转换。"
   ],
   "metadata": {
    "collapsed": false
   },
   "id": "aa2fac350bffd995"
  },
  {
   "cell_type": "markdown",
   "source": [
    "## 2.1 Tokenize the Text\n",
    "对于dataset对象，添加一个新的键值对，即tokens，其中包含文本的分词结果。"
   ],
   "metadata": {
    "collapsed": false
   },
   "id": "51e1ae6e5c80c08e"
  },
  {
   "cell_type": "code",
   "outputs": [
    {
     "data": {
      "text/plain": "Dataset({\n    features: ['text', 'label', 'tokens'],\n    num_rows: 45615\n})"
     },
     "execution_count": 4,
     "metadata": {},
     "output_type": "execute_result"
    }
   ],
   "source": [
    "from gensim.utils import tokenize\n",
    "\n",
    "# tokenize函数：将文本分词为单词，会去掉标点符号和空格\n",
    "def tok_text(sample):\n",
    "    sample[\"tokens\"] = list(tokenize(sample['text']))\n",
    "    return sample\n",
    "\n",
    "tok_train_dataset = train_dataset.map(tok_text)\n",
    "tok_val_dataset = val_dataset.map(tok_text)\n",
    "tok_test_dataset = test_dataset.map(tok_text)\n",
    "\n",
    "tok_train_dataset"
   ],
   "metadata": {
    "collapsed": false,
    "ExecuteTime": {
     "end_time": "2024-04-04T10:05:07.337500Z",
     "start_time": "2024-04-04T10:05:07.255994Z"
    }
   },
   "id": "c1f660df5398bb8b",
   "execution_count": 4
  },
  {
   "cell_type": "markdown",
   "source": [
    "## 2.2 Encode the Text\n",
    "对于dataset对象，添加一个新的键值对，即encoded，将分词的每个词使用建立好的Dictionary映射到整数索引。由于需要使用0来填充，所以索引从1开始。\n",
    "\n",
    "建立Dictionary一般只使用训练集，因为测试集和验证集可能包含未知的单词。通过这种方式，我们可以确保模型不会在训练集之外的单词上进行训练。当在测试集上进行预测时，我们可以使用`<UNK>`标记来表示未知的单词，提升模型的泛化能力。\n",
    "\n",
    "对于未知词（Out-Of-Vocabulary, OOV）以及相关错误处理是NLP项目中的重要部分。在这里，我们将使用`<UNK>`标记来表示未知词。确保\"<UNK>\"键有一个默认值，比如0或任意整数。这确保了如果<UNK>不在字典中，则会添加它，并赋予一个明确的整数值。这个值应该是独一无二的，不与字典中其他词汇的值冲突。常见的做法是将其设置为当前字典大小的下一个整数，即`len(dictionary.token2id)`。\n"
   ],
   "metadata": {
    "collapsed": false
   },
   "id": "e0baf4bb5a59ce9f"
  },
  {
   "cell_type": "code",
   "outputs": [
    {
     "name": "stdout",
     "output_type": "stream",
     "text": [
      "53730\n"
     ]
    }
   ],
   "source": [
    "from gensim.corpora import Dictionary\n",
    "\n",
    "# 构建Dictionary\n",
    "dictionary = Dictionary(tok_train_dataset[\"tokens\"]) # construct word<->id mappings - it does it in alphabetical order\n",
    "print(len(dictionary)) # 53730 个单词"
   ],
   "metadata": {
    "collapsed": false,
    "ExecuteTime": {
     "end_time": "2024-04-04T10:05:11.354548Z",
     "start_time": "2024-04-04T10:05:09.752674Z"
    }
   },
   "id": "99b8e7bc18330da",
   "execution_count": 5
  },
  {
   "cell_type": "code",
   "outputs": [
    {
     "data": {
      "text/plain": "Map:   0%|          | 0/45615 [00:00<?, ? examples/s]",
      "application/vnd.jupyter.widget-view+json": {
       "version_major": 2,
       "version_minor": 0,
       "model_id": "7ee14e0e50204b1ba6898c3e9ef9f11b"
      }
     },
     "metadata": {},
     "output_type": "display_data"
    },
    {
     "data": {
      "text/plain": "Map:   0%|          | 0/12284 [00:00<?, ? examples/s]",
      "application/vnd.jupyter.widget-view+json": {
       "version_major": 2,
       "version_minor": 0,
       "model_id": "c69a2866912b44bf8c1d1a658aa4fe7d"
      }
     },
     "metadata": {},
     "output_type": "display_data"
    },
    {
     "data": {
      "text/plain": "Map:   0%|          | 0/2000 [00:00<?, ? examples/s]",
      "application/vnd.jupyter.widget-view+json": {
       "version_major": 2,
       "version_minor": 0,
       "model_id": "3a63c2f9f3c24682b8577b06c1aea674"
      }
     },
     "metadata": {},
     "output_type": "display_data"
    },
    {
     "data": {
      "text/plain": "Dataset({\n    features: ['text', 'label', 'tokens', 'input_ids'],\n    num_rows: 45615\n})"
     },
     "execution_count": 6,
     "metadata": {},
     "output_type": "execute_result"
    }
   ],
   "source": [
    "# 如果\"<UNK>\"不在dictionary.token2id中，则添加它，并赋予一个独立的整数值\n",
    "if \"<UNK>\" not in dictionary.token2id:\n",
    "    dictionary.token2id[\"<UNK>\"] = len(dictionary.token2id) # some_integer_value可以是任意整数，比如最大的id+1\n",
    "\n",
    "def encode_text(sample):\n",
    "    sample['input_ids'] = [dictionary.token2id.get(token, dictionary.token2id.get(\"<UNK>\")) + 1 for token in sample['tokens']]\n",
    "    return sample\n",
    "# 在这个解决方案中，.get()方法尝试从dictionary.token2id获取token对应的id，如果失败，则返回<UNK>对应的id。\n",
    "\n",
    "pre_train_dataset = tok_train_dataset.map(encode_text)\n",
    "pre_test_dataset = tok_test_dataset.map(encode_text)\n",
    "pre_val_dataset = tok_val_dataset.map(encode_text)\n",
    "\n",
    "pre_train_dataset"
   ],
   "metadata": {
    "collapsed": false,
    "ExecuteTime": {
     "end_time": "2024-04-04T10:05:18.020951Z",
     "start_time": "2024-04-04T10:05:12.819557Z"
    }
   },
   "id": "5bdcf1e70f611622",
   "execution_count": 6
  },
  {
   "cell_type": "markdown",
   "source": [
    "## 2.3 Pad & Truncate \n",
    "由于神经网络要求输入的文档长度是固定的，我们需要对文档进行填充或截断。我们将选择合适的最大长度，并对小于该长度的文档进行0填充，对大于该长度的文档进行截断。\n",
    "\n",
    "填充（Padding）可以发生在文档的开头（称为前置填充或pre-padding）或结尾（称为后置填充或post-padding），这取决于特定的应用场景和模型架构的要求。下面是两种情况的考虑因素：\n",
    "\n",
    "#### 前置填充（Pre-padding）\n",
    "- **序列处理的方向**：如果模型（如某些类型的循环神经网络RNN）从序列的末尾开始处理信息，则在序列开头进行填充可能更有意义。这样，模型首先遇到的是有效数据而不是填充数据，可能有助于效果的提升。\n",
    "- **注意力机制**：在使用注意力机制的模型中，如果注意力可以更集中于序列的实际内容而非填充部分，则前置填充可能更优。\n",
    "  \n",
    "#### 后置填充（Post-padding）\n",
    "- **序列处理的方向**：对于从序列开始处处理信息的模型（如标准的RNN），在序列的结尾添加填充可能更自然，因为这样可以确保模型在处理每个序列时首先遇到的是真实的数据点。\n",
    "- **兼容性**：某些框架和库可能默认使用或优先支持后置填充，因此在没有特定需求的情况下遵循这些默认设置可以简化实现过程。\n",
    "\n",
    "\n",
    "首先查看每个文档的长度分布，以便选择合适的最大长度。可以通过直方图来查看文档长度的分布。\n",
    "下图可以看到，选择30作为最大长度是合适的。\n",
    "\n",
    "本次实验会使用前置填充。在对`pre_train_dataset`等使用map方法添加`pad_text`函数后，可以得到`pad_train_dataset`等数据集。这些数据集保证了每个文档的`input_ids`长度都是30。"
   ],
   "metadata": {
    "collapsed": false
   },
   "id": "5c4b5503b9dd950c"
  },
  {
   "cell_type": "code",
   "outputs": [
    {
     "data": {
      "text/plain": "<Figure size 640x480 with 1 Axes>",
      "image/png": "[encoded data removed]"
     },
     "metadata": {},
     "output_type": "display_data"
    }
   ],
   "source": [
    "len_list = [len(sample['input_ids']) for sample in pre_train_dataset]\n",
    "plt.hist(len_list, bins=30)\n",
    "plt.show()"
   ],
   "metadata": {
    "collapsed": false,
    "ExecuteTime": {
     "end_time": "2024-04-03T19:13:52.413132Z",
     "start_time": "2024-04-03T19:13:50.292098Z"
    }
   },
   "id": "16ab0a450d9059f6",
   "execution_count": 6
  },
  {
   "cell_type": "markdown",
   "source": [],
   "metadata": {
    "collapsed": false
   },
   "id": "29de23f664a6aa6f"
  },
  {
   "cell_type": "code",
   "outputs": [
    {
     "data": {
      "text/plain": "Map:   0%|          | 0/45615 [00:00<?, ? examples/s]",
      "application/vnd.jupyter.widget-view+json": {
       "version_major": 2,
       "version_minor": 0,
       "model_id": "a3dab72be8824cd49521d15a7c508d41"
      }
     },
     "metadata": {},
     "output_type": "display_data"
    },
    {
     "data": {
      "text/plain": "Map:   0%|          | 0/12284 [00:00<?, ? examples/s]",
      "application/vnd.jupyter.widget-view+json": {
       "version_major": 2,
       "version_minor": 0,
       "model_id": "3985101f73cf4728b96a1125f823296e"
      }
     },
     "metadata": {},
     "output_type": "display_data"
    },
    {
     "data": {
      "text/plain": "Map:   0%|          | 0/2000 [00:00<?, ? examples/s]",
      "application/vnd.jupyter.widget-view+json": {
       "version_major": 2,
       "version_minor": 0,
       "model_id": "8fe3f7eca04449d499e24844dadf61cb"
      }
     },
     "metadata": {},
     "output_type": "display_data"
    }
   ],
   "source": [
    "sequence_length = 30   # 选择30作为最大长度\n",
    "\n",
    "def pad_text(sample):\n",
    "\n",
    "    if len(sample['input_ids']) < sequence_length: # pre-pad\n",
    "        sample['input_ids'] = [0] * (sequence_length - len(sample['input_ids'])) + sample['input_ids']\n",
    "    elif len(sample['input_ids']) > sequence_length: # truncate\n",
    "        sample['input_ids'] = sample['input_ids'][:sequence_length]\n",
    "        \n",
    "    return sample\n",
    "\n",
    "pad_train_dataset = pre_train_dataset.map(pad_text)\n",
    "pad_test_dataset = pre_test_dataset.map(pad_text)\n",
    "pad_val_dataset = pre_val_dataset.map(pad_text)"
   ],
   "metadata": {
    "collapsed": false,
    "ExecuteTime": {
     "end_time": "2024-04-04T10:05:24.778666Z",
     "start_time": "2024-04-04T10:05:21.568264Z"
    }
   },
   "id": "19be03951943d43f",
   "execution_count": 7
  },
  {
   "cell_type": "markdown",
   "source": [
    "## 2.4 Convert to DataLoader\n",
    "将数据集转换为DataLoader对象，以便使用小批量随机梯度下降进行学习。在这里，我们将使用PyTorch的DataLoader类，它允许我们迭代数据集并返回小批量数据。我们将使用DataLoader对象来训练和评估我们的模型。"
   ],
   "metadata": {
    "collapsed": false
   },
   "id": "69b6324078d135a"
  },
  {
   "cell_type": "code",
   "outputs": [],
   "source": [
    "from torch.utils.data import DataLoader, TensorDataset\n",
    "\n",
    "batch_size = 64\n",
    "\n",
    "# convert from the Huggingface format to a TensorDataset so we can use the mini-batch sampling functionality\n",
    "def convert_to_data_loader(dataset, num_classes):\n",
    "    # convert from list to tensor\n",
    "    input_tensor = torch.from_numpy(np.array(dataset['input_ids'])) # 将input_ids转换为numpy数组，然后转换为tensor\n",
    "    label_tensor = torch.from_numpy(np.array(dataset['label'])).long() # 将label转换为numpy数组，然后转换为tensor\n",
    "    tensor_dataset = TensorDataset(input_tensor, label_tensor)\n",
    "    loader = DataLoader(tensor_dataset, batch_size=batch_size, shuffle=True)\n",
    "\n",
    "    return loader\n",
    "\n",
    "num_classes = len(np.unique(pad_train_dataset[\"label\"]))   # number of possible labels \n",
    "\n",
    "train_loader = convert_to_data_loader(pad_train_dataset, num_classes)\n",
    "val_loader = convert_to_data_loader(pad_val_dataset, num_classes)\n",
    "test_loader = convert_to_data_loader(pad_test_dataset, num_classes)"
   ],
   "metadata": {
    "collapsed": false,
    "ExecuteTime": {
     "end_time": "2024-04-04T10:05:27.735282Z",
     "start_time": "2024-04-04T10:05:26.780397Z"
    }
   },
   "id": "67872e8536198345",
   "execution_count": 8
  },
  {
   "cell_type": "markdown",
   "source": [
    "## 2.5 Pre-trained Word Embeddings\n",
    "可以直接将映射到整数的tokens输入到神经网络中，并使用embedding层将其转换为词嵌入。在这种情况下，模型将学习如何将整数索引映射到词嵌入，这些词嵌入将在训练过程中进行学习。但为了提高性能，我们可以使用预训练的词嵌入，如GloVe或Word2Vec。这些预训练的词嵌入通常是在大型语料库上训练的，可以提供更好的词嵌入表示。\n",
    "\n",
    "在构建嵌入矩阵时，有两个特殊的标识符 —— 一个是<unk>，用于表示词汇表中不存在的单词；另一个是<pad>，用于在必要时填充序列以使它们长度相等。这意味着你的嵌入矩阵需要考虑这两个特殊标识符，因此它的大小应该是 (vocab_size + 2, embedding_dim)。"
   ],
   "metadata": {
    "collapsed": false
   },
   "id": "8dab29e38436e053"
  },
  {
   "cell_type": "code",
   "outputs": [
    {
     "data": {
      "text/plain": "(53733, 50)"
     },
     "execution_count": 9,
     "metadata": {},
     "output_type": "execute_result"
    }
   ],
   "source": [
    "import gensim.downloader\n",
    "\n",
    "# 加载预训练词向量\n",
    "glove_vectors = gensim.downloader.load('glove-twitter-50')\n",
    "\n",
    "# 初始化嵌入矩阵\n",
    "vocab_size = len(dictionary)  # 原始词汇表大小，不包含特殊标识符 [53731]\n",
    "embedding_matrix = np.zeros((vocab_size + 2, glove_vectors.vector_size)) # +2 for the <UNK> token and the <PAD> token\n",
    "\n",
    "# 填充嵌入矩阵\n",
    "for token, idx in dictionary.token2id.items():\n",
    "    if token in glove_vectors: # 如果单词在预训练词向量中，则使用预训练词向量\n",
    "        embedding_matrix[idx] = glove_vectors[token]\n",
    "    else: # 如果单词不在预训练词向量中，则使用随机初始化的向量\n",
    "        embedding_matrix[idx] = np.random.normal(size=(glove_vectors.vector_size)) \n",
    "\n",
    "embedding_matrix.shape # [53733, 25]"
   ],
   "metadata": {
    "collapsed": false,
    "ExecuteTime": {
     "end_time": "2024-04-04T10:06:03.903470Z",
     "start_time": "2024-04-04T10:05:32.985688Z"
    }
   },
   "id": "fa31641cbf9931ed",
   "execution_count": 9
  },
  {
   "cell_type": "markdown",
   "source": [
    "# 3. Define a Neural Network Model\n",
    "在这里，我们将定义一个简单的神经网络模型，用于对文本进行情感分类。由于这是一个序列分类任务，我们将使用一个LSTM模型，它可以处理序列数据并捕获序列中的长距离依赖关系。我们还将使用一个嵌入层，将整数索引转换为词嵌入。最后，我们将使用一个全连接层将LSTM的输出转换为类别概率。"
   ],
   "metadata": {
    "collapsed": false
   },
   "id": "26029efe9ee7979b"
  },
  {
   "cell_type": "markdown",
   "source": [
    "```python\n",
    "# 假设我们有一个大小为 10000 的词汇表，希望将每个单词映射到一个 300 维的向量空间。\n",
    "nn.Embedding(num_embeddings=10000, embedding_dim=300)\n",
    "\n",
    "# 假设我们已经初始化并填充了一个嵌入矩阵: embedding_matrix\n",
    "nn.Embedding.from_pretrained(torch.FloatTensor(embedding_matrix), freeze=False)\n",
    "```\n",
    "\n",
    "### 参数解释\n",
    "\n",
    "- `vocab_size + 2` 表明你的词汇表大小外加两个特殊标记（如`<unk>`和`<pad>`）。\n",
    "- `embedding_dim=25` 指的是每个词向量的维度。\n",
    "- `padding_idx=0` 意味着索引为0的向量（通常对应于`<pad>`标记）将被用作填充，且其向量在嵌入矩阵中被初始化为0向量。在模型训练过程中，这个向量不会被更新。\n",
    "\n",
    "使用`padding_idx`是处理变长输入序列时的一种常见和有效的方法。通过这种方式，模型能够忽略填充的部分，只关注输入序列中的有效内容。"
   ],
   "metadata": {
    "collapsed": false
   },
   "id": "22168cc8b65d3eae"
  },
  {
   "cell_type": "code",
   "outputs": [],
   "source": [
    "from torch import nn\n",
    "\n",
    "class LSTMModel(nn.Module):\n",
    "    def __init__(self, embedding_matrix, hidden_size, num_layers, num_classes):\n",
    "        super(LSTMModel, self).__init__()\n",
    "        self.hidden_size = hidden_size\n",
    "        self.num_layers = num_layers\n",
    "        self.lstm = nn.LSTM(embedding_matrix.shape[1], hidden_size, num_layers, \n",
    "                            batch_first=True, bidirectional=True) # 双向LSTM,这会使输出维度翻倍\n",
    "        self.fc = nn.Linear(hidden_size * 2, num_classes)  # 维度是两倍的hidden_size\n",
    "        self.embedding = nn.Embedding.from_pretrained(torch.FloatTensor(embedding_matrix), freeze=False)\n",
    "        self.activation = nn.ReLU()\n",
    "\n",
    "    def forward(self, x):\n",
    "        # (batch_size, seq_length) -> (batch_size, seq_length, embedding_dim)\n",
    "        embedded = self.embedding(x)\n",
    "        # (batch_size, seq_length, embedding_dim) -> output: (batch_size, seq_length, hidden_size*2)\n",
    "        output, _ = self.lstm(embedded)\n",
    "        \n",
    "        # 合并正向和反向LSTM的最后时间步输出，此步骤不改变数据形状，但需要从LSTM输出中提取正向和反向的最后时间步输出。\n",
    "        # 正向最后时间步的输出\n",
    "        forward_output = output[:, -1, :self.hidden_size]\n",
    "        # 反向最后时间步的输出\n",
    "        backward_output = output[:, 0, self.hidden_size:]\n",
    "        # 将两个方向的输出拼接起来 output： (batch_size, 2 * hidden_size)\n",
    "        output = torch.cat((forward_output, backward_output), dim=1)\n",
    "        \n",
    "        # 通过激活层 不改变数据形状\n",
    "        output = self.activation(output)\n",
    "        # 通过全连接层\n",
    "        # (batch_size, 2 * hidden_size) -> (batch_size, num_classes)\n",
    "        output = self.fc(output)\n",
    "        return output"
   ],
   "metadata": {
    "collapsed": false,
    "ExecuteTime": {
     "end_time": "2024-04-04T10:06:06.740540Z",
     "start_time": "2024-04-04T10:06:06.679533Z"
    }
   },
   "id": "fcbd84a55de36efc",
   "execution_count": 10
  },
  {
   "cell_type": "code",
   "outputs": [
    {
     "name": "stdout",
     "output_type": "stream",
     "text": [
      "LSTMModel(\n",
      "  (lstm): LSTM(50, 32, num_layers=2, batch_first=True, bidirectional=True)\n",
      "  (fc): Linear(in_features=64, out_features=3, bias=True)\n",
      "  (embedding): Embedding(53733, 50)\n",
      "  (activation): ReLU()\n",
      ")\n"
     ]
    }
   ],
   "source": [
    "# 定义模型参数\n",
    "hidden_size = 32\n",
    "num_layers = 2\n",
    "num_classes = len(np.unique(pad_train_dataset[\"label\"]))  # 3\n",
    "\n",
    "# 初始化模型\n",
    "device = torch.device('cuda')\n",
    "model = LSTMModel(embedding_matrix, hidden_size, num_layers, num_classes).to(device)\n",
    "\n",
    "# 定义损失函数和优化器\n",
    "criterion = nn.CrossEntropyLoss()\n",
    "optimizer = torch.optim.Adam(model.parameters(), lr=0.001)\n",
    "\n",
    "print(model)"
   ],
   "metadata": {
    "collapsed": false,
    "ExecuteTime": {
     "end_time": "2024-04-04T10:06:15.267849Z",
     "start_time": "2024-04-04T10:06:08.551365Z"
    }
   },
   "id": "eb049ff007ab6f73",
   "execution_count": 11
  },
  {
   "cell_type": "markdown",
   "source": [
    "#### 关于损失的记录\n",
    "使用样本数计算平均损失：`average_loss = epoch_loss / len(train_loader.dataset)`。这是因为在训练过程中，我们通常使用小批量随机梯度下降，而不是整个数据集。因此，我们需要将损失值除以数据集中的样本数，以获得平均损失。同时，对于验证集和\n",
    "当你选择以每个样本为基础来计算平均损失时，你是在计算整个数据集中每个样本的平均损失值。这是通过将总损失（分子）除以数据集中的样本总数（分母）来实现的。这种方法能够提供每个样本平均上的损失，对于评估模型在处理单个数据点方面的效能非常有用。\n",
    "\n",
    "分子：整个epoch中所有批次损失的累加和。\n",
    "分母：len(loader.dataset)，即数据集中的总样本数。"
   ],
   "metadata": {
    "collapsed": false
   },
   "id": "a913eea63708e25d"
  },
  {
   "cell_type": "code",
   "outputs": [],
   "source": [
    "# 定义训练函数\n",
    "def train(model, train_loader, val_loader, epoch,train_accuracies,val_accuracies):\n",
    "    model.train()\n",
    "    total_train_loss = 0\n",
    "    correct = 0\n",
    "    total = 0\n",
    "\n",
    "    for batch_idx, (data, target) in enumerate(train_loader):\n",
    "        data, target = data.to(device), target.to(device)\n",
    "        optimizer.zero_grad()\n",
    "        output = model(data)\n",
    "        loss = criterion(output, target)\n",
    "        loss.backward()\n",
    "        optimizer.step()\n",
    "        \n",
    "        total_train_loss += loss.item()\n",
    "        pred = output.argmax(1) # argmax(1)表示取每行中最大值的索引,即dim=1\n",
    "        correct += pred.eq(target).sum().item()\n",
    "        total += target.nelement() # nelement()返回张量中元素的个数\n",
    "\n",
    "        if batch_idx % 100 == 0:\n",
    "            print(\n",
    "                f\"Train Epoch: {epoch} [{batch_idx * len(data)}/{len(train_loader.dataset)} ({100. * batch_idx / len(train_loader):.0f}%)]\\tLoss: {loss.item():.6f}\")\n",
    "            \n",
    "    # all_train_losses.append(np.mean(train_losses))\n",
    "    avg_train_loss = total_train_loss / len(train_loader)\n",
    "    train_accuracy = 100. * correct / total\n",
    "    train_accuracies.append(train_accuracy)\n",
    "    print(\"\\nTrain Loss: {:.4f}\".format(avg_train_loss))\n",
    "    print(\"Train Accuracy: {:.2f}%\".format(train_accuracy))\n",
    "    \n",
    "    # 在验证集上评估模型\n",
    "    model.eval()\n",
    "    \n",
    "    total_val_loss = 0\n",
    "    correct = 0\n",
    "    total = 0\n",
    "    \n",
    "    with torch.no_grad():\n",
    "        for data, target in val_loader:\n",
    "            data, target = data.to(device), target.to(device)\n",
    "            output = model(data)\n",
    "            # val_losses.append(criterion(output, target).item())\n",
    "            loss = criterion(output, target)\n",
    "            total_val_loss += loss.item()\n",
    "            pred = output.argmax(dim=1, keepdim=True) # keepdimm=True表示保持输出张量的维度\n",
    "            correct += pred.eq(target.view_as(pred)).sum().item()\n",
    "            total += target.nelement()\n",
    "            \n",
    "            \n",
    "    # all_val_losses.append(np.mean(val_losses))\n",
    "    avg_val_loss = total_val_loss / len(val_loader)\n",
    "    val_accuracy = 100. * correct / total\n",
    "    val_accuracies.append(val_accuracy)\n",
    "    \n",
    "    print(\"Validation Loss: {:.4f}\".format(avg_val_loss)),\n",
    "    print(\"Validation Accuracy: {:.2f}%\\n\".format(val_accuracy))\n",
    "    \n",
    "    return avg_train_loss, avg_val_loss,train_accuracies,val_accuracies\n",
    "\n",
    "# 定义评估函数\n",
    "def evaluate(model, test_loader):\n",
    "    model.eval()\n",
    "    test_loss = 0\n",
    "    correct = 0\n",
    "    with torch.no_grad():\n",
    "        for data, target in test_loader:\n",
    "            data, target = data.to(device), target.to(device)\n",
    "            output = model(data)\n",
    "            test_loss += criterion(output, target).item()\n",
    "            pred = output.argmax(dim=1, keepdim=True)\n",
    "            correct += pred.eq(target.view_as(pred)).sum().item()\n",
    "\n",
    "    test_loss /= len(test_loader)\n",
    "    test_accuracy = 100. * correct / len(test_loader.dataset)\n",
    "    print(f\"\\nTest set: Average loss: {test_loss:.4f}, Accuracy: {correct}/{len(test_loader.dataset)} ({test_accuracy:.0f}%)\\n\")\n",
    "    \n",
    "    return test_loss, test_accuracy"
   ],
   "metadata": {
    "collapsed": false,
    "ExecuteTime": {
     "end_time": "2024-04-05T12:10:20.684273Z",
     "start_time": "2024-04-05T12:10:20.584767Z"
    }
   },
   "id": "291b9e5c3de495c2",
   "execution_count": 54
  },
  {
   "cell_type": "code",
   "outputs": [
    {
     "name": "stdout",
     "output_type": "stream",
     "text": [
      "Train Epoch: 1 [0/45615 (0%)]\tLoss: 0.000004\n",
      "Train Epoch: 1 [6400/45615 (14%)]\tLoss: 0.000002\n",
      "Train Epoch: 1 [12800/45615 (28%)]\tLoss: 0.000004\n",
      "Train Epoch: 1 [19200/45615 (42%)]\tLoss: 0.000123\n",
      "Train Epoch: 1 [25600/45615 (56%)]\tLoss: 0.000003\n",
      "Train Epoch: 1 [32000/45615 (70%)]\tLoss: 0.000006\n",
      "Train Epoch: 1 [38400/45615 (84%)]\tLoss: 0.000005\n",
      "Train Epoch: 1 [44800/45615 (98%)]\tLoss: 0.000002\n",
      "\n",
      "Train Loss: 0.0008\n",
      "Train Accuracy: 99.93%\n",
      "Validation Loss: 3.9903\n",
      "Validation Accuracy: 59.00%\n",
      "\n",
      "Train Epoch: 2 [0/45615 (0%)]\tLoss: 0.000002\n",
      "Train Epoch: 2 [6400/45615 (14%)]\tLoss: 0.000002\n",
      "Train Epoch: 2 [12800/45615 (28%)]\tLoss: 0.012812\n",
      "Train Epoch: 2 [19200/45615 (42%)]\tLoss: 0.000002\n",
      "Train Epoch: 2 [25600/45615 (56%)]\tLoss: 0.000003\n",
      "Train Epoch: 2 [32000/45615 (70%)]\tLoss: 0.000002\n",
      "Train Epoch: 2 [38400/45615 (84%)]\tLoss: 0.000001\n",
      "Train Epoch: 2 [44800/45615 (98%)]\tLoss: 0.000004\n",
      "\n",
      "Train Loss: 0.0008\n",
      "Train Accuracy: 99.94%\n",
      "Validation Loss: 3.9718\n",
      "Validation Accuracy: 59.00%\n",
      "\n",
      "Train Epoch: 3 [0/45615 (0%)]\tLoss: 0.000002\n",
      "Train Epoch: 3 [6400/45615 (14%)]\tLoss: 0.000002\n",
      "Train Epoch: 3 [12800/45615 (28%)]\tLoss: 0.000006\n",
      "Train Epoch: 3 [19200/45615 (42%)]\tLoss: 0.000003\n",
      "Train Epoch: 3 [25600/45615 (56%)]\tLoss: 0.000001\n",
      "Train Epoch: 3 [32000/45615 (70%)]\tLoss: 0.000003\n",
      "Train Epoch: 3 [38400/45615 (84%)]\tLoss: 0.000003\n",
      "Train Epoch: 3 [44800/45615 (98%)]\tLoss: 0.000006\n",
      "\n",
      "Train Loss: 0.0008\n",
      "Train Accuracy: 99.93%\n",
      "Validation Loss: 4.0301\n",
      "Validation Accuracy: 59.10%\n",
      "\n",
      "Train Epoch: 4 [0/45615 (0%)]\tLoss: 0.000002\n",
      "Train Epoch: 4 [6400/45615 (14%)]\tLoss: 0.000003\n",
      "Train Epoch: 4 [12800/45615 (28%)]\tLoss: 0.000004\n",
      "Train Epoch: 4 [19200/45615 (42%)]\tLoss: 0.000003\n",
      "Train Epoch: 4 [25600/45615 (56%)]\tLoss: 0.011390\n",
      "Train Epoch: 4 [32000/45615 (70%)]\tLoss: 0.000004\n",
      "Train Epoch: 4 [38400/45615 (84%)]\tLoss: 0.000001\n",
      "Train Epoch: 4 [44800/45615 (98%)]\tLoss: 0.000005\n",
      "\n",
      "Train Loss: 0.0008\n",
      "Train Accuracy: 99.94%\n",
      "Validation Loss: 4.1492\n",
      "Validation Accuracy: 59.00%\n",
      "\n",
      "Train Epoch: 5 [0/45615 (0%)]\tLoss: 0.000001\n",
      "Train Epoch: 5 [6400/45615 (14%)]\tLoss: 0.000005\n",
      "Train Epoch: 5 [12800/45615 (28%)]\tLoss: 0.000003\n",
      "Train Epoch: 5 [19200/45615 (42%)]\tLoss: 0.000001\n",
      "Train Epoch: 5 [25600/45615 (56%)]\tLoss: 0.000003\n",
      "Train Epoch: 5 [32000/45615 (70%)]\tLoss: 0.000006\n",
      "Train Epoch: 5 [38400/45615 (84%)]\tLoss: 0.000140\n",
      "Train Epoch: 5 [44800/45615 (98%)]\tLoss: 0.000002\n",
      "\n",
      "Train Loss: 0.0008\n",
      "Train Accuracy: 99.92%\n",
      "Validation Loss: 4.1001\n",
      "Validation Accuracy: 58.90%\n",
      "\n",
      "Train Epoch: 6 [0/45615 (0%)]\tLoss: 0.000001\n",
      "Train Epoch: 6 [6400/45615 (14%)]\tLoss: 0.000001\n",
      "Train Epoch: 6 [12800/45615 (28%)]\tLoss: 0.000002\n",
      "Train Epoch: 6 [19200/45615 (42%)]\tLoss: 0.000003\n",
      "Train Epoch: 6 [25600/45615 (56%)]\tLoss: 0.000002\n",
      "Train Epoch: 6 [32000/45615 (70%)]\tLoss: 0.000001\n",
      "Train Epoch: 6 [38400/45615 (84%)]\tLoss: 0.000011\n",
      "Train Epoch: 6 [44800/45615 (98%)]\tLoss: 0.000001\n",
      "\n",
      "Train Loss: 0.0008\n",
      "Train Accuracy: 99.93%\n",
      "Validation Loss: 4.1851\n",
      "Validation Accuracy: 58.70%\n",
      "\n",
      "Train Epoch: 7 [0/45615 (0%)]\tLoss: 0.000001\n",
      "Train Epoch: 7 [6400/45615 (14%)]\tLoss: 0.000000\n",
      "Train Epoch: 7 [12800/45615 (28%)]\tLoss: 0.000002\n",
      "Train Epoch: 7 [19200/45615 (42%)]\tLoss: 0.000011\n",
      "Train Epoch: 7 [25600/45615 (56%)]\tLoss: 0.000001\n",
      "Train Epoch: 7 [32000/45615 (70%)]\tLoss: 0.000004\n",
      "Train Epoch: 7 [38400/45615 (84%)]\tLoss: 0.000000\n",
      "Train Epoch: 7 [44800/45615 (98%)]\tLoss: 0.000000\n",
      "\n",
      "Train Loss: 0.0008\n",
      "Train Accuracy: 99.94%\n",
      "Validation Loss: 4.2521\n",
      "Validation Accuracy: 59.10%\n",
      "\n",
      "Train Epoch: 8 [0/45615 (0%)]\tLoss: 0.000003\n",
      "Train Epoch: 8 [6400/45615 (14%)]\tLoss: 0.000001\n",
      "Train Epoch: 8 [12800/45615 (28%)]\tLoss: 0.000001\n",
      "Train Epoch: 8 [19200/45615 (42%)]\tLoss: 0.000001\n",
      "Train Epoch: 8 [25600/45615 (56%)]\tLoss: 0.000000\n",
      "Train Epoch: 8 [32000/45615 (70%)]\tLoss: 0.000001\n",
      "Train Epoch: 8 [38400/45615 (84%)]\tLoss: 0.000001\n",
      "Train Epoch: 8 [44800/45615 (98%)]\tLoss: 0.000000\n",
      "\n",
      "Train Loss: 0.0008\n",
      "Train Accuracy: 99.94%\n",
      "Validation Loss: 4.2900\n",
      "Validation Accuracy: 59.10%\n",
      "\n",
      "Train Epoch: 9 [0/45615 (0%)]\tLoss: 0.000003\n",
      "Train Epoch: 9 [6400/45615 (14%)]\tLoss: 0.000002\n",
      "Train Epoch: 9 [12800/45615 (28%)]\tLoss: 0.000002\n",
      "Train Epoch: 9 [19200/45615 (42%)]\tLoss: 0.013271\n",
      "Train Epoch: 9 [25600/45615 (56%)]\tLoss: 0.000000\n",
      "Train Epoch: 9 [32000/45615 (70%)]\tLoss: 0.000001\n",
      "Train Epoch: 9 [38400/45615 (84%)]\tLoss: 0.000002\n",
      "Train Epoch: 9 [44800/45615 (98%)]\tLoss: 0.000100\n",
      "\n",
      "Train Loss: 0.0008\n",
      "Train Accuracy: 99.93%\n",
      "Validation Loss: 4.4155\n",
      "Validation Accuracy: 59.10%\n",
      "\n",
      "Train Epoch: 10 [0/45615 (0%)]\tLoss: 0.000004\n",
      "Train Epoch: 10 [6400/45615 (14%)]\tLoss: 0.000000\n",
      "Train Epoch: 10 [12800/45615 (28%)]\tLoss: 0.000001\n",
      "Train Epoch: 10 [19200/45615 (42%)]\tLoss: 0.000001\n",
      "Train Epoch: 10 [25600/45615 (56%)]\tLoss: 0.000001\n",
      "Train Epoch: 10 [32000/45615 (70%)]\tLoss: 0.012876\n",
      "Train Epoch: 10 [38400/45615 (84%)]\tLoss: 0.000001\n",
      "Train Epoch: 10 [44800/45615 (98%)]\tLoss: 0.000001\n",
      "\n",
      "Train Loss: 0.0008\n",
      "Train Accuracy: 99.94%\n",
      "Validation Loss: 4.3974\n",
      "Validation Accuracy: 58.90%\n",
      "\n",
      "Test set: Average loss: 5.7658, Accuracy: 6510/12284 (53%)\n"
     ]
    }
   ],
   "source": [
    "# 训练模型\n",
    "num_epochs = 10\n",
    "\n",
    "train_losses_epoch, val_losses_epoch ,train_accuracies,val_accuracies= [], [],[],[]\n",
    "for epoch in range(1, num_epochs + 1):\n",
    "    avg_train_loss, avg_val_loss,train_accuracies,val_accuracies = train(model, train_loader, val_loader, epoch,train_accuracies,val_accuracies)\n",
    "    train_losses_epoch.append(avg_train_loss)\n",
    "    val_losses_epoch.append(avg_val_loss)\n",
    "    \n",
    "# 评估模型\n",
    "test_loss, test_accuracy = evaluate(model, test_loader)"
   ],
   "metadata": {
    "collapsed": false,
    "ExecuteTime": {
     "end_time": "2024-04-05T12:10:51.327165Z",
     "start_time": "2024-04-05T12:10:22.953550Z"
    }
   },
   "id": "bf929fa016d5010a",
   "execution_count": 55
  },
  {
   "cell_type": "code",
   "outputs": [
    {
     "data": {
      "text/plain": "<Figure size 640x480 with 1 Axes>",
      "image/png": "[encoded data removed]"
     },
     "metadata": {},
     "output_type": "display_data"
    }
   ],
   "source": [
    "# 绘制训练和验证损失曲线\n",
    "plt.plot(train_losses_epoch, label='Training loss')\n",
    "plt.plot(val_losses_epoch, label='Validation loss')\n",
    "plt.legend(frameon=False)\n",
    "plt.xlabel('Epoch')\n",
    "plt.ylabel('Loss')\n",
    "plt.show()"
   ],
   "metadata": {
    "collapsed": false,
    "ExecuteTime": {
     "end_time": "2024-04-05T12:10:54.570573Z",
     "start_time": "2024-04-05T12:10:54.431550Z"
    }
   },
   "id": "5bd4106655df5e47",
   "execution_count": 56
  },
  {
   "cell_type": "markdown",
   "source": [
    "当你使用`len(loader)`和`len(loader.dataset)`时，你实际上在获取两个不同的长度值：\n",
    "\n",
    "- `len(loader)`给出的是批次（batches）的总数，即整个数据集被分割成多少个批次进行迭代。\n",
    "- `len(loader.dataset)`给出的是数据集中样本的总数。\n",
    "\n",
    "在计算平均损失时，我们通常先计算每个批次的损失，然后将这些损失加起来，最后除以批次的总数（`len(loader)`），从而得到每个epoch的平均损失。这样做的原因有几个：\n",
    "\n",
    "1. **一致性**：不同批次可能包含不同数量的样本，尤其是最后一个批次，可能因为数据集大小不是批大小的整数倍而包含更少的样本。通过将总损失除以批次的数量而不是样本总数，可以避免因批次大小不一致而导致的计算偏差。\n",
    "\n",
    "2. **简便性**：在大多数情况下，我们关心的是模型在整个数据集上的平均表现，而不是单个样本的性能。计算每个批次的平均损失，然后再取这些平均值的平均，提供了一个直观的性能指标，便于理解和比较。\n",
    "\n",
    "3. **效率**：这种方法简化了损失计算，因为大多数深度学习框架都会自动计算批次内的平均或总损失，我们只需要对这些值进行进一步的平均化处理即可。\n",
    "\n",
    "综上所述，通过除以`len(loader)`（批次的总数），我们得到的是每个epoch的平均批次损失，这是一个标准的做法，用于监控和优化模型训练过程。"
   ],
   "metadata": {
    "collapsed": false
   },
   "id": "534ebdb9f66b8e2c"
  }
 ],
 "metadata": {
  "kernelspec": {
   "display_name": "Python 3",
   "language": "python",
   "name": "python3"
  },
  "language_info": {
   "codemirror_mode": {
    "name": "ipython",
    "version": 2
   },
   "file_extension": ".py",
   "mimetype": "text/x-python",
   "name": "python",
   "nbconvert_exporter": "python",
   "pygments_lexer": "ipython2",
   "version": "2.7.6"
  }
 },
 "nbformat": 4,
 "nbformat_minor": 5
}
