{
 "cells": [
  {
   "cell_type": "markdown",
   "source": [
    "# Search Algorithms\n",
    "\n",
    "#### INCLUDES:\n",
    "1. [回溯搜索（Backtracking Search）](#1.-回溯搜索（Backtracking-Search）)\n",
    "2. [深度优先搜索（DFS）](#2.-深度优先搜索（DFS）)\n",
    "3. [带有迭代加深的深度优先搜索（DFS with Iterative Deepening）](#带有迭代加深的深度优先搜索（DFS-with-Iterative-Deepening）)\n",
    "4. [广度优先搜索（BFS）](#3.-广度优先搜索（BFS）)\n",
    "5. [一致代价搜索（Uniform Cost Search）](#4.-一致代价搜索（Uniform-Cost-Search）)\n",
    "6. [启发式搜索（Informed Search）](#5.-启发式搜索（Informed-Search）)\n",
    "7. [贪心搜索（Greedy Search）](#贪心搜索（Greedy-Search）)\n",
    "8. [Relaxation](#Relaxation)\n",
    "\n",
    "搜索算法是一种用于搜索问题解决方案的算法。搜索问题是指在给定的问题域中找到一个解决方案。搜索问题的例子包括寻找图中的最短路径，寻找图中的最小生成树，寻找图中的最大流等。搜索算法的例子包括深度优先搜索，广度优先搜索，A*搜索等。\n",
    "\n",
    "### Complexity\n",
    "在描述搜索算法的复杂性时，常常会用到三个主要的量：分支因子（b）、最浅目标节点的深度（d）以及状态空间中任何路径的最大长度（D）。这些量帮助我们理解算法的效率，特别是在时间和空间需求方面。\n",
    "\n",
    "### 分支因子 (b)\n",
    "\n",
    "分支因子是指在状态空间树中，任何节点的最大后继节点数。简而言之，它表示从任一给定状态出发，你有多少种选择来进行下一步。在一个图形游戏中，比如象棋，分支因子可能是指你每次可以走的步数。分支因子越大，状态空间树就越宽，这意味着每一层都有更多的节点需要探索。\n",
    "\n",
    "### 最浅目标节点的深度 (d)\n",
    "\n",
    "最浅目标节点的深度是指从根节点（初始状态）到最近的目标状态的最短路径上的步数或边数。这个度量告诉我们在最佳情况下，算法至少需要多少步才能找到解决方案。深度d对于理解算法在找到第一个解决方案方面的效率至关重要，尤其是在使用如深度优先搜索或广度优先搜索这类算法时。\n",
    "\n",
    "### 状态空间中任何路径的最大长度 (D)\n",
    "\n",
    "最大路径长度D是指在状态空间树中可能的最长路径的长度，从根节点到最远的叶节点。这个度量反映了搜索空间的最大潜在深度，即算法可能需要探索的最大步数。在最坏的情况下，一个搜索算法可能需要遍历整个状态空间以找到目标状态，这意味着它的时间或空间复杂度至少与D成正比。\n",
    "\n",
    "### 复杂性的影响\n",
    "\n",
    "- **时间复杂性**：搜索算法的时间复杂性通常与生成和检查状态空间中的节点数量有关。在最坏的情况下，可能需要探索状态空间中的每个节点，其数量与分支因子的深度次幂成正比（即\\(O(b^D)\\)）。在最佳情况下，算法可能在深度d时就找到目标，此时的时间复杂性为\\(O(b^d)\\)。\n",
    "\n",
    "- **空间复杂性**：空间复杂性与算法必须存储的节点数量有关。对于需要存储所有扩展节点的算法（如广度优先搜索），空间复杂性也与\\(O(b^D)\\)成正比。对于那些只需要存储沿路径节点的算法（如深度优先搜索），空间复杂性与最大深度D成正比（即\\(O(D)\\)）。\n",
    "\n",
    "这些参数有助于在理论上分析和比较不同搜索算法的性能，尽管在实际应用中，算法的效率还会受到许多其他因素的影响，如启发式函数的选择、算法的实现细节以及问题特定的约束条件。"
   ],
   "metadata": {
    "collapsed": false
   },
   "id": "e7b0af128949bb0e"
  },
  {
   "cell_type": "markdown",
   "source": [
    "根据搜索空间的特性，搜索算法可以分为两类：树搜索（Tree Search）和图搜索（Graph Search）。\n",
    "大多数基本搜索策略都可以采用这两种形式之一。关键的区别在于算法是否记录已经访问过的状态，以避免重复探索。以下是一些常见搜索策略的树搜索和图搜索的应用：\n",
    "\n",
    "### 树搜索（Tree Search）\n",
    "\n",
    "树搜索算法在搜索过程中将状态空间视为一棵树，每个节点代表一个可能的状态。树的根节点代表初始状态，每个子节点代表从当前状态通过某个操作达到的后继状态。树搜索算法不直接记录每个状态是否已被访问，因此同一个状态可能在树的不同位置被重复创建和探索。\n",
    "\n",
    "**特点**：\n",
    "- 树搜索在搜索过程中不检查一个状态是否被重复访问。\n",
    "- 可能会重复探索相同的状态，导致效率降低。\n",
    "- 适用于状态空间较小或不存在太多重复状态的问题。\n",
    "\n",
    "### 图搜索（Graph Search）\n",
    "\n",
    "图搜索算法在搜索过程中将状态空间视为图，图中的节点同样代表可能的状态，但每个状态在搜索过程中只被创建一次。如果算法遇到一个已经探索过的状态，它将重用之前创建的节点而不是创建一个新的，从而避免了重复探索相同的状态。\n",
    "\n",
    "**特点**：\n",
    "- 图搜索通过维护一个已访问状态的集合来避免重复访问同一状态。\n",
    "- 更加高效，特别是在有大量重复状态或环的大型状态空间中。\n",
    "- 需要额外的内存来存储已访问状态的信息。\n",
    "\n",
    "### 树搜索与图搜索的选择\n",
    "\n",
    "选择树搜索还是图搜索通常取决于特定问题的状态空间特性及其大小。对于不存在或很少有重复状态的问题，树搜索可能是一个简单且有效的解决方案。然而，对于那些具有大量重复状态或环的问题，图搜索更为合适，因为它可以显著减少不必要的计算，提高搜索效率。\n",
    "\n",
    "在实现上，图搜索算法相较于树搜索算法而言，需要更多的内存来存储已经访问过的状态集合，但这通常是值得的，因为它减少了重复工作，特别是在复杂或大型问题中。"
   ],
   "metadata": {
    "collapsed": false
   },
   "id": "9c2dbaf3c9ba24cb"
  },
  {
   "cell_type": "markdown",
   "source": [
    "## 1. 回溯搜索（Backtracking Search）\n",
    "\n",
    "回溯搜索是一种通过试错来寻找解决方案的算法，它会在每一步尝试所有可能的选项，并在发现当前选择不会导致解决方案时，取消上一步或几步的计算，然后通过其他可能的选项继续尝试。回溯法通常用于解决约束满足问题，如数独、八皇后问题等。\n",
    "\n",
    "#### 复杂度\n",
    "- 时间复杂度：O(b^D)，其中b是分支因子，D是最大路径长度。\n",
    "- 空间复杂度：O(D)。\n",
    "\n",
    "#### Python 示例：八皇后问题"
   ],
   "metadata": {
    "collapsed": false
   },
   "id": "28a3b697d3a6b85d"
  },
  {
   "cell_type": "code",
   "outputs": [
    {
     "name": "stdout",
     "output_type": "stream",
     "text": [
      "[1, 0, 0, 0, 0, 0, 0, 0]\n",
      "[0, 0, 0, 0, 0, 0, 1, 0]\n",
      "[0, 0, 0, 0, 1, 0, 0, 0]\n",
      "[0, 0, 0, 0, 0, 0, 0, 1]\n",
      "[0, 1, 0, 0, 0, 0, 0, 0]\n",
      "[0, 0, 0, 1, 0, 0, 0, 0]\n",
      "[0, 0, 0, 0, 0, 1, 0, 0]\n",
      "[0, 0, 1, 0, 0, 0, 0, 0]\n"
     ]
    }
   ],
   "source": [
    "def is_safe(board, row, col):\n",
    "    for i in range(col):\n",
    "        if board[row][i] == 1:\n",
    "            return False\n",
    "\n",
    "    for i, j in zip(range(row, -1, -1), range(col, -1, -1)):\n",
    "        if board[i][j] == 1:\n",
    "            return False\n",
    "\n",
    "    for i, j in zip(range(row, len(board), 1), range(col, -1, -1)):\n",
    "        if board[i][j] == 1:\n",
    "            return False\n",
    "\n",
    "    return True\n",
    "\n",
    "def solve_n_queens(board, col):\n",
    "    if col >= len(board):\n",
    "        return True\n",
    "\n",
    "    for i in range(len(board)):\n",
    "        if is_safe(board, i, col):\n",
    "            board[i][col] = 1\n",
    "\n",
    "            if solve_n_queens(board, col + 1):\n",
    "                return True\n",
    "\n",
    "            board[i][col] = 0\n",
    "\n",
    "    return False\n",
    "\n",
    "def n_queens(n):\n",
    "    board = [[0] * n for _ in range(n)]\n",
    "    if solve_n_queens(board, 0):\n",
    "        for row in board:\n",
    "            print(row)\n",
    "    else:\n",
    "        print(\"No solution\")\n",
    "\n",
    "n_queens(8)"
   ],
   "metadata": {
    "collapsed": false,
    "ExecuteTime": {
     "end_time": "2024-02-05T14:15:24.595298400Z",
     "start_time": "2024-02-05T14:15:24.575365800Z"
    }
   },
   "id": "b3c6c9f968e372dc",
   "execution_count": 7
  },
  {
   "cell_type": "markdown",
   "source": [
    "## 2. 深度优先搜索（DFS）\n",
    "\n",
    "深度优先搜索是一种用于遍历或搜索树或图的边界的算法。该算法沿着树的深度遍历树的节点，尽可能深地搜索树的分支，当节点v的所在边都已被探寻过，搜索将回溯到发现节点v的那条边的起始节点。\n",
    "\n",
    "<img src=\"./images/img_12.png\">\n",
    "\n",
    "#### 复杂度\n",
    "- 时间复杂度：O(b^D)，其中b是分支因子，D是最大路径长度。\n",
    "- 空间复杂度：O(D)，其中D是状态空间中任何路径的最大长度。\n",
    "#### Python 示例："
   ],
   "metadata": {
    "collapsed": false
   },
   "id": "72b4ee5951d2dfc"
  },
  {
   "cell_type": "code",
   "outputs": [
    {
     "name": "stdout",
     "output_type": "stream",
     "text": [
      "A\n",
      "B\n",
      "D\n",
      "E\n",
      "F\n",
      "C\n"
     ]
    }
   ],
   "source": [
    "# 定义一个图, 用字典表示A: ['B', 'C']表示A节点的邻接节点是B和C\n",
    "graph = {\n",
    "    'A': ['B', 'C'],\n",
    "    'B': ['D', 'E'],\n",
    "    'C': ['F'],\n",
    "    'D': [],\n",
    "    'E': ['F'],\n",
    "    'F': []\n",
    "}\n",
    "\n",
    "visited = set()\n",
    "\n",
    "def dfs(visited, graph, node):\n",
    "    # 当前节点不在已访问的节点集合中，再访问，保证不重复访问\n",
    "    if node not in visited:\n",
    "        print(node)\n",
    "        visited.add(node)\n",
    "        for neighbour in graph[node]:\n",
    "            dfs(visited, graph, neighbour)\n",
    "\n",
    "dfs(visited, graph, 'A') # 打印一个图的深度优先遍历结果，即最终访问的节点顺序"
   ],
   "metadata": {
    "collapsed": false,
    "ExecuteTime": {
     "end_time": "2024-02-05T14:11:21.003991800Z",
     "start_time": "2024-02-05T14:11:20.986978Z"
    }
   },
   "id": "4a07b6d56827a8f8",
   "execution_count": 1
  },
  {
   "cell_type": "code",
   "outputs": [
    {
     "name": "stdout",
     "output_type": "stream",
     "text": [
      "A\n",
      "B\n",
      "D\n",
      "E\n",
      "F\n",
      "C\n"
     ]
    }
   ],
   "source": [
    "# 树的深度优先遍历\n",
    "# 与图搜索不同，此时我们不需要跟踪已访问的节点\n",
    "# 图搜索中visited用set，树搜索中visited用list，目的是\n",
    "def dfs_tree(graph, node, visited=None):\n",
    "    # 当已访问节点集合为空时，初始化为空列表\n",
    "    if visited is None:\n",
    "        visited = []  # 注意，这里不是集合，因为我们不跟踪已访问节点\n",
    "    print(node)\n",
    "    visited.append(node)\n",
    "    for neighbour in graph[node]:\n",
    "        if neighbour not in visited:\n",
    "            dfs_tree(graph, neighbour, visited)\n",
    "\n",
    "dfs_tree(graph, 'A')\n"
   ],
   "metadata": {
    "collapsed": false,
    "ExecuteTime": {
     "end_time": "2024-02-05T14:37:39.445277900Z",
     "start_time": "2024-02-05T14:37:39.434315700Z"
    }
   },
   "id": "ff426f3ac5d6362",
   "execution_count": 13
  },
  {
   "cell_type": "markdown",
   "source": [
    "## 带有迭代加深的深度优先搜索（DFS with Iterative Deepening）\n",
    "\n",
    "迭代加深深度优先搜索（IDDFS）是一种结合了深度优先搜索的空间效率和广度优先搜索最优解的策略。它按照深度优先进行搜索，但是有一个设定的深度限制，而且这个限制会逐步增加。\n",
    "\n",
    "<img src=\"./images/img_14.png\">\n",
    "\n",
    "#### 复杂度\n",
    "- 时间复杂度：O(b^d)，其中b是分支因子，d是最浅目标节点的深度。\n",
    "- 空间复杂度：O(d)，其中d是解的深度。\n",
    "\n",
    "#### Python 示例：图搜索"
   ],
   "metadata": {
    "collapsed": false
   },
   "id": "c1a2f591d6f1bbb0"
  },
  {
   "cell_type": "code",
   "outputs": [
    {
     "name": "stdout",
     "output_type": "stream",
     "text": [
      "True\n"
     ]
    }
   ],
   "source": [
    "def dls(node, goal, depth):\n",
    "    if depth == 0 and node == goal:\n",
    "        return True\n",
    "    if depth > 0:\n",
    "        for child in graph[node]:\n",
    "            if dls(child, goal, depth-1):\n",
    "                return True\n",
    "    return False\n",
    "\n",
    "def iddfs(node, goal, max_depth):\n",
    "    for depth in range(max_depth):\n",
    "        if dls(node, goal, depth):\n",
    "            return True\n",
    "    return False\n",
    "\n",
    "graph = {'A': ['B', 'C', 'E'],\n",
    "         'B': ['D', 'F'],\n",
    "         'C': ['G'],\n",
    "         'D': [],\n",
    "         'E': ['F'],\n",
    "         'F': ['H'],\n",
    "         'G': [],\n",
    "         'H': []}\n",
    "\n",
    "iddfs('A', 'H', 4)  # True if found, False otherwise\n",
    "# 打印一个图的深度优先遍历结果，即最终访问的节点顺序\n"
   ],
   "metadata": {
    "collapsed": false,
    "ExecuteTime": {
     "end_time": "2024-02-05T14:13:35.966471600Z",
     "start_time": "2024-02-05T14:13:35.959492200Z"
    }
   },
   "id": "68e917484304178e",
   "execution_count": 5
  },
  {
   "cell_type": "markdown",
   "source": [
    "## 3. 广度优先搜索（BFS）\n",
    "\n",
    "广度优先搜索是从根节点开始，沿着树的宽度遍历树的节点。如果所有节点均被访问，则算法中止。\n",
    "\n",
    "<img src=\"./images/img_13.png\">\n",
    "\n",
    "#### 复杂度\n",
    "- 时间复杂度：O(b^d)，最坏情况下。\n",
    "- 空间复杂度：O(b^d)\n",
    "\n",
    "#### Python 示例："
   ],
   "metadata": {
    "collapsed": false
   },
   "id": "cbfa21aa73d806d4"
  },
  {
   "cell_type": "code",
   "outputs": [
    {
     "name": "stdout",
     "output_type": "stream",
     "text": [
      "A\n",
      "B\n",
      "C\n",
      "D\n",
      "E\n",
      "F\n"
     ]
    }
   ],
   "source": [
    "from collections import deque\n",
    "\n",
    "graph = {\n",
    "    'A': ['B', 'C'],\n",
    "    'B': ['D', 'E'],\n",
    "    'C': ['F'],\n",
    "    'D': [],\n",
    "    'E': ['F'],\n",
    "    'F': []\n",
    "}\n",
    "\n",
    "def bfs(graph, start_node):\n",
    "    visited = set()\n",
    "    queue = deque([start_node])\n",
    "\n",
    "    while queue:\n",
    "        node = queue.popleft()\n",
    "        if node not in visited:\n",
    "            print(node)\n",
    "            visited.add(node)\n",
    "            queue.extend([n for n in graph[node] if n not in visited])\n",
    "\n",
    "bfs(graph, 'A')"
   ],
   "metadata": {
    "collapsed": false,
    "ExecuteTime": {
     "end_time": "2024-02-05T14:14:43.292116500Z",
     "start_time": "2024-02-05T14:14:43.287133400Z"
    }
   },
   "id": "da4f4fe599ab6e6f",
   "execution_count": 6
  },
  {
   "cell_type": "markdown",
   "source": [
    "## 4. 一致代价搜索（Uniform Cost Search）\n",
    "\n",
    "#### 算法原理\n",
    "一致代价搜索是一种用于在加权图中找到从初始节点到目标节点最小代价路径的算法。它扩展了最少累积代价的节点，而不是最先找到的节点。一致代价搜索使用优先队列来保持最小路径代价的节点在队列前面。\n",
    "\n",
    "#### 优缺点\n",
    "- **优点**：总是找到最小代价路径，即使步骤代价不相等。\n",
    "- **缺点**：时间和空间复杂度高，因为它需要存储和排序所有扩展的节点。\n",
    "\n",
    "#### 复杂度\n",
    "- 时间复杂度： 最坏情况下的时间复杂度为O(b^d)，其中b是分支因子，d是解的深度。\n",
    "- 空间复杂度：O(b^d)\n",
    "\n",
    "UCS的完成度是guranateed的，因为它会扩展所有的节点，直到找到目标节点。当cost一致，UCF与BFS相同。但是，当cost不一致时，UCS会找到最小代价路径，而BFS不会。"
   ],
   "metadata": {
    "collapsed": false
   },
   "id": "1420bef2cfdc2dc0"
  },
  {
   "cell_type": "markdown",
   "source": [
    "#### Python 示例\n",
    "<img src=\"./images/img_16.png\">"
   ],
   "metadata": {
    "collapsed": false
   },
   "id": "f32eb18f3de2c1bc"
  },
  {
   "cell_type": "code",
   "outputs": [
    {
     "name": "stdout",
     "output_type": "stream",
     "text": [
      "(4, ['A', 'C', 'G'])\n"
     ]
    }
   ],
   "source": [
    "import heapq\n",
    "\n",
    "graph = {\n",
    "    'S': {'A': 1, 'G': 12},\n",
    "    'A': {'B': 3, 'C': 1},\n",
    "    'B': {'D': 3},\n",
    "    'C': {'D': 1, 'G': 2},\n",
    "    'D': {'G': 3},\n",
    "    'G': {}\n",
    "}\n",
    "\n",
    "graph2={\n",
    "    'A': {'B': 1, 'C': 3},\n",
    "    'B': {'D': 1, 'E': 1},\n",
    "    'D': {'F': 1},\n",
    "    'E': {},\n",
    "    'F': {'K': 2, 'L': 2},\n",
    "    'K': {},\n",
    "    'L': {},\n",
    "    'C': {'G': 1, 'H': 2},\n",
    "    'G': {},\n",
    "    'H': {'I': 1, 'J': 1},\n",
    "    'I': {},\n",
    "    'J': {},\n",
    "}\n",
    "\n",
    "def uniform_cost_search(graph, start, goal):\n",
    "    visited = set()\n",
    "    queue = [(0, start, [])]  # (cost, vertex, path)\n",
    "    heapq.heapify(queue)\n",
    "\n",
    "    while queue:\n",
    "        (cost, vertex, path) = heapq.heappop(queue)\n",
    "        if vertex not in visited:\n",
    "            visited.add(vertex)\n",
    "            path = path + [vertex]\n",
    "\n",
    "            if vertex == goal:\n",
    "                return (cost, path)\n",
    "\n",
    "            for next_vertex, weight in graph[vertex].items():\n",
    "                if next_vertex not in visited:\n",
    "                    heapq.heappush(queue, (cost + weight, next_vertex, path))\n",
    "\n",
    "    return float(\"inf\"), []\n",
    "\n",
    "print(uniform_cost_search(graph2, 'A', 'G'))  # 输出最小代价和路径"
   ],
   "metadata": {
    "collapsed": false,
    "ExecuteTime": {
     "end_time": "2024-02-05T15:15:48.204582100Z",
     "start_time": "2024-02-05T15:15:48.183333300Z"
    }
   },
   "id": "9a9b40c792facf2",
   "execution_count": 20
  },
  {
   "cell_type": "markdown",
   "source": [
    "## 5. 启发式搜索（Informed Search）\n",
    "\n",
    "#### 算法原理\n",
    "启发式搜索算法使用启发式函数来估计从当前节点到目标节点的最佳路径的代价。A*搜索是最著名的启发式搜索算法，它结合了一致代价搜索的确保最小代价路径和贪心搜索的启发式信息。\n",
    "\n",
    "#### 优缺点\n",
    "- **优点**：更高效，因为启发式函数帮助减少搜索范围。\n",
    "- **缺点**：启发式函数的质量直接影响算法的效率和正确性。\n",
    "\n",
    "#### 时间复杂度\n",
    "- 时间复杂度取决于启发式函数的准确性，理想情况下是O(b^m)，其中m是解的深度。\n",
    "\n",
    "#### A*搜索\n",
    "完备性：如果存在解，'A*'搜索保证找到解。\n",
    "最优性：在启发式函数h(n)满足一定条件（如一致性或单调性）时，'A*'搜索保证找到最优解。\n",
    "效率：相对于其他图搜索算法，'A*'搜索在找到最短路径时通常需要较少的步骤，但这取决于启发式函数的质量。\n",
    "\n",
    "在A*搜索算法中，f成本和g成本是核心概念，用于评估和比较路径的优劣，从而决定搜索过程中的节点扩展顺序。\n",
    "\n",
    "1. **g成本（G-Cost）**：\n",
    "   - **定义**：g成本是从起始节点到当前节点的实际成本。它表示了达到当前节点已经花费的路径长度或成本，不考虑剩余到目标节点的距离。\n",
    "   - **计算公式**：对于当前节点，g成本是父节点的g成本加上从父节点到当前节点的成本。如果当前节点是起始节点，其g成本为0。\n",
    "     $$\\[\n",
    "     g(\\text{当前节点}) = g(\\text{父节点}) + \\text{从父节点到当前节点的成本}\n",
    "     \\]$$\n",
    "\n",
    "2. **f成本（F-Cost）**：\n",
    "   - **定义**：f成本是节点的总成本估计，用于在A*搜索中比较节点。它是g成本和h成本的总和。f成本越低的节点，会被优先考虑进行扩展。\n",
    "   - **计算公式**：f成本是当前节点的g成本和h成本之和。h成本（H-Cost）是启发式估计，表示从当前节点到目标节点的估计成本。这个估计应该是非负的，并且不会过高地估计实际成本，以保证A*搜索的有效性和最优性。\n",
    "     $$\\[\n",
    "     f(\\text{当前节点}) = g(\\text{当前节点}) + h(\\text{当前节点})\n",
    "     \\]$$\n",
    "\n",
    "这样，通过综合考虑已经花费的成本（g成本）和剩余估计成本（h成本），A*搜索算法能够有效地找到从起始节点到目标节点的最低成本路径。h成本的准确性和合理性对于算法的效率和结果至关重要。\n",
    "\n",
    "实际成本：g（n）是从起始节点到节点n的实际成本。一般在图中由边的权重表示。\n",
    "启发式成本：h（n）是从节点n到目标节点的估计成本。这是一个启发式函数，用于估计从节点n到目标节点的最低成本。\n",
    "\n",
    "#### Admissibility\n",
    "如果启发式函数h(n)满足以下条件，则称其为“可接受的”（admissible）：\n",
    "- 对于所有节点n，h(n) <= h*(n)，其中h*(n)是从节点n到目标节点的实际最低成本。\n",
    "\n",
    "#### Consistency\n",
    "如果启发式函数h(n)满足以下条件，则称其为“一致的”（consistent）：\n",
    "- 对于所有节点n和n的后继节点m，h(n) <= c(n, m) + h(m)，其中c(n, m)是从节点n到节点m的实际成本。\n",
    "\n",
    "#### Python 示例"
   ],
   "metadata": {
    "collapsed": false
   },
   "id": "9cd77b75d15804a4"
  },
  {
   "cell_type": "code",
   "outputs": [
    {
     "name": "stdout",
     "output_type": "stream",
     "text": [
      "(8, ['A', 'C', 'F'])\n"
     ]
    }
   ],
   "source": [
    "import heapq\n",
    "\n",
    "def a_star_search(graph, start, goal, h):\n",
    "    visited = set()\n",
    "    queue = [(h(start), 0, start, [])]  # (estimated_cost, cost_so_far, vertex, path)\n",
    "    heapq.heapify(queue) # 将列表转换为堆，实现最小堆\n",
    "\n",
    "    while queue:\n",
    "        (estimated_cost, cost_so_far, vertex, path) = heapq.heappop(queue)\n",
    "        if vertex not in visited:\n",
    "            visited.add(vertex)\n",
    "            path = path + [vertex]\n",
    "\n",
    "            if vertex == goal:\n",
    "                return (cost_so_far, path)\n",
    "\n",
    "            for next_vertex, weight in graph[vertex].items():\n",
    "                if next_vertex not in visited:\n",
    "                    next_cost = cost_so_far + weight\n",
    "                    heapq.heappush(queue, (next_cost + h(next_vertex), next_cost, next_vertex, path))\n",
    "\n",
    "    return float(\"inf\"), []\n",
    "\n",
    "# 示例启发式函数，返回启发评估值，heuristic estimate\n",
    "def heuristic(node, goal):\n",
    "    # 这里应该是根据具体问题定义的启发式函数\n",
    "    return abs(ord(node) - ord(goal))\n",
    "\n",
    "# 示例图, 用字典表示A: {'B': 1, 'C': 3}表示A节点的邻接节点是B和C, 代价分别是1和3\n",
    "graph = {\n",
    "    'A': {'B': 1, 'C': 3},\n",
    "    'B': {'A': 1, 'D': 3, 'E': 1},\n",
    "    'C': {'A': 3, 'F': 5},\n",
    "    'D': {'B': 3},\n",
    "    'E': {'B': 1, 'F': 8},\n",
    "    'F': {'C': 5, 'E': 8}\n",
    "}\n",
    "\n",
    "print(a_star_search(graph, 'A', 'F', lambda x: heuristic(x, 'F')))  # 输出最小代价和路径"
   ],
   "metadata": {
    "collapsed": false,
    "ExecuteTime": {
     "end_time": "2024-02-05T18:55:46.431958900Z",
     "start_time": "2024-02-05T18:55:46.410032400Z"
    }
   },
   "id": "8ff30c455ea08bd8",
   "execution_count": 21
  },
  {
   "cell_type": "markdown",
   "source": [
    "### Python示例2--A*搜索\n",
    "<img src=\"./images/img_19.png\">\n",
    "\n",
    "Admissibility：启发式函数h(n)是可接受的，当h(n) <= h*(n)时，其中h*(n)是从节点n到目标节点的实际最低成本。\n",
    "- h(C) = 6 <= h*(C) = 20\n",
    "- h(B) = 12 <= h*(B) = 12\n",
    "- h(E) = 11 <= h*(E) = 2\n",
    "\n",
    "Consistency：启发式函数h(n)是一致的，当h(n) <= c(n, m) + h(m)时，其中c(n, m)是从节点n到节点m的实际成本。\n",
    "- h(C) = 6，对于一致性，我们需要检查对于节点C的每个子节点m，是否有h(C) ≤ c(C, m) + h(m)。在这个例子中，C只有一个子节点G，c(C, G) = 20，h(G) = 0，所以h(C) = 6 ≤ 20 + 0 = 20，这符合一致性。\n",
    "\n",
    "- h(B) = 12，我们需要检查对于节点B的每个子节点，是否有h(B) ≤ c(B, m) + h(m)。节点B到节点E的成本是10，h(E) = 1，所以应该是h(B) ≤ c(B, E) + h(E)，即12 ≤ 10 + 1，这不符合一致性条件，因为12不小于等于11。\n"
   ],
   "metadata": {
    "collapsed": false
   },
   "id": "1bb57e33cf279ec9"
  },
  {
   "cell_type": "code",
   "outputs": [
    {
     "data": {
      "text/plain": "(27, ['A', 'B', 'E', 'G'])"
     },
     "execution_count": 27,
     "metadata": {},
     "output_type": "execute_result"
    }
   ],
   "source": [
    "# A--B: (2, 12)表示A到B的代价是2，B的启发式函数值是12\n",
    "graph = {\n",
    "    'A': {'B': (2, 12), 'C': (6, 6), 'D': (10, 1)},\n",
    "    'B': {'E': (10, 1)},\n",
    "    'C': {'G': (20, 0)},\n",
    "    'D': {'F': (2, 1)},\n",
    "    'E': {'G': (2, 0)},\n",
    "    'F': {'G': (20, 0)}\n",
    "}\n",
    "\n",
    "# Heuristics for each node to the goal 'G'\n",
    "heuristics = {\n",
    "    'A': 10,\n",
    "    'B': 12,\n",
    "    'C': 6,\n",
    "    'D': 1,\n",
    "    'E': 1,\n",
    "    'F': 1,\n",
    "    'G': 0\n",
    "}\n",
    "\n",
    "# Implementation of A* algorithm\n",
    "from queue import PriorityQueue\n",
    "\n",
    "def a_star_search(graph, start, goal):\n",
    "    # Priority queue for maintaining nodes to visit\n",
    "    frontier = PriorityQueue()\n",
    "    frontier.put((0, start, []))  # (priority, node, path)， put()方法将元组放入队列\n",
    "    visited = {}  # Stores nodes and their lowest-cost to reach\n",
    "    \n",
    "    while not frontier.empty():\n",
    "        # Select the node with the lowest f(n) value\n",
    "        cost, current, path = frontier.get() # get()方法从队列中取出元组\n",
    "        # cost为当前节点的代价，current为当前节点，path为到当前节点的路径\n",
    "        \n",
    "        # If the node is the goal, return the cost and path\n",
    "        if current == goal:\n",
    "            return cost, path + [current]\n",
    "        \n",
    "        # If the node was visited and the new cost is higher, skip it\n",
    "        if current in visited and visited[current] <= cost:\n",
    "            continue\n",
    "        \n",
    "        # Mark the node as visited\n",
    "        visited[current] = cost\n",
    "        \n",
    "        # Add neighbors to the priority queue with updated costs\n",
    "        for neighbor, (edge_cost, _) in graph.get(current, {}).items():\n",
    "            # Calculate the cost to reach the neighbor and the heuristic\n",
    "            new_cost = cost + edge_cost\n",
    "            heuristic = heuristics[neighbor]\n",
    "            frontier.put((new_cost + heuristic, neighbor, path + [current]))\n",
    "    \n",
    "    return float('inf'), []  # If the goal was not reached\n",
    "\n",
    "# Perform A* search from 'A' to 'G'\n",
    "a_star_cost, a_star_path = a_star_search(graph, 'A', 'G')\n",
    "a_star_cost, a_star_path\n"
   ],
   "metadata": {
    "collapsed": false,
    "ExecuteTime": {
     "end_time": "2024-02-05T19:33:47.198075800Z",
     "start_time": "2024-02-05T19:33:46.829798600Z"
    }
   },
   "id": "c859773042e2105e",
   "execution_count": 27
  },
  {
   "cell_type": "markdown",
   "source": [
    "### Relaxation\n",
    "在算法和数学优化领域，松弛（Relaxation）指的是简化约束或目标函数的过程，以便找到问题的近似解或下界。这种方法常用于解决复杂的优化问题，其中原始问题可能难以直接求解。\n",
    "\n",
    "例如，在图的最短路径问题中，松弛可能涉及忽略某些边的权重，以简化问题并快速找到近似解。在整数规划问题中，将整数约束放宽为连续约束是一种常见的松弛方式，这样可以使用线性规划方法求解。"
   ],
   "metadata": {
    "collapsed": false
   },
   "id": "5dda669a360e2821"
  },
  {
   "cell_type": "markdown",
   "source": [
    "## 贪心搜索（Greedy Search）\n",
    "\n",
    "#### 算法原理\n",
    "贪心搜索算法在每一步都采取局部最优解，即选择当前看起来最好的选项。它不保证找到最优解，因为它不考虑之前的选择和未来的后果。\n",
    "\n",
    "#### 优缺点\n",
    "- **优点**：实现简单，空间和时间效率较高。\n",
    "- **缺点**：不保证找到最优解，容易陷入局部最优。\n",
    "\n",
    "#### 时间复杂度\n",
    "- 时间复杂度取决于问题的特性，但一般来说，它比完全搜索要快。\n",
    "\n",
    "#### 代码示例"
   ],
   "metadata": {
    "collapsed": false
   },
   "id": "11e603e541fe4132"
  },
  {
   "cell_type": "code",
   "outputs": [
    {
     "name": "stdout",
     "output_type": "stream",
     "text": [
      "['A', 'C', 'F']\n"
     ]
    }
   ],
   "source": [
    "# 输入参数：图、起始节点、目标节点、启发式函数\n",
    "def greedy_search(graph, start, goal, h):\n",
    "    visited = set()\n",
    "    queue = [(h(start), start, [])]  # 【启发式函数值，节点，路径】\n",
    "    while queue:\n",
    "        (heuristic, vertex, path) = queue.pop(0)  # 从队列前端取出\n",
    "        if vertex not in visited:\n",
    "            visited.add(vertex)\n",
    "            path = path + [vertex]\n",
    "\n",
    "            if vertex == goal:\n",
    "                return path\n",
    "\n",
    "            # 按启发式函数的值排序邻居\n",
    "            neighbors = [(h(child), child) for child in graph[vertex] if child not in visited]\n",
    "            neighbors.sort()\n",
    "            for _, next_vertex in neighbors:\n",
    "                queue.append((h(next_vertex), next_vertex, path))\n",
    "\n",
    "    return []\n",
    "\n",
    "graph = {\n",
    "    'A': ['B', 'C'],\n",
    "    'B': ['D', 'E'],\n",
    "    'C': ['F'],\n",
    "    'D': [],\n",
    "    'E': ['F'],\n",
    "    'F': []\n",
    "}\n",
    "\n",
    "# 示例启发式函数\n",
    "# 这里定义为目标节点的ASCII码减去当前节点的ASCII码\n",
    "def heuristic(node):\n",
    "    # 这里应该是根据具体问题定义的启发式函数\n",
    "    return ord('F') - ord(node)\n",
    "\n",
    "print(greedy_search(graph, 'A', 'F', heuristic))  # 输出路径"
   ],
   "metadata": {
    "collapsed": false,
    "ExecuteTime": {
     "end_time": "2024-02-05T19:14:06.737989600Z",
     "start_time": "2024-02-05T19:14:06.730014200Z"
    }
   },
   "id": "37ad30b56ac0ddd8",
   "execution_count": 26
  },
  {
   "cell_type": "markdown",
   "source": [
    "### Python示例2\n",
    "<img src=\"./images/img_18.png\">"
   ],
   "metadata": {
    "collapsed": false
   },
   "id": "5e8a6fa21457767"
  },
  {
   "cell_type": "code",
   "outputs": [
    {
     "data": {
      "text/plain": "['S', 'B', 'G']"
     },
     "execution_count": 24,
     "metadata": {},
     "output_type": "execute_result"
    }
   ],
   "source": [
    "# 这里graph中的数字表示的是定义好的启发式函数值，可以当作cost来看\n",
    "# 由于已经定义了启发式函数值，所以不需要再定义启发式函数\n",
    "graph = {\n",
    "    'S': {'A': 2, 'B': 3},\n",
    "    'A': {'D': 4, 'C': 1},\n",
    "    'B': {'G': 0, 'D': 4},\n",
    "    'C': {},\n",
    "    'D': {'G': 0},\n",
    "    'G': {}\n",
    "}\n",
    "\n",
    "# We also need a function for the greedy best-first search.\n",
    "def greedy_best_first_search(graph, start, goal):\n",
    "    # This is the frontier queue which is initialized with the start node.\n",
    "    frontier = [start]\n",
    "    # This dictionary keeps track of the path.\n",
    "    came_from = {start: None}\n",
    "    \n",
    "    while frontier:\n",
    "        # The current node is the one with the lowest heuristic value in the frontier.\n",
    "        current = min(frontier, key=lambda node: graph[node][goal] if goal in graph[node] else float('inf'))\n",
    "        \n",
    "        # If the current node is the goal, then we reconstruct the path and return it.\n",
    "        if current == goal:\n",
    "            path = []\n",
    "            while current:\n",
    "                path.append(current)\n",
    "                current = came_from[current]\n",
    "            return path[::-1]  # Return reversed path.\n",
    "        \n",
    "        # If the current node is not the goal, remove it from the frontier and add its children.\n",
    "        frontier.remove(current)\n",
    "        for next in graph[current]:\n",
    "            if next not in came_from:  # Ignore the parent nodes.\n",
    "                frontier.append(next)\n",
    "                came_from[next] = current\n",
    "\n",
    "# Now let's call the search function with our graph, starting from 'S' and aiming to reach 'G'.\n",
    "path = greedy_best_first_search(graph, 'S', 'G')\n",
    "path\n"
   ],
   "metadata": {
    "collapsed": false,
    "ExecuteTime": {
     "end_time": "2024-02-05T19:13:00.371703100Z",
     "start_time": "2024-02-05T19:13:00.342749500Z"
    }
   },
   "id": "ce26cf9d92354221",
   "execution_count": 24
  }
 ],
 "metadata": {
  "kernelspec": {
   "display_name": "Python 3",
   "language": "python",
   "name": "python3"
  },
  "language_info": {
   "codemirror_mode": {
    "name": "ipython",
    "version": 2
   },
   "file_extension": ".py",
   "mimetype": "text/x-python",
   "name": "python",
   "nbconvert_exporter": "python",
   "pygments_lexer": "ipython2",
   "version": "2.7.6"
  }
 },
 "nbformat": 4,
 "nbformat_minor": 5
}
