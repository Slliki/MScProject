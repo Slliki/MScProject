{
 "cells": [
  {
   "cell_type": "markdown",
   "source": [
    "# Bayesian Network\n",
    "\n",
    "### INCLUDES:\n",
    "1. Bayesian Theory\n",
    "2. Bayesian Network\n",
    "3. Dynamic Bayesian Network (DBN)"
   ],
   "metadata": {
    "collapsed": false
   },
   "id": "fc2efadb9e3b84e4"
  },
  {
   "cell_type": "markdown",
   "source": [
    "## 1. Bayesian Theory\n",
    "贝叶斯定理是概率论中的一个重要定理，它描述了在给定先验知识的情况下如何通过新的证据更新我们对一个假设的概率。这个定理以托马斯·贝叶斯的名字命名，是统计学和数据科学中应用非常广泛的一个理论基础。\n",
    "\n",
    "贝叶斯定理的数学表达式为：\n",
    "\n",
    "$$\\[ P(A|B) = \\frac{P(B|A) \\cdot P(A)}{P(B)} \\]$$\n",
    "\n",
    "其中：\n",
    "\n",
    "- $\\( P(A|B) \\)$ 是在事件B发生的条件下事件A发生的条件概率，也称为后验概率。\n",
    "- $\\( P(B|A) \\)$ 是在事件A发生的条件下事件B发生的条件概率。\n",
    "- $\\( P(A) \\)$ 是事件A发生的先验概率，即在没有额外信息的情况下事件A发生的概率。\n",
    "- $\\( P(B) \\)$ 是事件B发生的边缘概率，可以通过全概率公式计算得出。\n",
    "\n",
    "### 全概率公式\n",
    "全概率公式是概率论中的一个重要公式，它描述了在一组互斥事件上的概率计算方法。全概率公式的数学表达式为：\n",
    "\n",
    "$$\\[ P(B) = \\sum_{i=1}^n P(B|A_i) \\cdot P(A_i) \\]$$"
   ],
   "metadata": {
    "collapsed": false
   },
   "id": "49e53da9c6d5cf7a"
  },
  {
   "cell_type": "markdown",
   "source": [
    "## 2. Bayesian Network\n",
    "贝叶斯网络，又称为信念网络或者贝叶斯信念网络，是一种表示变量间条件依赖关系的图形模型。在贝叶斯网络中，每个节点代表一个随机变量，这些变量可以是可观测到的量、潜在变量、未知参数等。节点之间的有向边表示变量间的条件依赖关系。贝叶斯网络是一种使用概率推理进行决策和预测的强大工具。\n",
    "\n",
    "### 贝叶斯网络的组成\n",
    "\n",
    "- **节点**：图中的每个节点代表一个随机变量，这些变量可以是任何可以量化的事物，如天气状况、疾病的有无等。\n",
    "- **边**：节点间的边表示变量之间的直接依赖关系。如果一个节点有一条指向另一个节点的边，那么前者被称为父节点，后者称为子节点。边的方向表示了因果关系或者影响的方向。\n",
    "- **条件概率表（CPT）**：每个节点都有一个条件概率表，它给出了在给定父节点状态下该节点状态的概率。对于没有父节点的节点，CPT简化为该节点本身的概率分布。\n",
    "\n",
    "### 贝叶斯网络的特点\n",
    "\n",
    "- **条件独立性**：贝叶斯网络利用条件独立性的假设简化了复杂系统中变量间的关系，这意味着给定父节点的状态后，一个节点是独立于非后代节点的。\n",
    "- **联合概率分布**：贝叶斯网络提供了一种紧凑的形式来表达多个变量的联合概率分布。通过网络中所有节点的CPT，可以计算出任何变量集合的联合分布。\n",
    "\n",
    "在贝叶斯网络中，变量的独立性取决于网络的结构和条件依赖性。\n",
    "- 如果两节点有依赖关系，那么它们是非独立的。\n",
    "- 如果两节点没有直接的连接关系，那么它们是无关的。\n",
    "- 如果两节点有一个公共的父节点，且给定这个父节点的状态，那么这两个节点是条件独立的。\n",
    "\n",
    "\n",
    "### 构建贝叶斯网络\n",
    "\n",
    "构建贝叶斯网络通常涉及以下步骤：\n",
    "1. **确定变量**：确定系统中所有相关的随机变量。\n",
    "2. **定义依赖关系**：确定这些变量间的依赖关系，并用有向边表示这些关系。\n",
    "3. **构建CPT**：为每个节点构建条件概率表，描述了给定其父节点状态时该节点状态的概率。\n",
    "\n",
    "贝叶斯网络的构建和推理是一个复杂的过程，通常需要专门的算法和软件工具，如贝叶斯推理算法和图形模型工具。\n",
    "\n",
    "### 贝叶斯网络的应用\n",
    "1. **决策支持**：贝叶斯网络可以用于决策支持系统，帮助分析师和决策者理解复杂系统中的因果关系，预测未来事件的概率。\n",
    "2. **风险分析**：贝叶斯网络可以用于风险分析，帮助分析师评估系统中不同变量之间的关系，识别潜在的风险因素。\n",
    "3. **医学诊断**：贝叶斯网络可以用于医学诊断，帮助医生根据患者的症状和检查结果推断患病的概率。\n",
    "4. **智能推荐**：贝叶斯网络可以用于智能推荐系统，帮助根据用户的历史行为和偏好推荐个性化的产品和服务。"
   ],
   "metadata": {
    "collapsed": false
   },
   "id": "b7d8019adc4bd620"
  },
  {
   "cell_type": "markdown",
   "source": [
    "### 独立性判断\n",
    "d-分离（d-separation）是贝叶斯网络中用于判断变量间独立性的一种方法。它基于网络结构中变量之间的路径，来确定两组变量是否被第三组变量集合分隔开，从而判断这两组变量是否条件独立。d-分离的“d”代表“依赖”（dependence）或“方向”（direction），强调路径的方向性在判断独立性时的重要性。\n",
    "\n",
    "在贝叶斯网络中，路径是由边连接的一系列节点。一个路径被认为是阻断的（或者说两个节点被d-分隔），如果路径上至少有一个节点满足以下条件之一：\n",
    "\n",
    "1. **链条中间节点或分叉节点被条件化**：如果路径上的节点是一条链条中的中间节点（X -> Y -> Z）或分叉的节点（X <- Y -> Z），且这个节点（Y）被给定（条件化），那么这个路径被阻断。\n",
    "\n",
    "2. **共同效应节点或其后代被条件化**：如果路径上的节点是一个共同效应节点（X -> Y <- Z），即两个节点指向同一个节点，而这个共同效应节点（Y）或其任何后代没有被给定（条件化），那么这个路径被阻断。如果共同效应节点或其后代被条件化，这条路径就会被打开（即不被阻断）。\n",
    "\n",
    "当考虑两个节点（例如X和Z）之间的所有路径时，如果所有路径都被阻断，则称X和Z在给定第三组变量集合（条件化的节点集合）的情况下是d-分隔的，从而是条件独立的。\n",
    "\n",
    "d-分离方法提供了一种系统性的方式来分析贝叶斯网络中变量间的条件独立性，这对于理解网络结构以及进行概率推断是非常重要的。\n",
    "\n",
    "下面给出一个例子：用字母代替节点编号用于代码示例。\n",
    "<img src=\"./images/img_24.png\">\n",
    "\n",
    "在贝叶斯网络中，一个节点通常与非后裔节点独立，除非有共同的祖先节点。然而，当给定一个共同祖先的值时，与该节点相关的所有非后裔节点都将变得条件独立。\n",
    "\n",
    "1. 当不给定任何节点的情况下，节点 `g`（即 `X3,1`）与它的非后裔节点独立。在这个网络中，`g` 的后裔节点是 `h` 和 `i`，所以它与除了 `h`、`i` 以及它的直接父节点以外的所有节点独立，即独立于 `a`、`b`、`c`、`d`、`e` 和 `f`。\n",
    "\n",
    "2. 当给定节点 `a`（即 `X1,1`）的情况下，由于 `a` 是 `g` 的间接祖先（通过 `d`），这将改变独立性的情况。给定 `a` 后，节点 `g` 与所有非后裔节点条件独立，这包括 `b`、`c`、`e` 和 `f`。\n",
    "\n",
    "总结一下：\n",
    "- 不给定任何节点时，`g` 与 `a`、`b`、`c`、`d`、`e` 和 `f` 独立。\n",
    "- 给定节点 `a` 时，`g` 与 `b`、`c`、`e` 和 `f` 条件独立。"
   ],
   "metadata": {
    "collapsed": false
   },
   "id": "20954b096547a245"
  },
  {
   "cell_type": "code",
   "outputs": [
    {
     "data": {
      "text/plain": "<Figure size 640x480 with 1 Axes>",
      "image/png": "[encoded data removed]"
     },
     "metadata": {},
     "output_type": "display_data"
    }
   ],
   "source": [
    "Graph= {\n",
    "    \"A\": [\"B\",\"D\"],\n",
    "    \"B\": [\"C\",\"E\"],\n",
    "    \"C\": [\"F\"],\n",
    "    \"D\": [\"E\",\"G\"],\n",
    "    \"E\": [\"F\",\"H\"],\n",
    "    \"F\": [\"I\"],\n",
    "    \"G\": [\"H\"],\n",
    "    \"H\": [\"I\"],\n",
    "    \"I\": []\n",
    "}\n",
    "\n",
    "# 画出贝叶斯网络\n",
    "import networkx as nx\n",
    "import matplotlib.pyplot as plt\n",
    "\n",
    "G = nx.DiGraph(Graph)\n",
    "pos = nx.spring_layout(G)\n",
    "nx.draw(G, pos, with_labels=True, node_size=3000, node_color=\"lightblue\", node_shape=\"s\", alpha=0.5, arrowsize=20)\n",
    "plt.show()"
   ],
   "metadata": {
    "collapsed": false,
    "ExecuteTime": {
     "end_time": "2024-02-15T13:27:56.946401600Z",
     "start_time": "2024-02-15T13:27:56.153506Z"
    }
   },
   "id": "4bcefc10bd246591",
   "execution_count": 1
  },
  {
   "cell_type": "code",
   "outputs": [
    {
     "name": "stdout",
     "output_type": "stream",
     "text": [
      "(g ⟂ c, b, a, f, e | d)\n"
     ]
    }
   ],
   "source": [
    "from pgmpy.models import BayesianNetwork\n",
    "from pgmpy.independencies import Independencies\n",
    "\n",
    "# 定义贝叶斯网络结构\n",
    "model = BayesianNetwork([('a', 'b'), ('a', 'd'), \n",
    "                         ('b', 'c'), ('b', 'e'), \n",
    "                         ('c', 'f'), ('d', 'e'), \n",
    "                         ('d', 'g'), ('e', 'f'), \n",
    "                         ('e', 'h'), ('f', 'i'), \n",
    "                         ('g', 'h'), ('h', 'i')])\n",
    "\n",
    "# 'g' 的局部独立性，不给定任何节点时\n",
    "local_independencies = model.local_independencies('g')\n",
    "print(local_independencies)\n"
   ],
   "metadata": {
    "collapsed": false,
    "ExecuteTime": {
     "end_time": "2024-02-15T16:36:52.462908200Z",
     "start_time": "2024-02-15T16:36:52.450948200Z"
    }
   },
   "id": "b4f9c92c2d7e2d09",
   "execution_count": 5
  },
  {
   "cell_type": "markdown",
   "source": [
    "下面是一个贝叶斯网络示例：\n",
    "<img src=\"./images/img_20.png\">\n",
    "\n",
    "图中展示的是一个贝叶斯网络，它包含四个随机变量：Cloudy（C），Sprinkler（S），Rain（R）和WetGrass（W）。网络的结构定义了变量之间的条件依赖关系，而每个变量的条件概率表（CPT）提供了具体的概率值。\n",
    "\n",
    "贝叶斯网络中的联合概率 $\\( P(C, S, R, W) \\)$ 可以根据网络结构和条件概率表计算得到。在这个网络中，我们可以根据图中的箭头和条件概率表分解联合概率为：\n",
    "\n",
    "$$\\[ P(C, S, R, W) = P(C) \\cdot P(S|C) \\cdot P(R|C) \\cdot P(W|S, R) \\]$$\n",
    "\n",
    "这里：\n",
    "\n",
    "- $\\( P(C) \\)$ 是“多云”的先验概率。\n",
    "- $\\( P(S|C) \\)$ 是在已知“多云”状态下“洒水器打开”的条件概率。\n",
    "- $\\( P(R|C) \\)$ 是在已知“多云”状态下“下雨”的条件概率。\n",
    "- $\\( P(W|S, R) \\)$ 是在已知“洒水器打开”状态和“下雨”状态下“草地湿润”的条件概率。\n",
    "\n",
    "每个变量的具体概率值可以从各自的条件概率表中查得。例如，如果我们想要计算在多云（C=T），洒水器打开（S=T），下雨（R=T）的情况下草地湿润（W=T）的联合概率，我们将会查找并乘以以下概率：\n",
    "\n",
    "- $\\( P(C=T) \\)$：多云的概率。\n",
    "- $\\( P(S=T|C=T) \\)$：在多云的情况下洒水器打开的概率。\n",
    "- $\\( P(R=T|C=T) \\)$：在多云的情况下下雨的概率。\n",
    "- $\\( P(W=T|S=T, R=T) \\)$：在洒水器打开和下雨的情况下草地湿润的概率。\n",
    "\n",
    "通过这种方式，我们可以计算出在任何给定条件下草地湿润的联合概率。"
   ],
   "metadata": {
    "collapsed": false
   },
   "id": "5edb5231cb93c2c8"
  },
  {
   "cell_type": "markdown",
   "source": [
    "#### Example: P（S=1|W=1）"
   ],
   "metadata": {
    "collapsed": false
   },
   "id": "fd1a36fd198b9e5f"
  },
  {
   "cell_type": "code",
   "outputs": [
    {
     "data": {
      "text/plain": "0.43810848400556324"
     },
     "execution_count": 1,
     "metadata": {},
     "output_type": "execute_result"
    }
   ],
   "source": [
    "# 计算 P(S=1|W=1) 需要的概率值\n",
    "P_C_T = 0.5  # P(C=T)\n",
    "P_C_F = 0.5  # P(C=F)\n",
    "\n",
    "# P(S=T|C)\n",
    "P_S_T_given_C_T = 0.1\n",
    "P_S_T_given_C_F = 0.5\n",
    "\n",
    "# 计算 P(S=1)\n",
    "P_S_1 = P_S_T_given_C_T * P_C_T + P_S_T_given_C_F * P_C_F\n",
    "\n",
    "# P(R|C)\n",
    "P_R_T_given_C_T = 0.8\n",
    "P_R_T_given_C_F = 0.2\n",
    "P_R_F_given_C_T = 0.2\n",
    "P_R_F_given_C_F = 0.8\n",
    "\n",
    "# P(W=T|S,R)\n",
    "P_W_T_given_S_T_R_T = 0.99\n",
    "P_W_T_given_S_T_R_F = 0.9\n",
    "P_W_T_given_S_F_R_T = 0.9\n",
    "P_W_T_given_S_F_R_F = 0.0\n",
    "\n",
    "# P(W=1|S=1)\n",
    "P_W_T_given_S_T = (P_W_T_given_S_T_R_T * P_R_T_given_C_T * P_C_T + \n",
    "                   P_W_T_given_S_T_R_F * P_R_F_given_C_T * P_C_T +\n",
    "                   P_W_T_given_S_T_R_T * P_R_T_given_C_F * P_C_F + \n",
    "                   P_W_T_given_S_T_R_F * P_R_F_given_C_F * P_C_F)\n",
    "\n",
    "# P(W=1)\n",
    "P_W_1 = (P_W_T_given_S_T_R_T * P_R_T_given_C_T * P_S_T_given_C_T * P_C_T +\n",
    "         P_W_T_given_S_T_R_F * P_R_F_given_C_T * P_S_T_given_C_T * P_C_T +\n",
    "         P_W_T_given_S_F_R_T * P_R_T_given_C_T * (1 - P_S_T_given_C_T) * P_C_T +\n",
    "         P_W_T_given_S_F_R_F * P_R_F_given_C_T * (1 - P_S_T_given_C_T) * P_C_T +\n",
    "         P_W_T_given_S_T_R_T * P_R_T_given_C_F * P_S_T_given_C_F * P_C_F +\n",
    "         P_W_T_given_S_T_R_F * P_R_F_given_C_F * P_S_T_given_C_F * P_C_F +\n",
    "         P_W_T_given_S_F_R_T * P_R_T_given_C_F * (1 - P_S_T_given_C_F) * P_C_F +\n",
    "         P_W_T_given_S_F_R_F * P_R_F_given_C_F * (1 - P_S_T_given_C_F) * P_C_F)\n",
    "\n",
    "# 根据贝叶斯规则计算 P(S=1|W=1)\n",
    "P_S_1_given_W_1 = P_W_T_given_S_T * P_S_1 / P_W_1\n",
    "P_S_1_given_W_1\n"
   ],
   "metadata": {
    "collapsed": false,
    "ExecuteTime": {
     "end_time": "2024-02-06T13:05:48.859964200Z",
     "start_time": "2024-02-06T13:05:48.838562Z"
    }
   },
   "id": "57d9a742be5cc626",
   "execution_count": 1
  },
  {
   "cell_type": "markdown",
   "source": [
    "#### Example: P（S=1|W=1,R=1）\n",
    "P(S=1|W=1,R=1) 是在给定 R=1 和 W=1 的条件下 S=1 的概率。我们可以使用贝叶斯定理来计算这个条件概率。根据贝叶斯定理，我们有：\n",
    "P(S=1|W=1,R=1)=P(W=1,R=1,S=1)/P(W=1,R=1)\n",
    "\n",
    "P(W=1,R=1,S=1)=P(W=1|S=1,R=1)*P(S=1|R=1)*P(R=1)\n",
    "P(S=1|R=1)=P(S=1,R=1)/P(R=1)=P(S=1|C=1)*P(R=1|C=1)*P(C=1)+P(S=1|C=0)*P(R=1|C=0)*P(C=0)\n",
    "\n",
    "P(W=1,R=1)=P(W=1|S=1,R=1)*P(S=1,R=1)+P(W=1|S=0,R=1)*P(S=0,R=1)"
   ],
   "metadata": {
    "collapsed": false
   },
   "id": "15e942f0207526c9"
  },
  {
   "cell_type": "code",
   "outputs": [
    {
     "data": {
      "text/plain": "0.1944990176817289"
     },
     "execution_count": 9,
     "metadata": {},
     "output_type": "execute_result"
    }
   ],
   "source": [
    "# P(R=1)=P(R=1|C=T)*P(C=T)+P(R=1|C=F)*P(C=F)\n",
    "P_R_T = (P_R_T_given_C_T * P_C_T) + (P_R_T_given_C_F * P_C_F)\n",
    "\n",
    "# P(S=1|R=1)=P(S=1,R=1)/P(R=1)=P(S=1|C=1)*P(R=1|C=1)*P(C=1)+P(S=1|C=0)*P(R=1|C=0)*P(C=0)\n",
    "P_S_T_given_R_T = (P_S_T_given_C_T * P_R_T_given_C_T * P_C_T +\n",
    "                   P_S_T_given_C_F * P_R_T_given_C_F * P_C_F) / P_R_T\n",
    "P_S_F_given_R_T = 1 - P_S_T_given_R_T\n",
    "\n",
    "# Compute P(W=1|R=1,S=1) and P(W=1|R=1,S=0)\n",
    "P_W_T_given_S_T_R_T = P_W_T_given_S_T_R_T  # This is already given as 0.99\n",
    "P_W_T_given_S_F_R_T = P_W_T_given_S_F_R_T  # This is already given as 0.9\n",
    "\n",
    "# Calculate the numerator P(S=1,W=1,R=1)=P(W=1|S=1,R=1)*P(S=1|R=1)*P(R=1)\n",
    "P_S_T_W_T_R_T = P_W_T_given_S_T_R_T * P_S_T_given_R_T * P_R_T\n",
    "\n",
    "# Calculate the denominator P(W=1,R=1)=[P(W=1|S=1,R=1)*P(S=1,R=1)+P(W=1|S=0,R=1)*P(S=0,R=1)]*P(R=1)\n",
    "P_W_T_R_T = (P_W_T_given_S_T_R_T * P_S_T_given_R_T +\n",
    "             P_W_T_given_S_F_R_T * P_S_F_given_R_T) * P_R_T\n",
    "\n",
    "# Now calculate the conditional probability P(S=1|W=1,R=1)\n",
    "P_S_T_given_W_T_R_T = P_S_T_W_T_R_T / P_W_T_R_T\n",
    "\n",
    "P_S_T_given_W_T_R_T\n"
   ],
   "metadata": {
    "collapsed": false,
    "ExecuteTime": {
     "end_time": "2024-02-06T13:29:48.373293900Z",
     "start_time": "2024-02-06T13:29:48.365322Z"
    }
   },
   "id": "2c2ca8040c43b951",
   "execution_count": 9
  },
  {
   "cell_type": "markdown",
   "source": [
    "## 2. Dynamic Bayesian Network (DBN)\n",
    "动态贝叶斯网络（Dynamic Bayesian Networks，简称DBN）是一种用于建模时间序列数据的概率图模型。它是贝叶斯网络的扩展，用于描述在连续时间点上变量之间的概率关系。DBN通过在不同时间点的贝叶斯网络之间引入额外的边来表示变量随时间的变化。\n",
    "\n",
    "DBN通常由两部分组成：\n",
    "\n",
    "1. 初始网络（Initial Network）：定义了时间序列的第一个时间点（通常表示为 t=1）的所有变量的概率分布。\n",
    "\n",
    "2. 转移网络（Transition Network）：定义了从一个时间点到下一个时间点（例如，从 t 到 t+1）变量之间的转移概率。这包括了在连续时间点的变量之间的条件依赖性。\n",
    "\n",
    "DBN的关键特点包括：\n",
    "\n",
    "- **时间依赖性**：DBN可以捕捉时间序列数据中的动态变化。\n",
    "  \n",
    "- **隐状态**：DBN可以包含观察不到的隐变量，这些变量可以帮助解释可观察变量的变化。\n",
    "  \n",
    "- **模型复杂性**：DBN可以表示复杂的时间依赖结构，但相应地，它们的学习和推断也可能变得更加复杂。\n",
    "  \n",
    "- **灵活性**：DBN可以被用来进行预测、滤波和平滑等多种类型的推断任务。\n",
    "\n",
    "DBN被广泛应用于许多领域，如语音识别、生物信息学中的基因表达数据分析、金融市场分析等。在数据科学和机器学习中，DBN可以用来建模时间序列预测、状态估计或者其他涉及时间依赖数据的问题。"
   ],
   "metadata": {
    "collapsed": false
   },
   "id": "5698e30927fea7f3"
  },
  {
   "cell_type": "markdown",
   "source": [
    "#### Example\n",
    "假设我们想用动态贝叶斯网络（DBN）来模拟股市价格的变化。在这个简化的例子中，我们考虑两个变量：市场情绪（Market Sentiment）和股票价格（Stock Price）。市场情绪是一个隐变量，我们无法直接观察到它，但它会影响股票价格的变动。另一方面，股票价格是一个我们可以直接观察到的变量。\n",
    "\n",
    "在时间 t=1 的时候，我们建立初始网络：\n",
    "我们设 $\\( M_t \\)$ 表示时间点 $\\( t \\)$ 的市场情绪，$\\( P_t \\)$ 表示时间点 $\\( t \\)$ 的股票价格。市场情绪和股票价格都是二元变量，其中市场情绪有正面（+）和负面（-）两种状态，股票价格有上涨（↑）和下跌（↓）两种状态。\n",
    "\n",
    "1. 市场情绪有一个初始的概率分布，比如正面情绪的概率是 50%，负面情绪的概率是 50%。\n",
    "-   $\\[ P(M_1 = +) = 0.5 \\]$\n",
    "- $\\[ P(M_1 = -) = 0.5 \\]$\n",
    "2. 股票价格依赖于市场情绪，如果市场情绪是正面的，那么股票价格上涨的概率是 70%，如果是负面的，那么下跌的概率是 70%。\n",
    "-   $\\[ P(P_1 = ↑ | M_1 = +) = 0.7 \\]$\n",
    "-  $\\[ P(P_1 = ↓ | M_1 = +) = 0.3 \\]$\n",
    "-  $\\[ P(P_1 = ↑ | M_1 = -) = 0.3 \\]$\n",
    "-  $\\[ P(P_1 = ↓ | M_1 = -) = 0.7 \\]$\n",
    "接下来，我们定义转移网络来表示 t 到 t+1 时间的变化：\n",
    "\n",
    "1. 市场情绪在连续的时间点上可能会转变。例如，如果当前市场情绪是正面的，那么它在下一个时间点依然是正面的概率是 80%，变为负面的概率是 20%；如果当前是负面的，那么它保持负面的概率是 60%，变为正面的概率是 40%。\n",
    "- 市场情绪的转移概率：\n",
    "  $\\[ P(M_{t+1} = + | M_t = +) = 0.8 \\]$\n",
    "  $\\[ P(M_{t+1} = - | M_t = +) = 0.2 \\]$\n",
    "  $\\[ P(M_{t+1} = + | M_t = -) = 0.4 \\]$\n",
    "  $\\[ P(M_{t+1} = - | M_t = -) = 0.6 \\]$\n",
    "2. 股票价格的变动依赖于市场情绪。假设如果市场情绪保持正面，那么价格继续上涨的概率是 70%；如果情绪从正面变为负面，那么价格下跌的概率是 70%；如果市场情绪保持负面，那么价格继续下跌的概率是 50%；如果情绪从负面变为正面，那么价格上涨的概率是 50%。\n",
    "- 股票价格的转移概率，依赖于市场情绪的转移：\n",
    "  $\\[ P(P_{t+1} = ↑ | P_t = ↑, M_{t+1} = +) = 0.7 \\]$\n",
    "  $\\[ P(P_{t+1} = ↓ | P_t = ↑, M_{t+1} = -) = 0.7 \\]$\n",
    "  $\\[ P(P_{t+1} = ↑ | P_t = ↓, M_{t+1} = +) = 0.5 \\]$\n",
    "  $\\[ P(P_{t+1} = ↓ | P_t = ↓, M_{t+1} = -) = 0.5 \\]$\n",
    "\n",
    "使用这个DBN，我们可以进行多种推断任务，比如：\n",
    "\n",
    "- **预测**：给定当前和过去的股票价格，我们可以预测未来的价格走势。\n",
    "- **滤波**：给定一系列观察到的股票价格，我们可以估计出当前最可能的市场情绪状态。\n",
    "- **平滑**：给定一个时间段内的股票价格，我们可以估计出该时间段内市场情绪的最可能序列。\n",
    "\n",
    "在上述例子中，我们可以用数学公式来定义动态贝叶斯网络（DBN）。\n",
    "\n",
    "通过上面的概率，我们可以计算在任意时间点 $\\( t \\)$ 的股票价格 $\\( P_t \\)$ 和市场情绪 $\\( M_t \\)$ 的联合概率分布。此外，如果我们有观察到的股票价格序列，我们可以使用这个模型来估计隐状态（市场情绪）的序列，或者预测未来的股票价格。在实际应用中，这些概率值会通过从历史数据学习获得。"
   ],
   "metadata": {
    "collapsed": false
   },
   "id": "f8d523ff762788b1"
  }
 ],
 "metadata": {
  "kernelspec": {
   "display_name": "Python 3",
   "language": "python",
   "name": "python3"
  },
  "language_info": {
   "codemirror_mode": {
    "name": "ipython",
    "version": 2
   },
   "file_extension": ".py",
   "mimetype": "text/x-python",
   "name": "python",
   "nbconvert_exporter": "python",
   "pygments_lexer": "ipython2",
   "version": "2.7.6"
  }
 },
 "nbformat": 4,
 "nbformat_minor": 5
}
