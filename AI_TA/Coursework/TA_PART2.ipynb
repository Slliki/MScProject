{
 "cells": [
  {
   "cell_type": "markdown",
   "source": [
    "# Text Analysis Part2 - Named Entity Recognition (NER) \n",
    "\n"
   ],
   "metadata": {
    "collapsed": false
   },
   "id": "7dfe1e6007dd2718"
  },
  {
   "cell_type": "code",
   "outputs": [],
   "source": [
    "from datasets import load_dataset\n",
    "import numpy as np\n",
    "import pandas as pd\n",
    "import matplotlib.pyplot as plt\n",
    "from nltk.tag import CRFTagger\n",
    "import re, unicodedata\n",
    "import nltk\n",
    "from nltk.stem import PorterStemmer\n",
    "from nltk import pos_tag\n",
    "from seqeval.metrics import precision_score, recall_score, f1_score, classification_report"
   ],
   "metadata": {
    "collapsed": false,
    "ExecuteTime": {
     "end_time": "2024-04-12T21:56:56.156039Z",
     "start_time": "2024-04-12T21:56:54.512786Z"
    }
   },
   "id": "ef5ad0dd046aed4b",
   "execution_count": 3
  },
  {
   "cell_type": "markdown",
   "source": [
    "# 1. Load the dataset\n",
    "Load the BC5CDR dataset from the Hugging Face datasets library.\n",
    "Use train and validation sets for training, and the test set for testing.\n",
    "\n",
    "Map the labels to the following tags:\n",
    "```\n",
    "{\n",
    "    0: \"O\",\n",
    "    1: \"B-Chemical\",\n",
    "    2: \"B-Disease\",\n",
    "    3: \"I-Disease\",\n",
    "    4: \"I-Chemical\"\n",
    "}"
   ],
   "metadata": {
    "collapsed": false
   },
   "id": "124dd26fe746006a"
  },
  {
   "cell_type": "code",
   "execution_count": 4,
   "id": "initial_id",
   "metadata": {
    "collapsed": true,
    "ExecuteTime": {
     "end_time": "2024-04-12T21:57:05.107241Z",
     "start_time": "2024-04-12T21:57:00.819909Z"
    }
   },
   "outputs": [],
   "source": [
    "dataset = load_dataset(\n",
    "    \"tner/bc5cdr\", \n",
    "    cache_dir=\"./NLP_data_cache\",\n",
    ")\n",
    "\n",
    "train_dataset= dataset[\"train\"]\n",
    "val_dataset = dataset[\"validation\"]\n",
    "test_dataset = dataset[\"test\"]"
   ]
  },
  {
   "cell_type": "code",
   "outputs": [],
   "source": [
    "# 定义标签的映射\n",
    "ner_tag_mapping= {0: \"O\",1: \"B-Chemical\",2: \"B-Disease\",3: \"I-Disease\",4: \"I-Chemical\"}\n",
    "\n",
    "train_set=[list(zip(s['tokens'], [ner_tag_mapping[tok] for tok in s['tags']])) for s in train_dataset][:-1]\n",
    "val_set=[list(zip(s['tokens'], [ner_tag_mapping[tok] for tok in s['tags']])) for s in val_dataset][:-1]\n",
    "test_set=[list(zip(s['tokens'], [ner_tag_mapping[tok] for tok in s['tags']])) for s in test_dataset][:-1]\n",
    "\n",
    "train_set=train_set+val_set\n",
    "test_tokens = [s['tokens'] for s in test_dataset][:-1]\n",
    "test_tags = [[ner_tag_mapping[tok] for tok in s['tags']] for s in test_dataset][:-1]"
   ],
   "metadata": {
    "collapsed": false,
    "ExecuteTime": {
     "end_time": "2024-04-12T21:57:41.163235Z",
     "start_time": "2024-04-12T21:57:39.693254Z"
    }
   },
   "id": "9737e264922659cc",
   "execution_count": 5
  },
  {
   "cell_type": "markdown",
   "source": [
    "# 2. Train a CRF NER tagger\n",
    "\n"
   ],
   "metadata": {
    "collapsed": false
   },
   "id": "73a32b8ed27b842"
  },
  {
   "cell_type": "markdown",
   "source": [
    "## 2.1 Train a CRF NER tagger and evaluate its performance\n",
    "To evaluate a CRF NER tagger, we need to calculate the span-level F1 score. The span-level F1 score is calculated on the level of named entities, and it is the harmonic mean of precision and recall. \n",
    "\n"
   ],
   "metadata": {
    "collapsed": false
   },
   "id": "aa24380b94c106e3"
  },
  {
   "cell_type": "code",
   "outputs": [],
   "source": [
    "# 1. Customized CRF Tagger\n",
    "class CustomCRFTagger(CRFTagger):\n",
    "    def _get_features(self, tokens, idx):\n",
    "\n",
    "        token = tokens[idx]\n",
    "        feature_list = [\n",
    "            'bias',  # 偏置项\n",
    "            'word.lower=' + token.lower(), # 小写形式\n",
    "            'word[-3:]=' + token[-3:],  # 后缀\n",
    "            'word[-2:]=' + token[-2:],  # 后缀\n",
    "            'word.isupper=%s' % token.isupper(), # 是否全大写\n",
    "            'word.istitle=%s' % token.istitle(), # 是否首字母大写\n",
    "            'word.isdigit=%s' % token.isdigit(), # 是否是数字\n",
    "            'word.chemical_suffix=%s' % bool(re.match(r'.*(ate|ium|ide|ite)$', token.lower())),  # 化学品常见后缀\n",
    "            'word.disease_suffix=%s' % bool(re.match(r'.*(itis|osis|oma|pathy|ectomy|megaly)$', token.lower())),  # 疾病常见后缀\n",
    "            'word.disease_prefix=%s' % bool(re.match(r'^(Arthro|Cysto|Osteo|Neuro)', token)),  # 疾病常见前缀+后缀\n",
    "        ]\n",
    "        \n",
    "        # 添加上下文特征\n",
    "        if idx > 0: # 如果不是句子的第一个单词\n",
    "            prev_token = tokens[idx-1]\n",
    "            feature_list.extend([\n",
    "                '-1:word.lower=' + prev_token.lower(), # 前一个单词的小写形式\n",
    "                '-1:word.istitle=%s' % prev_token.istitle(), # 前一个单词是否首字母大写\n",
    "                '-1:word.isupper=%s' % prev_token.isupper(), # 前一个单词是否全大写\n",
    "            ])\n",
    "        else:\n",
    "            feature_list.append(\"BOS\")  # 句子开始\n",
    "        \n",
    "        if idx < len(tokens)-1: # 如果不是句子的最后一个单词\n",
    "            next_token = tokens[idx+1]\n",
    "            feature_list.extend([\n",
    "                '+1:word.lower=' + next_token.lower(), # 后一个单词的小写形式\n",
    "                '+1:word.istitle=%s' % next_token.istitle(), # 后一个单词是否首字母大写\n",
    "                '+1:word.isupper=%s' % next_token.isupper(), # 后一个单词是否全大写\n",
    "            ])\n",
    "        else:\n",
    "            feature_list.append(\"EOS\")  # 句子结束\n",
    "        \n",
    "        return feature_list"
   ],
   "metadata": {
    "collapsed": false,
    "ExecuteTime": {
     "end_time": "2024-04-12T21:57:54.309554Z",
     "start_time": "2024-04-12T21:57:54.292955Z"
    }
   },
   "id": "40f4b92e410228b7",
   "execution_count": 6
  },
  {
   "cell_type": "code",
   "outputs": [],
   "source": [
    "# 2. POS Tagger\n",
    "class CustomCRFTaggerWithPOS(CRFTagger):\n",
    "    def _get_features(self, tokens, idx):\n",
    "        token, pos = tokens[idx] # 这里的token=word, pos=POS标签\n",
    "        feature_list = [\n",
    "            'bias',\n",
    "            'word.lower=' + token.lower(),\n",
    "            'word[-3:]=' + token[-3:],\n",
    "            'word[-2:]=' + token[-2:],\n",
    "            'word.isupper=%s' % token.isupper(),\n",
    "            'word.istitle=%s' % token.istitle(),\n",
    "            'word.isdigit=%s' % token.isdigit(),\n",
    "            'word.ischemical=%s' % bool(re.match(r'.*(ate|ium|ide|ite)$', token.lower())),\n",
    "            'word.disease_suffix=%s' % bool(re.match(r'.*(itis|osis|oma|pathy|paresis|plegia|odynia|spasm|algia|megaly|pania|emia)$', token.lower())),\n",
    "            'word.disease_prefix=%s' % bool(re.match(r'^(arthro|cysto|osteo|neuro)', token, re.IGNORECASE)),\n",
    "            'pos=' + pos,  # 添加POS特征\n",
    "        ]\n",
    "\n",
    "        if idx > 0: # 如果不是句子的第一个单词\n",
    "            prev_token, prev_pos = tokens[idx-1] # 获取前一个单词的大小写形式和POS标签\n",
    "            feature_list.extend([\n",
    "                '-1:word.lower=' + prev_token.lower(),\n",
    "                '-1:word.istitle=%s' % prev_token.istitle(),\n",
    "                '-1:word.isupper=%s' % prev_token.isupper(),\n",
    "                '-1:pos=' + prev_pos,\n",
    "            ])\n",
    "        else:\n",
    "            feature_list.append(\"BOS\")\n",
    "        \n",
    "        if idx < len(tokens) - 1: # 如果不是句子的最后一个单词\n",
    "            next_token, next_pos = tokens[idx+1] # 获取后一个单词的大小写形式和POS标签\n",
    "            feature_list.extend([\n",
    "                '+1:word.lower=' + next_token.lower(),\n",
    "                '+1:word.istitle=%s' % next_token.istitle(),\n",
    "                '+1:word.isupper=%s' % next_token.isupper(),\n",
    "                '+1:pos=' + next_pos,\n",
    "            ])\n",
    "        else:\n",
    "            feature_list.append(\"EOS\")\n",
    "        \n",
    "        return feature_list"
   ],
   "metadata": {
    "collapsed": false,
    "ExecuteTime": {
     "end_time": "2024-04-12T21:58:46.009520Z",
     "start_time": "2024-04-12T21:58:45.989282Z"
    }
   },
   "id": "362581a93ee8099",
   "execution_count": 8
  },
  {
   "cell_type": "code",
   "outputs": [],
   "source": [
    "# 3. POS and Stemming Tagger\n",
    "class CustomCRFTaggerWithPOSAndStemming(CustomCRFTaggerWithPOS):\n",
    "    def __init__(self, *args, **kwargs):\n",
    "        super(CustomCRFTaggerWithPOSAndStemming, self).__init__(*args, **kwargs)\n",
    "        self.stemmer = PorterStemmer()\n",
    "\n",
    "    def _get_features(self, tokens, idx):\n",
    "        token, pos = tokens[idx]  # 这里的token=word, pos=POS标签\n",
    "        stem = self.stemmer.stem(token)  # 提取词干\n",
    "\n",
    "        feature_list = super(CustomCRFTaggerWithPOSAndStemming, self)._get_features(tokens, idx)\n",
    "\n",
    "        # 添加词干特征\n",
    "        feature_list.append('stem=' + stem)\n",
    "\n",
    "        return feature_list"
   ],
   "metadata": {
    "collapsed": false,
    "ExecuteTime": {
     "end_time": "2024-04-12T21:58:50.186627Z",
     "start_time": "2024-04-12T21:58:50.178622Z"
    }
   },
   "id": "d73af32642b68a7f",
   "execution_count": 9
  },
  {
   "cell_type": "code",
   "outputs": [],
   "source": [
    "# extract pos tags as features\n",
    "def preprocess_data_for_pos(data):\n",
    "    \"\"\"将数据集转换为包含词性标注的格式，同时保留NER标签\"\"\"\n",
    "    processed_data = []\n",
    "    for sent in data:\n",
    "        words, ner_tags = zip(*sent)  # 分离单词和NER标签\n",
    "        pos_tags = [pos for word, pos in pos_tag(words)]  # 对单词进行词性标注\n",
    "        \n",
    "        processed_sent = [((word, pos), tag) for word, pos, tag in zip(words, pos_tags, ner_tags)]\n",
    "        processed_data.append(processed_sent)\n",
    "    return processed_data\n",
    "\n",
    "train_set_pos = preprocess_data_for_pos(train_set) # [(('word1', 'pos1'), 'tag1'), (('word2', 'pos2'), 'tag2'), ...]\n",
    "test_set_pos = preprocess_data_for_pos(test_set)\n",
    "\n",
    "# transform predicted tags to the same format as test_tags\n",
    "def transform_tags(predicted_tags):\n",
    "    # 将预测的标签转换为[[tag1, tag2, ...], [tag1, tag2, ...], ...]的形式,与test_tags的形式一致\n",
    "    return [[tag for word, tag in sent] for sent in predicted_tags]\n",
    "\n",
    "# Train a CRF NER tagger\n",
    "def train_CRF_NER_tagger(train_set, tagger_name):\n",
    "    tagger = tagger_name\n",
    "    tagger.train(train_set, 'crf.tagger')\n",
    "    return tagger  # return the trained model"
   ],
   "metadata": {
    "collapsed": false,
    "ExecuteTime": {
     "end_time": "2024-04-12T22:00:10.991191Z",
     "start_time": "2024-04-12T21:59:58.512961Z"
    }
   },
   "id": "ef214efe8b3473d0",
   "execution_count": 12
  },
  {
   "cell_type": "code",
   "outputs": [
    {
     "name": "stdout",
     "output_type": "stream",
     "text": [
      "              precision    recall  f1-score   support\n",
      "\n",
      "    Chemical       0.90      0.81      0.85      5384\n",
      "     Disease       0.80      0.63      0.71      4421\n",
      "\n",
      "   micro avg       0.86      0.73      0.79      9805\n",
      "   macro avg       0.85      0.72      0.78      9805\n",
      "weighted avg       0.86      0.73      0.79      9805\n"
     ]
    }
   ],
   "source": [
    "# Original CRF Tagger\n",
    "tagger = train_CRF_NER_tagger(train_set,CRFTagger())\n",
    "predicted_tags = tagger.tag_sents(test_tokens) # [('word1', 'tag1'), ('word2', 'tag2'), ...]  BIO标签\n",
    "# cal_span_level_f1(test_set, predicted_tags)\n",
    "\n",
    "# 使用seqeval库计算F1值\n",
    "transformed_predicted_tags = transform_tags(predicted_tags)\n",
    "print(classification_report(test_tags, transformed_predicted_tags)) # test_tags: [['tag1', 'tag2', ...], ['tag1', 'tag2', ...], ...] BIO标签"
   ],
   "metadata": {
    "collapsed": false,
    "ExecuteTime": {
     "end_time": "2024-04-12T22:00:29.838184Z",
     "start_time": "2024-04-12T22:00:13.092731Z"
    }
   },
   "id": "71d7e5f1e2e3b486",
   "execution_count": 13
  },
  {
   "cell_type": "code",
   "outputs": [
    {
     "name": "stdout",
     "output_type": "stream",
     "text": [
      "              precision    recall  f1-score   support\n",
      "\n",
      "    Chemical       0.92      0.82      0.87      5384\n",
      "     Disease       0.84      0.69      0.76      4421\n",
      "\n",
      "   micro avg       0.88      0.76      0.82      9805\n",
      "   macro avg       0.88      0.75      0.81      9805\n",
      "weighted avg       0.88      0.76      0.82      9805\n"
     ]
    }
   ],
   "source": [
    "# Customized CRF Tagger\n",
    "tagger = train_CRF_NER_tagger(train_set,CustomCRFTagger())\n",
    "predicted_tags = tagger.tag_sents(test_tokens)\n",
    "# cal_span_level_f1(test_set, predicted_tags)\n",
    "\n",
    "transformed_predicted_tags = transform_tags(predicted_tags)\n",
    "print(classification_report(test_tags, transformed_predicted_tags))"
   ],
   "metadata": {
    "collapsed": false,
    "ExecuteTime": {
     "end_time": "2024-04-12T22:07:20.323291Z",
     "start_time": "2024-04-12T22:06:17.841942Z"
    }
   },
   "id": "b4404b244387e821",
   "execution_count": 14
  },
  {
   "cell_type": "code",
   "outputs": [],
   "source": [
    "# Customized with POS CRF Tagger\n",
    "test_tokens_pos = [[(word, pos) for (word, pos), tag in sent] for sent in test_set_pos]\n",
    "\n",
    "tagger = train_CRF_NER_tagger(train_set_pos, CustomCRFTaggerWithPOS())\n",
    "predicted_tags = tagger.tag_sents(test_tokens_pos)\n",
    "# cal_span_level_f1(test_set, predicted_tags)\n",
    "\n",
    "transformed_predicted_tags = transform_tags(predicted_tags)\n",
    "print(classification_report(test_tags, transformed_predicted_tags))"
   ],
   "metadata": {
    "collapsed": false,
    "ExecuteTime": {
     "end_time": "2024-04-12T22:09:06.384086Z",
     "start_time": "2024-04-12T22:09:06.211035Z"
    }
   },
   "id": "6681330fd3761bd3",
   "execution_count": 16
  },
  {
   "cell_type": "code",
   "outputs": [
    {
     "name": "stdout",
     "output_type": "stream",
     "text": [
      "              precision    recall  f1-score   support\n",
      "\n",
      "    Chemical       0.92      0.83      0.87      5384\n",
      "     Disease       0.84      0.73      0.78      4421\n",
      "\n",
      "   micro avg       0.89      0.78      0.83      9805\n",
      "   macro avg       0.88      0.78      0.83      9805\n",
      "weighted avg       0.89      0.78      0.83      9805\n"
     ]
    }
   ],
   "source": [
    "# Customized with POS and Stemming CRF Tagger\n",
    "tagger = train_CRF_NER_tagger(train_set_pos, CustomCRFTaggerWithPOSAndStemming())\n",
    "predicted_tags = tagger.tag_sents(test_tokens_pos)\n",
    "# cal_span_level_f1(test_set, predicted_tags)\n",
    "\n",
    "transformed_predicted_tags = transform_tags(predicted_tags)\n",
    "print(classification_report(test_tags, transformed_predicted_tags))"
   ],
   "metadata": {
    "collapsed": false,
    "ExecuteTime": {
     "end_time": "2024-04-12T22:10:29.041757Z",
     "start_time": "2024-04-12T22:09:09.104164Z"
    }
   },
   "id": "c226a171708fe287",
   "execution_count": 17
  },
  {
   "cell_type": "markdown",
   "source": [
    "1. 原版Tagger：0.8511，0.7078，0.7794\n",
    "2. 自定义Tagger：0.8648，0.7601，0.8125\n",
    "3. 自定义+pos：0.8744，0.7636，0.8140\n",
    "4. 自定义+pos+stem：0.8730，0.7845，0.8288"
   ],
   "metadata": {
    "collapsed": false
   },
   "id": "b39be2324039347d"
  },
  {
   "cell_type": "code",
   "outputs": [
    {
     "name": "stdout",
     "output_type": "stream",
     "text": [
      "Sentence 3: Famotidine is a histamine H2 - receptor antagonist used in inpatient settings for prevention of stress ulcers and is showing increasing popularity because of its low cost .\n",
      "   Word 'histamine': True tag = O, Predicted tag = B-Chemical\n",
      "   Word 'ulcers': True tag = B-Disease, Predicted tag = O\n",
      "Sentence 9: After a single oral dose of 4 mg / kg indomethacin ( IDM ) to sodium and volume depleted rats plasma renin activity ( PRA ) and systolic blood pressure fell significantly within four hours .\n",
      "   Word 'IDM': True tag = B-Chemical, Predicted tag = O\n",
      "   Word 'PRA': True tag = O, Predicted tag = B-Chemical\n",
      "Sentence 13: Scleroderma renal crisis ( SRC ) is a rare complication of systemic sclerosis ( SSc ) but can be severe enough to require temporary or permanent renal replacement therapy .\n",
      "   Word 'SRC': True tag = B-Disease, Predicted tag = O\n",
      "   Word 'SSc': True tag = B-Disease, Predicted tag = O\n",
      "Sentence 14: Moderate to high dose corticosteroid use is recognized as a major risk factor for SRC .\n",
      "   Word 'SRC': True tag = B-Disease, Predicted tag = O\n",
      "Sentence 15: Furthermore , there have been reports of thrombotic microangiopathy precipitated by cyclosporine in patients with SSc .\n",
      "   Word 'SSc': True tag = B-Disease, Predicted tag = O\n"
     ]
    }
   ],
   "source": [
    "def analyze_tagging_errors(test_set, predicted_tags):\n",
    "    errors = []\n",
    "    # 比较预测结果和实际标签\n",
    "    for sent_idx, (sent, pred) in enumerate(zip(test_set, predicted_tags)):\n",
    "        sentence_errors = []\n",
    "        for ((word, true_tag), (pred_data, pred_tag)) in zip(sent, pred):\n",
    "            if true_tag != pred_tag:\n",
    "                error_type = (true_tag, pred_tag)\n",
    "                sentence_errors.append((word, error_type))\n",
    "        if sentence_errors:\n",
    "            original_sentence = \" \".join([word for (word, _) in sent])\n",
    "            errors.append((sent_idx, original_sentence, sentence_errors))\n",
    "    return errors\n",
    "\n",
    "# 使用函数\n",
    "errors = analyze_tagging_errors(test_set, predicted_tags) # [(sent_idx, original_sentence, [(word, (true_tag, pred_tag)), ...]), ...]\n",
    "\n",
    "# 打印错误\n",
    "for error in errors[0:5]:\n",
    "    sent_idx, original_sentence, sentence_errors = error\n",
    "    print(f\"Sentence {sent_idx + 1}: {original_sentence}\")\n",
    "    for word, (true_tag, pred_tag) in sentence_errors:\n",
    "        print(f\"   Word '{word}': True tag = {true_tag}, Predicted tag = {pred_tag}\")"
   ],
   "metadata": {
    "collapsed": false,
    "ExecuteTime": {
     "end_time": "2024-04-11T11:44:08.139970Z",
     "start_time": "2024-04-11T11:44:08.112971Z"
    }
   },
   "id": "f1f8c69eae5c2b5c",
   "execution_count": 31
  },
  {
   "cell_type": "markdown",
   "source": [
    "Sentence 9: After a single oral dose of 4 mg / kg indomethacin ( IDM ) to sodium and volume depleted rats plasma renin activity ( PRA ) and systolic blood pressure fell significantly within four hours .\n",
    "Word 'IDM': True tag = B-Chemical, Predicted tag = O\n",
    "Word 'PRA': True tag = O, Predicted tag = B-Chemical\n",
    "\n",
    "\n",
    "缩写的错误识别和遗漏，如“IDM”和“SRC”未被识别为化学物质和疾病，表明模型在处理特定领域（如医学领域）的缩写时效果不佳。对于具有特定上下文的疾病缩写，如“SRC”和“SSc”，模型表现出连续性的识别问题，这些缩写在多个句子中被一致遗漏。\n",
    "\n",
    "这些错误反映出模型在理解上下文、处理领域特定缩写以及一致性标记上存在的挑战。针对这些问题，未来的改进措施可以包括使用更先进的上下文依赖的模型如 BERT 或其变种，这些模型能更好地理解词语在句子中的具体含义和用法。另一方面，加强训练数据中上下文多样性，确保模型可以在多种句子结构中正确理解和标记实体。并且可以增强对缩写和同义词的处理能力，以及增加训练数据的多样性和专业审核。通过这些方法，可以提高模型的准确性和鲁棒性，从而在实际应用中减少错误标记。"
   ],
   "metadata": {
    "collapsed": false
   },
   "id": "3790555e9cbcad24"
  },
  {
   "cell_type": "code",
   "outputs": [
    {
     "data": {
      "text/plain": "<Figure size 1600x1000 with 1 Axes>",
      "image/png": "[encoded data removed]"
     },
     "metadata": {},
     "output_type": "display_data"
    }
   ],
   "source": [
    "import matplotlib.pyplot as plt\n",
    "import seaborn as sns\n",
    "\n",
    "# 数据\n",
    "taggers = ['Tagger 1', 'Tagger 2', 'Tagger 3']\n",
    "precision_macro = [0.85, 0.88, 0.88]\n",
    "recall_macro = [0.72, 0.75, 0.78]\n",
    "f1_macro = [0.78, 0.81, 0.83]\n",
    "metrics = ['Macro Precision', 'Macro Recall', 'Macro F1-Score']\n",
    "\n",
    "# 设置Seaborn的颜色调色板\n",
    "colors = sns.color_palette(\"Set2\")\n",
    "\n",
    "# 创建柱状图\n",
    "fig, ax = plt.subplots(figsize=(16, 10))\n",
    "bar_width = 0.25  # 柱宽\n",
    "\n",
    "# 绘制柱状图\n",
    "for i, tagger in enumerate(taggers):\n",
    "    ax.bar([x + i * bar_width for x in range(len(metrics))], \n",
    "           [precision_macro[i], recall_macro[i], f1_macro[i]], \n",
    "           bar_width, label=tagger, color=colors[i])\n",
    "\n",
    "# 设置图表标题和标签\n",
    "# ax.set_xlabel('Metric')\n",
    "ax.set_ylabel('Score')\n",
    "# ax.set_title('Comparison of Macro Average Scores by Tagger')\n",
    "ax.set_xticks([x + bar_width for x in range(len(metrics))])\n",
    "ax.set_xticklabels(metrics,fontsize=22)\n",
    "ax.legend(title=\"Tagger\")\n",
    "\n",
    "# 显示图表\n",
    "plt.show()\n"
   ],
   "metadata": {
    "collapsed": false,
    "ExecuteTime": {
     "end_time": "2024-04-12T20:00:40.754846Z",
     "start_time": "2024-04-12T20:00:40.582967Z"
    }
   },
   "id": "ffa5d886fa85ab0c",
   "execution_count": 1
  },
  {
   "cell_type": "markdown",
   "source": [
    "# 3. Calculate the similarity of Disease Entities\n",
    "\n",
    "首先需要将测试集中的疾病实体提取出来，并将其转换为带有下划线的形式，以便在建立词向量模型时对整个实体进行识别，而不是单独识别其中的词。然后，我们将使用Word2Vec模型建立词嵌入向量，并分别使用余弦相似度和皮尔森相关系数计算给定疾病实体与其他疾病实体之间的相似性。"
   ],
   "metadata": {
    "collapsed": false
   },
   "id": "3608d260aa712f1e"
  },
  {
   "cell_type": "code",
   "outputs": [
    {
     "data": {
      "text/plain": "['delirium',\n 'ulcers',\n 'delirium',\n 'delirium',\n 'hypotension',\n 'scleroderma_renal_crisis',\n 'Scleroderma_renal_crisis',\n 'SRC',\n 'systemic_sclerosis',\n 'SSc']"
     },
     "execution_count": 93,
     "metadata": {},
     "output_type": "execute_result"
    }
   ],
   "source": [
    "def extract_diseases(test_set):\n",
    "    diseases = []\n",
    "    current_disease = []  # 用于存储当前正在处理的疾病名称（可能跨越多个词）\n",
    "\n",
    "    for sentence in test_set:  # 遍历句子\n",
    "        for word, tag in sentence:  # 遍历句子中的每个单词和标签\n",
    "            if tag == 'B-Disease':\n",
    "                if current_disease:  # 如果当前疾病名称不为空，说明已经到了一个新的疾病名称的开始\n",
    "                    diseases.append(\" \".join(current_disease))  # 将当前疾病名称添加到列表中\n",
    "                    current_disease = []  # 重置当前疾病名称列表\n",
    "                current_disease.append(word)  # 开始新的疾病名称\n",
    "            elif tag == 'I-Disease' and current_disease:  # 如果是疾病名称的一部分，并且当前疾病名称列表不为空\n",
    "                current_disease.append(word)  # 添加到当前疾病名称\n",
    "            elif current_disease:  # 如果当前有未完成的疾病名称，并且遇到了非疾病标签\n",
    "                diseases.append(\" \".join(current_disease))  # 将当前疾病名称添加到列表中\n",
    "                current_disease = []  # 重置当前疾病名称列表\n",
    "\n",
    "    if current_disease:  # 检查并添加最后一个疾病名称（如果有）\n",
    "        diseases.append(\" \".join(current_disease))\n",
    "\n",
    "    return diseases\n",
    "\n",
    "# 提取测试集中的疾病名称\n",
    "test_diseases = extract_diseases(test_set)\n",
    "\n",
    "# 将疾病实体中的空格替换为下划线\n",
    "transformed_test_diseases = [disease.replace(\" \", \"_\") for disease in test_diseases]\n",
    "\n",
    "transformed_test_diseases[:10]"
   ],
   "metadata": {
    "collapsed": false,
    "ExecuteTime": {
     "end_time": "2024-04-11T13:52:07.494852Z",
     "start_time": "2024-04-11T13:52:07.475843Z"
    }
   },
   "id": "64f7d45af33feccf",
   "execution_count": 93
  },
  {
   "cell_type": "code",
   "outputs": [
    {
     "data": {
      "text/plain": "[['Famotidine', '-', 'associated', 'delirium', '.'],\n ['A', 'series', 'of', 'six', 'cases', '.'],\n ['Famotidine',\n  'is',\n  'a',\n  'histamine',\n  'H2',\n  '-',\n  'receptor',\n  'antagonist',\n  'used',\n  'in',\n  'inpatient',\n  'settings',\n  'for',\n  'prevention',\n  'of',\n  'stress',\n  'ulcers',\n  'and',\n  'is',\n  'showing',\n  'increasing',\n  'popularity',\n  'because',\n  'of',\n  'its',\n  'low',\n  'cost',\n  '.'],\n ['Although',\n  'all',\n  'of',\n  'the',\n  'currently',\n  'available',\n  'H2',\n  '-',\n  'receptor',\n  'antagonists',\n  'have',\n  'shown',\n  'the',\n  'propensity',\n  'to',\n  'cause',\n  'delirium',\n  ',',\n  'only',\n  'two',\n  'previously',\n  'reported',\n  'cases',\n  'have',\n  'been',\n  'associated',\n  'with',\n  'famotidine',\n  '.'],\n ['The',\n  'authors',\n  'report',\n  'on',\n  'six',\n  'cases',\n  'of',\n  'famotidine',\n  '-',\n  'associated',\n  'delirium',\n  'in',\n  'hospitalized',\n  'patients',\n  'who',\n  'cleared',\n  'completely',\n  'upon',\n  'removal',\n  'of',\n  'famotidine',\n  '.'],\n ['The',\n  'pharmacokinetics',\n  'of',\n  'famotidine',\n  'are',\n  'reviewed',\n  ',',\n  'with',\n  'no',\n  'change',\n  'in',\n  'its',\n  'metabolism',\n  'in',\n  'the',\n  'elderly',\n  'population',\n  'seen',\n  '.'],\n ['The', 'implications', 'of', 'using', 'famotidine'],\n ['Indomethacin',\n  'induced',\n  'hypotension',\n  'in',\n  'sodium',\n  'and',\n  'volume',\n  'depleted',\n  'rats',\n  '.'],\n ['After',\n  'a',\n  'single',\n  'oral',\n  'dose',\n  'of',\n  '4',\n  'mg',\n  '/',\n  'kg',\n  'indomethacin',\n  '(',\n  'IDM',\n  ')',\n  'to',\n  'sodium',\n  'and',\n  'volume',\n  'depleted',\n  'rats',\n  'plasma',\n  'renin',\n  'activity',\n  '(',\n  'PRA',\n  ')',\n  'and',\n  'systolic',\n  'blood',\n  'pressure',\n  'fell',\n  'significantly',\n  'within',\n  'four',\n  'hours',\n  '.'],\n ['In',\n  'sodium',\n  'repleted',\n  'animals',\n  'indomethacin',\n  'did',\n  'not',\n  'change',\n  'systolic',\n  'blood',\n  'pressure',\n  '(',\n  'BP',\n  ')',\n  'although',\n  'plasma',\n  'renin',\n  'activity',\n  'was',\n  'decreased',\n  '.'],\n ['Thus',\n  ',',\n  'indomethacin',\n  'by',\n  'inhibition',\n  'of',\n  'prostaglandin',\n  'synthesis',\n  'may',\n  'diminish',\n  'the',\n  'blood',\n  'pressure',\n  'maintaining',\n  'effect',\n  'of',\n  'the',\n  'stimulated',\n  'renin',\n  '-',\n  'angiotensin',\n  'system',\n  'in',\n  'sodium'],\n ['Late',\n  '-',\n  'onset',\n  'scleroderma_renal_crisis',\n  'induced',\n  'by',\n  'tacrolimus',\n  'and',\n  'prednisolone',\n  ':',\n  'a',\n  'case',\n  'report',\n  '.'],\n ['Scleroderma_renal_crisis',\n  '(',\n  'SRC',\n  ')',\n  'is',\n  'a',\n  'rare',\n  'complication',\n  'of',\n  'systemic_sclerosis',\n  '(',\n  'SSc',\n  ')',\n  'but',\n  'can',\n  'be',\n  'severe',\n  'enough',\n  'to',\n  'require',\n  'temporary',\n  'or',\n  'permanent',\n  'renal',\n  'replacement',\n  'therapy',\n  '.'],\n ['Moderate',\n  'to',\n  'high',\n  'dose',\n  'corticosteroid',\n  'use',\n  'is',\n  'recognized',\n  'as',\n  'a',\n  'major',\n  'risk',\n  'factor',\n  'for',\n  'SRC',\n  '.'],\n ['Furthermore',\n  ',',\n  'there',\n  'have',\n  'been',\n  'reports',\n  'of',\n  'thrombotic_microangiopathy',\n  'precipitated',\n  'by',\n  'cyclosporine',\n  'in',\n  'patients',\n  'with',\n  'SSc',\n  '.'],\n ['In',\n  'this',\n  'article',\n  ',',\n  'we',\n  'report',\n  'a',\n  'patient',\n  'with',\n  'SRC',\n  'induced',\n  'by',\n  'tacrolimus',\n  'and',\n  'corticosteroids',\n  '.'],\n ['The',\n  'aim',\n  'of',\n  'this',\n  'work',\n  'is',\n  'to',\n  'call',\n  'attention',\n  'to',\n  'the',\n  'risk',\n  'of',\n  'tacrolimus',\n  'use',\n  'in',\n  'patients',\n  'with',\n  'SSc'],\n ['The',\n  'risk',\n  'and',\n  'associated',\n  'factors',\n  'of',\n  'methamphetamine',\n  'psychosis',\n  'in',\n  'methamphetamine',\n  '-',\n  'dependent',\n  'patients',\n  'in',\n  'Malaysia',\n  '.'],\n ['OBJECTIVE',\n  ':',\n  'The',\n  'objective',\n  'of',\n  'this',\n  'study',\n  'was',\n  'to',\n  'determine',\n  'the',\n  'risk',\n  'of',\n  'lifetime',\n  'and',\n  'current',\n  'methamphetamine',\n  '-',\n  'induced',\n  'psychosis',\n  'in',\n  'patients',\n  'with',\n  'methamphetamine',\n  'dependence',\n  '.'],\n ['The',\n  'association',\n  'between',\n  'psychiatric',\n  'co',\n  '-',\n  'morbidity',\n  'and',\n  'methamphetamine',\n  '-',\n  'induced',\n  'psychosis',\n  'was',\n  'also',\n  'studied',\n  '.']]"
     },
     "execution_count": 95,
     "metadata": {},
     "output_type": "execute_result"
    }
   ],
   "source": [
    "# 将test_tokens中的疾病实体替换为transformed_test_diseases中的疾病实体\n",
    "transformed_test_tokens = []\n",
    "for sentence in test_tokens:\n",
    "    sentence_str = \" \".join(sentence)  # 将句子连接成一个字符串\n",
    "    for disease, transformed_disease in zip(test_diseases, transformed_test_diseases):\n",
    "        # 使用正则表达式将疾病实体替换为带有下划线的版本\n",
    "        sentence_str = re.sub(r'\\b' + re.escape(disease) + r'\\b', transformed_disease, sentence_str)\n",
    "    transformed_sentence = sentence_str.split()  # 将替换后的字符串再次分割成单词列表\n",
    "    transformed_test_tokens.append(transformed_sentence)\n",
    "\n",
    "transformed_test_tokens[:20]"
   ],
   "metadata": {
    "collapsed": false,
    "ExecuteTime": {
     "end_time": "2024-04-11T14:00:44.841634Z",
     "start_time": "2024-04-11T13:55:06.713919Z"
    }
   },
   "id": "cf87c31fa71100e2",
   "execution_count": 95
  },
  {
   "cell_type": "code",
   "outputs": [
    {
     "data": {
      "text/plain": "[['Famotidine', '-', 'associated', 'delirium', '.'],\n ['A', 'series', 'of', 'six', 'cases', '.'],\n ['Famotidine',\n  'is',\n  'a',\n  'histamine',\n  'H2',\n  '-',\n  'receptor',\n  'antagonist',\n  'used',\n  'in',\n  'inpatient',\n  'settings',\n  'for',\n  'prevention',\n  'of',\n  'stress',\n  'ulcers',\n  'and',\n  'is',\n  'showing',\n  'increasing',\n  'popularity',\n  'because',\n  'of',\n  'its',\n  'low',\n  'cost',\n  '.'],\n ['Although',\n  'all',\n  'of',\n  'the',\n  'currently',\n  'available',\n  'H2',\n  '-',\n  'receptor',\n  'antagonists',\n  'have',\n  'shown',\n  'the',\n  'propensity',\n  'to',\n  'cause',\n  'delirium',\n  ',',\n  'only',\n  'two',\n  'previously',\n  'reported',\n  'cases',\n  'have',\n  'been',\n  'associated',\n  'with',\n  'famotidine',\n  '.'],\n ['The',\n  'authors',\n  'report',\n  'on',\n  'six',\n  'cases',\n  'of',\n  'famotidine',\n  '-',\n  'associated',\n  'delirium',\n  'in',\n  'hospitalized',\n  'patients',\n  'who',\n  'cleared',\n  'completely',\n  'upon',\n  'removal',\n  'of',\n  'famotidine',\n  '.'],\n ['The',\n  'pharmacokinetics',\n  'of',\n  'famotidine',\n  'are',\n  'reviewed',\n  ',',\n  'with',\n  'no',\n  'change',\n  'in',\n  'its',\n  'metabolism',\n  'in',\n  'the',\n  'elderly',\n  'population',\n  'seen',\n  '.'],\n ['The', 'implications', 'of', 'using', 'famotidine'],\n ['Indomethacin',\n  'induced',\n  'hypotension',\n  'in',\n  'sodium',\n  'and',\n  'volume',\n  'depleted',\n  'rats',\n  '.'],\n ['After',\n  'a',\n  'single',\n  'oral',\n  'dose',\n  'of',\n  '4',\n  'mg',\n  '/',\n  'kg',\n  'indomethacin',\n  '(',\n  'IDM',\n  ')',\n  'to',\n  'sodium',\n  'and',\n  'volume',\n  'depleted',\n  'rats',\n  'plasma',\n  'renin',\n  'activity',\n  '(',\n  'PRA',\n  ')',\n  'and',\n  'systolic',\n  'blood',\n  'pressure',\n  'fell',\n  'significantly',\n  'within',\n  'four',\n  'hours',\n  '.'],\n ['In',\n  'sodium',\n  'repleted',\n  'animals',\n  'indomethacin',\n  'did',\n  'not',\n  'change',\n  'systolic',\n  'blood',\n  'pressure',\n  '(',\n  'BP',\n  ')',\n  'although',\n  'plasma',\n  'renin',\n  'activity',\n  'was',\n  'decreased',\n  '.']]"
     },
     "execution_count": 127,
     "metadata": {},
     "output_type": "execute_result"
    }
   ],
   "source": [
    "# # 储存transformed_test_tokens\n",
    "# import pickle\n",
    "# \n",
    "# with open(\"transformed_test_tokens.pkl\", \"wb\") as f:\n",
    "#     pickle.dump(transformed_test_tokens, f)\n",
    "#     \n",
    "# # 加载transformed_test_tokens\n",
    "# with open(\"transformed_test_tokens.pkl\", \"rb\") as f:\n",
    "#     transformed_test_tokens = pickle.load(f)\n",
    "#     \n",
    "# transformed_test_tokens[:10]"
   ],
   "metadata": {
    "collapsed": false,
    "ExecuteTime": {
     "end_time": "2024-04-11T17:46:21.367567Z",
     "start_time": "2024-04-11T17:46:21.328338Z"
    }
   },
   "id": "c33565d19dae58e3",
   "execution_count": 127
  },
  {
   "cell_type": "code",
   "outputs": [],
   "source": [
    "from gensim.models import Word2Vec\n",
    "\n",
    "# 使用transformed_test_tokens训练词向量模型\n",
    "model = Word2Vec(transformed_test_tokens, vector_size=100, window=5, min_count=1, workers=-1)    # workers表示训练时使用的线程数"
   ],
   "metadata": {
    "collapsed": false,
    "ExecuteTime": {
     "end_time": "2024-04-11T17:22:42.784617Z",
     "start_time": "2024-04-11T17:22:42.640659Z"
    }
   },
   "id": "807ee370f7558ae6",
   "execution_count": 117
  },
  {
   "cell_type": "code",
   "outputs": [
    {
     "name": "stdout",
     "output_type": "stream",
     "text": [
      "Most similar diseases to psychosis :\n",
      " [('psychiatric_symptoms', 0.3694846), ('leukocytosis', 0.3292587), ('depressive_disorder', 0.30649742), ('psychotic', 0.3031569), ('Hyperkalemia', 0.29859048), ('Staphylococcal_IE', 0.2950813), ('oral_candidiasis', 0.2909574), ('epistaxis', 0.2654416), ('bradyarrhythmia', 0.25751504)]\n",
      "\n",
      "Most dissimilar diseases to psychosis :\n",
      " [('subependymal_cyst', -0.34905556), ('apical_ballooning_syndrome', -0.29538214), ('Pneumonitis', -0.2858314), ('ion_channel_disorders', -0.28003266), ('hemolytic_anemias', -0.26583725)]\n"
     ]
    }
   ],
   "source": [
    "# 给定疾病实体\n",
    "given_disease = \"psychosis\"  \n",
    "\n",
    "# 检查给定的疾病实体是否在词汇表中\n",
    "if given_disease in model.wv.key_to_index:\n",
    "    # 计算给定疾病实体与所有其他疾病实体的余弦相似度\n",
    "    disease_similarities = {}\n",
    "    for disease in transformed_test_diseases:\n",
    "        if disease in model.wv.key_to_index:\n",
    "            disease_similarities[disease] = np.dot(model.wv[given_disease], model.wv[disease]) / (np.linalg.norm(model.wv[given_disease]) * np.linalg.norm(model.wv[disease]))\n",
    "\n",
    "    # 获取余弦相似度最高的五个疾病实体\n",
    "    most_similar_diseases = sorted(disease_similarities.items(), key=lambda item: item[1], reverse=True)[1:10]\n",
    "\n",
    "    # 获取余弦相似度最低的五个疾病实体\n",
    "    most_dissimilar_diseases = sorted(disease_similarities.items(), key=lambda item: item[1])[:5]\n",
    "\n",
    "    print(\"Most similar diseases to\", given_disease, \":\\n\", most_similar_diseases)\n",
    "    print(\"\\nMost dissimilar diseases to\", given_disease, \":\\n\", most_dissimilar_diseases)\n",
    "else:\n",
    "    print(\"Given disease entity not found in the model.\")"
   ],
   "metadata": {
    "collapsed": false,
    "ExecuteTime": {
     "end_time": "2024-04-11T18:19:23.856304Z",
     "start_time": "2024-04-11T18:19:23.800768Z"
    }
   },
   "id": "338c039dc3c1794a",
   "execution_count": 134
  },
  {
   "cell_type": "code",
   "outputs": [
    {
     "name": "stdout",
     "output_type": "stream",
     "text": [
      "Most similar diseases to psychosis based on Pearson correlation:\n",
      " [('psychiatric_symptoms', 0.35811254196897835), ('psychotic', 0.31181950995263874), ('depressive_disorder', 0.31130148452904566), ('leukocytosis', 0.3100203135423599), ('Hyperkalemia', 0.3028847623892351), ('Staphylococcal_IE', 0.2847406764461684), ('oral_candidiasis', 0.2705721073798124), ('glioblastoma', 0.26563750459460395), ('hoarseness', 0.26470698845781404)]\n",
      "\n",
      "Most dissimilar diseases to psychosis based on Pearson correlation:\n",
      " [('subependymal_cyst', -0.3636396406273798), ('apical_ballooning_syndrome', -0.2844407141400549), ('Pneumonitis', -0.2833713252831779), ('sarcomas', -0.2726422500611354), ('ion_channel_disorders', -0.26177207351687815)]\n"
     ]
    }
   ],
   "source": [
    "from scipy.stats import pearsonr\n",
    "\n",
    "given_disease = \"psychosis\"\n",
    "\n",
    "# 使用皮尔森相关系数计算疾病实体之间的相似性\n",
    "# 检查给定的疾病实体是否在模型的词汇表中\n",
    "if given_disease in model.wv.key_to_index:\n",
    "    disease_similarities = {}\n",
    "    for disease in transformed_test_diseases:  # 假设这是一个包含疾病实体的列表\n",
    "        if disease in model.wv.key_to_index:\n",
    "            # 计算皮尔森相关系数\n",
    "            coeff, _ = pearsonr(model.wv[given_disease], model.wv[disease])\n",
    "            disease_similarities[disease] = coeff\n",
    "\n",
    "    # 根据皮尔森相关系数排序，获取最相似的五个疾病实体\n",
    "    most_similar_diseases = sorted(disease_similarities.items(), key=lambda item: item[1], reverse=True)[1:10]\n",
    "\n",
    "    # 获取相关系数最低的五个疾病实体\n",
    "    most_dissimilar_diseases = sorted(disease_similarities.items(), key=lambda item: item[1])[:5]\n",
    "\n",
    "    print(\"Most similar diseases to\", given_disease, \"based on Pearson correlation:\\n\", most_similar_diseases)\n",
    "    print(\"\\nMost dissimilar diseases to\", given_disease, \"based on Pearson correlation:\\n\", most_dissimilar_diseases)\n",
    "else:\n",
    "    print(\"Given disease entity not found in the model.\")"
   ],
   "metadata": {
    "collapsed": false,
    "ExecuteTime": {
     "end_time": "2024-04-11T18:21:55.722667Z",
     "start_time": "2024-04-11T18:21:53.258267Z"
    }
   },
   "id": "cd9cc6050b535d91",
   "execution_count": 135
  },
  {
   "cell_type": "markdown",
   "source": [
    "余弦相似度通过计算两个向量的夹角的余弦值来确定，范围从-1到1。值越接近1，表示向量越相似，即两个疾病实体在语义上更接近。\n",
    "皮尔森相关系数度量两组数据之间的线性相关程度，其值也在-1到1之间。值接近1或-1表明存在强烈的正相关或负相关。\n",
    "\n",
    "**2. 结果**:\n",
    "使用“精神病（psychosis）”作为查询实体，以下是两种方法得出的结果：\n",
    "\n",
    "根据你的要求，我重新编辑了表格，删除了指定的疾病，并添加了新的疾病及其相似度得分。下面是修改后的表格：\n",
    "\n",
    "| 方法                   | 相似疾病                                       | 相似度得分                                 | 不相似疾病                       | 相似度得分                     |\n",
    "|-----------------------|--------------------------------------------|----------------------------------------|---------------------------------|------------------------------|\n",
    "| Cosine Similarity      | leukocytosis, depressive_disorder, Hyperkalemia, Staphylococcal_IE, oral_candidiasis | 0.329, 0.306, 0.299, 0.295, 0.291 | subependymal_cyst, apical_ballooning_syndrome, Pneumonitis, ion_channel_disorders, hemolytic_anemias | -0.349, -0.295, -0.286, -0.280, -0.266 |\n",
    "| Pearson Correlation  | leukocytosis, depressive_disorder, Hyperkalemia, Staphylococcal_IE, oral_candidiasis | 0.310, 0.311, 0.303, 0.285, 0.271 | subependymal_cyst, apical_ballooning_syndrome, Pneumonitis, sarcomas, ion_channel_disorders | -0.364, -0.284, -0.283, -0.273, -0.262 |\n",
    "\n",
    "\n",
    "\n",
    "虽然两种方法的评分范围相似，但它们衡量相似度的侧重点不同。余弦相似度关注的是向量的方向相似性，而皮尔森相关系数则评估的是向量数值的线性相关性，这可能导致在某些情况下两种方法会得出不同的相似性和差异性结论。\n",
    "\n",
    "在余弦相似度和皮尔斯相关系数两种度量下，\"depressive_disorder\"、\"leukocytosis\"和\"Hyperkalemia\"均被评为与精神病最相关的疾病。这些结果指出精神病症状与其他精神健康问题（如抑郁症）、以及某些生理疾病（如白细胞增多症和高钾血症）之间存在一定的关联性。\n",
    "\n",
    "\"subependymal_cyst\"、\"apical_ballooning_syndrome\"和\"ion_channel_disorders\"在两种方法下均为与精神病最不相关的疾病。这些疾病与精神病在生理或病理机制上可能存在本质的不同，导致它们与精神病的关联度非常低。\n",
    "\n",
    "有些疾病如\"sarcomas\"在皮尔斯相关系数中出现，而在余弦相似度中未出现，反之\"hemolytic_anemias\"在余弦相似度评估中出现，而在皮尔斯相关系数评估中未出现。这表明两种方法在评估疾病之间关联性时可能会产生一些差异，因此在实际应用中，可以根据具体情况选择合适的相似性度量方法。\n"
   ],
   "metadata": {
    "collapsed": false
   },
   "id": "f05cd174907aaea0"
  },
  {
   "cell_type": "markdown",
   "source": [],
   "metadata": {
    "collapsed": false
   },
   "id": "3299e00433b15980"
  }
 ],
 "metadata": {
  "kernelspec": {
   "display_name": "Python 3",
   "language": "python",
   "name": "python3"
  },
  "language_info": {
   "codemirror_mode": {
    "name": "ipython",
    "version": 2
   },
   "file_extension": ".py",
   "mimetype": "text/x-python",
   "name": "python",
   "nbconvert_exporter": "python",
   "pygments_lexer": "ipython2",
   "version": "2.7.6"
  }
 },
 "nbformat": 4,
 "nbformat_minor": 5
}
