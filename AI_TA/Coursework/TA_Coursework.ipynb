{
 "cells": [
  {
   "cell_type": "markdown",
   "source": [
    "# Text Analytics Coursework"
   ],
   "metadata": {
    "collapsed": false
   },
   "id": "f81c9c24b8d0fcb8"
  },
  {
   "cell_type": "code",
   "execution_count": 1,
   "id": "initial_id",
   "metadata": {
    "collapsed": true,
    "ExecuteTime": {
     "end_time": "2024-04-06T19:41:08.716211Z",
     "start_time": "2024-04-06T19:41:06.488132Z"
    }
   },
   "outputs": [],
   "source": [
    "# Use HuggingFace's datasets library to access the Emotion dataset\n",
    "from datasets import load_dataset\n",
    "import re\n",
    "import numpy as np\n",
    "from sklearn.feature_extraction.text import TfidfVectorizer\n",
    "from sklearn.linear_model import LogisticRegression\n",
    "from sklearn.model_selection import train_test_split\n",
    "from sklearn.pipeline import make_pipeline\n",
    "from sklearn.preprocessing import LabelEncoder\n",
    "from sklearn.metrics import accuracy_score, classification_report\n",
    "from sklearn.svm import SVC\n",
    "\n",
    "# %load_ext autoreload\n",
    "# %autoreload 2"
   ]
  },
  {
   "cell_type": "markdown",
   "source": [
    "# Part 1: Tweet Emotion Classification\n",
    "# 1. Load the dataset\n",
    "Use the TweetEval dataset from HuggingFace's datasets library to load the Emotion dataset. The dataset has three splits: train, validation, and test. Load the train, validation, and test splits into separate variables.\n",
    "The labels in the dataset are: [0,1,2,3] which correspond to the emotions: [anger, joy, optimism, sadness]."
   ],
   "metadata": {
    "collapsed": false
   },
   "id": "6252accd86db369a"
  },
  {
   "cell_type": "code",
   "outputs": [
    {
     "name": "stdout",
     "output_type": "stream",
     "text": [
      "Training dataset with 3257 instances loaded\n",
      "Development/validation dataset with 374 instances loaded\n",
      "Test dataset with 1421 instances loaded\n"
     ]
    }
   ],
   "source": [
    "cache_dir = \"./NLP_data_cache\"\n",
    "\n",
    "train_dataset = load_dataset(\n",
    "    \"tweet_eval\",\n",
    "    name=\"emotion\",\n",
    "    split=\"train\",\n",
    "    cache_dir=cache_dir,\n",
    ")\n",
    "print(f\"Training dataset with {len(train_dataset)} instances loaded\")\n",
    "\n",
    "\n",
    "val_dataset = load_dataset(\n",
    "    \"tweet_eval\",\n",
    "    name=\"emotion\",\n",
    "    split=\"validation\",\n",
    "    cache_dir=cache_dir,\n",
    ")\n",
    "print(f\"Development/validation dataset with {len(val_dataset)} instances loaded\")\n",
    "\n",
    "\n",
    "test_dataset = load_dataset(\n",
    "    \"tweet_eval\",\n",
    "    name=\"emotion\",\n",
    "    split=\"test\",\n",
    "    cache_dir=cache_dir,\n",
    ")\n",
    "print(f\"Test dataset with {len(test_dataset)} instances loaded\")\n",
    "\n",
    "# Access the input text and target labels like this...\n",
    "train_texts = train_dataset['text']\n",
    "train_labels = train_dataset['label']\n",
    "\n",
    "val_texts = val_dataset['text']\n",
    "val_labels = val_dataset['label']\n",
    "\n",
    "test_texts = test_dataset['text']\n",
    "test_labels = test_dataset['label']"
   ],
   "metadata": {
    "collapsed": false,
    "ExecuteTime": {
     "end_time": "2024-04-06T19:41:37.477058Z",
     "start_time": "2024-04-06T19:41:10.873350Z"
    }
   },
   "id": "2a2e07d5fa647a0e",
   "execution_count": 2
  },
  {
   "cell_type": "markdown",
   "source": [
    "# 2. Non-Neural Classifier\n",
    "## 2.1. Preprocessing\n",
    "### 2.1.1. Text Cleaning\n",
    "\n",
    "The text cleaning step includes removing URLs, @mentions and #hashtags, converting to lowercase, removing punctuation. Lexical annotation and word form reduction by the result of lexical annotation. These steps help to reduce the noise and diversity of text data and improve the performance of text analysis."
   ],
   "metadata": {
    "collapsed": false
   },
   "id": "3c35458438f1c250"
  },
  {
   "cell_type": "code",
   "outputs": [
    {
     "name": "stderr",
     "output_type": "stream",
     "text": [
      "[nltk_data] Downloading package wordnet to\n",
      "[nltk_data]     C:\\Users\\yhb\\AppData\\Roaming\\nltk_data...\n",
      "[nltk_data]   Package wordnet is already up-to-date!\n",
      "[nltk_data] Downloading package averaged_perceptron_tagger to\n",
      "[nltk_data]     C:\\Users\\yhb\\AppData\\Roaming\\nltk_data...\n",
      "[nltk_data]   Package averaged_perceptron_tagger is already up-to-\n",
      "[nltk_data]       date!\n",
      "[nltk_data] Downloading package stopwords to\n",
      "[nltk_data]     C:\\Users\\yhb\\AppData\\Roaming\\nltk_data...\n",
      "[nltk_data]   Package stopwords is already up-to-date!\n"
     ]
    }
   ],
   "source": [
    "from nltk.corpus import wordnet\n",
    "import nltk\n",
    "from nltk import WordNetLemmatizer\n",
    "\n",
    "# 确保已下载nltk的wordnet和stopwords数据包\n",
    "nltk.download('wordnet')\n",
    "nltk.download('averaged_perceptron_tagger')\n",
    "nltk.download('stopwords')\n",
    "\n",
    "lemmatizer = WordNetLemmatizer()\n",
    "\n",
    "# 映射nltk的词性标签到wordnet的词性标签。用于词形还原\n",
    "def nltk_pos_tagger(nltk_tag):\n",
    "    if nltk_tag.startswith('J'):\n",
    "        return wordnet.ADJ\n",
    "    elif nltk_tag.startswith('V'):\n",
    "        return wordnet.VERB\n",
    "    elif nltk_tag.startswith('N'):\n",
    "        return wordnet.NOUN\n",
    "    elif nltk_tag.startswith('R'):\n",
    "        return wordnet.ADV\n",
    "    else:          \n",
    "        return None\n",
    "\n",
    "def lemmatize_text(text):\n",
    "    text = re.sub(r\"http\\S+|www\\S+|https\\S+\", '', text, flags=re.MULTILINE) # 移除URLs\n",
    "    text = re.sub(r'\\@\\w+|\\#','', text) # 移除@mentions和hashtags\n",
    "    text = text.lower() # 转换为小写\n",
    "    text = text.translate(str.maketrans(\"\", \"\", \"!\\\"#$%&'()*+,-./:;<=>?@[\\\\]^_`{|}~\")) # 移除标点符号\n",
    "    \n",
    "    nltk_tagged = nltk.pos_tag(nltk.word_tokenize(text))   # 词性标注\n",
    "    wordnet_tagged = map(lambda x: (x[0], nltk_pos_tagger(x[1])), nltk_tagged) # 将nltk标记转换为wordnet标记\n",
    "    \n",
    "    lemmatized_sentence = []\n",
    "    for word, tag in wordnet_tagged: # 词形还原\n",
    "        if tag is None: # \n",
    "            lemmatized_sentence.append(word)\n",
    "        else:\n",
    "            lemmatized_sentence.append(lemmatizer.lemmatize(word, tag))\n",
    "    return \" \".join(lemmatized_sentence)\n",
    "\n",
    "# 应用词形还原到你的文本数据\n",
    "train_texts_lemmatized = [lemmatize_text(text) for text in train_texts]\n",
    "val_texts_lemmatized = [lemmatize_text(text) for text in val_texts]\n",
    "test_texts_lemmatized = [lemmatize_text(text) for text in test_texts]"
   ],
   "metadata": {
    "collapsed": false,
    "ExecuteTime": {
     "end_time": "2024-04-06T19:41:42.399722Z",
     "start_time": "2024-04-06T19:41:37.479055Z"
    }
   },
   "id": "c949cf8e7d335f29",
   "execution_count": 3
  },
  {
   "cell_type": "code",
   "outputs": [
    {
     "data": {
      "text/plain": "['“ worry be a down payment on a problem you may never have joyce meyer motivation leadership worry',\n 'my roommate its okay that we cant spell because we have autocorrect terrible firstworldprobs',\n 'no but thats so cute atsu be probably shy about photo before but cherry help her out uwu']"
     },
     "execution_count": 4,
     "metadata": {},
     "output_type": "execute_result"
    }
   ],
   "source": [
    "train_texts_lemmatized[0:3]"
   ],
   "metadata": {
    "collapsed": false,
    "ExecuteTime": {
     "end_time": "2024-04-06T19:41:44.757644Z",
     "start_time": "2024-04-06T19:41:44.738094Z"
    }
   },
   "id": "ca0de61066bfb547",
   "execution_count": 4
  },
  {
   "cell_type": "markdown",
   "source": [
    "### 2.1.2. Vectorization\n",
    "Use the TF-IDF vectorizer to convert the text data into numerical form."
   ],
   "metadata": {
    "collapsed": false
   },
   "id": "903b32a374981d9a"
  },
  {
   "cell_type": "code",
   "outputs": [],
   "source": [
    "# TF-IDF向量化\n",
    "tfidf_vectorizer = TfidfVectorizer(max_features=10000, ngram_range=(1,2))\n",
    "\n",
    "# 将训练和验证数据集合并进行向量化，这样可以提高模型的泛化能力\n",
    "X_all_lemmatized = train_texts_lemmatized + val_texts_lemmatized\n",
    "y_all = train_labels + val_labels\n",
    "\n",
    "# 向量化处理\n",
    "X_all_tfidf = tfidf_vectorizer.fit_transform(X_all_lemmatized)\n",
    "X_test_tfidf = tfidf_vectorizer.transform(test_texts_lemmatized)\n",
    "\n",
    "# 分割数据集，这里重新分割是因为我们合并了训练集和验证集进行统一的向量化\n",
    "x_train_tfidf, x_val_tfidf, y_train, y_val = train_test_split(\n",
    "    X_all_tfidf, y_all, test_size=0.2, random_state=42)"
   ],
   "metadata": {
    "collapsed": false,
    "ExecuteTime": {
     "end_time": "2024-04-06T19:41:46.978560Z",
     "start_time": "2024-04-06T19:41:46.841534Z"
    }
   },
   "id": "857654fdcd34ab16",
   "execution_count": 5
  },
  {
   "cell_type": "markdown",
   "source": [
    "## 2.2. Classification Model"
   ],
   "metadata": {
    "collapsed": false
   },
   "id": "c1177f1a72a234a3"
  },
  {
   "cell_type": "code",
   "outputs": [
    {
     "name": "stdout",
     "output_type": "stream",
     "text": [
      "Fitting 5 folds for each of 12 candidates, totalling 60 fits\n",
      "Best parameters:  {'C': 10, 'gamma': 0.1, 'kernel': 'rbf'}\n",
      "Best cross-validation score:  0.6632245237106059\n",
      "Best estimator:  SVC(C=10, class_weight='balanced', gamma=0.1)\n"
     ]
    }
   ],
   "source": [
    "# grid search\n",
    "from sklearn.model_selection import GridSearchCV\n",
    "\n",
    "param_grid = {\n",
    "    'C': [0.1, 1, 10,100],\n",
    "    'gamma': [1, 0.1, 0.01],\n",
    "    'kernel': ['rbf']\n",
    "}\n",
    "\n",
    "grid_search = GridSearchCV(SVC(class_weight='balanced'), param_grid, cv=5, n_jobs=-1,verbose=True)\n",
    "grid_search.fit(x_train_tfidf, y_train)\n",
    "\n",
    "print(\"Best parameters: \", grid_search.best_params_)\n",
    "print(\"Best cross-validation score: \", grid_search.best_score_)\n",
    "print(\"Best estimator: \", grid_search.best_estimator_)\n"
   ],
   "metadata": {
    "collapsed": false,
    "ExecuteTime": {
     "end_time": "2024-04-06T19:41:59.958500Z",
     "start_time": "2024-04-06T19:41:48.619703Z"
    }
   },
   "id": "7ee718ffb715490e",
   "execution_count": 6
  },
  {
   "cell_type": "code",
   "outputs": [
    {
     "name": "stdout",
     "output_type": "stream",
     "text": [
      "Train Accuracy:  0.9800275482093664\n",
      "Classification Report:\n",
      "               precision    recall  f1-score   support\n",
      "\n",
      "           0       1.00      0.97      0.98      1257\n",
      "           1       0.97      0.99      0.98       648\n",
      "           2       0.96      1.00      0.98       249\n",
      "           3       0.97      0.99      0.98       750\n",
      "\n",
      "    accuracy                           0.98      2904\n",
      "   macro avg       0.97      0.99      0.98      2904\n",
      "weighted avg       0.98      0.98      0.98      2904\n",
      "\n",
      "Validation Accuracy:  0.6643741403026134\n",
      "Classification Report:\n",
      "               precision    recall  f1-score   support\n",
      "\n",
      "           0       0.69      0.82      0.75       303\n",
      "           1       0.62      0.57      0.60       157\n",
      "           2       0.57      0.29      0.38        73\n",
      "           3       0.66      0.63      0.65       194\n",
      "\n",
      "    accuracy                           0.66       727\n",
      "   macro avg       0.64      0.58      0.59       727\n",
      "weighted avg       0.66      0.66      0.65       727\n",
      "\n",
      "Test Accuracy:  0.6544686840253343\n",
      "Test Classification Report:\n",
      "               precision    recall  f1-score   support\n",
      "\n",
      "           0       0.67      0.79      0.73       558\n",
      "           1       0.69      0.64      0.66       358\n",
      "           2       0.49      0.32      0.39       123\n",
      "           3       0.63      0.57      0.60       382\n",
      "\n",
      "    accuracy                           0.65      1421\n",
      "   macro avg       0.62      0.58      0.59      1421\n",
      "weighted avg       0.65      0.65      0.65      1421\n"
     ]
    }
   ],
   "source": [
    "# 训练SVM模型\n",
    "# C是正则化参数，C越大，正则化越弱，则模型越容易过拟合；gamma是rbf核函数的系数，gamma越大，模型越容易过拟合\n",
    "svm_model = SVC(random_state=42, kernel='rbf', C=10, gamma=0.1,class_weight='balanced')\n",
    "svm_model.fit(x_train_tfidf, y_train)\n",
    "\n",
    "# 预测验证集\n",
    "y_train_pred = svm_model.predict(x_train_tfidf)\n",
    "y_val_pred = svm_model.predict(x_val_tfidf)\n",
    "y_test_pred = svm_model.predict(X_test_tfidf)\n",
    "\n",
    "print(\"Train Accuracy: \", accuracy_score(y_train, y_train_pred))\n",
    "print(\"Classification Report:\\n\", classification_report(y_train, y_train_pred))\n",
    "\n",
    "# 性能评估\n",
    "print(\"Validation Accuracy: \", accuracy_score(y_val, y_val_pred))\n",
    "print(\"Classification Report:\\n\", classification_report(y_val, y_val_pred))\n",
    "\n",
    "# 测试集性能评估\n",
    "print(\"Test Accuracy: \", accuracy_score(test_labels, y_test_pred))\n",
    "print(\"Test Classification Report:\\n\", classification_report(test_labels, y_test_pred))"
   ],
   "metadata": {
    "collapsed": false,
    "ExecuteTime": {
     "end_time": "2024-04-06T19:42:06.543072Z",
     "start_time": "2024-04-06T19:42:03.114728Z"
    }
   },
   "id": "3b045535a2733497",
   "execution_count": 7
  },
  {
   "cell_type": "code",
   "outputs": [
    {
     "name": "stdout",
     "output_type": "stream",
     "text": [
      "Cross-validation scores:  [0.61300786 0.57654689 0.62631308 0.63683725 0.54114124]\n",
      "Mean CV F1-score:  0.5987692625767528\n"
     ]
    }
   ],
   "source": [
    "# cross validation\n",
    "from sklearn.model_selection import cross_val_score\n",
    "\n",
    "scores = cross_val_score(svm_model, X_all_tfidf, y_all, cv=5, scoring='f1_macro',n_jobs=-1)\n",
    "print(\"Cross-validation scores: \", scores)\n",
    "print(\"Mean CV F1-score: \", scores.mean())"
   ],
   "metadata": {
    "collapsed": false,
    "ExecuteTime": {
     "end_time": "2024-04-06T19:42:24.831741Z",
     "start_time": "2024-04-06T19:42:22.099409Z"
    }
   },
   "id": "2bf99963208c5a34",
   "execution_count": 8
  },
  {
   "cell_type": "markdown",
   "source": [
    "## 2.3 Improving the Model\n",
    "Add Lexicon Features, using NLTK's VADER sentiment analysis tool to extract sentiment scores from the text data. Add these sentiment scores as additional features to the TF-IDF vectorized features."
   ],
   "metadata": {
    "collapsed": false
   },
   "id": "c036b60517662b82"
  },
  {
   "cell_type": "code",
   "outputs": [
    {
     "name": "stderr",
     "output_type": "stream",
     "text": [
      "[nltk_data] Downloading package vader_lexicon to\n",
      "[nltk_data]     C:\\Users\\yhb\\AppData\\Roaming\\nltk_data...\n",
      "[nltk_data]   Package vader_lexicon is already up-to-date!\n"
     ]
    }
   ],
   "source": [
    "import nltk\n",
    "from nltk.sentiment.vader import SentimentIntensityAnalyzer\n",
    "nltk.download('vader_lexicon')\n",
    "\n",
    "# 实例化情感分析器\n",
    "analyser = SentimentIntensityAnalyzer()"
   ],
   "metadata": {
    "collapsed": false,
    "ExecuteTime": {
     "end_time": "2024-04-06T19:42:31.394239Z",
     "start_time": "2024-04-06T19:42:31.361614Z"
    }
   },
   "id": "91105e8ed4698f48",
   "execution_count": 9
  },
  {
   "cell_type": "code",
   "outputs": [],
   "source": [
    "from scipy.sparse import hstack\n",
    "\n",
    "# 初始化VADER情感分析器\n",
    "sia = SentimentIntensityAnalyzer()\n",
    "\n",
    "X_all_lemmatized = train_texts_lemmatized + val_texts_lemmatized\n",
    "y_all = train_labels + val_labels\n",
    "\n",
    "# 计算情感分数 # compound是综合得分\n",
    "x_all_sentiments = [sia.polarity_scores(text)['compound'] for text in X_all_lemmatized]\n",
    "x_test_sentiments = [sia.polarity_scores(text)['compound'] for text in test_texts_lemmatized]\n",
    "\n",
    "x_all_sentiments = np.array(x_all_sentiments).reshape(-1, 1)\n",
    "x_test_sentiments = np.array(x_test_sentiments).reshape(-1, 1)\n",
    "\n",
    "# 合并情感分数和TF-IDF特征\n",
    "# 向量化处理\n",
    "X_all_tfidf = tfidf_vectorizer.fit_transform(X_all_lemmatized)\n",
    "X_test_tfidf = tfidf_vectorizer.transform(test_texts_lemmatized)\n",
    "\n",
    "X_all = hstack([X_all_tfidf, x_all_sentiments])\n",
    "X_test = hstack([X_test_tfidf, x_test_sentiments])\n",
    "\n",
    "# 分割数据集\n",
    "x_train_augmented, x_val_augmented, y_train, y_val = train_test_split(\n",
    "    X_all, y_all, test_size=0.2, random_state=42)"
   ],
   "metadata": {
    "collapsed": false,
    "ExecuteTime": {
     "end_time": "2024-04-06T19:42:34.194182Z",
     "start_time": "2024-04-06T19:42:33.137459Z"
    }
   },
   "id": "8adee85aab060caf",
   "execution_count": 10
  },
  {
   "cell_type": "code",
   "outputs": [
    {
     "name": "stdout",
     "output_type": "stream",
     "text": [
      "Train Accuracy:  0.9807162534435262\n",
      "Classification Report:\n",
      "               precision    recall  f1-score   support\n",
      "\n",
      "           0       1.00      0.97      0.98      1257\n",
      "           1       0.98      0.99      0.98       648\n",
      "           2       0.96      1.00      0.98       249\n",
      "           3       0.96      0.99      0.98       750\n",
      "\n",
      "    accuracy                           0.98      2904\n",
      "   macro avg       0.97      0.99      0.98      2904\n",
      "weighted avg       0.98      0.98      0.98      2904\n",
      "\n",
      "Validation Accuracy:  0.6753782668500687\n",
      "Classification Report:\n",
      "               precision    recall  f1-score   support\n",
      "\n",
      "           0       0.71      0.81      0.76       303\n",
      "           1       0.60      0.66      0.63       157\n",
      "           2       0.63      0.30      0.41        73\n",
      "           3       0.68      0.62      0.65       194\n",
      "\n",
      "    accuracy                           0.68       727\n",
      "   macro avg       0.66      0.60      0.61       727\n",
      "weighted avg       0.67      0.68      0.67       727\n",
      "\n",
      "Test Accuracy:  0.6798029556650246\n",
      "Test Classification Report:\n",
      "               precision    recall  f1-score   support\n",
      "\n",
      "           0       0.69      0.79      0.73       558\n",
      "           1       0.71      0.73      0.72       358\n",
      "           2       0.55      0.33      0.41       123\n",
      "           3       0.66      0.59      0.62       382\n",
      "\n",
      "    accuracy                           0.68      1421\n",
      "   macro avg       0.65      0.61      0.62      1421\n",
      "weighted avg       0.67      0.68      0.67      1421\n"
     ]
    }
   ],
   "source": [
    "# 训练SVM模型\n",
    "svm_model = SVC(random_state=42, kernel='rbf', C=10, gamma=0.1,class_weight='balanced')\n",
    "svm_model.fit(x_train_augmented, y_train)\n",
    "\n",
    "# 预测验证集\n",
    "y_train_pred = svm_model.predict(x_train_augmented)\n",
    "y_val_pred = svm_model.predict(x_val_augmented)\n",
    "y_test_pred = svm_model.predict(X_test)\n",
    "\n",
    "print(\"Train Accuracy: \", accuracy_score(y_train, y_train_pred))\n",
    "print(\"Classification Report:\\n\", classification_report(y_train, y_train_pred))\n",
    "\n",
    "# 性能评估\n",
    "print(\"Validation Accuracy: \", accuracy_score(y_val, y_val_pred))\n",
    "print(\"Classification Report:\\n\", classification_report(y_val, y_val_pred))\n",
    "\n",
    "# 测试集性能评估\n",
    "print(\"Test Accuracy: \", accuracy_score(test_labels, y_test_pred))\n",
    "print(\"Test Classification Report:\\n\", classification_report(test_labels, y_test_pred))"
   ],
   "metadata": {
    "collapsed": false,
    "ExecuteTime": {
     "end_time": "2024-04-06T19:42:40.811128Z",
     "start_time": "2024-04-06T19:42:37.347478Z"
    }
   },
   "id": "e07ed242dfca142c",
   "execution_count": 11
  },
  {
   "cell_type": "markdown",
   "source": [
    "### Insights\n",
    "比较添加情感分数特征前后的性能，发现分类器的性能有所提升。这表明情感分数特征对于情感分类任务是有用的。\n",
    "具体表现为：对于类别1（joy），recall显著提高，对于类别2（optimise），precision显著提高。这表明模型能够更好地识别这两个类别。这可能是因为情感得分提供了一种直接量化文本情感倾向的方式，帮助模型捕捉到了一些仅通过文本内容难以明确表达的情感特征。这一结果表明，对于文本分类任务，结合内容分析和情感倾向的量化分析，可以有效提升模型的预测准确性和泛化能力。\n",
    "\n",
    "Comparing the performance before and after adding the sentiment score feature, it is found that the performance of the classifier has improved. This indicates that the sentiment score feature is useful for the sentiment classification task.\n",
    "\n",
    "This is shown by the significant improvement in Recall for category 1 (Joy) and Precision for category 2 (Optimise). This indicates that the model is better able to recognize these two categories. This may be due to the fact that the sentiment score provides a way to directly quantify the sentiment tendency of the text, helping the model to capture some of the sentiment features that are difficult to express explicitly through the text content alone. This result suggests that for text categorization tasks, combining content analysis and quantitative analysis of sentiment tendencies can effectively improve the prediction accuracy and generalization ability of the model.\n"
   ],
   "metadata": {
    "collapsed": false
   },
   "id": "5dead10f21f220a6"
  },
  {
   "cell_type": "markdown",
   "source": [
    "# 3. Deep Learning Classifier\n",
    "## 3.1. Preprocessing\n",
    "### 3.1.1. Length of Texts\n",
    "We found that the maximum length of the text data is 36. As the hist plot can show the distribution of the length of the text data, we can see that most of the text data is less than 25 words. Therefore, we can set the maximum length of the text data to 25."
   ],
   "metadata": {
    "collapsed": false
   },
   "id": "33b712192277da6c"
  },
  {
   "cell_type": "code",
   "outputs": [
    {
     "data": {
      "text/plain": "36"
     },
     "execution_count": 12,
     "metadata": {},
     "output_type": "execute_result"
    },
    {
     "data": {
      "text/plain": "<Figure size 640x480 with 1 Axes>",
      "image/png": "[encoded data removed]"
     },
     "metadata": {},
     "output_type": "display_data"
    }
   ],
   "source": [
    "# 查看样本长度的分布\n",
    "import matplotlib.pyplot as plt\n",
    "\n",
    "train_texts_len = [len(text.split()) for text in train_texts]\n",
    "val_texts_len = [len(text.split()) for text in val_texts]\n",
    "test_texts_len = [len(text.split()) for text in test_texts]\n",
    "\n",
    "plt.hist(train_texts_len, bins=30, alpha=0.5, label='train')\n",
    "plt.hist(val_texts_len, bins=30, alpha=0.5, label='val')\n",
    "plt.hist(test_texts_len, bins=30, alpha=0.5, label='test')\n",
    "\n",
    "# 找出最长长度\n",
    "max_len = max(max(train_texts_len), max(val_texts_len), max(test_texts_len))\n",
    "max_len"
   ],
   "metadata": {
    "collapsed": false,
    "ExecuteTime": {
     "end_time": "2024-04-06T19:43:22.289779Z",
     "start_time": "2024-04-06T19:43:21.789048Z"
    }
   },
   "id": "ebb004858fd6dfaa",
   "execution_count": 12
  },
  {
   "cell_type": "markdown",
   "source": [
    "### 3.1.2. Tokenization, Encoding, Padding&Truncating and Tensorization\n",
    "Use BERT tokenizer to tokenize the text data. Then convert the tokenized text data into vocabulary index. Finally, pad and tensorize the text data and generate the DataLoader."
   ],
   "metadata": {
    "collapsed": false
   },
   "id": "633cee5533952ae7"
  },
  {
   "cell_type": "code",
   "outputs": [],
   "source": [
    "import torch\n",
    "from torch.utils.data import DataLoader\n",
    "from torch.nn.utils.rnn import pad_sequence\n",
    "from transformers import BertTokenizer\n",
    "\n",
    "# 初始化分词器，这里以 BERT 分词器为例\n",
    "tokenizer = BertTokenizer.from_pretrained('bert-base-uncased') # bert-base-uncased是一个预训练的模型,没有区分大小写（uncased），即所有的文本都被转换为小写，并且在创建词汇表时忽略了字母的大小写。\n",
    "\n",
    "# 分词\n",
    "def tokenize_data(texts):\n",
    "    return [tokenizer.tokenize(text) for text in texts]\n",
    "\n",
    "# 将分词转换为词汇表索引\n",
    "def numericalize_tokens(tokenized_texts):\n",
    "    return [tokenizer.convert_tokens_to_ids(tokens) for tokens in tokenized_texts]\n",
    "\n",
    "# 对每个序列进行截断和填充，max_length=25\n",
    "def pad_and_tensorize(batch, max_length=25):\n",
    "    # 对每个序列进行截断操作\n",
    "    truncated_batch = [seq[:max_length] for seq in batch]\n",
    "    # 分词的索引，这里的batch已经是截断后的数据\n",
    "    padded_batch = pad_sequence([torch.tensor(seq) for seq in truncated_batch], batch_first=True)\n",
    "    return padded_batch"
   ],
   "metadata": {
    "collapsed": false,
    "ExecuteTime": {
     "end_time": "2024-04-06T19:43:30.784725Z",
     "start_time": "2024-04-06T19:43:27.777090Z"
    }
   },
   "id": "46f338201edb6702",
   "execution_count": 13
  },
  {
   "cell_type": "code",
   "outputs": [],
   "source": [
    "# DataLoader 需要一个 dataset 对象，这里我们构造一个简单的\n",
    "class TweetDataset(torch.utils.data.Dataset):\n",
    "    def __init__(self, encodings, labels):\n",
    "        self.encodings = encodings\n",
    "        self.labels = labels\n",
    "\n",
    "    def __getitem__(self, idx):\n",
    "        return {'text': torch.tensor(self.encodings[idx], dtype=torch.long),\n",
    "                'label': torch.tensor(self.labels[idx], dtype=torch.long)}\n",
    "\n",
    "    def __len__(self):\n",
    "        return len(self.labels)\n",
    "\n",
    "# 创建数据集\n",
    "train_dataset = TweetDataset(numericalize_tokens(tokenize_data(train_texts)), train_labels)\n",
    "val_dataset = TweetDataset(numericalize_tokens(tokenize_data(val_texts)), val_labels)\n",
    "test_dataset = TweetDataset(numericalize_tokens(tokenize_data(test_texts)), test_labels)\n",
    "\n",
    "# 创建 DataLoader\n",
    "train_loader = DataLoader(train_dataset, batch_size=64, collate_fn=pad_and_tensorize)\n",
    "val_loader = DataLoader(val_dataset, batch_size=64, collate_fn=pad_and_tensorize)\n",
    "test_loader = DataLoader(test_dataset, batch_size=64, collate_fn=pad_and_tensorize)"
   ],
   "metadata": {
    "collapsed": false,
    "ExecuteTime": {
     "end_time": "2024-04-06T19:43:36.386172Z",
     "start_time": "2024-04-06T19:43:34.856950Z"
    }
   },
   "id": "b08e775cf31e519d",
   "execution_count": 14
  },
  {
   "cell_type": "code",
   "outputs": [
    {
     "data": {
      "text/plain": "{'text': tensor([ 2054,  1037,  8239, 14163, 29519,  1012,  1030,  5310,  1001, 23883,\n          1012]),\n 'label': tensor(0)}"
     },
     "execution_count": 15,
     "metadata": {},
     "output_type": "execute_result"
    }
   ],
   "source": [
    "train_loader.dataset[13]"
   ],
   "metadata": {
    "collapsed": false,
    "ExecuteTime": {
     "end_time": "2024-04-06T19:43:55.097341Z",
     "start_time": "2024-04-06T19:43:55.081097Z"
    }
   },
   "id": "cfb789e96e65042f",
   "execution_count": 15
  },
  {
   "cell_type": "markdown",
   "source": [
    "Another way to tokenize the text data is to use the `batch_encode_plus` method of the BERT tokenizer. This method can tokenize the text data, add special tokens, pad and truncate the text data, and return the input IDs and attention masks in a dictionary."
   ],
   "metadata": {
    "collapsed": false
   },
   "id": "abcc2f630b3669c2"
  },
  {
   "cell_type": "code",
   "outputs": [],
   "source": [
    "from transformers import BertTokenizer\n",
    "from torch.utils.data import Dataset, DataLoader\n",
    "import torch\n",
    "\n",
    "tokenizer = BertTokenizer.from_pretrained('bert-base-uncased')\n",
    "\n",
    "def encode_texts(texts):\n",
    "    return tokenizer.batch_encode_plus(\n",
    "        texts,\n",
    "        add_special_tokens=True,  # 添加特殊标记，例如[CLS]和[SEP]\n",
    "        max_length=25,  # 设定最大序列长度\n",
    "        padding='max_length',  # 进行填充以达到相同长度\n",
    "        truncation=True,  # 截断超过最大长度的部分\n",
    "        return_attention_mask=True,  # 返回attention_mask（区分填充和非填充部分）\n",
    "        return_token_type_ids=False,  # 不返回token_type_ids(用于区分两个句子，如问答，本模型不需要)\n",
    "        return_tensors='pt'  # 返回PyTorch张量\n",
    "    )\n",
    "\n",
    "# 对训练、验证和测试数据进行编码\n",
    "encoded_train = encode_texts(train_texts)\n",
    "encoded_val = encode_texts(val_texts)\n",
    "encoded_test = encode_texts(test_texts)"
   ],
   "metadata": {
    "collapsed": false,
    "ExecuteTime": {
     "end_time": "2024-04-06T19:44:05.222552Z",
     "start_time": "2024-04-06T19:44:03.602912Z"
    }
   },
   "id": "dbd3d27ae9653dac",
   "execution_count": 16
  },
  {
   "cell_type": "code",
   "outputs": [],
   "source": [
    "class TextDataset(Dataset):\n",
    "    def __init__(self, encodings, labels):\n",
    "        self.encodings = encodings\n",
    "        self.labels = labels\n",
    "\n",
    "    def __getitem__(self, idx):\n",
    "        item = {key: val[idx].clone().detach() for key, val in self.encodings.items()}  # 确保不修改原始数据\n",
    "        item['labels'] = torch.tensor(self.labels[idx], dtype=torch.long)\n",
    "        return item\n",
    "\n",
    "    def __len__(self):\n",
    "        return len(self.labels)\n",
    "\n",
    "batch_size = 32\n",
    "\n",
    "# 创建Dataset\n",
    "train_dataset = TextDataset(encoded_train, train_labels)\n",
    "val_dataset = TextDataset(encoded_val, val_labels)\n",
    "test_dataset = TextDataset(encoded_test, test_labels)\n",
    "\n",
    "# 创建DataLoader\n",
    "train_loader = DataLoader(train_dataset, batch_size=batch_size, shuffle=True)\n",
    "val_loader = DataLoader(val_dataset, batch_size=batch_size)\n",
    "test_loader = DataLoader(test_dataset, batch_size=batch_size)"
   ],
   "metadata": {
    "collapsed": false,
    "ExecuteTime": {
     "end_time": "2024-04-06T19:44:09.172312Z",
     "start_time": "2024-04-06T19:44:09.153931Z"
    }
   },
   "id": "d7b20cde4beb4484",
   "execution_count": 17
  },
  {
   "cell_type": "code",
   "outputs": [
    {
     "data": {
      "text/plain": "{'input_ids': tensor([  101,  2054,  1037,  8239, 14163, 29519,  1012,  1030,  5310,  1001,\n         23883,  1012,   102,     0,     0,     0,     0,     0,     0,     0,\n             0,     0,     0,     0,     0]),\n 'attention_mask': tensor([1, 1, 1, 1, 1, 1, 1, 1, 1, 1, 1, 1, 1, 0, 0, 0, 0, 0, 0, 0, 0, 0, 0, 0,\n         0]),\n 'labels': tensor(0)}"
     },
     "execution_count": 18,
     "metadata": {},
     "output_type": "execute_result"
    }
   ],
   "source": [
    "train_loader.dataset[13]"
   ],
   "metadata": {
    "collapsed": false,
    "ExecuteTime": {
     "end_time": "2024-04-06T19:44:11.713687Z",
     "start_time": "2024-04-06T19:44:11.701182Z"
    }
   },
   "id": "de8fc61eb60c835e",
   "execution_count": 18
  },
  {
   "cell_type": "markdown",
   "source": [
    "## 3.2. Training the Model\n",
    "Download the pre-trained BERT model and fine-tune it on the emotion classification task."
   ],
   "metadata": {
    "collapsed": false
   },
   "id": "b53adb1f4012f78d"
  },
  {
   "cell_type": "code",
   "outputs": [],
   "source": [
    "from tqdm import tqdm\n",
    "import torch\n",
    "from sklearn.metrics import accuracy_score\n",
    "import numpy as np\n",
    "\n",
    "def train(model, train_dataloader, val_dataloader, optimizer, scheduler, device, epochs):\n",
    "    train_losses = []\n",
    "    val_losses = []\n",
    "    \n",
    "    for epoch in range(epochs):\n",
    "        model.train()\n",
    "        total_train_loss = 0\n",
    "        \n",
    "        # for batch in tqdm(train_dataloader, desc=\"Training\"):\n",
    "        for batch in train_dataloader:\n",
    "            batch = {k: v.to(device) for k, v in batch.items()} \n",
    "            # 这行代码遍历从DataLoader迭代器返回的每个批次数据中的所有键值对。这里的batch是一个字典，它的键（k）是字符串，比如'input_ids'、'attention_mask'和'labels'，值（v）是对应的数据张量。{k: v.to(device) for k, v in batch.items()}这部分代码的作用是：\n",
    "            # 对于字典中的每个键值对，将值（即张量）移动到指定的device（例如，GPU或CPU）。\n",
    "         \n",
    "            outputs = model(**batch)  # **batch将字典解包为关键字参数\n",
    "            \n",
    "            loss = outputs.loss\n",
    "            total_train_loss += loss.item()\n",
    "            \n",
    "            loss.backward()\n",
    "            torch.nn.utils.clip_grad_norm_(model.parameters(), 1.0)  # 梯度裁剪（防止梯度爆炸）\n",
    "            \n",
    "            optimizer.step()\n",
    "            scheduler.step()\n",
    "            model.zero_grad() \n",
    "        \n",
    "        avg_train_loss = total_train_loss / len(train_dataloader)\n",
    "        train_losses.append(avg_train_loss)\n",
    "        \n",
    "        # 验证过程\n",
    "        model.eval()\n",
    "        total_val_loss = 0\n",
    "        val_accuracy = []\n",
    "        all_preds = []\n",
    "        all_labels = []\n",
    "        \n",
    "        # for batch in tqdm(val_dataloader, desc=\"Validating\"):\n",
    "        for batch in val_dataloader:\n",
    "            batch = {k: v.to(device) for k, v in batch.items()}  \n",
    "            \n",
    "            with torch.no_grad():\n",
    "                outputs = model(**batch) \n",
    "                \n",
    "            loss = outputs.loss\n",
    "            total_val_loss += loss.item()\n",
    "            \n",
    "            logits = outputs.logits\n",
    "            preds = torch.argmax(logits, dim=1).flatten()\n",
    "            labels = batch['labels']  # 获取标签进行准确度计算\n",
    "            # 将当前批次的预测和标签追加到列表中\n",
    "            all_preds.extend(preds.cpu().numpy())\n",
    "            all_labels.extend(labels.cpu().numpy())\n",
    "            \n",
    "            val_accuracy.append(accuracy_score(labels.cpu().numpy(), preds.cpu().numpy()))\n",
    "        \n",
    "        avg_val_loss = total_val_loss / len(val_dataloader)\n",
    "        val_losses.append(avg_val_loss)\n",
    "        print(f'Epoch {epoch+1}/{epochs} | Train Loss: {avg_train_loss} | Val Loss: {avg_val_loss} | Val Accuracy: {np.mean(val_accuracy)}')\n",
    "        print(classification_report(all_labels, all_preds))\n",
    "    \n",
    "    return train_losses, val_losses"
   ],
   "metadata": {
    "collapsed": false,
    "ExecuteTime": {
     "end_time": "2024-04-06T20:11:14.535037Z",
     "start_time": "2024-04-06T20:11:14.524045Z"
    }
   },
   "id": "ead208038845bd0a",
   "execution_count": 23
  },
  {
   "cell_type": "code",
   "outputs": [],
   "source": [
    "def test(model, test_dataloader, device):\n",
    "    model.eval()  # 设置模型为评估模式\n",
    "    test_accuracy = []\n",
    "    all_preds = []\n",
    "    all_labels = []\n",
    "    \n",
    "    with torch.no_grad():  # 禁用梯度计算\n",
    "        # for batch in tqdm(test_dataloader, desc=\"Testing\"):\n",
    "        for batch in test_dataloader:\n",
    "            batch = {k: v.to(device) for k, v in batch.items()}  # 将数据移至正确的设备\n",
    "            labels = batch.pop('labels').cpu().numpy()  # 移除labels以单独处理，并转移到CPU\n",
    "            \n",
    "            outputs = model(**batch)  # 进行预测\n",
    "            preds = torch.argmax(outputs.logits, dim=1).cpu().numpy()  # 获取预测结果\n",
    "            \n",
    "            test_accuracy.append(accuracy_score(labels, preds))  # 计算准确率\n",
    "            all_preds.extend(preds)  # 保存所有预测结果\n",
    "            all_labels.extend(labels)  # 保存所有真实标签\n",
    "    \n",
    "    avg_accuracy = np.mean(test_accuracy)  # 计算平均准确率\n",
    "    print(f\"Test Accuracy: {avg_accuracy}\")\n",
    "    print(classification_report(all_labels, all_preds))\n",
    "\n",
    "    return all_preds, all_labels, avg_accuracy"
   ],
   "metadata": {
    "collapsed": false,
    "ExecuteTime": {
     "end_time": "2024-04-06T20:11:16.264427Z",
     "start_time": "2024-04-06T20:11:16.245428Z"
    }
   },
   "id": "3c3c878ba8622ece",
   "execution_count": 24
  },
  {
   "cell_type": "code",
   "outputs": [
    {
     "name": "stderr",
     "output_type": "stream",
     "text": [
      "Some weights of BertForSequenceClassification were not initialized from the model checkpoint at bert-base-uncased and are newly initialized: ['classifier.bias', 'classifier.weight']\n",
      "You should probably TRAIN this model on a down-stream task to be able to use it for predictions and inference.\n"
     ]
    },
    {
     "name": "stdout",
     "output_type": "stream",
     "text": [
      "Epoch 1/50 | Train Loss: 1.1574344781099581 | Val Loss: 0.8139502555131912 | Val Accuracy: 0.6818181818181818\n",
      "              precision    recall  f1-score   support\n",
      "\n",
      "           0       0.78      0.81      0.79       160\n",
      "           1       0.79      0.51      0.62        97\n",
      "           2       0.67      0.21      0.32        28\n",
      "           3       0.52      0.80      0.63        89\n",
      "\n",
      "    accuracy                           0.68       374\n",
      "   macro avg       0.69      0.58      0.59       374\n",
      "weighted avg       0.71      0.68      0.67       374\n",
      "Epoch 2/50 | Train Loss: 0.631608751766822 | Val Loss: 0.7447560479243597 | Val Accuracy: 0.7038352272727272\n",
      "              precision    recall  f1-score   support\n",
      "\n",
      "           0       0.79      0.79      0.79       160\n",
      "           1       0.61      0.78      0.68        97\n",
      "           2       0.48      0.46      0.47        28\n",
      "           3       0.76      0.53      0.62        89\n",
      "\n",
      "    accuracy                           0.70       374\n",
      "   macro avg       0.66      0.64      0.64       374\n",
      "weighted avg       0.71      0.70      0.70       374\n"
     ]
    },
    {
     "name": "stderr",
     "output_type": "stream",
     "text": [
      "\n",
      "KeyboardInterrupt\n",
      "\n"
     ]
    }
   ],
   "source": [
    "from torch.optim import AdamW\n",
    "from transformers import BertForSequenceClassification, get_linear_schedule_with_warmup\n",
    "\n",
    "# 加载预训练的BERT模型，指定分类数为4（你的情况下是0, 1, 2, 3四种情感）\n",
    "model = BertForSequenceClassification.from_pretrained('bert-base-uncased', num_labels=4)\n",
    "tokenizer = BertTokenizer.from_pretrained('bert-base-uncased')\n",
    "\n",
    "optimizer = AdamW(model.parameters(), lr=5e-5)\n",
    "epochs = 50\n",
    "total_steps = len(train_loader) * epochs\n",
    "scheduler = get_linear_schedule_with_warmup(optimizer, num_warmup_steps=100, num_training_steps=total_steps)\n",
    "\n",
    "device = torch.device(\"cuda\" if torch.cuda.is_available() else \"cpu\")\n",
    "model.to(device)\n",
    "\n",
    "# 开始训练、验证和绘制损失曲线\n",
    "train_losses, val_losses = train(model, train_loader, val_loader, optimizer, scheduler, device, epochs)\n",
    "# 使用测试集进行最终评估\n",
    "test(model, test_loader, device)"
   ],
   "metadata": {
    "collapsed": false,
    "ExecuteTime": {
     "end_time": "2024-04-06T20:12:15.549381Z",
     "start_time": "2024-04-06T20:11:19.894807Z"
    }
   },
   "id": "cb203bd9b0a44883",
   "execution_count": 25
  },
  {
   "cell_type": "code",
   "outputs": [
    {
     "data": {
      "text/plain": "<Figure size 640x480 with 1 Axes>",
      "image/png": "[encoded data removed]"
     },
     "metadata": {},
     "output_type": "display_data"
    }
   ],
   "source": [
    "plt.plot(train_losses, label='Train Loss')\n",
    "plt.plot(val_losses, label='Validation Loss')\n",
    "plt.title('Training and Validation Loss')\n",
    "plt.xlabel('Epochs')\n",
    "plt.ylabel('Loss')\n",
    "plt.legend()\n",
    "plt.show()"
   ],
   "metadata": {
    "collapsed": false,
    "ExecuteTime": {
     "end_time": "2024-04-06T20:12:18.163913Z",
     "start_time": "2024-04-06T20:12:18.076017Z"
    }
   },
   "id": "4574f1806f78405c",
   "execution_count": 26
  }
 ],
 "metadata": {
  "kernelspec": {
   "display_name": "Python 3",
   "language": "python",
   "name": "python3"
  },
  "language_info": {
   "codemirror_mode": {
    "name": "ipython",
    "version": 2
   },
   "file_extension": ".py",
   "mimetype": "text/x-python",
   "name": "python",
   "nbconvert_exporter": "python",
   "pygments_lexer": "ipython2",
   "version": "2.7.6"
  }
 },
 "nbformat": 4,
 "nbformat_minor": 5
}
