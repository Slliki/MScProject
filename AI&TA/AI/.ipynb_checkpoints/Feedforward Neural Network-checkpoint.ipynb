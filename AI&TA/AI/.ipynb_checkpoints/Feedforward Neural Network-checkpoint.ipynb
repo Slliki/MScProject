{
 "cells": [
  {
   "cell_type": "markdown",
   "source": [
    "# Feedforward Neural Network -- FNN\n",
    "---\n",
    "![IMG1](img_1.png)\n"
   ],
   "metadata": {
    "collapsed": false
   },
   "id": "b726acf17f89a8e0"
  },
  {
   "cell_type": "code",
   "outputs": [],
   "source": [
    "import torch"
   ],
   "metadata": {
    "collapsed": false,
    "ExecuteTime": {
     "end_time": "2024-02-01T14:33:57.618489900Z",
     "start_time": "2024-02-01T14:33:56.343229900Z"
    }
   },
   "id": "6e1c1da890a5b5fe",
   "execution_count": 1
  }
 ],
 "metadata": {
  "kernelspec": {
   "display_name": "Python 3",
   "language": "python",
   "name": "python3"
  },
  "language_info": {
   "codemirror_mode": {
    "name": "ipython",
    "version": 2
   },
   "file_extension": ".py",
   "mimetype": "text/x-python",
   "name": "python",
   "nbconvert_exporter": "python",
   "pygments_lexer": "ipython2",
   "version": "2.7.6"
  }
 },
 "nbformat": 4,
 "nbformat_minor": 5
}
