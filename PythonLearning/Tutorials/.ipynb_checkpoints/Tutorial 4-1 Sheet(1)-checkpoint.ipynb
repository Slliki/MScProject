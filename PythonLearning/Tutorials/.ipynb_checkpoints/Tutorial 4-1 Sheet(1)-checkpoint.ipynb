{
 "cells": [
  {
   "cell_type": "markdown",
   "metadata": {},
   "source": [
    "# Bonus tutorial:  Smaller functions"
   ]
  },
  {
   "cell_type": "markdown",
   "metadata": {},
   "source": [
    "In Python, like most modern programming languages, the function is a primary method of abstraction and encapsulation. Sometimes a smaller function has a better chance of doing a single thing effectively. "
   ]
  },
  {
   "cell_type": "markdown",
   "metadata": {},
   "source": [
    "## 1 Lambda"
   ]
  },
  {
   "cell_type": "markdown",
   "metadata": {},
   "source": [
    "The **lambda** keyword in Python provides a shortcut for declaring small anonymous functions. Lambda functions behave just like regular functions declared with the **def** keyword. They can be used whenever function objects are required.\n",
    "\n",
    "For example, this is how you’d define a simple lambda function carrying out an addition:"
   ]
  },
  {
   "cell_type": "code",
   "execution_count": 2,
   "metadata": {},
   "outputs": [
    {
     "data": {
      "text/plain": [
       "35"
      ]
     },
     "execution_count": 2,
     "metadata": {},
     "output_type": "execute_result"
    }
   ],
   "source": [
    "add = lambda x, y: x + y\n",
    "add(15, 20)"
   ]
  },
  {
   "cell_type": "markdown",
   "metadata": {},
   "source": [
    "You could declare the same add function with the **def** keyword:"
   ]
  },
  {
   "cell_type": "code",
   "execution_count": 4,
   "metadata": {},
   "outputs": [
    {
     "data": {
      "text/plain": [
       "35"
      ]
     },
     "execution_count": 4,
     "metadata": {},
     "output_type": "execute_result"
    }
   ],
   "source": [
    "def add_func(x, y):\n",
    "    return x + y\n",
    "\n",
    "add_func(15, 20)"
   ]
  },
  {
   "cell_type": "markdown",
   "metadata": {},
   "source": [
    "Now you might be wondering: Why the big fuss about lambdas? If they’re just a slightly more terse version of declaring functions with **def**, what’s the big deal?\n",
    "\n",
    "Take a look at the following example and keep the words function expression in your head while you do that:"
   ]
  },
  {
   "cell_type": "code",
   "execution_count": 3,
   "metadata": {},
   "outputs": [
    {
     "data": {
      "text/plain": [
       "35"
      ]
     },
     "execution_count": 3,
     "metadata": {},
     "output_type": "execute_result"
    }
   ],
   "source": [
    "(lambda x, y: x + y)(15, 20)"
   ]
  },
  {
   "cell_type": "markdown",
   "metadata": {},
   "source": [
    "Okay, what happened here? We just used **lambda** to define an *“add”* function inline and then immediately called it with the arguments 15 and 20.\n",
    "\n",
    "Conceptually the lambda expression **lambda x, y: x + y** is the same as declaring a function with **def**, just written inline. The difference is we didn’t bind it to a name like add before we used it. We simply stated the expression we wanted to compute and then immediately evaluated it by calling it like a regular function."
   ]
  },
  {
   "cell_type": "markdown",
   "metadata": {},
   "source": [
    "This can provide a handy and “unbureaucratic” shortcut to defining a function in Python. We can use case for lambdas is writing short and concise key funcs for sorting iterables by an alternate key:"
   ]
  },
  {
   "cell_type": "code",
   "execution_count": 9,
   "metadata": {},
   "outputs": [
    {
     "data": {
      "text/plain": [
       "[-7, 7, -6, 6, -5, 5, -4, 4, -3, 3, -2, 2, -1, 1, 0]"
      ]
     },
     "execution_count": 9,
     "metadata": {},
     "output_type": "execute_result"
    }
   ],
   "source": [
    "sorted(range(-7, 8), key=lambda x: x ** 2, reverse=True)\n",
    "# sorted function will return the sorted list using the key_argument as ascending by default.\n"
   ]
  },
  {
   "cell_type": "markdown",
   "metadata": {},
   "source": [
    "## 2 Map"
   ]
  },
  {
   "cell_type": "markdown",
   "metadata": {},
   "source": [
    "**map( )** can be used to apply a function to every item of iterable and return a list of the results. If additional iterable arguments are passed, the function must take that many arguments. The function is then applied to the items from all iterables in parallel.\n",
    "\n",
    "\n",
    "\n"
   ]
  },
  {
   "cell_type": "markdown",
   "metadata": {},
   "source": [
    "The format we would use for the map function is as follows:\n",
    "\n",
    "    map(function you want to apply, sequence of elements we want to apply it to)"
   ]
  },
  {
   "cell_type": "markdown",
   "metadata": {},
   "source": [
    "This map function will return a map object, which is an iterator. If we want to create a list from this map object, we would need to pass in our map object to the built-in list function as follows:\n",
    "    \n",
    "    list(map(function, sequence))"
   ]
  },
  {
   "cell_type": "markdown",
   "metadata": {},
   "source": [
    "Let’s see how we can accomplish the above code using the built-in map function:"
   ]
  },
  {
   "cell_type": "code",
   "execution_count": 14,
   "metadata": {},
   "outputs": [
    {
     "name": "stdout",
     "output_type": "stream",
     "text": [
      "[0, 1, 4, 9, 16, 25, 36]\n"
     ]
    }
   ],
   "source": [
    "# defining a function that returns the square of a number\n",
    "def squared(num):\n",
    "    return num**2\n",
    "\n",
    "# original list [1,2,3,4,5,6]\n",
    "num_list = [i for i in range(7)]\n",
    "\n",
    "# using the map function to create this new list of squared values\n",
    "num_list_squared = list(map(squared, num_list))\n",
    "  \n",
    "print(num_list_squared) "
   ]
  },
  {
   "cell_type": "markdown",
   "metadata": {},
   "source": [
    "## 3 Filter\n"
   ]
  },
  {
   "cell_type": "markdown",
   "metadata": {},
   "source": [
    "`filter(function, sentence)`  \n",
    "\n",
    "The **filter( )** function iterates over all elements in the sequence and for each element it calls the given callback function. If this function returns **False** then that element is skipped, whereas elements for which it returned **True** are added into a new list. In the end it returns a new list with filtered contents based on the function passed to it as argument."
   ]
  },
  {
   "cell_type": "markdown",
   "metadata": {},
   "source": [
    "Suppose we have a list of strings i.e.\n"
   ]
  },
  {
   "cell_type": "code",
   "execution_count": 15,
   "metadata": {},
   "outputs": [],
   "source": [
    "# List of string\n",
    "listOfStr = ['hi', 'this' , 'is', 'a', 'very', 'simple', 'string' , 'for', 'us']"
   ]
  },
  {
   "cell_type": "markdown",
   "metadata": {},
   "source": [
    "Now let’s filter the contents of list and keep the strings with length 2 only using **filter()** i.e."
   ]
  },
  {
   "cell_type": "code",
   "execution_count": 17,
   "metadata": {},
   "outputs": [
    {
     "name": "stdout",
     "output_type": "stream",
     "text": [
      "Filtered List :  ['hi', 'is', 'us']\n"
     ]
    }
   ],
   "source": [
    "filteredList = list(filter(lambda x : len(x) == 2 , listOfStr))\n",
    "print('Filtered List : ', filteredList)"
   ]
  },
  {
   "cell_type": "markdown",
   "metadata": {},
   "source": [
    "## 4 Difference between comprehension and map/filter"
   ]
  },
  {
   "cell_type": "markdown",
   "metadata": {},
   "source": [
    "If you plan on writing any asynchronous, parallel, or distributed code, you will probably prefer map over a list comprehension -- as most asynchronous, parallel, or distributed packages provide a **map** function to overload python's **map**. Then by passing the appropriate **map** function to the rest of your code, you may not have to modify your original serial code to have it run in parallel (etc)."
   ]
  },
  {
   "cell_type": "markdown",
   "metadata": {},
   "source": [
    "When dealing with iterators you have to remember that they are stateful and that they mutate as you traverse them.\n",
    "Lists are more predictable since they only change when you explicitly mutate them; they are containers.\n",
    "And a bonus: numbers, strings, and tuples are even more predictable since they cannot change at all; they are values."
   ]
  },
  {
   "cell_type": "markdown",
   "metadata": {},
   "source": [
    "Map VS List Comprehension\n",
    "- List comprehension is more concise and easier to read as compared to map.\n",
    "- List comprehension allows filtering. In map, we have no such facility. For example, to print all even numbers in range of 100, we can write [n for n in range(100) if n%2 == 0]. There is no alternate for it in map\n",
    "- List comprehension are used when a list of results is required as map only returns a map object and does not return any list.\n",
    "- List comprehension is faster than map when we need to evaluate expressions that are too long or complicated to express\n",
    "- Map is faster in case of calling an already defined function (as no lambda is required)."
   ]
  },
  {
   "cell_type": "markdown",
   "metadata": {},
   "source": [
    "# <font color='Blue'>Exercises set 3: </font> "
   ]
  },
  {
   "cell_type": "markdown",
   "metadata": {},
   "source": [
    "__Ex 3.1:__ Translate the following **def** statements into **lambda** expression:  \n",
    "Composed function use intermidiate function h（x） or lambda function to compose 2 functions as one.\n",
    "\n"
   ]
  },
  {
   "cell_type": "code",
   "execution_count": 11,
   "metadata": {},
   "outputs": [
    {
     "data": {
      "text/plain": [
       "<function __main__.compose.<locals>.h(x)>"
      ]
     },
     "execution_count": 11,
     "metadata": {},
     "output_type": "execute_result"
    }
   ],
   "source": [
    "# sol 1\n",
    "def compose(f, g):\n",
    "    def h(x):\n",
    "        return f(g(x))\n",
    "    return h\n",
    "\n",
    "# sol 2\n",
    "def compose(f,g,x):\n",
    "    return f(g(x))\n",
    "\n",
    "# sol 3\n",
    "def compose(f,g):\n",
    "    return lambda x: f(g(x))\n",
    "\n",
    "# sol 4\n",
    "compose=lambda f,g: lambda x:f(g(x))\n",
    "\n"
   ]
  },
  {
   "cell_type": "code",
   "execution_count": 29,
   "metadata": {},
   "outputs": [
    {
     "name": "stdout",
     "output_type": "stream",
     "text": [
      "50\n",
      "50\n",
      "50\n",
      "50\n"
     ]
    }
   ],
   "source": [
    "def double(x):\n",
    "    return 2 * x\n",
    "\n",
    "def square(x):\n",
    "    return x ** 2\n",
    "\n",
    "\n",
    "#输入参数时添加x，此时可以直接返回f（g(x)）\n",
    "def compose(f,g,x):\n",
    "    return f(g(x))\n",
    "double_then_square = compose(double, square,5)\n",
    "print(double_then_square)\n",
    "\n",
    "\n",
    "#使用中间函数helper（）进行函数组合\n",
    "def compose(f,g):\n",
    "    def helper(x):\n",
    "        return f(g(x))\n",
    "    return helper\n",
    "\n",
    "double_then_square = compose(double, square)\n",
    "print(double_then_square(5))\n",
    "\n",
    "\n",
    "#使用lambda function 进行函数组合\n",
    "def compose(f, g):\n",
    "    return lambda x: f(g(x))\n",
    "\n",
    "double_then_square = compose(double, square)\n",
    "print(double_then_square(5))\n",
    "\n",
    "\n",
    "#用lambda function直接组合\n",
    "compose = lambda f, g: lambda x: f(g(x))\n",
    "double_then_square=compose(double,square)\n",
    "print(double_then_square(5))\n"
   ]
  },
  {
   "cell_type": "markdown",
   "metadata": {},
   "source": [
    "__Ex 3.2:__ Use **map** and **lambda** to write a program that reads the below variable *sentence* and gives the output as the length of each word in the *sentence* in the form of a list."
   ]
  },
  {
   "cell_type": "code",
   "execution_count": 36,
   "metadata": {
    "scrolled": true
   },
   "outputs": [
    {
     "name": "stdout",
     "output_type": "stream",
     "text": [
      "['I', 'am', 'learning', 'Python', 'programming', 'with', 'teacher']\n"
     ]
    }
   ],
   "source": [
    "sentence = 'I am learning Python programming with teacher'\n",
    "words = sentence.split()\n",
    "print(words)"
   ]
  },
  {
   "cell_type": "code",
   "execution_count": 38,
   "metadata": {},
   "outputs": [
    {
     "name": "stdout",
     "output_type": "stream",
     "text": [
      "[1, 2, 8, 6, 11, 4, 7]\n"
     ]
    }
   ],
   "source": [
    "lengths=list(map(lambda word : len(word),words))\n",
    "print(lengths)"
   ]
  },
  {
   "cell_type": "markdown",
   "metadata": {},
   "source": [
    "__Ex 3.3:__ Use **filter** and **lambda** to rite a Python program that takes the below variable *my_list* containing numbers and returns all the odd numbers in the form of a list."
   ]
  },
  {
   "cell_type": "code",
   "execution_count": 31,
   "metadata": {},
   "outputs": [],
   "source": [
    "my_list = [1, -6, 9, 2, 5, 7, 17, 443, 343, 14]"
   ]
  },
  {
   "cell_type": "code",
   "execution_count": 34,
   "metadata": {},
   "outputs": [
    {
     "name": "stdout",
     "output_type": "stream",
     "text": [
      "[1, 9, 5, 7, 17, 443, 343]\n"
     ]
    }
   ],
   "source": [
    "new_list=list(filter(lambda x : x%2==1,my_list))\n",
    "print(new_list)"
   ]
  },
  {
   "cell_type": "markdown",
   "metadata": {},
   "source": [
    "__Ex 3.4:__ Write a Python program to find the maximum value in a given heterogeneous list using lambda. \n",
    "\n",
    "\n",
    "Original list:\n",
    "['Python', 3, 2, 4, 5, 'version']\n",
    "Maximum values in the said list: 5"
   ]
  },
  {
   "cell_type": "code",
   "execution_count": 46,
   "metadata": {},
   "outputs": [
    {
     "name": "stdout",
     "output_type": "stream",
     "text": [
      "5\n"
     ]
    }
   ],
   "source": [
    "ori_list=['Python', 3, 2, 4, 5, 'version'] \n",
    "\n",
    "#use the max(object,key=...)\n",
    "# if the element is int,return itself as int; \n",
    "# else return -infinity(which is the smallest one compared to any int)\n",
    "max_value=max(ori_list, key=lambda x : x if isinstance(x,int) else float('-inf'))\n",
    "\n",
    "print(max_value)"
   ]
  },
  {
   "cell_type": "markdown",
   "metadata": {},
   "source": [
    "__Ex 3.5:__ Write a Python program to convert all the characters in uppercase and lowercase and eliminate duplicate letters from a given sequence. Use map() function."
   ]
  },
  {
   "cell_type": "code",
   "execution_count": 52,
   "metadata": {},
   "outputs": [
    {
     "name": "stdout",
     "output_type": "stream",
     "text": [
      "Original Characters:\n",
      " {'o', 'i', 'E', 'f', 'a', 'U', 'b'}\n",
      "\n",
      "After converting above characters in upper and lower cases\n",
      "and eliminating duplicate letters:\n",
      "{('U', 'u'), ('A', 'a'), ('O', 'o'), ('B', 'b'), ('I', 'i'), ('F', 'f'), ('E', 'e')}\n"
     ]
    }
   ],
   "source": [
    "def change_cases(s):\n",
    "    return str(s).upper(), str(s).lower()\n",
    " \n",
    "chrars = {'a', 'b', 'E', 'f', 'a', 'i', 'o', 'U', 'a'}  # a set\n",
    "print(\"Original Characters:\\n\",chrars)\n",
    "\n",
    "\n",
    "result = map(change_cases, chrars)\n",
    "print(\"\\nAfter converting above characters in upper and lower cases\\nand eliminating duplicate letters:\")\n",
    "print(set(result))"
   ]
  },
  {
   "cell_type": "markdown",
   "metadata": {},
   "source": [
    "## Challenges:"
   ]
  },
  {
   "cell_type": "markdown",
   "metadata": {},
   "source": [
    "__Ch#1__ Write a Python program to rearrange positive and negative numbers in a given array using Lambda.  \n",
    "按照-1/n 从小到大排序"
   ]
  },
  {
   "cell_type": "code",
   "execution_count": 109,
   "metadata": {},
   "outputs": [
    {
     "name": "stdout",
     "output_type": "stream",
     "text": [
      "Original arrays:\n",
      "[-1, 2, -3, 5, 7, 8, 9, -10]\n",
      "\n",
      "Rearrange positive and negative numbers of the said array:\n",
      "[2, 5, 7, 8, 9, -10, -3, -1]\n"
     ]
    }
   ],
   "source": [
    "array_nums = [-1, 2, -3, 5, 7, 8, 9, -10]\n",
    "print(\"Original arrays:\")\n",
    "print(array_nums)\n",
    "\n",
    "#write your code here\n",
    "result=sorted(array_nums,key=lambda num: -1/num)\n",
    "print(\"\\nRearrange positive and negative numbers of the said array:\")\n",
    "print(result)"
   ]
  },
  {
   "cell_type": "markdown",
   "metadata": {},
   "source": [
    "__Ch#2__ Write a Python program to sort a given matrix in ascending order according to the sum of its rows using lambda. \n",
    "\n",
    "\n",
    "Original Matrix:\n",
    "[[1, 2, 3], [2, 4, 5], [1, 1, 1]]\n",
    "Sort the said matrix in ascending order according to the sum of its rows\n",
    "[[1, 1, 1], [1, 2, 3], [2, 4, 5]]\n",
    "\n",
    "\n",
    "Original Matrix:\n",
    "[[1, 2, 3], [-2, 4, -5], [1, -1, 1]]\n",
    "Sort the said matrix in ascending order according to the sum of its rows\n",
    "[[-2, 4, -5], [1, -1, 1], [1, 2, 3]]"
   ]
  },
  {
   "cell_type": "code",
   "execution_count": 104,
   "metadata": {},
   "outputs": [
    {
     "name": "stdout",
     "output_type": "stream",
     "text": [
      "method1 [[1, 1, 1], [1, 2, 3], [2, 5], [2, 4, 5]]\n",
      "method2 [[1, 1, 1], [1, 2, 3], [2, 5], [2, 4, 5]]\n",
      "method3 [[2, 4, 5], [2, 5], [1, 2, 3], [1, 1, 1]]\n"
     ]
    }
   ],
   "source": [
    "matrix1 = [[1, 2, 3], [2, 4, 5], [1, 1, 1],[2,5]]\n",
    "\n",
    "\n",
    "def sort_matrix1(m):\n",
    "    sum_row = []\n",
    "    sorted_matrix = []\n",
    "    \n",
    "    # 复制原始矩阵以防止修改原始数据\n",
    "    # 若不复制，直接用m矩阵进行下面运算，pop方法会改变m长度，导致len（m）也被改变\n",
    "    # 注意，应该使用深复制（还有其他深复制方法），使得复制后的新list和原list完全独立；如果使用‘=’复制，则两者修改一个会同步到另一个\n",
    "    original_matrix = [row[:] for row in m]\n",
    "\n",
    "    for i in range(len(original_matrix)):\n",
    "        for row in original_matrix:\n",
    "            sum_row.append(sum(row))\n",
    "        min_row = min(sum_row)\n",
    "        min_row_index = sum_row.index(min_row)\n",
    "        # find the min_sum_row_index and use this index to pop the min row into sorted_matrix.\n",
    "        sorted_matrix.append(original_matrix.pop(min_row_index)) \n",
    "        sum_row.clear()\n",
    "    \n",
    "    return sorted_matrix\n",
    "\n",
    "\n",
    "\n",
    "def sort_matrix2(m):\n",
    "    sorted_matrix = []\n",
    "    \n",
    "    # 复制原始矩阵以防止修改原始数据\n",
    "    original_matrix = [row[:] for row in m]\n",
    "\n",
    "    while original_matrix:\n",
    "        min_row = min(original_matrix, key=lambda row: sum(row))\n",
    "        #print('min_row',min_row)\n",
    "        sorted_matrix.append(min_row)\n",
    "        original_matrix.remove(min_row)  #until the original_matrix=[empty],stop the while loop\n",
    "        #print(original_matrix)\n",
    "    \n",
    "    return sorted_matrix\n",
    "\n",
    "\n",
    "\n",
    "# test\n",
    "\n",
    "sorted_matrix1 = sort_matrix1(matrix1)\n",
    "sorted_matrix2 = sort_matrix2(matrix1)\n",
    "\n",
    "print('method1',sorted_matrix1)\n",
    "print('method2',sorted_matrix2)\n",
    "\n",
    "\n",
    "# 使用sorted()函数，按照行的和进行排序\n",
    "def sum_row(row):\n",
    "    return sum(row)\n",
    "\n",
    "sorted_matrix22 = sorted(matrix1, key=sum_row)  # if set the arg reverse=True, then it will return a descending matrix\n",
    "print('method3',sorted_matrix22)\n"
   ]
  }
 ],
 "metadata": {
  "kernelspec": {
   "display_name": "Python 3 (ipykernel)",
   "language": "python",
   "name": "python3"
  },
  "language_info": {
   "codemirror_mode": {
    "name": "ipython",
    "version": 3
   },
   "file_extension": ".py",
   "mimetype": "text/x-python",
   "name": "python",
   "nbconvert_exporter": "python",
   "pygments_lexer": "ipython3",
   "version": "3.9.12"
  }
 },
 "nbformat": 4,
 "nbformat_minor": 4
}
