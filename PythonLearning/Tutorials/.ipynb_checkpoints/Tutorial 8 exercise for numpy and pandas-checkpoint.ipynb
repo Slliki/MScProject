{
 "cells": [
  {
   "cell_type": "markdown",
   "metadata": {},
   "source": [
    "\n",
    "# EMATM0048: Software Development Programming and Algorithms (SDPA)\n",
    "# Exercise for Numpy\n"
   ]
  },
  {
   "cell_type": "code",
   "execution_count": null,
   "metadata": {
    "vscode": {
     "languageId": "plaintext"
    }
   },
   "outputs": [],
   "source": [
    "## Ex 1: \n",
    "Write a NumPy program to create a 2d array with 1 on the border and 0 inside.\n",
    "\n",
    "Original array:\n",
    "[[1. 1. 1. 1. 1.]\n",
    " [1. 1. 1. 1. 1.]\n",
    " [1. 1. 1. 1. 1.]\n",
    " [1. 1. 1. 1. 1.]\n",
    " [1. 1. 1. 1. 1.]]\n",
    " \n",
    " \n",
    "**Expected output:** 1 on the border and 0 inside in the array\n",
    "[[1. 1. 1. 1. 1.]\n",
    " [1. 0. 0. 0. 1.]\n",
    " [1. 0. 0. 0. 1.]\n",
    " [1. 0. 0. 0. 1.]\n",
    " [1. 1. 1. 1. 1.]]"
   ]
  },
  {
   "cell_type": "code",
   "execution_count": null,
   "metadata": {
    "vscode": {
     "languageId": "plaintext"
    }
   },
   "outputs": [],
   "source": [
    "## Ex 2: \n",
    "Write a NumPy program to convert the values of Fahrenheit degrees into celsius degrees. \n",
    "\n",
    "**Expected Output:**\n",
    "Values in Fahrenheit degrees:\n",
    "[ 0. 12. 45.21 34. 99.91]\n",
    "Values in celsius degrees:\n",
    "[-17.77777778 -11.11111111 7.33888889 1.11111111 37.72777778]"
   ]
  },
  {
   "cell_type": "code",
   "execution_count": null,
   "metadata": {
    "vscode": {
     "languageId": "plaintext"
    }
   },
   "outputs": [],
   "source": [
    "## Ex 3:\n",
    "Write a NumPy program to get the values and indices of the elements that are bigger than 10 in a given array.\n",
    "\n",
    "Original array:                                                        \n",
    "[[ 0 10 20]\n",
    " [20 30 40]]                                                           \n",
    "**Expected output:**\n",
    "Values bigger than 10 = [20 20 30 40]                                  \n",
    "Their indices are  (array([0, 1, 1, 1]), array([2, 0, 1, 2]))\n"
   ]
  },
  {
   "cell_type": "code",
   "execution_count": null,
   "metadata": {
    "vscode": {
     "languageId": "plaintext"
    }
   },
   "outputs": [],
   "source": [
    "## Ex 4: \n",
    "Write a Python NumPy program to compute the weighted average for two arrays. \n",
    "\n",
    "The weighted arithmetic mean is similar to an ordinary arithmetic mean (the most common type of average), except that instead of each of the data points contributing equally to the final average, some data points contribute more than others. The notion of weighted mean plays a role in descriptive statistics and also occurs in a more general form in several other areas of mathematics.\n",
    "\n",
    "Basic example\n",
    "Given two school classes, one with 20 students, and one with 30 students, the grades in each class on a test were:\n",
    "Morning class = 62, 67, 71, 74, 76, 77, 78, 79, 79, 80, 80, 81, 81, 82, 83, 84, 86, 89, 93, 98\n",
    "Afternoon class = 81, 82, 83, 84, 85, 86, 87, 87, 88, 88, 89, 89, 89, 90, 90, 90, 90, 91, 91, 91, 92, 92, 93, 93, 94, 95, 96, 97, 98, 99\n",
    "\n",
    "Weighted average is : 86 "
   ]
  },
  {
   "cell_type": "code",
   "execution_count": null,
   "metadata": {
    "vscode": {
     "languageId": "plaintext"
    }
   },
   "outputs": [],
   "source": [
    "## Ex 5: \n",
    "Replace all odd numbers in the given array with -1. \n",
    "\n",
    "Sample input: [0, 1, 2, 3, 4, 5, 6, 7, 8, 9]\n",
    "\n",
    "**Expected output:** [ 0 -1  2 -1  4 -1  6 -1  8 -1]\n"
   ]
  },
  {
   "cell_type": "code",
   "execution_count": null,
   "metadata": {
    "vscode": {
     "languageId": "plaintext"
    }
   },
   "outputs": [],
   "source": [
    "## Ex #6: \n",
    "Compute averages using a sliding window over an array?\n",
    "\n",
    "Example: take the input [5, 2, 4, 6, 3, 1].A slidinhg winodow of size 2 is applied. The current sum of the pair, [5,2] is 7. Continue iterating through the entire array. One must slide the window up by 1 to reach the next iteration. The result is [3.5,3, 5, 4.5, 2]. Try with different window sizes. "
   ]
  },
  {
   "cell_type": "markdown",
   "metadata": {},
   "source": [
    "- More excercises at https://github.com/rougier/numpy-100\n",
    "    "
   ]
  },
  {
   "cell_type": "markdown",
   "metadata": {},
   "source": [
    "## Challenges: "
   ]
  },
  {
   "cell_type": "code",
   "execution_count": null,
   "metadata": {
    "vscode": {
     "languageId": "plaintext"
    }
   },
   "outputs": [],
   "source": [
    " ## Ch #1: \n",
    " Consider the vector [1, 2, 3, 4, 5], how to build a new vector with 3 consecutive zeros interleaved between each value?\n"
   ]
  },
  {
   "cell_type": "code",
   "execution_count": null,
   "metadata": {
    "vscode": {
     "languageId": "plaintext"
    }
   },
   "outputs": [],
   "source": [
    "## Ch #2:\n",
    "Create a 2D array subclass to create a symmetric matrix from random numbers such that Z[i,j] == Z[j,i]\n",
    "An example symmetric matrix will look like:\n",
    "\n",
    "\n",
    "[[ 1, 10,  7, 11,  3],\n",
    "\n",
    "[10,  0,  8, 15,  2],\n",
    "\n",
    "\n",
    "[ 7,  8,  9,  6,  6],\n",
    "\n",
    "[11, 15,  6,  9, 12],\n",
    "          \n",
    "          \n",
    "[ 3,  2,  6, 12,  2]]\n"
   ]
  },
  {
   "cell_type": "markdown",
   "metadata": {},
   "source": [
    "# Exercise for Pandas: \n",
    "\n",
    "In this exercise, you will work with a data set in \"mtcars.csv\" that contains information on 31 cars. We will create a collection of scatterplots showing the relationship between horsepower (hp) and miles per gallon (mpg), displacement(disp) and quarter mile time (qsec).  Also, in each of these plots we will distinguish between automatic (am = 0) and manual (am=1) cars. Please follow the following steps: \n",
    "\n",
    "**Step 0:** create a gitHub repository for this exercise. In your local repository, copy this jupyter file. Make sure you commit and push changes to your online repository after each step. \n",
    "\n",
    "**Step 1:** Read the file into a data frame\n",
    "\n",
    "**Step 2:** Dispaly statistics about differnt columns\n",
    "\n",
    "**Step 3:** Create two dataframes from the origial one to represent manual and automatic cars\n",
    "\n",
    "**Step 4:** Now Let's first create a 1x3 figure on which we will place the three plots. Give the figure a title of \"Understanding the Effect of Horspower on other Features\"\n",
    "\n",
    "**Step 5:** On the first axis plot hp versus miles per gallon for manual cars only\n",
    "\n",
    "**Step 6:** Add to the same axis a plot for automatic car, using a different color\n",
    "\n",
    "**Step 7:** Repeat 5 and 6 for hp vs qsec\n",
    "\n",
    "**Step 8:** Repeat 5 and 6 for hp vs disp\n",
    "\n",
    "**Step 9:** Use descriptive labels, good markers, colors, and legends to enhance your graph\n",
    "\n",
    "**Step 10:** Save figures to your computer \n",
    "\n",
    "\n",
    "Advanced: Add two horizontal lines to the first plot denoting the respective average mpg for automatic and manual cars respectively. "
   ]
  }
 ],
 "metadata": {
  "kernelspec": {
   "display_name": "Python 3 (ipykernel)",
   "language": "python",
   "name": "python3"
  },
  "language_info": {
   "codemirror_mode": {
    "name": "ipython",
    "version": 3
   },
   "file_extension": ".py",
   "mimetype": "text/x-python",
   "name": "python",
   "nbconvert_exporter": "python",
   "pygments_lexer": "ipython3",
   "version": "3.9.12"
  }
 },
 "nbformat": 4,
 "nbformat_minor": 4
}
