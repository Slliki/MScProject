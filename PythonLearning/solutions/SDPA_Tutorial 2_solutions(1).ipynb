{
 "cells": [
  {
   "cell_type": "markdown",
   "metadata": {},
   "source": [
    "# EMATM0048: Software Development Programming and Algorithms (SDPA)\n",
    "# `Tutorial 2 - Solutions`\n"
   ]
  },
  {
   "cell_type": "markdown",
   "metadata": {},
   "source": [
    "## String Exercises:\n"
   ]
  },
  {
   "cell_type": "code",
   "execution_count": 2,
   "metadata": {},
   "outputs": [],
   "source": [
    "string1 = \"The name of my dog is Charlie!\"\n",
    "string2 = \"My favourite car brand is mercedes benz.\"\n",
    "string3 = \"The weather is taking a turn for the worse.\"\n",
    "string4 = \"There are many benefits to Python\"\n",
    "string5 = \"    strings are stored as an array of characters    \""
   ]
  },
  {
   "cell_type": "markdown",
   "metadata": {},
   "source": [
    "Q1. For the strings above answer the following:\n",
    "\n",
    "- Output every second character from string1. _Expected output: \"Tenm fm o sCale\"._\n",
    "- Capitalise the car brand name from string2 and output it. _Expected output: \"Mercedes Benz\"._\n",
    "- Output every fourth character in string3 starting from the third character. _Expected output: \"ear iaroho.\"._\n",
    "- Output the length of each string? _Expected output: Length: 30,40,43,33,52 respectively._\n",
    "- Remove the padding (spaces) from string5 and output the new string. What is the length of the shortened string? _Expected output: \"strings are stored as an array of characters\" , length = 44._\n",
    "- Manipulate the first three strings into a single string with spaces between each sentence and output the result. _Expected output: \"The name of my dog is Charlie! My favourite car brand is mercedes benz. The weather is taking a turn for the worse.\"._"
   ]
  },
  {
   "cell_type": "code",
   "execution_count": 3,
   "metadata": {},
   "outputs": [
    {
     "name": "stdout",
     "output_type": "stream",
     "text": [
      "Q1.Tenm fm o sCale\n"
     ]
    }
   ],
   "source": [
    "print('Q1.'+ string1[0::2])\n"
   ]
  },
  {
   "cell_type": "code",
   "execution_count": 4,
   "metadata": {},
   "outputs": [
    {
     "name": "stdout",
     "output_type": "stream",
     "text": [
      "Q1.Tenm fm o sCale\n",
      "Q2.Mercedes Benz\n",
      "or.Mercedes Benz\n",
      "Q3.ear iaroho.\n",
      "Q4. a. string1 =30\n",
      "b. string2 =40\n",
      "c. string3 =43\n",
      "d. string4 =33\n",
      "e. string5 =52\n",
      "Q5.strings are stored as an array of characters , length = 44\n",
      "Q6.The name of my dog is Charlie! My favourite car brand is mercedes benz. The weather is taking a turn for the worse.\n"
     ]
    }
   ],
   "source": [
    "#1\n",
    "print('Q1.'+ string1[0::2])\n",
    "#2\n",
    "short_string2= string2[-14:-1]\n",
    "print('Q2.'+short_string2.title())\n",
    "#or\n",
    "print('or.'+(string2[-14:-1]).title())\n",
    "#3\n",
    "print('Q3.'+string3[2::4])\n",
    "#4\n",
    "print('Q4. a. string1 ='+str(len(string1)))\n",
    "print('b. string2 ='+str(len(string2)))\n",
    "print('c. string3 ='+str(len(string3)))\n",
    "print('d. string4 ='+str(len(string4)))\n",
    "print('e. string5 ='+str(len(string5)))\n",
    "\n",
    "#5\n",
    "print('Q5.'+string5.strip(),', length =', str(len(string5.strip())))\n",
    "\n",
    "#6\n",
    "long_string = string1+' '+string2+' '+string3\n",
    "print('Q6.'+long_string)"
   ]
  },
  {
   "cell_type": "markdown",
   "metadata": {},
   "source": [
    "Q2. Given a string of odd length greater than 7, return a new string made of the middle three characters of a given String. Example:\"JhonDipPeta\" >> Output: Dip"
   ]
  },
  {
   "cell_type": "code",
   "execution_count": 19,
   "metadata": {},
   "outputs": [
    {
     "name": "stdout",
     "output_type": "stream",
     "text": [
      "Enter String of odd numbers: JhonDipPeta\n",
      "Original String is JhonDipPeta\n",
      "Middle three chars are Dip\n"
     ]
    }
   ],
   "source": [
    "sampleStr= input(\"Enter String of odd numbers: \")\n",
    "middleIndex = int(len(sampleStr) /2)\n",
    "print(\"Original String is\", sampleStr)\n",
    "middleThree = sampleStr[middleIndex-1:middleIndex+2]\n",
    "print(\"Middle three chars are\", middleThree)"
   ]
  },
  {
   "cell_type": "markdown",
   "metadata": {},
   "source": [
    "Q3. Given two strings, s1 and s2, create a new string by appending s2 in the middle of s1. Example: s1 = \"Ault\" s2 = \"Kelly\", output: AuKellylt"
   ]
  },
  {
   "cell_type": "code",
   "execution_count": 20,
   "metadata": {},
   "outputs": [
    {
     "name": "stdout",
     "output_type": "stream",
     "text": [
      "Enter String 1: Ault\n",
      "Enter String 2: Kelly\n",
      "Original Strings are Ault Kelly\n",
      "After appending new string in middle AuKellylt\n"
     ]
    }
   ],
   "source": [
    "s1= input(\"Enter String 1: \")\n",
    "s2= input(\"Enter String 2: \")\n",
    "\n",
    "middleIndex = int(len(s1) /2)\n",
    "print(\"Original Strings are\", s1, s2)\n",
    "middleThree = s1[:middleIndex:]+ s2 +s1[middleIndex:]\n",
    "print(\"After appending new string in middle\", middleThree)"
   ]
  },
  {
   "cell_type": "markdown",
   "metadata": {},
   "source": [
    "Q4. Given two strings, s1, and s2 return a new string made of the first, middle, and last characters each input string\n",
    "s1 = \"America\"\n",
    "s2 = \"Japan\"\n",
    "Output AJrpan"
   ]
  },
  {
   "cell_type": "code",
   "execution_count": 21,
   "metadata": {},
   "outputs": [
    {
     "name": "stdout",
     "output_type": "stream",
     "text": [
      "Enter String 1 America\n",
      "Enter String 2 Japan\n",
      "Mix String is  AJrpan\n"
     ]
    }
   ],
   "source": [
    "s1= input(\"Enter String 1 \")\n",
    "s2= input(\"Enter String 2 \")\n",
    "first_char = s1[0] + s2[0]\n",
    "middle_char = s1[int(len(s1) / 2)] + s2[int(len(s2) / 2)]\n",
    "last_char = s1[-1] + s2[-1]\n",
    "res = first_char + middle_char + last_char\n",
    "print(\"Mix String is \", res)"
   ]
  },
  {
   "cell_type": "markdown",
   "metadata": {},
   "source": [
    "-----"
   ]
  },
  {
   "cell_type": "markdown",
   "metadata": {},
   "source": [
    "## Exercises loops and conditions"
   ]
  },
  {
   "cell_type": "markdown",
   "metadata": {},
   "source": [
    "Q1.  Calculate the sum of first ten numbers (try using while loop)\n",
    "\n"
   ]
  },
  {
   "cell_type": "code",
   "execution_count": 10,
   "metadata": {},
   "outputs": [
    {
     "name": "stdout",
     "output_type": "stream",
     "text": [
      "Sum of first 10 numbers is: 55\n"
     ]
    }
   ],
   "source": [
    "num = 10\n",
    "sum = 0\n",
    "i = 1\n",
    "while i <= num:\n",
    "    sum = sum + i\n",
    "    i = i + 1\n",
    "print(\"Sum of first 10 numbers is:\", sum)"
   ]
  },
  {
   "cell_type": "markdown",
   "metadata": {},
   "source": [
    "2. Print a rectangle Pattern with 5 rows and 3 columns of stars\n"
   ]
  },
  {
   "cell_type": "code",
   "execution_count": 11,
   "metadata": {},
   "outputs": [
    {
     "name": "stdout",
     "output_type": "stream",
     "text": [
      "***\n",
      "***\n",
      "***\n",
      "***\n",
      "***\n"
     ]
    }
   ],
   "source": [
    "# 5 rows\n",
    "for name in range(5):\n",
    "    # 3 column\n",
    "    for j in range(3):\n",
    "        print('*', end='')\n",
    "    print()"
   ]
  },
  {
   "cell_type": "markdown",
   "metadata": {},
   "source": [
    "Q3. Given an input string with the combination of the lower and upper case arrange characters in such a way that all lowercase letters should come first."
   ]
  },
  {
   "cell_type": "code",
   "execution_count": 12,
   "metadata": {},
   "outputs": [
    {
     "name": "stdout",
     "output_type": "stream",
     "text": [
      "Enter string: \n",
      "arranging characters giving precedence to lowercase letters:\n",
      "\n"
     ]
    }
   ],
   "source": [
    "str1 = input (\"Enter string: \")\n",
    "lower = \"\"\n",
    "upper = \"\"\n",
    "for char in str1:\n",
    "    if char.islower():\n",
    "        lower+=char\n",
    "    else:\n",
    "        upper+=char\n",
    "sorted_string = lower+upper\n",
    "print(\"arranging characters giving precedence to lowercase letters:\")\n",
    "print(sorted_string)"
   ]
  },
  {
   "cell_type": "markdown",
   "metadata": {},
   "source": [
    "Q4. Write a program to count the total number of digits in a number using a while loop. For example, the number is 75869, so the output should be 5.\n",
    "\n",
    "\n",
    "__Hint 1:__ This example can be solved with two different ways, try both. Which one you think is better? Discuss with your class mates. \n",
    "\n",
    "__Hint 2:__ You may need to Set a counter = 0\n",
    "Run while loop till number != 0\n",
    "In each iteration of loop\n",
    "Reduce the last digit from the number using floor division ( number = number // 10)\n",
    "Increment counter by 1"
   ]
  },
  {
   "cell_type": "code",
   "execution_count": 13,
   "metadata": {},
   "outputs": [
    {
     "name": "stdout",
     "output_type": "stream",
     "text": [
      "Total digits are: 5\n"
     ]
    }
   ],
   "source": [
    "num = 75869\n",
    "count = 0\n",
    "while num != 0:\n",
    "    # floor division\n",
    "    # to reduce the last digit from number\n",
    "    num = num // 10\n",
    "\n",
    "    # increment counter by 1\n",
    "    count = count + 1\n",
    "print(\"Total digits are:\", count)"
   ]
  },
  {
   "cell_type": "code",
   "execution_count": 14,
   "metadata": {},
   "outputs": [
    {
     "name": "stdout",
     "output_type": "stream",
     "text": [
      "Total digits are: 5\n"
     ]
    }
   ],
   "source": [
    "#another sol\n",
    "number=75869\n",
    "count=0\n",
    "number=str(number)\n",
    "for I in number:\n",
    "    count+=1\n",
    "print(\"Total digits are:\", count)"
   ]
  },
  {
   "cell_type": "markdown",
   "metadata": {},
   "source": [
    "Q5. Reverse a given integer number, given: 76542, output: 24567\n",
    "\n",
    "__Hint:__ This example can be solved with two different ways, try both. Which one you think is better? Discuss with your class mates. "
   ]
  },
  {
   "cell_type": "code",
   "execution_count": 22,
   "metadata": {},
   "outputs": [
    {
     "name": "stdout",
     "output_type": "stream",
     "text": [
      "Enter a number: 76542\n",
      "Reverse number:  24567\n"
     ]
    }
   ],
   "source": [
    "num = int(input (\"Enter a number: \"))\n",
    "reverse_number = 0\n",
    "while num > 0:\n",
    "    remainder = num % 10\n",
    "    reverse_number = (reverse_number * 10) + remainder\n",
    "    num = num // 10\n",
    "print(\"Reverse number: \", reverse_number)"
   ]
  },
  {
   "cell_type": "code",
   "execution_count": 23,
   "metadata": {},
   "outputs": [
    {
     "name": "stdout",
     "output_type": "stream",
     "text": [
      "Enter a number: 76542\n",
      "Reverse number:  24567\n"
     ]
    }
   ],
   "source": [
    "# another sol\n",
    "\n",
    "num = input (\"Enter a number: \")\n",
    "\n",
    "print(\"Reverse number: \", num[::-1])"
   ]
  },
  {
   "cell_type": "markdown",
   "metadata": {},
   "source": [
    "# Tutorial 2 Challenges example solutions"
   ]
  },
  {
   "cell_type": "markdown",
   "metadata": {},
   "source": [
    "Ch # 1. Find common unique characters between two sentences, while ignoring white space and cases. Example: s1= \"SDPA is fun\", s2= 'Alpaca are cute\", output: \"apu\""
   ]
  },
  {
   "cell_type": "code",
   "execution_count": 1,
   "metadata": {},
   "outputs": [
    {
     "name": "stdout",
     "output_type": "stream",
     "text": [
      "Enter the first sentence: sljfadeKJ\n",
      "Enter the second sentence: slkdfjeoqKKSNX\n",
      "sljfdekj\n"
     ]
    }
   ],
   "source": [
    "s1= input(\"Enter the first sentence: \")\n",
    "s2= input(\"Enter the second sentence: \")\n",
    "outputStr=\"\"\n",
    "s1= s1.replace(\" \",\"\").lower()\n",
    "s2= s2.replace(\" \",\"\").lower()\n",
    "\n",
    "for ch1 in s1:\n",
    "    for ch2 in s2:\n",
    "        if (ch1==ch2):\n",
    "            outputStr+=ch1\n",
    "            break\n",
    "print (outputStr)"
   ]
  },
  {
   "cell_type": "markdown",
   "metadata": {},
   "source": [
    "Ch # 2. Write a program to display all prime numbers within a range Note: A Prime Number is a number that cannot be made by multiplying other whole numbers. A prime number is a natural number greater than 1 that is not a product of two smaller natural numbers\n",
    "\n",
    "Examples: 6 is not a prime mumber because it can be made by 2×3 = 6 37 is a prime number because no other whole numbers multiply together to make it."
   ]
  },
  {
   "cell_type": "code",
   "execution_count": 2,
   "metadata": {},
   "outputs": [
    {
     "name": "stdout",
     "output_type": "stream",
     "text": [
      "Prime numbers between 25 and 50 are:\n",
      "29\n",
      "31\n",
      "37\n",
      "41\n",
      "43\n",
      "47\n"
     ]
    }
   ],
   "source": [
    "start = 25\n",
    "end = 50\n",
    "print(\"Prime numbers between\", start, \"and\", end, \"are:\")\n",
    "\n",
    "for num in range(start, end + 1):\n",
    "    # all prime numbers are greater than 1\n",
    "    # if number is less than or equal to 1, it is not prime\n",
    "    if num > 1:\n",
    "        for i in range(2, num):\n",
    "            # check for factors\n",
    "            if (num % i) == 0:\n",
    "                # not a prime number so break inner loop and\n",
    "                # look for next number\n",
    "                break\n",
    "        else:\n",
    "            print(num)"
   ]
  },
  {
   "cell_type": "markdown",
   "metadata": {},
   "source": [
    "Ch # 3. (advanced, 2pts) Write a Python program to draw a three stage rocket. Here is mine - you can make yours different!"
   ]
  },
  {
   "cell_type": "code",
   "execution_count": 3,
   "metadata": {},
   "outputs": [
    {
     "name": "stdout",
     "output_type": "stream",
     "text": [
      "   **\n",
      "  *  *\n",
      " *    *\n",
      "*======*\n",
      "|*    *|\n",
      "| *  * |\n",
      "|  **  |\n",
      "*======*\n",
      "|*    *|\n",
      "| *  * |\n",
      "|  **  |\n",
      "*======*\n",
      "|*    *|\n",
      "| *  * |\n",
      "|  **  |\n",
      "*======*\n"
     ]
    }
   ],
   "source": [
    "a= \"*\"\n",
    "b= \"=\"\n",
    "c= \"|\"\n",
    "for i in range (3,0,-1):\n",
    "    print(\" \"*(i)+a+(3-i)*2*\" \"+a)\n",
    "for i in range(3):\n",
    "    print (a+b*6+a)\n",
    "    k= 0\n",
    "    for j in range (3):\n",
    "        string1= c+\" \"*j+a\n",
    "        string1+=(4-j-k)*\" \"+a+k*\" \"+c\n",
    "        k+=1\n",
    "        print(string1)\n",
    "print (a+b*6+a)\n"
   ]
  },
  {
   "cell_type": "code",
   "execution_count": null,
   "metadata": {},
   "outputs": [],
   "source": []
  }
 ],
 "metadata": {
  "kernelspec": {
   "display_name": "Python 3 (ipykernel)",
   "language": "python",
   "name": "python3"
  },
  "language_info": {
   "codemirror_mode": {
    "name": "ipython",
    "version": 3
   },
   "file_extension": ".py",
   "mimetype": "text/x-python",
   "name": "python",
   "nbconvert_exporter": "python",
   "pygments_lexer": "ipython3",
   "version": "3.9.12"
  }
 },
 "nbformat": 4,
 "nbformat_minor": 4
}
