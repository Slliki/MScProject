{
 "cells": [
  {
   "cell_type": "markdown",
   "id": "117207c7",
   "metadata": {},
   "source": [
    "# Numpy"
   ]
  },
  {
   "cell_type": "markdown",
   "id": "143a92d0",
   "metadata": {},
   "source": [
    "# 1. Basic Structure: ndarray\n",
    "ndarray is used for storage of homogeneous data i.e., all elements the same type Every array must have a shape and a dtype Supports convenient slicing, indexing and efficient vectorized computation\n",
    "- Arrays can have any number of dimensions, including zero (a scalar).\n",
    "- Arrays are typed: np.uint8, np.int64, np.float32, np.float64\n",
    "- Arrays are dense. Each element of the array exists and has the same type.\n",
    "\n",
    "## 1. Syntax\n",
    "\n",
    "`np.array([ ])`: One dimension \\\n",
    "`np.array([[],[],[],...])` Multi-dimension-->matrix"
   ]
  },
  {
   "cell_type": "code",
   "execution_count": 6,
   "id": "a88b2b7a",
   "metadata": {},
   "outputs": [
    {
     "name": "stdout",
     "output_type": "stream",
     "text": [
      "[0 2 5]\n",
      "[[0 0 3]\n",
      " [0 5 1]\n",
      " [9 6 4]]\n"
     ]
    }
   ],
   "source": [
    "import numpy as np\n",
    "arr1=np.array([0,2,5])\n",
    "arr2=np.array([[0,0,3],[0,5,1],[9,6,4]])\n",
    "print(arr1)\n",
    "print(arr2)"
   ]
  },
  {
   "cell_type": "markdown",
   "id": "34c03eb9",
   "metadata": {},
   "source": [
    "- Using lists or tuples:`[[ ],[ ]]`\n",
    "- homogeneous data: zeros, ones : `np.zeros((n,m))` ,`np.ones((n,m))`\n",
    "- diagonal elements: diag, eye:`np.diag([])`, `np.eye`\n",
    "- numerical ranges: arange, linspace, logspace:`np.arange()`\n",
    "- random numbers: rand, randint:`np.random.randint(min,max,(n,m))`生成min-max内的随机数，形状为n*m\n",
    "- Reading from files"
   ]
  },
  {
   "cell_type": "code",
   "execution_count": 19,
   "id": "c91ed915",
   "metadata": {},
   "outputs": [
    {
     "name": "stdout",
     "output_type": "stream",
     "text": [
      "[[1 2 3 4]\n",
      " [5 6 7 8]] \n",
      "\n",
      "np.zeros:\n",
      " [[0. 0. 0.]\n",
      " [0. 0. 0.]]\n",
      "np.ones:\n",
      " [[1. 1. 1.]\n",
      " [1. 1. 1.]] \n",
      "\n",
      "np.eye:\n",
      " [[1. 0. 0.]\n",
      " [0. 1. 0.]\n",
      " [0. 0. 1.]]\n",
      "np.diag:\n",
      " [[1 0 0]\n",
      " [0 2 0]\n",
      " [0 0 3]] \n",
      "\n",
      "np.arange:\n",
      " [0 2 4 6 8] \n",
      "\n",
      "np.random.randint:\n",
      " [[1 7 6]\n",
      " [0 5 9]\n",
      " [5 1 3]]\n"
     ]
    }
   ],
   "source": [
    "#List of lists\n",
    "data = [[1, 2, 3, 4], [5, 6, 7, 8]]  #list of lists\n",
    "arr = np.array(data)\n",
    "print(arr,'\\n')\n",
    "\n",
    "#homogeneous data: zeros, ones\n",
    "array= np.zeros((2,3))\n",
    "print ('np.zeros:\\n',array)\n",
    "array = np.ones((2,3))\n",
    "print ('np.ones:\\n',array,'\\n')\n",
    "\n",
    "#diagonal elements: diag, eye\n",
    "array = np.eye(3) \n",
    "print ('np.eye:\\n',array)\n",
    "# a diagonal matrix\n",
    "array= np.diag([1,2,3])\n",
    "print ('np.diag:\\n',array,'\\n')\n",
    "\n",
    "#numerical ranges: arange, linspace, logspace\n",
    "array = np.arange(0, 10, 2) # arange is an array-valued version of the built-in Python range function\n",
    "print ('np.arange:\\n',array,'\\n')\n",
    "\n",
    "#random numbers: rand, randint\n",
    "array = np.random.randint(0, 10, (3,3))\n",
    "print ('np.random.randint:\\n',array)"
   ]
  },
  {
   "cell_type": "markdown",
   "id": "07fb8855",
   "metadata": {},
   "source": [
    "## 2. Type, Size, Shape\n",
    "\n",
    " <big>`ndarray.ndim`：表示数组的维数。例如，一维数组的 ndim 是 1，二维数组的 ndim 是 2。\n",
    "\n",
    " <big>`ndarray.shape`：表示数组的形状，即每个维度的大小。对于二维数组，这会返回一个包含行数和列数的元组。\n",
    "\n",
    " <big>`ndarray.size`：表示数组中元素的总数量。\n",
    "\n",
    " <big>`ndarray.dtype`：数组中元素的数据类型。例如，numpy.int32, numpy.float64等。\n",
    "\n",
    " <big>`ndarray.itemsize`：数组中每个元素的大小（以字节为单位）。\n",
    "\n",
    " <big>`ndarray.real`：数组的实部（如果数组是复数数组）。\n",
    "\n",
    " <big>`ndarray.imag`：数组的虚部（如果数组是复数数组）。\n",
    "\n",
    " <big>`ndarray.T`：数组的转置版本。对于二维数组，这等同于其行列交换的结果。"
   ]
  },
  {
   "cell_type": "code",
   "execution_count": 20,
   "id": "608d6f7e",
   "metadata": {},
   "outputs": [
    {
     "name": "stdout",
     "output_type": "stream",
     "text": [
      "[[9 8 8]\n",
      " [9 0 2]]\n",
      "6 (2, 3) int32\n"
     ]
    }
   ],
   "source": [
    "arr = np.random.randint(0,10,(2,3))\n",
    "print(arr)\n",
    "print (arr.size, arr.shape, arr.dtype)"
   ]
  },
  {
   "cell_type": "markdown",
   "id": "87d97002",
   "metadata": {},
   "source": [
    "<big>`.reshape(n,m)`:</big>\\\n",
    "reshape 函数可以通过指定新的形状来重塑数组。形状是由表示维度大小的整数组成的元组。例如，如果你有一个包含 6 个元素的一维数组，你可以将它重塑为形状为 (2, 3) 的二维数组。\\\n",
    "注意，reshape前后两数组应该满足行*列的值相同\n",
    "\n",
    "**自动计算维度**：你可以在 reshape 方法中将某一维度指定为 -1。这会让 NumPy 自动计算这一维度的大小。\n",
    "\n",
    "<big>`.ravel()`</big>\\\n",
    "用于将多维数组“展平”成一维数组。这个方法不会创建原始数据的副本，而是返回一个视图（如果可能的话）。这意味着，通过 .ravel() 返回的数组和原始数组共享相同的数据空间\n",
    "- 不复制数据：通常情况下，.ravel() 不会产生数据的复制，它仅仅返回原数组的一个视图（一维形式）。因此，对返回数组的任何修改都会反映到原始数组上。\n",
    "- 一维表示：该方法将多维数组转换为一维数组。例如，如果你有一个 2x3 的数组，使用 .ravel() 之后，你将得到一个包含 6 个元素的一维数组。"
   ]
  },
  {
   "cell_type": "code",
   "execution_count": 25,
   "id": "3f59fdaf",
   "metadata": {
    "scrolled": true
   },
   "outputs": [
    {
     "name": "stdout",
     "output_type": "stream",
     "text": [
      "a:\n",
      " [1 2 3 4 5 6]\n",
      "b:\n",
      " [[1 2 3]\n",
      " [4 5 6]]\n",
      "b2:\n",
      " [[1 2]\n",
      " [3 4]\n",
      " [5 6]]\n",
      "c:\n",
      " [1 2 3 4 5 6]\n"
     ]
    }
   ],
   "source": [
    "a = np.array([1, 2, 3, 4, 5, 6])\n",
    "b = a.reshape(2, 3)\n",
    "b2 = a.reshape(-1,2)\n",
    "c = b.ravel()\n",
    "\n",
    "print('a:\\n',a)\n",
    "print('b:\\n',b)\n",
    "print('b2:\\n',b2)\n",
    "print('c:\\n',c)"
   ]
  },
  {
   "cell_type": "markdown",
   "id": "8f5e6d16",
   "metadata": {},
   "source": [
    "### Stack and Split\n",
    "- `hstack((arr1,arr2))`:横向组合两个数组\n",
    "- `vstack((arr1,arr2))`:纵向组合两个数组\n",
    "- `concatenate((arr1,arr2),axis=1/0)`: 横向/纵向组合\n",
    "- `hsplit(arr,n)`: 竖着切分，左边0列开始到n-1列为第一部分，剩下为第二部分\n",
    "- `vsplit(arr,n)`: 横着切分，上边0行开始到n-1行为第一部分，剩下为第二部分\n",
    "- `split(arr,n,axis=)`\n"
   ]
  },
  {
   "cell_type": "markdown",
   "id": "0c11ded7",
   "metadata": {},
   "source": [
    "## 3.Slicing\n",
    "切片（Slicing）：在 NumPy 中，切片是一种选择数组的一部分的方法。比如，你可以选择数组的某几行、某几列，或者甚至是多维数组的一个子区域。切片操作通过在方括号内指定索引来完成，例如 `arr[a:b]`。\n",
    "\n",
    "视图（View）而非副本（Copy）：当你对 NumPy 数组进行切片操作时，返回的结果实际上是原始数组的一个视图，而不是一个完全独立的副本。这意味着，切片返回的数组和原数组共享相同的数据空间。\n",
    "\n",
    "任何修改都会反映在源数组上：因为切片操作返回的是视图，所以**对切片后的数组进行的任何修改都会直接影响到原始数组**。例如，如果你更改了切片后数组的一个元素，原数组对应位置的元素也会被更改。\n",
    "\n",
    "避免内存问题的设计特性：这种设计是 NumPy 为了避免不必要的内存使用而采取的。如果每次切片都创建数据的副本，对于大型数组，这将导致巨大的内存需求。通过使用视图而非副本，NumPy 可以高效地处理大型数据集。"
   ]
  },
  {
   "cell_type": "code",
   "execution_count": 26,
   "id": "9680c55a",
   "metadata": {},
   "outputs": [
    {
     "name": "stdout",
     "output_type": "stream",
     "text": [
      "[0 1 2 3 4 5 6 7 8 9]\n"
     ]
    }
   ],
   "source": [
    "arr = np.arange(10)\n",
    "print(arr)          # [0 1 2 3 4 5 6 7 8 9]"
   ]
  },
  {
   "cell_type": "code",
   "execution_count": 27,
   "id": "b1ca964c",
   "metadata": {},
   "outputs": [
    {
     "name": "stdout",
     "output_type": "stream",
     "text": [
      "[5 6 7]\n"
     ]
    }
   ],
   "source": [
    "arr_slice = arr[5:8]\n",
    "print(arr_slice)            # [5 6 7]"
   ]
  },
  {
   "cell_type": "code",
   "execution_count": 30,
   "id": "99e35883",
   "metadata": {},
   "outputs": [
    {
     "name": "stdout",
     "output_type": "stream",
     "text": [
      "[  666 12345   666]\n",
      "[    0     1     2     3     4   666 12345   666     8     9]\n",
      "[666 666 666]\n",
      "[  0   1   2   3   4 666 666 666   8   9]\n"
     ]
    }
   ],
   "source": [
    "arr_slice[1] = 12345\n",
    "print(arr_slice)     #[    5 12345     7]               \n",
    "print(arr) # [    0     1     2     3     4     5 12345     7     8     9]\n",
    "\n",
    "arr_slice[:]=666\n",
    "print(arr_slice)\n",
    "print(arr)\n",
    "# 即对切片的数据修改会同步映射到原数据上。"
   ]
  },
  {
   "cell_type": "markdown",
   "id": "148188f2",
   "metadata": {},
   "source": [
    "## 4. Indexing\n",
    "### 1. Integer Indexing\n",
    "整数组索引：使用整数数组来索引数组，可以得到任意顺序的数组元素。`arr[[row_index],[col_index]]` \\\n",
    "`arr[a:b:k]`:访问arr[a]--arr[b],步长为k"
   ]
  },
  {
   "cell_type": "code",
   "execution_count": 33,
   "id": "b857d52d",
   "metadata": {
    "scrolled": true
   },
   "outputs": [
    {
     "name": "stdout",
     "output_type": "stream",
     "text": [
      "[3 4]\n"
     ]
    }
   ],
   "source": [
    "arr=np.array([[1,2,3],[4,5,6]])\n",
    "print(arr[[0,1],[2,0]])# 返回第一行第3个元素和第二行第1个元素"
   ]
  },
  {
   "cell_type": "markdown",
   "id": "04676e59",
   "metadata": {},
   "source": [
    "### 2. Boolen Indexing\n",
    "使用布尔数组来索引。布尔索引可以用于选择满足特定条件的数组元素。"
   ]
  },
  {
   "cell_type": "code",
   "execution_count": 40,
   "id": "57df5d79",
   "metadata": {},
   "outputs": [
    {
     "name": "stdout",
     "output_type": "stream",
     "text": [
      "[4 5 6]\n",
      "[1 3 5 6]\n",
      "[2 3 4]\n"
     ]
    }
   ],
   "source": [
    "arr = np.array([1, 2, 3, 4, 5, 6])\n",
    "\n",
    "print(arr[arr>3]) # [4 5 6]\n",
    "print(arr[[True,False,True,False,True,True]]) #[1 3 5 6]\n",
    "print(arr[(arr<5)&(arr>=2)])  #[2 3 4]"
   ]
  },
  {
   "cell_type": "markdown",
   "id": "e4553657",
   "metadata": {},
   "source": [
    "### 3. Fancy Indexing\n",
    "1. 要选择数组的特定行并按照指定的顺序排列这些行，你可以通过传递一个整数列表或整数数组，其中包含所需行的索引，并按照列表中的顺序排列这些行。这种操作通常被称为按照指定顺序对数组进行\"行索引\"。"
   ]
  },
  {
   "cell_type": "code",
   "execution_count": 44,
   "id": "a99bbbb0",
   "metadata": {},
   "outputs": [
    {
     "name": "stdout",
     "output_type": "stream",
     "text": [
      "[[ 7  8  9]\n",
      " [ 1  2  3]\n",
      " [10 11 12]\n",
      " [ 4  5  6]] \n",
      "\n",
      "[ 4 12  8]\n"
     ]
    }
   ],
   "source": [
    "arr = np.array([[1, 2, 3],\n",
    "                [4, 5, 6],\n",
    "                [7, 8, 9],\n",
    "                [10, 11, 12]])\n",
    "\n",
    "selected_rows = arr[[2, 0, 3, 1]]\n",
    "print(selected_rows,'\\n') # 按 2，0，3，1的排序一次输出arr的行\n",
    "\n",
    "selected_elements= arr[[1,3,2],[0,2,1]]\n",
    "print(selected_elements)   #[ 4 12  8] 输出结果为arr的（1，0），（3,2）,(2,1)的元素"
   ]
  },
  {
   "cell_type": "markdown",
   "id": "da09f875",
   "metadata": {},
   "source": [
    "## 5. Operation\n",
    "We can use the usual arithmetic operators to multiply, add, subtract, and divide arrays with scalar numbers.\n",
    "### 1. 矩阵运算\n",
    "`np.dot(a,b`)或`a@b`: 矩阵内积（矩阵相乘），需要满足a的列数等于b的行数\n"
   ]
  },
  {
   "cell_type": "code",
   "execution_count": 70,
   "id": "a8032770",
   "metadata": {},
   "outputs": [
    {
     "name": "stdout",
     "output_type": "stream",
     "text": [
      "[[10 10 10]\n",
      " [10 10 10]\n",
      " [10 10 10]] \n",
      " [[-8 -6 -4]\n",
      " [-2  0  2]\n",
      " [ 4  6  8]]\n",
      "\n",
      " dot:\n",
      " [[22 10]\n",
      " [49 28]\n",
      " [76 46]] \n",
      "at:\n",
      " [[22 10]\n",
      " [49 28]\n",
      " [76 46]]\n"
     ]
    }
   ],
   "source": [
    "A = np.array([[1, 2, 3],\n",
    "              [4, 5, 6],\n",
    "              [7, 8, 9]])\n",
    "B = np.array([[9, 8, 7],\n",
    "              [6, 5, 4],\n",
    "              [3, 2, 1]])\n",
    "\n",
    "result_add = A + B  # 矩阵相加\n",
    "result_sub = A - B  # 矩阵相减\n",
    "print(result_add,'\\n',result_sub)\n",
    "\n",
    "C = np.array([[1, 2],\n",
    "              [3, 4],\n",
    "              [5,0]])\n",
    "\n",
    "result_dot = np.dot(A, C)  # np.dot()\n",
    "result_at = A @ C  # 矩阵相乘（使用 @ 运算符）\n",
    "print('\\n','dot:\\n',result_dot,'\\nat:\\n',result_at)\n"
   ]
  },
  {
   "cell_type": "markdown",
   "id": "76a75163",
   "metadata": {},
   "source": [
    "### 2. Universal Functions\n",
    "通用函数（Universal Functions，缩写为ufunc）是NumPy中的一个重要概念，它是一种用于在NumPy数组上进行元素级别操作的函数。通用函数允许你对数组的每个元素应用相同的操作，而不需要显式地编写循环。\n",
    "\n",
    "通用函数有以下特点：\n",
    "- 元素级别的操作：通用函数是针对数组的每个元素进行操作的函数，无需编写循环。这可以极大地提高处理大型数组的效率。\n",
    "- 内置函数：NumPy提供了许多内置的通用函数，用于执行各种数学、逻辑和统计操作，如加法、减法、乘法、除法、取余、平方根、指数、对数、三角函数等。\n",
    "- 向量化操作：通用函数允许你以向量化的方式处理数组，这意味着你可以一次性对整个数组进行操作，而不是逐个元素处理。这可以显著提高代码的性能和可读性。\n",
    "- 支持广播：通用函数还支持广播（broadcasting），这意味着它们可以处理具有不同形状的数组，以使它们具有相同的形状并执行元素级别的操作。\n",
    "\n",
    "常用聚合函数都可以进行广播机制\n",
    "- `np.mean` or `arr.mean()`\n",
    "- `np.sqrt`\n",
    "- `np.sum` or `arr.sum()`"
   ]
  },
  {
   "cell_type": "code",
   "execution_count": 90,
   "id": "9c4b2a52",
   "metadata": {},
   "outputs": [
    {
     "name": "stdout",
     "output_type": "stream",
     "text": [
      "[11 12 13 14 15]\n",
      "[10 40 90]\n"
     ]
    }
   ],
   "source": [
    "# 创建一个示例数组\n",
    "arr = np.array([1, 2, 3, 4, 5])\n",
    "\n",
    "# 使用通用函数进行元素级别的操作\n",
    "result_sqrt = np.sqrt(arr)  # 计算每个元素的平方根\n",
    "result_square = np.square(arr)  # 计算每个元素的平方\n",
    "\n",
    "# 向量化操作示例\n",
    "result = arr + 10  # 对每个元素都加上10\n",
    "print(result)\n",
    "\n",
    "# 支持广播的示例\n",
    "arr1 = np.array([1, 2, 3])\n",
    "arr2 = np.array([10, 20, 30])\n",
    "result_broadcast = arr1 * arr2  # 支持广播，对应元素相乘\n",
    "print(result_broadcast)\n",
    "\n"
   ]
  },
  {
   "cell_type": "markdown",
   "id": "45af6173",
   "metadata": {},
   "source": [
    "### 矩阵元素相乘：\n",
    "- 使用`A*B`,两者shape需要兼容，即可以使得B通过广播得到与A相同的shape\n",
    "- 或使用`np.multiply(A,B)`"
   ]
  },
  {
   "cell_type": "code",
   "execution_count": 82,
   "id": "3da96f57",
   "metadata": {},
   "outputs": [
    {
     "name": "stdout",
     "output_type": "stream",
     "text": [
      "使用广播相乘的结果：\n",
      "[[ 2  6]\n",
      " [ 6 12]\n",
      " [10 18]]\n",
      "[[ 2  6]\n",
      " [ 6 12]\n",
      " [10 18]]\n"
     ]
    }
   ],
   "source": [
    "# 创建一个3x2的矩阵\n",
    "A = np.array([[1, 2],\n",
    "              [3, 4],\n",
    "              [5, 6]])\n",
    "\n",
    "# 创建一个1x2的数组，我们将它与矩阵A的每一行进行相乘\n",
    "B = np.array([2, 3])\n",
    "# B-->broadcast to （[[2,3],[2,3],[2,3]]） the same as shape of A\n",
    "\n",
    "\n",
    "print(\"使用广播相乘的结果：\")\n",
    "print(A*B)\n",
    "print(np.multiply(A,B))"
   ]
  },
  {
   "cell_type": "markdown",
   "id": "0f6f190e",
   "metadata": {},
   "source": [
    "### 3. Random\n",
    "`np.random.----()`\n",
    "- `random(n)`:生成n个（0-1）之间随机数\n",
    "- `rand(m,n)`:生成m*n的均匀分布随机数矩阵\n",
    "- `randn(m,n)`:生成m*n的正态分布随机数矩阵\n",
    "- `randint(low,high,size=)`:生成给定上下限，size固定的随机数，size可以是一个数字或者一个数组[m,n]"
   ]
  },
  {
   "cell_type": "code",
   "execution_count": 96,
   "id": "0b8093d3",
   "metadata": {},
   "outputs": [
    {
     "name": "stdout",
     "output_type": "stream",
     "text": [
      "[0.50284049 0.06078022 0.37127499 0.02581107 0.27014719]\n",
      "[[0.29594816 0.9040453  0.94490171]\n",
      " [0.69472481 0.33175062 0.48466521]\n",
      " [0.68404852 0.05894211 0.99439674]]\n"
     ]
    }
   ],
   "source": [
    "# 生成5个随机数\n",
    "random_numbers = np.random.random(5)\n",
    "print(random_numbers)"
   ]
  },
  {
   "cell_type": "code",
   "execution_count": 97,
   "id": "9150a79e",
   "metadata": {},
   "outputs": [
    {
     "name": "stdout",
     "output_type": "stream",
     "text": [
      "[[0.55686937 0.49768543 0.32720886]\n",
      " [0.61887225 0.99212917 0.39996725]\n",
      " [0.79773031 0.83040058 0.55485061]]\n"
     ]
    }
   ],
   "source": [
    "# 生成3x3的均匀分布随机数矩阵\n",
    "random_matrix = np.random.rand(3, 3)\n",
    "print(random_matrix)"
   ]
  },
  {
   "cell_type": "code",
   "execution_count": 98,
   "id": "501afc6f",
   "metadata": {},
   "outputs": [
    {
     "name": "stdout",
     "output_type": "stream",
     "text": [
      "[[ 0.46916475 -0.29620724 -1.13566084 -0.66680179]\n",
      " [-0.1680469  -0.69321544 -0.2784468  -1.12969521]]\n"
     ]
    }
   ],
   "source": [
    "# 生成2x4的正态分布随机数矩阵\n",
    "normal_random_matrix = np.random.randn(2, 4)\n",
    "print(normal_random_matrix)"
   ]
  },
  {
   "cell_type": "code",
   "execution_count": 99,
   "id": "1525a011",
   "metadata": {},
   "outputs": [
    {
     "name": "stdout",
     "output_type": "stream",
     "text": [
      "7\n",
      "[6 3 6 2 9]\n",
      "[[4 8]\n",
      " [6 5]\n",
      " [6 5]]\n"
     ]
    }
   ],
   "source": [
    "# 生成一个随机整数，范围在1到10之间\n",
    "random_integer = np.random.randint(1, 11)\n",
    "print(random_integer)\n",
    "\n",
    "# 生成一个包含5个随机整数的数组，范围在1到10之间\n",
    "random_array = np.random.randint(1, 11, 5)\n",
    "print(random_array)\n",
    "\n",
    "# 生成一个3x2的随机整数矩阵，范围在1到10之间\n",
    "random_matrix = np.random.randint(1, 11, (3, 2))\n",
    "print(random_matrix)"
   ]
  }
 ],
 "metadata": {
  "kernelspec": {
   "display_name": "Python 3 (ipykernel)",
   "language": "python",
   "name": "python3"
  },
  "language_info": {
   "codemirror_mode": {
    "name": "ipython",
    "version": 3
   },
   "file_extension": ".py",
   "mimetype": "text/x-python",
   "name": "python",
   "nbconvert_exporter": "python",
   "pygments_lexer": "ipython3",
   "version": "3.9.12"
  }
 },
 "nbformat": 4,
 "nbformat_minor": 5
}
