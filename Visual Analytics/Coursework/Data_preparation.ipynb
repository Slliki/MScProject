{
 "cells": [
  {
   "cell_type": "markdown",
   "source": [
    "# Data Preprocessing\n",
    "Load several datasets from the 2011 UK Census.\n",
    "- Age structure: The number of people in each age group in each area.\n",
    "- Qualification: The number of people with each level of qualification in each area.\n",
    "- Health: The number of people in each health category in each area.\n",
    "- Occupation: The number of people in each occupation category in each area.\n",
    "\n",
    "Then merge the datasets and use different algorithms to project the data into 2D space."
   ],
   "metadata": {
    "collapsed": false
   },
   "id": "e68bc86b050c6218"
  },
  {
   "cell_type": "markdown",
   "source": [
    "## 1. Restructure the datasets\n",
    "Restructure the datasets to make them easier to work with. Rename the columns and create new columns to group the data in a more useful way."
   ],
   "metadata": {
    "collapsed": false
   },
   "id": "607c5a2a34f29a10"
  },
  {
   "cell_type": "code",
   "execution_count": 1,
   "id": "initial_id",
   "metadata": {
    "collapsed": true,
    "ExecuteTime": {
     "end_time": "2024-02-27T17:59:56.349639300Z",
     "start_time": "2024-02-27T17:59:55.468480900Z"
    }
   },
   "outputs": [],
   "source": [
    "import numpy as np\n",
    "import pandas as pd"
   ]
  },
  {
   "cell_type": "code",
   "outputs": [],
   "source": [
    "# load age data for 2011\n",
    "age_structure_df=pd.read_csv('E:\\\\Bristol\\\\VA\\\\DATA\\\\2011\\\\Age_structure.csv')\n",
    "\n",
    "# Adjusting 0-14 years population\n",
    "age_structure_df['0-14'] = (age_structure_df['Age: Age 0 to 4; measures: Value'] +\n",
    "                            age_structure_df['Age: Age 5 to 7; measures: Value'] +\n",
    "                            age_structure_df['Age: Age 8 to 9; measures: Value'] +\n",
    "                            age_structure_df['Age: Age 10 to 14; measures: Value'])\n",
    "\n",
    "# Adjusting 15-24 years population\n",
    "age_structure_df['15-24'] = (age_structure_df['Age: Age 15; measures: Value'] +\n",
    "                             age_structure_df['Age: Age 16 to 17; measures: Value'] +\n",
    "                             age_structure_df['Age: Age 18 to 19; measures: Value'] +\n",
    "                             age_structure_df['Age: Age 20 to 24; measures: Value'])\n",
    "\n",
    "# Adjusting 25-44 years population\n",
    "age_structure_df['25-44'] = (age_structure_df['Age: Age 25 to 29; measures: Value'] +\n",
    "                             age_structure_df['Age: Age 30 to 44; measures: Value'])\n",
    "\n",
    "# Adjusting 45-64 years population\n",
    "age_structure_df['45-64'] = (age_structure_df['Age: Age 45 to 59; measures: Value'] +\n",
    "                             age_structure_df['Age: Age 60 to 64; measures: Value'])\n",
    "\n",
    "# 65+\n",
    "age_structure_df['65+'] = (age_structure_df['Age: Age 65 to 74; measures: Value'] +\n",
    "                           age_structure_df['Age: Age 75 to 84; measures: Value'] +\n",
    "                           age_structure_df['Age: Age 85 to 89; measures: Value'] +\n",
    "                           age_structure_df['Age: Age 90 and over; measures: Value'])\n",
    "\n",
    "# Select relevant columns to create a restructured DataFrame\n",
    "age_structure_df.rename(columns={'Age: Mean Age; measures: Value': 'Mean Age', 'Age: Median Age; measures: Value': 'Median Age'}, inplace=True)\n",
    "age_restructured = age_structure_df[['geography','geography code', '0-14', '15-24', '25-44', '45-64', '65+', 'Mean Age', 'Median Age']]\n",
    "\n",
    "# rename columns\n",
    "age_restructured.columns = ['geography', 'geography code', 'Age: 0-14', 'Age: 15-24', 'Age: 25-44', 'Age: 45-64', 'Age: 65+', 'Mean Age', 'Median Age']\n",
    "\n",
    "# save the restructured DataFrame\n",
    "# age_restructured.to_csv('./datasets/Age_structure.csv', index=False)"
   ],
   "metadata": {
    "collapsed": false,
    "ExecuteTime": {
     "end_time": "2024-02-27T19:29:54.153939600Z",
     "start_time": "2024-02-27T19:29:54.127956700Z"
    }
   },
   "id": "90446fda587b0313",
   "execution_count": 49
  },
  {
   "cell_type": "code",
   "outputs": [],
   "source": [
    "# load education data for 2011\n",
    "qualification_df=pd.read_csv('E:\\\\Bristol\\\\VA\\\\DATA\\\\2011\\\\Qualification.csv')\n",
    "# rename columns\n",
    "qualification_df.columns = ['date', 'geography', 'geography code','Rural', 'All categories: Highest level of qualification', 'Qualification: No','Qualification: Level 1', 'Qualification: Level 2', 'Qualification: Apprenticeship', 'Qualification: Level 3', 'Qualification: Level 4 and above', 'Qualification: Other']\n",
    "\n",
    "restructured_qualification = qualification_df[['geography', 'geography code', 'Qualification: No','Qualification: Level 1', 'Qualification: Level 2', 'Qualification: Apprenticeship', 'Qualification: Level 3', 'Qualification: Level 4 and above', 'Qualification: Other']]\n",
    "\n",
    "# Display or save the restructured DataFrame\n",
    "# restructured_qualification.to_csv('./datasets/Qualification.csv', index=False)"
   ],
   "metadata": {
    "collapsed": false,
    "ExecuteTime": {
     "end_time": "2024-02-27T18:46:23.749995100Z",
     "start_time": "2024-02-27T18:46:23.725906Z"
    }
   },
   "id": "f27581bbc1b7ba69",
   "execution_count": 28
  },
  {
   "cell_type": "code",
   "outputs": [],
   "source": [
    "# load health data for 2011\n",
    "health_df=pd.read_csv('E:\\\\Bristol\\\\VA\\\\DATA\\\\2011\\\\Health.csv')\n",
    "\n",
    "health_df=health_df[['geography', 'geography code', 'General Health: Very good health; measures: Value', 'General Health: Good health; measures: Value', 'General Health: Fair health; measures: Value', 'General Health: Bad health; measures: Value', 'General Health: Very bad health; measures: Value']]\n",
    "\n",
    "health_df.columns = ['geography', 'geography code', 'Health: Very good', 'Health: Good', 'Health: Fair', 'Health: Bad', 'Health: Very bad']\n",
    "\n",
    "# health_df.to_csv('./datasets/Health.csv', index=False)"
   ],
   "metadata": {
    "collapsed": false,
    "ExecuteTime": {
     "end_time": "2024-02-27T18:52:25.270634700Z",
     "start_time": "2024-02-27T18:52:25.259912Z"
    }
   },
   "id": "f0ab7b802772a393",
   "execution_count": 35
  },
  {
   "cell_type": "code",
   "outputs": [],
   "source": [
    "# load occupation data for 2011\n",
    "occupation_df=pd.read_csv('E:\\\\Bristol\\\\VA\\\\DATA\\\\2011\\\\Occupation_Region.csv')\n",
    "occupation_df=occupation_df.drop(columns=['date', 'Rural Urban'])\n",
    "\n",
    "# rename columns\n",
    "new_column_names = [\n",
    "    'geography', \n",
    "    'geography code', \n",
    "    'All_Occupation: All categories',\n",
    "    'All_Occupation: Managers, directors and senior officials', \n",
    "    'All_Occupation: Professional occupations', \n",
    "    'All_Occupation: Associate professional and technical occupations', \n",
    "    'All_Occupation: Administrative and secretarial occupations', \n",
    "    'All_Occupation: Skilled trades occupations', \n",
    "    'All_Occupation: Caring, leisure and other service occupations', \n",
    "    'All_Occupation: Sales and customer service occupations', \n",
    "    'All_Occupation: Process, plant and machine operatives', \n",
    "    'All_Occupation: Elementary occupations',\n",
    "    'Male_Occupation: All categories',\n",
    "    'Male_Occupation: Managers, directors and senior officials',\n",
    "    'Male_Occupation: Professional occupations',\n",
    "    'Male_Occupation: Associate professional and technical occupations',\n",
    "    'Male_Occupation: Administrative and secretarial occupations',\n",
    "    'Male_Occupation: Skilled trades occupations',\n",
    "    'Male_Occupation: Caring, leisure and other service occupations',\n",
    "    'Male_Occupation: Sales and customer service occupations',\n",
    "    'Male_Occupation: Process, plant and machine operatives',\n",
    "    'Male_Occupation: Elementary occupations',\n",
    "    'Female_Occupation: All categories',\n",
    "    'Female_Occupation: Managers, directors and senior officials',\n",
    "    'Female_Occupation: Professional occupations',\n",
    "    'Female_Occupation: Associate professional and technical occupations',\n",
    "    'Female_Occupation: Administrative and secretarial occupations',\n",
    "    'Female_Occupation: Skilled trades occupations',\n",
    "    'Female_Occupation: Caring, leisure and other service occupations',\n",
    "    'Female_Occupation: Sales and customer service occupations',\n",
    "    'Female_Occupation: Process, plant and machine operatives',\n",
    "    'Female_Occupation: Elementary occupations'\n",
    "]\n",
    "occupation_df.columns = new_column_names\n",
    "\n",
    "# occupation_df.to_csv('./datasets/Occupation.csv', index=False)"
   ],
   "metadata": {
    "collapsed": false,
    "ExecuteTime": {
     "end_time": "2024-02-27T19:13:23.564142100Z",
     "start_time": "2024-02-27T19:13:23.543856200Z"
    }
   },
   "id": "d96476fd909d2fa5",
   "execution_count": 46
  },
  {
   "cell_type": "markdown",
   "source": [
    "## 2. Merge the datasets\n",
    "Merge the restructured datasets to create a single dataset for projection."
   ],
   "metadata": {
    "collapsed": false
   },
   "id": "15d6f62ce1d3db5f"
  },
  {
   "cell_type": "code",
   "outputs": [],
   "source": [
    "# Merge the datasets\n",
    "age=pd.read_csv('./datasets/Age_structure.csv')\n",
    "qualification=pd.read_csv('./datasets/Qualification.csv')\n",
    "health=pd.read_csv('./datasets/Health.csv')\n",
    "occupation=pd.read_csv('./datasets/Occupation.csv')\n",
    "\n",
    "# Merge the datasets\n",
    "merged = pd.merge(age, qualification, on=['geography', 'geography code'])\n",
    "merged = pd.merge(merged, health, on=['geography', 'geography code'])\n",
    "merged = pd.merge(merged, occupation, on=['geography', 'geography code'])\n",
    "\n",
    "# merged.to_csv('./datasets/Merged.csv', index=False)"
   ],
   "metadata": {
    "collapsed": false,
    "ExecuteTime": {
     "end_time": "2024-02-27T19:47:41.794929600Z",
     "start_time": "2024-02-27T19:47:41.769856500Z"
    }
   },
   "id": "bdcfe34cb1255860",
   "execution_count": 51
  },
  {
   "cell_type": "markdown",
   "source": [
    "## 3. Projection\n",
    "Use the merged dataset to make projections. Using different methods such as PCA, T-SNE, and UMAP to project the data into 2D space."
   ],
   "metadata": {
    "collapsed": false
   },
   "id": "3a83c167d5eb0bfd"
  }
 ],
 "metadata": {
  "kernelspec": {
   "display_name": "Python 3",
   "language": "python",
   "name": "python3"
  },
  "language_info": {
   "codemirror_mode": {
    "name": "ipython",
    "version": 2
   },
   "file_extension": ".py",
   "mimetype": "text/x-python",
   "name": "python",
   "nbconvert_exporter": "python",
   "pygments_lexer": "ipython2",
   "version": "2.7.6"
  }
 },
 "nbformat": 4,
 "nbformat_minor": 5
}
