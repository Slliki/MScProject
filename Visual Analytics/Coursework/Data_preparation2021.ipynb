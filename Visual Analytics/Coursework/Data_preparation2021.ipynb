{
 "cells": [
  {
   "cell_type": "markdown",
   "source": [
    "# Preparation for 2021 Census Data"
   ],
   "metadata": {
    "collapsed": false
   },
   "id": "98b9154198e3cb72"
  },
  {
   "cell_type": "markdown",
   "source": [
    "## 1. Load and restructuring the datasets"
   ],
   "metadata": {
    "collapsed": false
   },
   "id": "964b72c0f5f87659"
  },
  {
   "cell_type": "code",
   "execution_count": 1,
   "id": "initial_id",
   "metadata": {
    "collapsed": true,
    "ExecuteTime": {
     "end_time": "2024-02-28T14:07:24.916756900Z",
     "start_time": "2024-02-28T14:07:24.102793Z"
    }
   },
   "outputs": [],
   "source": [
    "import pandas as pd\n",
    "import numpy as np"
   ]
  },
  {
   "cell_type": "code",
   "outputs": [],
   "source": [
    "# load data for 2021 census (5 features)\n",
    "age_structure = pd.read_csv('E:\\\\Bristol\\\\VA\\\\DATA\\\\2021\\\\Age_structure.csv')\n",
    "age_structure = age_structure.dropna()\n",
    "age_structure=age_structure.drop(columns=['date','Age: Total'])\n",
    "# age_structure\n",
    "\n",
    "# reset the bins:0-14,15-24,25-44,45-64,65+\n",
    "age_revised = age_structure.copy()\n",
    "age_revised['Age: 0-14'] = age_structure['Age: Aged 4 years and under'] + age_structure['Age: Aged 5 to 9 years'] + age_structure['Age: Aged 10 to 14 years']\n",
    "age_revised['Age: 15-24'] = age_structure['Age: Aged 15 to 19 years'] + age_structure['Age: Aged 20 to 24 years']\n",
    "age_revised['Age: 25-44'] = age_structure['Age: Aged 25 to 29 years'] + age_structure['Age: Aged 30 to 34 years']+ age_structure['Age: Aged 35 to 39 years']+ age_structure['Age: Aged 40 to 44 years']\n",
    "age_revised['Age: 45-64'] = age_structure['Age: Aged 45 to 49 years'] + age_structure['Age: Aged 50 to 54 years']+ age_structure['Age: Aged 55 to 59 years']+ age_structure['Age: Aged 60 to 64 years']\n",
    "age_revised['Age: 65+'] = age_structure['Age: Aged 65 to 69 years'] + age_structure['Age: Aged 70 to 74 years']+ age_structure['Age: Aged 75 to 79 years']+ age_structure['Age: Aged 80 to 84 years']+ age_structure['Age: Aged 85 years and over']\n",
    "\n",
    "age_revised=age_revised[['geography','geography code','Age: 0-14','Age: 15-24','Age: 25-44','Age: 45-64','Age: 65+']]\n",
    "# age_revised.to_csv('./datasets2021/Age_structure.csv',index=False)"
   ],
   "metadata": {
    "collapsed": false,
    "ExecuteTime": {
     "end_time": "2024-02-28T14:19:16.490878400Z",
     "start_time": "2024-02-28T14:19:16.473877900Z"
    }
   },
   "id": "52a9e6a64539da3c",
   "execution_count": 20
  },
  {
   "cell_type": "code",
   "outputs": [],
   "source": [
    "# Qualification (8 features)\n",
    "qualification_df = pd.read_csv('E:\\\\Bristol\\\\VA\\\\DATA\\\\2021\\\\Qualification.csv')\n",
    "qualification_df.to_csv('./datasets2021/Qualification.csv',index=False)"
   ],
   "metadata": {
    "collapsed": false,
    "ExecuteTime": {
     "end_time": "2024-02-28T14:46:23.901312600Z",
     "start_time": "2024-02-28T14:46:23.882310100Z"
    }
   },
   "id": "993f3da230d21666",
   "execution_count": 27
  },
  {
   "cell_type": "code",
   "outputs": [],
   "source": [
    "# Health (6 features)\n",
    "health_df=pd.read_csv('E:\\\\Bristol\\\\VA\\\\DATA\\\\2021\\\\Health.csv')\n",
    "\n",
    "health_df.drop(columns=['date'],inplace=True)\n",
    "health_df.columns=['geography','geography code','Health: Total','Health: Very good','Health: Good','Health: Fair','Health: Bad','Health: Very bad']\n",
    "\n",
    "# health_df.to_csv('./datasets2021/Health.csv')"
   ],
   "metadata": {
    "collapsed": false,
    "ExecuteTime": {
     "end_time": "2024-02-28T14:49:38.064905400Z",
     "start_time": "2024-02-28T14:49:38.058881900Z"
    }
   },
   "id": "640c40bde6dbdd00",
   "execution_count": 32
  },
  {
   "cell_type": "code",
   "outputs": [],
   "source": [
    "# Occupation (10 features)\n",
    "occupation_df = pd.read_csv('E:\\\\Bristol\\\\VA\\\\DATA\\\\2021\\\\Occupation.csv')\n",
    "occupation_df.drop(columns=['date'],inplace=True)\n",
    "new_column_names = [\n",
    "    'geography', \n",
    "    'geography code', \n",
    "    'All_Occupation: All categories',\n",
    "    'All_Occupation: Managers, directors and senior officials', \n",
    "    'All_Occupation: Professional occupations', \n",
    "    'All_Occupation: Associate professional and technical occupations', \n",
    "    'All_Occupation: Administrative and secretarial occupations', \n",
    "    'All_Occupation: Skilled trades occupations', \n",
    "    'All_Occupation: Caring, leisure and other service occupations', \n",
    "    'All_Occupation: Sales and customer service occupations', \n",
    "    'All_Occupation: Process, plant and machine operatives', \n",
    "    'All_Occupation: Elementary occupations']\n",
    "occupation_df.columns = new_column_names\n",
    "occupation_df.to_csv('./datasets2021/Occupation.csv',index=False)"
   ],
   "metadata": {
    "collapsed": false,
    "ExecuteTime": {
     "end_time": "2024-02-28T14:54:38.340297200Z",
     "start_time": "2024-02-28T14:54:38.328766700Z"
    }
   },
   "id": "48c3e01ab08fe750",
   "execution_count": 39
  },
  {
   "cell_type": "markdown",
   "source": [
    "# 2. Merge the datasets"
   ],
   "metadata": {
    "collapsed": false
   },
   "id": "446a13862ae3c745"
  },
  {
   "cell_type": "code",
   "outputs": [],
   "source": [
    "# Merge the datasets\n",
    "age=pd.read_csv('./datasets2021/Age_structure.csv')\n",
    "qualification=pd.read_csv('./datasets2021/Qualification.csv')\n",
    "health=pd.read_csv('./datasets2021/Health.csv')\n",
    "occupation=pd.read_csv('./datasets2021/Occupation.csv')\n",
    "\n",
    "# Merge the datasets\n",
    "merged = pd.merge(age, qualification, on=['geography', 'geography code'])\n",
    "merged = pd.merge(merged, health, on=['geography', 'geography code'])\n",
    "merged = pd.merge(merged, occupation, on=['geography', 'geography code'])\n",
    "merged.drop(columns=['Unnamed: 0'],inplace=True)\n",
    "\n",
    "merged.to_csv('./datasets2021/Merged.csv',index=False)"
   ],
   "metadata": {
    "collapsed": false,
    "ExecuteTime": {
     "end_time": "2024-02-28T15:00:53.432750200Z",
     "start_time": "2024-02-28T15:00:53.421749700Z"
    }
   },
   "id": "4e63ec543a0a2305",
   "execution_count": 51
  },
  {
   "cell_type": "code",
   "outputs": [
    {
     "data": {
      "text/plain": "geography                                                           0\ngeography code                                                      0\nAge: 0-14                                                           0\nAge: 15-24                                                          0\nAge: 25-44                                                          0\nAge: 45-64                                                          0\nAge: 65+                                                            0\nQualification: Total                                                0\nQualification: No                                                   0\nQualification: Level 1                                              0\nQualification: Level 2                                              0\nQualification: Apprenticeship                                       0\nQualification: Level 3                                              0\nQualification: Level 4 and above                                    0\nQualification: Other                                                0\nHealth: Total                                                       0\nHealth: Very good                                                   0\nHealth: Good                                                        0\nHealth: Fair                                                        0\nHealth: Bad                                                         0\nHealth: Very bad                                                    0\nAll_Occupation: All categories                                      0\nAll_Occupation: Managers, directors and senior officials            0\nAll_Occupation: Professional occupations                            0\nAll_Occupation: Associate professional and technical occupations    0\nAll_Occupation: Administrative and secretarial occupations          0\nAll_Occupation: Skilled trades occupations                          0\nAll_Occupation: Caring, leisure and other service occupations       0\nAll_Occupation: Sales and customer service occupations              0\nAll_Occupation: Process, plant and machine operatives               0\nAll_Occupation: Elementary occupations                              0\ndtype: int64"
     },
     "execution_count": 57,
     "metadata": {},
     "output_type": "execute_result"
    }
   ],
   "source": [
    "merged.isnull().sum() # there is no missing value"
   ],
   "metadata": {
    "collapsed": false,
    "ExecuteTime": {
     "end_time": "2024-02-28T15:22:33.187246700Z",
     "start_time": "2024-02-28T15:22:33.158247400Z"
    }
   },
   "id": "620203b3316cf290",
   "execution_count": 57
  }
 ],
 "metadata": {
  "kernelspec": {
   "display_name": "Python 3",
   "language": "python",
   "name": "python3"
  },
  "language_info": {
   "codemirror_mode": {
    "name": "ipython",
    "version": 2
   },
   "file_extension": ".py",
   "mimetype": "text/x-python",
   "name": "python",
   "nbconvert_exporter": "python",
   "pygments_lexer": "ipython2",
   "version": "2.7.6"
  }
 },
 "nbformat": 4,
 "nbformat_minor": 5
}
