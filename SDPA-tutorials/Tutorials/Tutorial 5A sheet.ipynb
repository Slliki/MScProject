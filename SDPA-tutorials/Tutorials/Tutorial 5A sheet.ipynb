{
 "cells": [
  {
   "cell_type": "markdown",
   "metadata": {},
   "source": [
    "# EMATM0048: Software Development Programming and Algorithms (SDPA)\n",
    "# `Tutorial 5`"
   ]
  },
  {
   "cell_type": "markdown",
   "metadata": {},
   "source": [
    "# Introduction"
   ]
  },
  {
   "cell_type": "markdown",
   "metadata": {},
   "source": [
    "Object Oriented Programming (OOP) is a [design pattern](https://en.wikipedia.org/wiki/Design_Patterns) in software development. OOP provides some advantages over other design patterns such as:\n",
    "\n",
    "1. **Modularity**: Helps us to troubleshoot our program easier. For example, if the *Vehicle* object broke down, we know the problem must be in the Vehicle class!\n",
    "2. **Reusability**: OOP allows us to resue methods and attributes of other objects through *inheritance*. This makes our code cleaner and more readable.\n",
    "3. **Flexibility**: Polymorphism allows us to have an object in different forms. For example, if we have a parent class \"Person\", and a child class \"Student\", the \"Student\" inherits all the moethods and attributes from the parent class \"Person\", however, \"Student\" may have its own implementation of methods. Polymorphism deals with how the program decides which methods it should use.\n",
    "4. **Effective problem solving**: With OOP, we can break down our software into smaller pieces, which makes problem solving easier.\n",
    "\n",
    "**Object** and **class** are the main concept of OOP. We can think of a class as a \"blueprint\" for objects."
   ]
  },
  {
   "cell_type": "markdown",
   "metadata": {},
   "source": [
    "# Classes"
   ]
  },
  {
   "cell_type": "markdown",
   "metadata": {},
   "source": [
    "## 1. Create a class"
   ]
  },
  {
   "cell_type": "markdown",
   "metadata": {},
   "source": [
    "To define a class, we use the **class** keyword followed by the name of the class and a colon. It is best practice to use CapitalizedWords (CamelCase) notation for class names."
   ]
  },
  {
   "cell_type": "code",
   "execution_count": 1,
   "metadata": {},
   "outputs": [],
   "source": [
    "class MyClass:\n",
    "    pass # pass means \"do nothing\", allows us to run this code without error."
   ]
  },
  {
   "cell_type": "markdown",
   "metadata": {},
   "source": [
    "A class can have a constructor which is called whenever an instance of the class is created. In python, **\\_\\_init\\_\\_** method is an initialiser which is used to instantiate objects. The **self** parameter refers to the object itself. (**self** is similar to **this** in C++ and Java)  \n",
    "\n",
    "\n",
    "`__init__` method will be automatically called every time when the class is called."
   ]
  },
  {
   "cell_type": "code",
   "execution_count": 9,
   "metadata": {},
   "outputs": [],
   "source": [
    "class MyClass:\n",
    "    def __init__(self):\n",
    "        print(\"An instance of MyClass was created!\")\n"
   ]
  },
  {
   "cell_type": "code",
   "execution_count": 7,
   "metadata": {},
   "outputs": [
    {
     "name": "stdout",
     "output_type": "stream",
     "text": [
      "An instance of MyClass was created!\n"
     ]
    }
   ],
   "source": [
    "my_class = MyClass() # We expect the __init__ method to be called and see the output of print statement"
   ]
  },
  {
   "cell_type": "markdown",
   "metadata": {},
   "source": [
    "We can pass any number of parameters to **\\_\\_init\\_\\_** method, but the first parameter must be **self**."
   ]
  },
  {
   "cell_type": "code",
   "execution_count": 21,
   "metadata": {},
   "outputs": [],
   "source": [
    "class MyClass:\n",
    "    def __init__(self, name=\"NewClass\", kind=\"Random\"):\n",
    "        self.name = name # creates a name property and assigns to it the value of the name parameter\n",
    "        self.kind = kind # creates a kind property and assigns to it the value of the kind parameter\n",
    "        print('Name:', name, ', Kind:', kind)"
   ]
  },
  {
   "cell_type": "code",
   "execution_count": 22,
   "metadata": {
    "scrolled": true
   },
   "outputs": [
    {
     "name": "stdout",
     "output_type": "stream",
     "text": [
      "Name: NewClass , Kind: Random\n"
     ]
    },
    {
     "data": {
      "text/plain": [
       "'Random'"
      ]
     },
     "execution_count": 22,
     "metadata": {},
     "output_type": "execute_result"
    }
   ],
   "source": [
    "my_class = MyClass()\n",
    "my_class.kind"
   ]
  },
  {
   "cell_type": "markdown",
   "metadata": {},
   "source": [
    "The attributes defined inside **\\_\\_init\\_\\_** initialiser are the properties that all instances of this class must have. For example, any instance of *MyClass* must have the *name* and *kind* properties. <br>\n"
   ]
  },
  {
   "cell_type": "markdown",
   "metadata": {},
   "source": [
    "## 2. Instantiating objects"
   ]
  },
  {
   "cell_type": "markdown",
   "metadata": {},
   "source": [
    "To instantiate an object, we use the name of the class, followed by opening and closing paranthesis. Inside the paranthesis, we must pass values for the attributes defined inside **\\_\\_init\\_\\_** method, unless they have a default value."
   ]
  },
  {
   "cell_type": "code",
   "execution_count": 24,
   "metadata": {},
   "outputs": [],
   "source": [
    "class MyClass:\n",
    "    def __init__(self, name, kind, size='Large'): # set default value for size\n",
    "        self.name = name \n",
    "        self.kind = kind\n",
    "        self.size = size\n",
    "        print('Name:', name, ', Kind:', kind, \", Size:\", size)"
   ]
  },
  {
   "cell_type": "code",
   "execution_count": 25,
   "metadata": {
    "scrolled": true
   },
   "outputs": [
    {
     "name": "stdout",
     "output_type": "stream",
     "text": [
      "Name: MyClass , Kind: Random , Size: Large\n",
      "Name: YourClass , Kind: Static , Size: Large\n",
      "Name: OurClass , Kind: Static , Size: Small\n"
     ]
    }
   ],
   "source": [
    "my_class = MyClass(name=\"MyClass\", kind=\"Random\")\n",
    "your_class = MyClass(name=\"YourClass\", kind=\"Static\")\n",
    "our_class = MyClass(name=\"OurClass\", kind=\"Static\", size=\"Small\") # Rewrite the value of size"
   ]
  },
  {
   "cell_type": "code",
   "execution_count": 26,
   "metadata": {},
   "outputs": [
    {
     "name": "stdout",
     "output_type": "stream",
     "text": [
      "<__main__.MyClass object at 0x00000180356A71C0>\n"
     ]
    }
   ],
   "source": [
    "print(our_class) # Indicate the our_class is an instance of MyClass, followed by memory \n",
    "# address that indicates where the our_class object is stored"
   ]
  },
  {
   "cell_type": "markdown",
   "metadata": {},
   "source": [
    "### Instance vs Class Attributes"
   ]
  },
  {
   "cell_type": "markdown",
   "metadata": {},
   "source": [
    "*Instance attributes* are defined inside the **\\_\\_init\\_\\_** method and their values are specific to a particular instance of the class. While *class attributes* are the same for every instance of class. Class atttributes are defined directly beneath the first line of the class name. The value of class attributes can be modify from an external function. \n"
   ]
  },
  {
   "cell_type": "code",
   "execution_count": 27,
   "metadata": {},
   "outputs": [],
   "source": [
    "class Coin:\n",
    "    ID = 0 # Class attribute\n",
    "    \n",
    "    def __init__(self, name):\n",
    "        self.name = name\n",
    "    "
   ]
  },
  {
   "cell_type": "code",
   "execution_count": 28,
   "metadata": {},
   "outputs": [
    {
     "name": "stdout",
     "output_type": "stream",
     "text": [
      "Penny ID:  0\n",
      "Nickle ID:  0\n"
     ]
    }
   ],
   "source": [
    "penny = Coin(name=\"Penny\")\n",
    "nickel = Coin(name=\"Nickel\")\n",
    "\n",
    "print(\"Penny ID: \", penny.ID)\n",
    "print(\"Nickle ID: \", penny.ID)"
   ]
  },
  {
   "cell_type": "code",
   "execution_count": 29,
   "metadata": {},
   "outputs": [
    {
     "name": "stdout",
     "output_type": "stream",
     "text": [
      "Penny ID:  99\n",
      "Nickle ID:  99\n"
     ]
    }
   ],
   "source": [
    "Coin.ID = 99 # Change the value of class attribute ID to 99    \n",
    "print(\"Penny ID: \", penny.ID)\n",
    "print(\"Nickle ID: \", penny.ID)"
   ]
  },
  {
   "cell_type": "markdown",
   "metadata": {},
   "source": [
    "## 3. Instance Method"
   ]
  },
  {
   "cell_type": "markdown",
   "metadata": {},
   "source": [
    "Instance methods are defined inside a class and can be accessed/called from an instance of that class. Similar to **\\_\\_init\\_\\_** method, the first parameter must be **self**."
   ]
  },
  {
   "cell_type": "code",
   "execution_count": 12,
   "metadata": {},
   "outputs": [],
   "source": [
    "class Calculator:\n",
    "    def __init__(self, name, kind):\n",
    "        self.name = name\n",
    "        kind = kind\n",
    "        \n",
    "    def sum_xy(self, x, y): # Method to calculate the sum of x and y \n",
    "        return x+y\n",
    "    \n",
    "    def subtract_xy(self, x, y):# Method to calculate the subtraction of x and y \n",
    "        return x-y\n",
    "    "
   ]
  },
  {
   "cell_type": "code",
   "execution_count": 13,
   "metadata": {
    "scrolled": true
   },
   "outputs": [
    {
     "name": "stdout",
     "output_type": "stream",
     "text": [
      "15\n",
      "5\n"
     ]
    }
   ],
   "source": [
    "calc = Calculator(name=\"Casio\", kind=\"Very Basic\")\n",
    "x = 10\n",
    "y = 5\n",
    "print(calc.sum_xy(x,y))\n",
    "print(calc.subtract_xy(x,y))"
   ]
  },
  {
   "cell_type": "code",
   "execution_count": 14,
   "metadata": {
    "scrolled": true
   },
   "outputs": [
    {
     "name": "stdout",
     "output_type": "stream",
     "text": [
      "<__main__.Calculator object at 0x10fb77f10>\n"
     ]
    }
   ],
   "source": [
    "print(calc) # print calc instance"
   ]
  },
  {
   "cell_type": "markdown",
   "metadata": {},
   "source": [
    "Can we get more meaningful description of our instance? Yes, we need to override **\\_\\_str\\_\\_** (string representation of the object) method. "
   ]
  },
  {
   "cell_type": "code",
   "execution_count": 15,
   "metadata": {},
   "outputs": [],
   "source": [
    "class Calculator:\n",
    "    def __init__(self, name, kind):\n",
    "        self.name = name\n",
    "        kind = kind\n",
    "        \n",
    "    def sum_xy(self, x, y): # Method to calcualte the sum of x and y \n",
    "        return x+y\n",
    "    \n",
    "    def subtract_xy(self, x, y):# Method to calcualte the subtraction of x and y \n",
    "        return x-y\n",
    "    \n",
    "    # Overriding __str__ method \n",
    "    def __str__(self):\n",
    "        return \"This is a \" + self.name + \" calculator instance of the Calculator class.\""
   ]
  },
  {
   "cell_type": "code",
   "execution_count": 16,
   "metadata": {},
   "outputs": [
    {
     "name": "stdout",
     "output_type": "stream",
     "text": [
      "This is a Casio calculator instance of the Calculator class.\n"
     ]
    }
   ],
   "source": [
    "calc = Calculator(name=\"Casio\", kind=\"Very Basic\")\n",
    "print(calc)"
   ]
  },
  {
   "cell_type": "markdown",
   "metadata": {},
   "source": [
    "## 4. Inheritance"
   ]
  },
  {
   "cell_type": "markdown",
   "metadata": {},
   "source": [
    "We use inheritance when we want to inherit all attributes and methods of another class. The newly formed class is called *child*, and the class which the child is derived from is called *parent*. The child class can override (modify the current arrtibutes and methods) and extend (add new attributes and methods) the parent class. <br>\n",
    "To inherit a class, we create new class with its own name and put the name of the parent class in parentheses."
   ]
  },
  {
   "cell_type": "code",
   "execution_count": 17,
   "metadata": {},
   "outputs": [],
   "source": [
    "class Person:\n",
    "    def __init__(self, name):\n",
    "        print(\"Name of the person is \", name)\n",
    "        \n",
    "    def walking(self):\n",
    "        print(\"Person is walking\")\n",
    "        \n",
    "    def sleeping(self):\n",
    "        print(\"Person is sleeping\")"
   ]
  },
  {
   "cell_type": "code",
   "execution_count": 18,
   "metadata": {},
   "outputs": [],
   "source": [
    "class Student(Person):\n",
    "    def __init__(self, name):\n",
    "        super().__init__(name) # Call __init__ method from the parent class using builtin super()\n",
    "        self.name = name\n",
    "    \n",
    "    # Override the walking method from the parent class \n",
    "    def walking(self):\n",
    "        print(\"Student is walking\")\n",
    "    \n",
    "    # Extend the Functionality of a Person Class by adding more methods\n",
    "    def studying(self):\n",
    "        print(\"Student is studying\")\n",
    "        \n",
    "    "
   ]
  },
  {
   "cell_type": "code",
   "execution_count": 19,
   "metadata": {},
   "outputs": [
    {
     "name": "stdout",
     "output_type": "stream",
     "text": [
      "Name of the person is  Kevin\n",
      "Student is walking\n",
      "Person is sleeping\n",
      "Student is studying\n"
     ]
    }
   ],
   "source": [
    "student1 = Student(name = \"Kevin\")\n",
    "student1.walking()\n",
    "student1.sleeping()\n",
    "student1.studying()"
   ]
  },
  {
   "cell_type": "code",
   "execution_count": 20,
   "metadata": {},
   "outputs": [
    {
     "name": "stdout",
     "output_type": "stream",
     "text": [
      "<class '__main__.Student'>\n",
      "True\n",
      "True\n"
     ]
    }
   ],
   "source": [
    "print(type(student1)) # student1 is Student type\n",
    "print(isinstance(student1, Person)) # student1 is instance of Person\n",
    "print(isinstance(student1, Student)) # student1 is instance of Student as well"
   ]
  },
  {
   "cell_type": "markdown",
   "metadata": {},
   "source": [
    "## 5. Modifying/Adding attributes"
   ]
  },
  {
   "cell_type": "code",
   "execution_count": 31,
   "metadata": {},
   "outputs": [],
   "source": [
    "class SimpleClass:\n",
    "    def __init__(self, name=\"simple class\"):\n",
    "        self.name = name"
   ]
  },
  {
   "cell_type": "code",
   "execution_count": 32,
   "metadata": {},
   "outputs": [
    {
     "name": "stdout",
     "output_type": "stream",
     "text": [
      "simple class\n"
     ]
    }
   ],
   "source": [
    "student1 = SimpleClass()\n",
    "print(student1.name) # print \"simple class\" \n",
    "student1.name = \"Kevin\" # Change the name attribute for student1 instance\n",
    "student1.grade = \"A\"  # add a new attribute to the class (you don't need to create every attribute in advance)"
   ]
  },
  {
   "cell_type": "code",
   "execution_count": 23,
   "metadata": {},
   "outputs": [
    {
     "name": "stdout",
     "output_type": "stream",
     "text": [
      "Kevin\n",
      "A\n"
     ]
    }
   ],
   "source": [
    "print(student1.name)\n",
    "print(student1.grade)"
   ]
  },
  {
   "cell_type": "markdown",
   "metadata": {},
   "source": [
    "we can use builtin fucntions to access and modify attributes of instances. <br>\n",
    "**getattr(obj, name[, default])** − access the attribute of object.<br>\n",
    "**hasattr(obj,name)** − check whether an attribute exists or not.<br>\n",
    "**setattr(obj,name,value)** − set an attribute. If attribute does not exist, then it would be created.<br>\n",
    "**delattr(obj, name)** − delete an attribute.<br>"
   ]
  },
  {
   "cell_type": "code",
   "execution_count": 24,
   "metadata": {},
   "outputs": [
    {
     "data": {
      "text/plain": [
       "'Kevin'"
      ]
     },
     "execution_count": 24,
     "metadata": {},
     "output_type": "execute_result"
    }
   ],
   "source": [
    "getattr(student1, 'name') # Throws an error if attributes doesn't exist"
   ]
  },
  {
   "cell_type": "code",
   "execution_count": 25,
   "metadata": {},
   "outputs": [
    {
     "data": {
      "text/plain": [
       "False"
      ]
     },
     "execution_count": 25,
     "metadata": {},
     "output_type": "execute_result"
    }
   ],
   "source": [
    "hasattr(student1,\"age\")"
   ]
  },
  {
   "cell_type": "code",
   "execution_count": 26,
   "metadata": {},
   "outputs": [
    {
     "name": "stdout",
     "output_type": "stream",
     "text": [
      "25\n"
     ]
    }
   ],
   "source": [
    "setattr(student1,\"age\",25)\n",
    "print(student1.age)"
   ]
  },
  {
   "cell_type": "code",
   "execution_count": 27,
   "metadata": {},
   "outputs": [
    {
     "data": {
      "text/plain": [
       "False"
      ]
     },
     "execution_count": 27,
     "metadata": {},
     "output_type": "execute_result"
    }
   ],
   "source": [
    "delattr(student1, \"age\") \n",
    "hasattr(student1,\"age\")"
   ]
  },
  {
   "cell_type": "markdown",
   "metadata": {},
   "source": [
    "### Importing a class"
   ]
  },
  {
   "cell_type": "markdown",
   "metadata": {},
   "source": [
    "To illustrate how to import class from other module, we created two classes (*SimpleCalc* and *Machine*) in *MyModule.py* file. "
   ]
  },
  {
   "cell_type": "code",
   "execution_count": 28,
   "metadata": {},
   "outputs": [
    {
     "name": "stdout",
     "output_type": "stream",
     "text": [
      "New SimpelCalc was created!\n",
      "New Machine was created!\n"
     ]
    }
   ],
   "source": [
    "# Import all classes in MyModule\n",
    "from MyModule import *\n",
    "calc = SimpleCalc()\n",
    "machine = Machine()"
   ]
  },
  {
   "cell_type": "code",
   "execution_count": 29,
   "metadata": {},
   "outputs": [
    {
     "name": "stdout",
     "output_type": "stream",
     "text": [
      "New SimpelCalc was created!\n",
      "New Machine was created!\n"
     ]
    }
   ],
   "source": [
    "# Import classes one by one\n",
    "from MyModule import SimpleCalc, Machine\n",
    "calc = SimpleCalc()\n",
    "machine = Machine()"
   ]
  },
  {
   "cell_type": "markdown",
   "metadata": {},
   "source": [
    "# <font color='Blue'>Exercises: </font> \n"
   ]
  },
  {
   "cell_type": "markdown",
   "metadata": {},
   "source": [
    "**Exercise 1.**  Create a Vehicle class with attributes *name* and *mileage*. Set a default value of 0 for the *mileage* attribute. Define a method called *travel* which incremenets the *mileage* by 1 whenever it's called."
   ]
  },
  {
   "cell_type": "code",
   "execution_count": 47,
   "metadata": {},
   "outputs": [
    {
     "name": "stdout",
     "output_type": "stream",
     "text": [
      "0\n",
      "1\n"
     ]
    }
   ],
   "source": [
    "# Answer\n",
    "class Vehicle:\n",
    "    def __init__(self,name,mileage=0):\n",
    "        self.mileage=mileage\n",
    "        self.name=name\n",
    "    \n",
    "    def travel(self):\n",
    "        self.mileage+=1\n",
    "\n",
    "car1=Vehicle(name='porsche')\n",
    "print(car1.mileage)\n",
    "car1.travel()\n",
    "print(car1.mileage)"
   ]
  },
  {
   "cell_type": "markdown",
   "metadata": {},
   "source": [
    "_____"
   ]
  },
  {
   "cell_type": "markdown",
   "metadata": {},
   "source": [
    "**Exercise 2.** Create a class BMW which inherits the Vehicle class. Add a *model* and *color* attribute which represent the model and the color of the BMW. Define a method *set_color* which takes a color as an input and change the color of BMW instance."
   ]
  },
  {
   "cell_type": "code",
   "execution_count": 50,
   "metadata": {},
   "outputs": [
    {
     "name": "stdout",
     "output_type": "stream",
     "text": [
      "Name: BMW X5, Model: X5, Color: Blue, Mileage: 0\n",
      "New Color: Red\n"
     ]
    }
   ],
   "source": [
    "# Answer\n",
    "class BMW(Vehicle):\n",
    "    def __init__(self,name,model,color,mileage=0):\n",
    "        super().__init__(name,mileage)\n",
    "        self.model=model\n",
    "        self.color=color\n",
    "    \n",
    "    def set_color(self,new_color):\n",
    "        self.color=new_color\n",
    "    \n",
    "# 创建一个 BMW 实例\n",
    "bmw1 = BMW(name='BMW X5', model='X5', color='Blue')\n",
    "\n",
    "# 检查初始属性\n",
    "print(f\"Name: {bmw1.name}, Model: {bmw1.model}, Color: {bmw1.color}, Mileage: {bmw1.mileage}\")\n",
    "\n",
    "# 使用 set_color 方法更改颜色\n",
    "bmw1.set_color('Red')\n",
    "print(f\"New Color: {bmw1.color}\")\n"
   ]
  },
  {
   "cell_type": "markdown",
   "metadata": {},
   "source": [
    "_____"
   ]
  },
  {
   "cell_type": "markdown",
   "metadata": {},
   "source": [
    "**Exercise 3.**  **Try this!:** We want to keep track of the number of Employees that have been recruited. Create an Employee class, define a class attribute *count* which is incremented when a new instance of Employee is created. Moreover, define a method which print the current value of *count* and name it *get_count*. (count start from 0)"
   ]
  },
  {
   "cell_type": "code",
   "execution_count": 62,
   "metadata": {},
   "outputs": [
    {
     "name": "stdout",
     "output_type": "stream",
     "text": [
      "Total Employees Recruited: 3\n"
     ]
    }
   ],
   "source": [
    "# Answer\n",
    "class Employee:\n",
    "    count=0\n",
    "    \n",
    "    def __init__(self,name):\n",
    "        self.name=name\n",
    "        Employee.count+=1\n",
    "        \n",
    "    @classmethod    \n",
    "    def get_count(cls):\n",
    "        return cls.count\n",
    "        \n",
    "        \n",
    "# Creating Employee instances\n",
    "employee1 = Employee(\"Alice\")\n",
    "employee2 = Employee(\"Bob\")\n",
    "employee3 = Employee(\"Charlie\")\n",
    "\n",
    "# Using the get_count method to print the current count\n",
    "print(\"Total Employees Recruited:\", Employee.get_count())  \n",
    "\n"
   ]
  },
  {
   "cell_type": "markdown",
   "metadata": {},
   "source": [
    "_____"
   ]
  },
  {
   "cell_type": "markdown",
   "metadata": {},
   "source": [
    "**Exercise 4.** Write the definition of a Point class. Objects from this class should have a\n",
    "\n",
    "    - a method show to display the coordinates of the point\n",
    "    - a method move to change these coordinates.\n",
    "    - a method dist that computes the distance between 2 points. Note the distance between 2 points A(x0, y0) and B(x1, y1) can be compute as (http://www.mathwarehouse.com/algebra/distance_formula/index.php)"
   ]
  },
  {
   "cell_type": "code",
   "execution_count": 69,
   "metadata": {},
   "outputs": [],
   "source": [
    "import math\n",
    "\n",
    "class Point:\n",
    "    def __init__(self,x,y):\n",
    "        self.x=x\n",
    "        self.y=y\n",
    "        \n",
    "    def show_coordinates(self):\n",
    "        print(self.x,self.y)\n",
    "    \n",
    "    def move_coordinates(self,new_x,new_y):\n",
    "        self.x=self.x+new_x\n",
    "        self.y=self.y+new_y\n",
    "        \n",
    "    def distance_to_point(self,other_point):\n",
    "        dist=math.sqrt((self.x-other_point.x)**2+(self.y-other_point.y)**2)\n",
    "        return dist\n",
    "\n",
    "##Expected output \n",
    "\n",
    "p1 = Point(2, 3)\n",
    "p2 = Point(3, 3)\n"
   ]
  },
  {
   "cell_type": "code",
   "execution_count": 70,
   "metadata": {},
   "outputs": [
    {
     "name": "stdout",
     "output_type": "stream",
     "text": [
      "2 3\n",
      "3 3\n",
      "12 -7\n",
      "3 3\n"
     ]
    },
    {
     "data": {
      "text/plain": [
       "13.45362404707371"
      ]
     },
     "execution_count": 70,
     "metadata": {},
     "output_type": "execute_result"
    }
   ],
   "source": [
    "p1.show_coordinates()\n",
    "#(2, 3)\n",
    "p2.show_coordinates()\n",
    "#(3, 3)\n",
    "p1.move_coordinates(10, -10)\n",
    "p1.show_coordinates()\n",
    "#(12, -7)\n",
    "p2.show_coordinates()\n",
    "#(3, 3)\n",
    "p1.distance_to_point(p2)\n",
    "#13.45362404707371"
   ]
  },
  {
   "cell_type": "markdown",
   "metadata": {},
   "source": [
    "# <font color='Blue'> Bonus challenging problems </font>\n",
    "Don't worry about doing these bonus problems. In most cases, challenge questions ask you to think more critically or use more advanced algorithms.\n"
   ]
  },
  {
   "cell_type": "markdown",
   "metadata": {},
   "source": [
    "\n",
    "Describe a possible collection of classes which can be used to represent a music collection (for example, inside a music player), focusing on how they would be related by composition. You should include classes for songs, artists, albums and playlists. \n",
    "- Hint: write down the four class names, draw a line between each pair of classes which you think should have a relationship, and decide what kind of relationship would be the most appropriate.\n",
    "\n",
    "For simplicity you can assume that any song or album has a single “artist” value (which could represent more than one person), but you should include compilation albums (which contain songs by a selection of different artists). The “artist” of a compilation album can be a special value like “Various Artists”. You can also assume that each song is associated with a single album, but that multiple copies of the same song (which are included in different albums) can exist."
   ]
  },
  {
   "cell_type": "markdown",
   "metadata": {},
   "source": [
    "类名：Song（歌曲）\\\n",
    "Song 与 Artist 之间是关联关系，因为每首歌都有一个关联的艺术家。\n",
    "Song 与 Album 之间是关联关系，因为每首歌都属于一个专辑。\n",
    "Song 与 Playlist 之间是多对多关系，因为一首歌可以包含在多个播放列表中。  \n",
    "\n",
    "\n",
    "类名：Artist（艺术家）\\\n",
    "Artist 与 Song 之间是关联关系，因为一个艺术家可以与多首歌相关联。\n",
    "Artist 与 Album 之间是关联关系，因为一个艺术家可以发布多张专辑。  \n",
    "\n",
    "类名：Album（专辑）\\\n",
    "Album 与 Song 之间是一对多关系，因为一个专辑包含多首歌。\n",
    "Album 与 Artist 之间是关联关系，因为一个专辑有一个或多个相关联的艺术家。    \n",
    "\n",
    "类名：Playlist（播放列表）\\\n",
    "Playlist 与 Song 之间是多对多关系，因为一张播放列表可以包含多首歌，而一首歌可以包含在多个播放列表中。"
   ]
  },
  {
   "cell_type": "code",
   "execution_count": 71,
   "metadata": {},
   "outputs": [
    {
     "name": "stdout",
     "output_type": "stream",
     "text": [
      "Title: Song 1, Artist: Artist 1, Album: Album 1\n",
      "Title: Song 2, Artist: Artist 1, Album: Album 1\n",
      "Title: Song 3, Artist: Various Artists, Album: Compilation Album\n"
     ]
    }
   ],
   "source": [
    "class Artist:\n",
    "    def __init__(self, name):\n",
    "        self.name = name\n",
    "\n",
    "class Song:\n",
    "    def __init__(self, title, artist, album):\n",
    "        self.title = title\n",
    "        self.artist = artist\n",
    "        self.album = album\n",
    "\n",
    "class Album:\n",
    "    def __init__(self, title, artist):\n",
    "        self.title = title\n",
    "        self.artist = artist\n",
    "        self.songs = []\n",
    "\n",
    "    def add_song(self, song):\n",
    "        self.songs.append(song)\n",
    "\n",
    "class Playlist:\n",
    "    def __init__(self, name):\n",
    "        self.name = name\n",
    "        self.songs = []\n",
    "\n",
    "    def add_song(self, song):\n",
    "        self.songs.append(song)\n",
    "\n",
    "# 创建艺术家\n",
    "artist1 = Artist(\"Artist 1\")\n",
    "artist2 = Artist(\"Various Artists\")\n",
    "\n",
    "# 创建专辑\n",
    "album1 = Album(\"Album 1\", artist1)\n",
    "album2 = Album(\"Compilation Album\", artist2)\n",
    "\n",
    "# 创建歌曲\n",
    "song1 = Song(\"Song 1\", artist1, album1)\n",
    "song2 = Song(\"Song 2\", artist1, album1)\n",
    "song3 = Song(\"Song 3\", artist2, album2)\n",
    "\n",
    "# 创建播放列表\n",
    "playlist1 = Playlist(\"My Playlist\")\n",
    "playlist1.add_song(song1)\n",
    "playlist1.add_song(song2)\n",
    "playlist1.add_song(song3)\n",
    "\n",
    "# 显示播放列表中的歌曲\n",
    "for song in playlist1.songs:\n",
    "    print(f\"Title: {song.title}, Artist: {song.artist.name}, Album: {song.album.title}\")\n"
   ]
  }
 ],
 "metadata": {
  "kernelspec": {
   "display_name": "Python 3 (ipykernel)",
   "language": "python",
   "name": "python3"
  },
  "language_info": {
   "codemirror_mode": {
    "name": "ipython",
    "version": 3
   },
   "file_extension": ".py",
   "mimetype": "text/x-python",
   "name": "python",
   "nbconvert_exporter": "python",
   "pygments_lexer": "ipython3",
   "version": "3.9.12"
  }
 },
 "nbformat": 4,
 "nbformat_minor": 4
}
